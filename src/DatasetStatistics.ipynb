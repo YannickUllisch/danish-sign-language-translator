{
  "cells": [
    {
      "cell_type": "code",
      "execution_count": null,
      "metadata": {
        "colab": {
          "base_uri": "https://localhost:8080/"
        },
        "id": "5Ot4GUyLwWMy",
        "outputId": "1c2caec4-49bb-4e9a-d258-59d5cfbdbdc5"
      },
      "outputs": [
        {
          "name": "stdout",
          "output_type": "stream",
          "text": [
            "Mounted at /content/drive\n"
          ]
        }
      ],
      "source": [
        "#Gotta run the first time\n",
        "from google.colab import drive\n",
        "drive.mount('/content/drive')"
      ]
    },
    {
      "cell_type": "code",
      "execution_count": null,
      "metadata": {
        "colab": {
          "base_uri": "https://localhost:8080/"
        },
        "id": "f2QZGS_uw-3q",
        "outputId": "bca72f45-9544-44c1-e860-f2f92d5c9a5b"
      },
      "outputs": [
        {
          "name": "stdout",
          "output_type": "stream",
          "text": [
            "Looking in indexes: https://pypi.org/simple, https://us-python.pkg.dev/colab-wheels/public/simple/\n",
            "\u001b[31mERROR: Could not find a version that satisfies the requirement glob (from versions: none)\u001b[0m\u001b[31m\n",
            "\u001b[0m\u001b[31mERROR: No matching distribution found for glob\u001b[0m\u001b[31m\n",
            "\u001b[0mLooking in indexes: https://pypi.org/simple, https://us-python.pkg.dev/colab-wheels/public/simple/\n",
            "Collecting ffmpeg-python\n",
            "  Downloading ffmpeg_python-0.2.0-py3-none-any.whl (25 kB)\n",
            "Requirement already satisfied: future in /usr/local/lib/python3.8/dist-packages (from ffmpeg-python) (0.16.0)\n",
            "Installing collected packages: ffmpeg-python\n",
            "Successfully installed ffmpeg-python-0.2.0\n"
          ]
        }
      ],
      "source": [
        "!pip install glob\n",
        "!pip install ffmpeg-python"
      ]
    },
    {
      "cell_type": "code",
      "execution_count": null,
      "metadata": {
        "id": "NGZXIzVFkLqv"
      },
      "outputs": [],
      "source": [
        "import ffmpeg\n",
        "import sys\n",
        "import plotly.express as px\n",
        "import numpy as np\n",
        "import seaborn as sns\n",
        "import pandas as pd\n",
        "from google.colab import drive\n",
        "import matplotlib.pyplot as plt\n",
        "from pprint import pprint # for printing Python dictionaries in a human-readable way\n",
        "import glob\n",
        "import statistics\n",
        "import re\n",
        "import os \n",
        "import cv2"
      ]
    },
    {
      "cell_type": "code",
      "execution_count": null,
      "metadata": {
        "colab": {
          "base_uri": "https://localhost:8080/"
        },
        "id": "7Qf8tww7JzIy",
        "outputId": "909deefa-5c2c-4d51-e97b-01895e7863b9"
      },
      "outputs": [
        {
          "name": "stdout",
          "output_type": "stream",
          "text": [
            "['/content/drive/MyDrive/tegn/common_tegn/laks/laks2.mp4', '/content/drive/MyDrive/tegn/common_tegn/laks/laks1.mp4', '/content/drive/MyDrive/tegn/common_tegn/laks/laks2_low_res.mp4', '/content/drive/MyDrive/tegn/common_tegn/laks/laks1_low_res.mp4', '/content/drive/MyDrive/tegn/common_tegn/laks/laks2_25fps.mp4', '/content/drive/MyDrive/tegn/common_tegn/laks/laks1_25fps.mp4', '/content/drive/MyDrive/tegn/common_tegn/dufte/dufte2.mp4', '/content/drive/MyDrive/tegn/common_tegn/dufte/dufte1.mp4', '/content/drive/MyDrive/tegn/common_tegn/dufte/dufte2_low_res.mp4', '/content/drive/MyDrive/tegn/common_tegn/dufte/dufte1_low_res.mp4', '/content/drive/MyDrive/tegn/common_tegn/dufte/dufte2_25fps.mp4', '/content/drive/MyDrive/tegn/common_tegn/dufte/dufte1_25fps.mp4', '/content/drive/MyDrive/tegn/common_tegn/dukke/dukke2.mp4', '/content/drive/MyDrive/tegn/common_tegn/dukke/dukke1.mp4', '/content/drive/MyDrive/tegn/common_tegn/dukke/dukke2_low_res.mp4', '/content/drive/MyDrive/tegn/common_tegn/dukke/dukke1_low_res.mp4', '/content/drive/MyDrive/tegn/common_tegn/dukke/dukke2_25fps.mp4', '/content/drive/MyDrive/tegn/common_tegn/dukke/dukke1_25fps.mp4', '/content/drive/MyDrive/tegn/common_tegn/amt/amt2.mp4', '/content/drive/MyDrive/tegn/common_tegn/amt/amt1.mp4', '/content/drive/MyDrive/tegn/common_tegn/amt/amt2_low_res.mp4', '/content/drive/MyDrive/tegn/common_tegn/amt/amt1_low_res.mp4', '/content/drive/MyDrive/tegn/common_tegn/amt/amt2_25fps.mp4', '/content/drive/MyDrive/tegn/common_tegn/amt/amt1_25fps.mp4', '/content/drive/MyDrive/tegn/common_tegn/mave/mave2.mp4', '/content/drive/MyDrive/tegn/common_tegn/mave/mave1.mp4', '/content/drive/MyDrive/tegn/common_tegn/mave/mave2_low_res.mp4', '/content/drive/MyDrive/tegn/common_tegn/mave/mave1_low_res.mp4', '/content/drive/MyDrive/tegn/common_tegn/mave/mave2_25fps.mp4', '/content/drive/MyDrive/tegn/common_tegn/mave/mave1_25fps.mp4', '/content/drive/MyDrive/tegn/common_tegn/musik/musik2.mp4', '/content/drive/MyDrive/tegn/common_tegn/musik/musik1.mp4', '/content/drive/MyDrive/tegn/common_tegn/musik/musik2_low_res.mp4', '/content/drive/MyDrive/tegn/common_tegn/musik/musik1_low_res.mp4', '/content/drive/MyDrive/tegn/common_tegn/musik/musik2_25fps.mp4', '/content/drive/MyDrive/tegn/common_tegn/musik/musik1_25fps.mp4', '/content/drive/MyDrive/tegn/common_tegn/politik/politik2.mp4', '/content/drive/MyDrive/tegn/common_tegn/politik/politik1.mp4', '/content/drive/MyDrive/tegn/common_tegn/politik/politik2_low_res.mp4', '/content/drive/MyDrive/tegn/common_tegn/politik/politik1_low_res.mp4', '/content/drive/MyDrive/tegn/common_tegn/politik/politik2_25fps.mp4', '/content/drive/MyDrive/tegn/common_tegn/politik/politik1_25fps.mp4', '/content/drive/MyDrive/tegn/common_tegn/misundelig/misundelig2.mp4', '/content/drive/MyDrive/tegn/common_tegn/misundelig/misundelig1.mp4', '/content/drive/MyDrive/tegn/common_tegn/misundelig/misundelig2_low_res.mp4', '/content/drive/MyDrive/tegn/common_tegn/misundelig/misundelig1_low_res.mp4', '/content/drive/MyDrive/tegn/common_tegn/misundelig/misundelig2_25fps.mp4', '/content/drive/MyDrive/tegn/common_tegn/misundelig/misundelig1_25fps.mp4', '/content/drive/MyDrive/tegn/common_tegn/lyve/lyve2.mp4', '/content/drive/MyDrive/tegn/common_tegn/lyve/lyve1.mp4', '/content/drive/MyDrive/tegn/common_tegn/lyve/lyve2_low_res.mp4', '/content/drive/MyDrive/tegn/common_tegn/lyve/lyve1_low_res.mp4', '/content/drive/MyDrive/tegn/common_tegn/lyve/lyve2_25fps.mp4', '/content/drive/MyDrive/tegn/common_tegn/lyve/lyve1_25fps.mp4', '/content/drive/MyDrive/tegn/common_tegn/natur/natur2.mp4', '/content/drive/MyDrive/tegn/common_tegn/natur/natur1.mp4', '/content/drive/MyDrive/tegn/common_tegn/natur/natur2_low_res.mp4', '/content/drive/MyDrive/tegn/common_tegn/natur/natur1_low_res.mp4', '/content/drive/MyDrive/tegn/common_tegn/natur/natur2_25fps.mp4', '/content/drive/MyDrive/tegn/common_tegn/natur/natur1_25fps.mp4', '/content/drive/MyDrive/tegn/common_tegn/makedonien/makedonien2.mp4', '/content/drive/MyDrive/tegn/common_tegn/makedonien/makedonien1.mp4', '/content/drive/MyDrive/tegn/common_tegn/makedonien/makedonien2_low_res.mp4', '/content/drive/MyDrive/tegn/common_tegn/makedonien/makedonien1_low_res.mp4', '/content/drive/MyDrive/tegn/common_tegn/makedonien/makedonien2_25fps.mp4', '/content/drive/MyDrive/tegn/common_tegn/makedonien/makedonien1_25fps.mp4', '/content/drive/MyDrive/tegn/common_tegn/ind/ind2.mp4', '/content/drive/MyDrive/tegn/common_tegn/ind/ind1.mp4', '/content/drive/MyDrive/tegn/common_tegn/ind/ind2_low_res.mp4', '/content/drive/MyDrive/tegn/common_tegn/ind/ind1_low_res.mp4', '/content/drive/MyDrive/tegn/common_tegn/ind/ind2_25fps.mp4', '/content/drive/MyDrive/tegn/common_tegn/ind/ind1_25fps.mp4', '/content/drive/MyDrive/tegn/common_tegn/grill/grill2.mp4', '/content/drive/MyDrive/tegn/common_tegn/grill/grill1.mp4', '/content/drive/MyDrive/tegn/common_tegn/grill/grill2_low_res.mp4', '/content/drive/MyDrive/tegn/common_tegn/grill/grill1_low_res.mp4', '/content/drive/MyDrive/tegn/common_tegn/grill/grill2_25fps.mp4', '/content/drive/MyDrive/tegn/common_tegn/grill/grill1_25fps.mp4', '/content/drive/MyDrive/tegn/common_tegn/firs/firs2.mp4', '/content/drive/MyDrive/tegn/common_tegn/firs/firs1.mp4', '/content/drive/MyDrive/tegn/common_tegn/firs/firs2_low_res.mp4', '/content/drive/MyDrive/tegn/common_tegn/firs/firs1_low_res.mp4', '/content/drive/MyDrive/tegn/common_tegn/firs/firs2_25fps.mp4', '/content/drive/MyDrive/tegn/common_tegn/firs/firs1_25fps.mp4', '/content/drive/MyDrive/tegn/common_tegn/tilfreds/tilfreds2.mp4', '/content/drive/MyDrive/tegn/common_tegn/tilfreds/tilfreds1.mp4', '/content/drive/MyDrive/tegn/common_tegn/tilfreds/tilfreds2_low_res.mp4', '/content/drive/MyDrive/tegn/common_tegn/tilfreds/tilfreds1_low_res.mp4', '/content/drive/MyDrive/tegn/common_tegn/tilfreds/tilfreds2_25fps.mp4', '/content/drive/MyDrive/tegn/common_tegn/tilfreds/tilfreds1_25fps.mp4', '/content/drive/MyDrive/tegn/common_tegn/aldrig/aldrig2.mp4', '/content/drive/MyDrive/tegn/common_tegn/aldrig/aldrig1.mp4', '/content/drive/MyDrive/tegn/common_tegn/aldrig/aldrig2_low_res.mp4', '/content/drive/MyDrive/tegn/common_tegn/aldrig/aldrig1_low_res.mp4', '/content/drive/MyDrive/tegn/common_tegn/aldrig/aldrig2_25fps.mp4', '/content/drive/MyDrive/tegn/common_tegn/aldrig/aldrig1_25fps.mp4', '/content/drive/MyDrive/tegn/common_tegn/abe/abe2.mp4', '/content/drive/MyDrive/tegn/common_tegn/abe/abe1.mp4', '/content/drive/MyDrive/tegn/common_tegn/abe/abe2_low_res.mp4', '/content/drive/MyDrive/tegn/common_tegn/abe/abe1_low_res.mp4', '/content/drive/MyDrive/tegn/common_tegn/abe/abe2_25fps.mp4', '/content/drive/MyDrive/tegn/common_tegn/abe/abe1_25fps.mp4', '/content/drive/MyDrive/tegn/common_tegn/meget/meget2.mp4', '/content/drive/MyDrive/tegn/common_tegn/meget/meget1.mp4', '/content/drive/MyDrive/tegn/common_tegn/meget/meget2_low_res.mp4', '/content/drive/MyDrive/tegn/common_tegn/meget/meget1_low_res.mp4', '/content/drive/MyDrive/tegn/common_tegn/meget/meget2_25fps.mp4', '/content/drive/MyDrive/tegn/common_tegn/meget/meget1_25fps.mp4', '/content/drive/MyDrive/tegn/common_tegn/chokolade/chokolade2.mp4', '/content/drive/MyDrive/tegn/common_tegn/chokolade/chokolade1.mp4', '/content/drive/MyDrive/tegn/common_tegn/chokolade/chokolade2_low_res.mp4', '/content/drive/MyDrive/tegn/common_tegn/chokolade/chokolade1_low_res.mp4', '/content/drive/MyDrive/tegn/common_tegn/chokolade/chokolade2_25fps.mp4', '/content/drive/MyDrive/tegn/common_tegn/chokolade/chokolade1_25fps.mp4', '/content/drive/MyDrive/tegn/common_tegn/jerusalem/jerusalem2.mp4', '/content/drive/MyDrive/tegn/common_tegn/jerusalem/jerusalem1.mp4', '/content/drive/MyDrive/tegn/common_tegn/jerusalem/jerusalem2_low_res.mp4', '/content/drive/MyDrive/tegn/common_tegn/jerusalem/jerusalem1_low_res.mp4', '/content/drive/MyDrive/tegn/common_tegn/jerusalem/jerusalem2_25fps.mp4', '/content/drive/MyDrive/tegn/common_tegn/jerusalem/jerusalem1_25fps.mp4', '/content/drive/MyDrive/tegn/common_tegn/dengang/dengang2.mp4', '/content/drive/MyDrive/tegn/common_tegn/dengang/dengang1.mp4', '/content/drive/MyDrive/tegn/common_tegn/dengang/dengang2_low_res.mp4', '/content/drive/MyDrive/tegn/common_tegn/dengang/dengang1_low_res.mp4', '/content/drive/MyDrive/tegn/common_tegn/dengang/dengang2_25fps.mp4', '/content/drive/MyDrive/tegn/common_tegn/dengang/dengang1_25fps.mp4', '/content/drive/MyDrive/tegn/common_tegn/kryds/kryds2.mp4', '/content/drive/MyDrive/tegn/common_tegn/kryds/kryds1.mp4', '/content/drive/MyDrive/tegn/common_tegn/kryds/kryds2_low_res.mp4', '/content/drive/MyDrive/tegn/common_tegn/kryds/kryds1_low_res.mp4', '/content/drive/MyDrive/tegn/common_tegn/kryds/kryds2_25fps.mp4', '/content/drive/MyDrive/tegn/common_tegn/kryds/kryds1_25fps.mp4', '/content/drive/MyDrive/tegn/common_tegn/bevare/bevare2.mp4', '/content/drive/MyDrive/tegn/common_tegn/bevare/bevare1.mp4', '/content/drive/MyDrive/tegn/common_tegn/bevare/bevare2_low_res.mp4', '/content/drive/MyDrive/tegn/common_tegn/bevare/bevare1_low_res.mp4', '/content/drive/MyDrive/tegn/common_tegn/bevare/bevare2_25fps.mp4', '/content/drive/MyDrive/tegn/common_tegn/bevare/bevare1_25fps.mp4', '/content/drive/MyDrive/tegn/common_tegn/penis/penis2.mp4', '/content/drive/MyDrive/tegn/common_tegn/penis/penis1.mp4', '/content/drive/MyDrive/tegn/common_tegn/penis/penis2_low_res.mp4', '/content/drive/MyDrive/tegn/common_tegn/penis/penis1_low_res.mp4', '/content/drive/MyDrive/tegn/common_tegn/penis/penis2_25fps.mp4', '/content/drive/MyDrive/tegn/common_tegn/penis/penis1_25fps.mp4', '/content/drive/MyDrive/tegn/common_tegn/nu/nu2.mp4', '/content/drive/MyDrive/tegn/common_tegn/nu/nu1.mp4', '/content/drive/MyDrive/tegn/common_tegn/nu/nu2_low_res.mp4', '/content/drive/MyDrive/tegn/common_tegn/nu/nu1_low_res.mp4', '/content/drive/MyDrive/tegn/common_tegn/nu/nu2_25fps.mp4', '/content/drive/MyDrive/tegn/common_tegn/nu/nu1_25fps.mp4', '/content/drive/MyDrive/tegn/common_tegn/skelne/skelne2.mp4', '/content/drive/MyDrive/tegn/common_tegn/skelne/skelne1.mp4', '/content/drive/MyDrive/tegn/common_tegn/skelne/skelne2_low_res.mp4', '/content/drive/MyDrive/tegn/common_tegn/skelne/skelne1_low_res.mp4', '/content/drive/MyDrive/tegn/common_tegn/skelne/skelne2_25fps.mp4', '/content/drive/MyDrive/tegn/common_tegn/skelne/skelne1_25fps.mp4', '/content/drive/MyDrive/tegn/common_tegn/by/by2.mp4', '/content/drive/MyDrive/tegn/common_tegn/by/by1.mp4', '/content/drive/MyDrive/tegn/common_tegn/by/by2_low_res.mp4', '/content/drive/MyDrive/tegn/common_tegn/by/by1_low_res.mp4', '/content/drive/MyDrive/tegn/common_tegn/by/by2_25fps.mp4', '/content/drive/MyDrive/tegn/common_tegn/by/by1_25fps.mp4', '/content/drive/MyDrive/tegn/common_tegn/pung/pung2.mp4', '/content/drive/MyDrive/tegn/common_tegn/pung/pung1.mp4', '/content/drive/MyDrive/tegn/common_tegn/pung/pung2_low_res.mp4', '/content/drive/MyDrive/tegn/common_tegn/pung/pung1_low_res.mp4', '/content/drive/MyDrive/tegn/common_tegn/pung/pung2_25fps.mp4', '/content/drive/MyDrive/tegn/common_tegn/pung/pung1_25fps.mp4', '/content/drive/MyDrive/tegn/common_tegn/sorg/sorg2.mp4', '/content/drive/MyDrive/tegn/common_tegn/sorg/sorg1.mp4', '/content/drive/MyDrive/tegn/common_tegn/sorg/sorg2_low_res.mp4', '/content/drive/MyDrive/tegn/common_tegn/sorg/sorg1_low_res.mp4', '/content/drive/MyDrive/tegn/common_tegn/sorg/sorg2_25fps.mp4', '/content/drive/MyDrive/tegn/common_tegn/sorg/sorg1_25fps.mp4', '/content/drive/MyDrive/tegn/common_tegn/acceptere/acceptere2.mp4', '/content/drive/MyDrive/tegn/common_tegn/acceptere/acceptere1.mp4', '/content/drive/MyDrive/tegn/common_tegn/acceptere/acceptere2_low_res.mp4', '/content/drive/MyDrive/tegn/common_tegn/acceptere/acceptere1_low_res.mp4', '/content/drive/MyDrive/tegn/common_tegn/acceptere/acceptere2_25fps.mp4', '/content/drive/MyDrive/tegn/common_tegn/acceptere/acceptere1_25fps.mp4', '/content/drive/MyDrive/tegn/common_tegn/frederikshavn/frederikshavn2.mp4', '/content/drive/MyDrive/tegn/common_tegn/frederikshavn/frederikshavn1.mp4', '/content/drive/MyDrive/tegn/common_tegn/frederikshavn/frederikshavn2_low_res.mp4', '/content/drive/MyDrive/tegn/common_tegn/frederikshavn/frederikshavn1_low_res.mp4', '/content/drive/MyDrive/tegn/common_tegn/frederikshavn/frederikshavn2_25fps.mp4', '/content/drive/MyDrive/tegn/common_tegn/frederikshavn/frederikshavn1_25fps.mp4', '/content/drive/MyDrive/tegn/common_tegn/leve/leve2.mp4', '/content/drive/MyDrive/tegn/common_tegn/leve/leve1.mp4', '/content/drive/MyDrive/tegn/common_tegn/leve/leve2_low_res.mp4', '/content/drive/MyDrive/tegn/common_tegn/leve/leve1_low_res.mp4', '/content/drive/MyDrive/tegn/common_tegn/leve/leve2_25fps.mp4', '/content/drive/MyDrive/tegn/common_tegn/leve/leve1_25fps.mp4', '/content/drive/MyDrive/tegn/common_tegn/fed/fed2.mp4', '/content/drive/MyDrive/tegn/common_tegn/fed/fed1.mp4', '/content/drive/MyDrive/tegn/common_tegn/fed/fed2_low_res.mp4', '/content/drive/MyDrive/tegn/common_tegn/fed/fed1_low_res.mp4', '/content/drive/MyDrive/tegn/common_tegn/fed/fed2_25fps.mp4', '/content/drive/MyDrive/tegn/common_tegn/fed/fed1_25fps.mp4', '/content/drive/MyDrive/tegn/common_tegn/kun/kun2.mp4', '/content/drive/MyDrive/tegn/common_tegn/kun/kun1.mp4', '/content/drive/MyDrive/tegn/common_tegn/kun/kun2_low_res.mp4', '/content/drive/MyDrive/tegn/common_tegn/kun/kun1_low_res.mp4', '/content/drive/MyDrive/tegn/common_tegn/kun/kun2_25fps.mp4', '/content/drive/MyDrive/tegn/common_tegn/kun/kun1_25fps.mp4', '/content/drive/MyDrive/tegn/common_tegn/jaloux/jaloux2.mp4', '/content/drive/MyDrive/tegn/common_tegn/jaloux/jaloux1.mp4', '/content/drive/MyDrive/tegn/common_tegn/jaloux/jaloux2_low_res.mp4', '/content/drive/MyDrive/tegn/common_tegn/jaloux/jaloux1_low_res.mp4', '/content/drive/MyDrive/tegn/common_tegn/jaloux/jaloux2_25fps.mp4', '/content/drive/MyDrive/tegn/common_tegn/jaloux/jaloux1_25fps.mp4', '/content/drive/MyDrive/tegn/common_tegn/evakuere/evakuere2.mp4', '/content/drive/MyDrive/tegn/common_tegn/evakuere/evakuere1.mp4', '/content/drive/MyDrive/tegn/common_tegn/evakuere/evakuere2_low_res.mp4', '/content/drive/MyDrive/tegn/common_tegn/evakuere/evakuere1_low_res.mp4', '/content/drive/MyDrive/tegn/common_tegn/evakuere/evakuere2_25fps.mp4', '/content/drive/MyDrive/tegn/common_tegn/evakuere/evakuere1_25fps.mp4', '/content/drive/MyDrive/tegn/common_tegn/hel/hel2.mp4', '/content/drive/MyDrive/tegn/common_tegn/hel/hel1.mp4', '/content/drive/MyDrive/tegn/common_tegn/hel/hel2_low_res.mp4', '/content/drive/MyDrive/tegn/common_tegn/hel/hel1_low_res.mp4', '/content/drive/MyDrive/tegn/common_tegn/hel/hel2_25fps.mp4', '/content/drive/MyDrive/tegn/common_tegn/hel/hel1_25fps.mp4', '/content/drive/MyDrive/tegn/common_tegn/matematik/matematik2.mp4', '/content/drive/MyDrive/tegn/common_tegn/matematik/matematik1.mp4', '/content/drive/MyDrive/tegn/common_tegn/matematik/matematik2_low_res.mp4', '/content/drive/MyDrive/tegn/common_tegn/matematik/matematik1_low_res.mp4', '/content/drive/MyDrive/tegn/common_tegn/matematik/matematik2_25fps.mp4', '/content/drive/MyDrive/tegn/common_tegn/matematik/matematik1_25fps.mp4', '/content/drive/MyDrive/tegn/common_tegn/ovn/ovn2.mp4', '/content/drive/MyDrive/tegn/common_tegn/ovn/ovn1.mp4', '/content/drive/MyDrive/tegn/common_tegn/ovn/ovn2_low_res.mp4', '/content/drive/MyDrive/tegn/common_tegn/ovn/ovn1_low_res.mp4', '/content/drive/MyDrive/tegn/common_tegn/ovn/ovn2_25fps.mp4', '/content/drive/MyDrive/tegn/common_tegn/ovn/ovn1_25fps.mp4', '/content/drive/MyDrive/tegn/common_tegn/hotel/hotel2.mp4', '/content/drive/MyDrive/tegn/common_tegn/hotel/hotel1.mp4', '/content/drive/MyDrive/tegn/common_tegn/hotel/hotel2_low_res.mp4', '/content/drive/MyDrive/tegn/common_tegn/hotel/hotel1_low_res.mp4', '/content/drive/MyDrive/tegn/common_tegn/hotel/hotel2_25fps.mp4', '/content/drive/MyDrive/tegn/common_tegn/hotel/hotel1_25fps.mp4', '/content/drive/MyDrive/tegn/common_tegn/op/op2.mp4', '/content/drive/MyDrive/tegn/common_tegn/op/op1.mp4', '/content/drive/MyDrive/tegn/common_tegn/op/op2_low_res.mp4', '/content/drive/MyDrive/tegn/common_tegn/op/op1_low_res.mp4', '/content/drive/MyDrive/tegn/common_tegn/op/op2_25fps.mp4', '/content/drive/MyDrive/tegn/common_tegn/op/op1_25fps.mp4', '/content/drive/MyDrive/tegn/common_tegn/seksogtres/seksogtres2.mp4', '/content/drive/MyDrive/tegn/common_tegn/seksogtres/seksogtres1.mp4', '/content/drive/MyDrive/tegn/common_tegn/seksogtres/seksogtres2_low_res.mp4', '/content/drive/MyDrive/tegn/common_tegn/seksogtres/seksogtres1_low_res.mp4', '/content/drive/MyDrive/tegn/common_tegn/seksogtres/seksogtres2_25fps.mp4', '/content/drive/MyDrive/tegn/common_tegn/seksogtres/seksogtres1_25fps.mp4', '/content/drive/MyDrive/tegn/common_tegn/samtale/samtale2.mp4', '/content/drive/MyDrive/tegn/common_tegn/samtale/samtale1.mp4', '/content/drive/MyDrive/tegn/common_tegn/samtale/samtale2_low_res.mp4', '/content/drive/MyDrive/tegn/common_tegn/samtale/samtale1_low_res.mp4', '/content/drive/MyDrive/tegn/common_tegn/samtale/samtale2_25fps.mp4', '/content/drive/MyDrive/tegn/common_tegn/samtale/samtale1_25fps.mp4', '/content/drive/MyDrive/tegn/common_tegn/hamster/hamster2.mp4', '/content/drive/MyDrive/tegn/common_tegn/hamster/hamster1.mp4', '/content/drive/MyDrive/tegn/common_tegn/hamster/hamster2_low_res.mp4', '/content/drive/MyDrive/tegn/common_tegn/hamster/hamster1_low_res.mp4', '/content/drive/MyDrive/tegn/common_tegn/hamster/hamster2_25fps.mp4', '/content/drive/MyDrive/tegn/common_tegn/hamster/hamster1_25fps.mp4', '/content/drive/MyDrive/tegn/common_tegn/bestik/bestik2.mp4', '/content/drive/MyDrive/tegn/common_tegn/bestik/bestik1.mp4', '/content/drive/MyDrive/tegn/common_tegn/bestik/bestik2_low_res.mp4', '/content/drive/MyDrive/tegn/common_tegn/bestik/bestik1_low_res.mp4', '/content/drive/MyDrive/tegn/common_tegn/bestik/bestik2_25fps.mp4', '/content/drive/MyDrive/tegn/common_tegn/bestik/bestik1_25fps.mp4', '/content/drive/MyDrive/tegn/common_tegn/foredrag/foredrag2.mp4', '/content/drive/MyDrive/tegn/common_tegn/foredrag/foredrag1.mp4', '/content/drive/MyDrive/tegn/common_tegn/foredrag/foredrag2_low_res.mp4', '/content/drive/MyDrive/tegn/common_tegn/foredrag/foredrag1_low_res.mp4', '/content/drive/MyDrive/tegn/common_tegn/foredrag/foredrag2_25fps.mp4', '/content/drive/MyDrive/tegn/common_tegn/foredrag/foredrag1_25fps.mp4', '/content/drive/MyDrive/tegn/common_tegn/fyre/fyre2.mp4', '/content/drive/MyDrive/tegn/common_tegn/fyre/fyre1.mp4', '/content/drive/MyDrive/tegn/common_tegn/fyre/fyre2_low_res.mp4', '/content/drive/MyDrive/tegn/common_tegn/fyre/fyre1_low_res.mp4', '/content/drive/MyDrive/tegn/common_tegn/fyre/fyre2_25fps.mp4', '/content/drive/MyDrive/tegn/common_tegn/fyre/fyre1_25fps.mp4', '/content/drive/MyDrive/tegn/common_tegn/tyk/tyk2.mp4', '/content/drive/MyDrive/tegn/common_tegn/tyk/tyk1.mp4', '/content/drive/MyDrive/tegn/common_tegn/tyk/tyk2_low_res.mp4', '/content/drive/MyDrive/tegn/common_tegn/tyk/tyk1_low_res.mp4', '/content/drive/MyDrive/tegn/common_tegn/tyk/tyk2_25fps.mp4', '/content/drive/MyDrive/tegn/common_tegn/tyk/tyk1_25fps.mp4', '/content/drive/MyDrive/tegn/common_tegn/lam/lam2.mp4', '/content/drive/MyDrive/tegn/common_tegn/lam/lam1.mp4', '/content/drive/MyDrive/tegn/common_tegn/lam/lam2_low_res.mp4', '/content/drive/MyDrive/tegn/common_tegn/lam/lam1_low_res.mp4', '/content/drive/MyDrive/tegn/common_tegn/lam/lam2_25fps.mp4', '/content/drive/MyDrive/tegn/common_tegn/lam/lam1_25fps.mp4', '/content/drive/MyDrive/tegn/common_tegn/artikel/artikel2.mp4', '/content/drive/MyDrive/tegn/common_tegn/artikel/artikel1.mp4', '/content/drive/MyDrive/tegn/common_tegn/artikel/artikel2_low_res.mp4', '/content/drive/MyDrive/tegn/common_tegn/artikel/artikel1_low_res.mp4', '/content/drive/MyDrive/tegn/common_tegn/artikel/artikel2_25fps.mp4', '/content/drive/MyDrive/tegn/common_tegn/artikel/artikel1_25fps.mp4', '/content/drive/MyDrive/tegn/common_tegn/hundrede/hundrede2.mp4', '/content/drive/MyDrive/tegn/common_tegn/hundrede/hundrede1.mp4', '/content/drive/MyDrive/tegn/common_tegn/hundrede/hundrede2_low_res.mp4', '/content/drive/MyDrive/tegn/common_tegn/hundrede/hundrede1_low_res.mp4', '/content/drive/MyDrive/tegn/common_tegn/hundrede/hundrede2_25fps.mp4', '/content/drive/MyDrive/tegn/common_tegn/hundrede/hundrede1_25fps.mp4', '/content/drive/MyDrive/tegn/common_tegn/lykkelig/lykkelig2.mp4', '/content/drive/MyDrive/tegn/common_tegn/lykkelig/lykkelig1.mp4', '/content/drive/MyDrive/tegn/common_tegn/lykkelig/lykkelig2_low_res.mp4', '/content/drive/MyDrive/tegn/common_tegn/lykkelig/lykkelig1_low_res.mp4', '/content/drive/MyDrive/tegn/common_tegn/lykkelig/lykkelig2_25fps.mp4', '/content/drive/MyDrive/tegn/common_tegn/lykkelig/lykkelig1_25fps.mp4', '/content/drive/MyDrive/tegn/common_tegn/tokyo/tokyo2.mp4', '/content/drive/MyDrive/tegn/common_tegn/tokyo/tokyo1.mp4', '/content/drive/MyDrive/tegn/common_tegn/tokyo/tokyo2_low_res.mp4', '/content/drive/MyDrive/tegn/common_tegn/tokyo/tokyo1_low_res.mp4', '/content/drive/MyDrive/tegn/common_tegn/tokyo/tokyo2_25fps.mp4', '/content/drive/MyDrive/tegn/common_tegn/tokyo/tokyo1_25fps.mp4', '/content/drive/MyDrive/tegn/common_tegn/bage/bage2.mp4', '/content/drive/MyDrive/tegn/common_tegn/bage/bage1.mp4', '/content/drive/MyDrive/tegn/common_tegn/bage/bage2_low_res.mp4', '/content/drive/MyDrive/tegn/common_tegn/bage/bage1_low_res.mp4', '/content/drive/MyDrive/tegn/common_tegn/bage/bage2_25fps.mp4', '/content/drive/MyDrive/tegn/common_tegn/bage/bage1_25fps.mp4', '/content/drive/MyDrive/tegn/common_tegn/professionel/professionel2.mp4', '/content/drive/MyDrive/tegn/common_tegn/professionel/professionel1.mp4', '/content/drive/MyDrive/tegn/common_tegn/professionel/professionel2_low_res.mp4', '/content/drive/MyDrive/tegn/common_tegn/professionel/professionel1_low_res.mp4', '/content/drive/MyDrive/tegn/common_tegn/professionel/professionel2_25fps.mp4', '/content/drive/MyDrive/tegn/common_tegn/professionel/professionel1_25fps.mp4', '/content/drive/MyDrive/tegn/common_tegn/selskab/selskab2.mp4', '/content/drive/MyDrive/tegn/common_tegn/selskab/selskab1.mp4', '/content/drive/MyDrive/tegn/common_tegn/selskab/selskab2_low_res.mp4', '/content/drive/MyDrive/tegn/common_tegn/selskab/selskab1_low_res.mp4', '/content/drive/MyDrive/tegn/common_tegn/selskab/selskab2_25fps.mp4', '/content/drive/MyDrive/tegn/common_tegn/selskab/selskab1_25fps.mp4', '/content/drive/MyDrive/tegn/common_tegn/adskille/adskille2.mp4', '/content/drive/MyDrive/tegn/common_tegn/adskille/adskille1.mp4', '/content/drive/MyDrive/tegn/common_tegn/adskille/adskille2_low_res.mp4', '/content/drive/MyDrive/tegn/common_tegn/adskille/adskille1_low_res.mp4', '/content/drive/MyDrive/tegn/common_tegn/adskille/adskille2_25fps.mp4', '/content/drive/MyDrive/tegn/common_tegn/adskille/adskille1_25fps.mp4', '/content/drive/MyDrive/tegn/common_tegn/streng/streng2.mp4', '/content/drive/MyDrive/tegn/common_tegn/streng/streng1.mp4', '/content/drive/MyDrive/tegn/common_tegn/streng/streng2_low_res.mp4', '/content/drive/MyDrive/tegn/common_tegn/streng/streng1_low_res.mp4', '/content/drive/MyDrive/tegn/common_tegn/streng/streng2_25fps.mp4', '/content/drive/MyDrive/tegn/common_tegn/streng/streng1_25fps.mp4', '/content/drive/MyDrive/tegn/common_tegn/tredje/tredje2.mp4', '/content/drive/MyDrive/tegn/common_tegn/tredje/tredje1.mp4', '/content/drive/MyDrive/tegn/common_tegn/tredje/tredje2_low_res.mp4', '/content/drive/MyDrive/tegn/common_tegn/tredje/tredje1_low_res.mp4', '/content/drive/MyDrive/tegn/common_tegn/tredje/tredje2_25fps.mp4', '/content/drive/MyDrive/tegn/common_tegn/tredje/tredje1_25fps.mp4', '/content/drive/MyDrive/tegn/common_tegn/overleve/overleve2.mp4', '/content/drive/MyDrive/tegn/common_tegn/overleve/overleve1.mp4', '/content/drive/MyDrive/tegn/common_tegn/overleve/overleve2_low_res.mp4', '/content/drive/MyDrive/tegn/common_tegn/overleve/overleve1_low_res.mp4', '/content/drive/MyDrive/tegn/common_tegn/overleve/overleve2_25fps.mp4', '/content/drive/MyDrive/tegn/common_tegn/overleve/overleve1_25fps.mp4', '/content/drive/MyDrive/tegn/common_tegn/dressing/dressing2.mp4', '/content/drive/MyDrive/tegn/common_tegn/dressing/dressing1.mp4', '/content/drive/MyDrive/tegn/common_tegn/dressing/dressing2_low_res.mp4', '/content/drive/MyDrive/tegn/common_tegn/dressing/dressing1_low_res.mp4', '/content/drive/MyDrive/tegn/common_tegn/dressing/dressing2_25fps.mp4', '/content/drive/MyDrive/tegn/common_tegn/dressing/dressing1_25fps.mp4', '/content/drive/MyDrive/tegn/common_tegn/jul/jul2.mp4', '/content/drive/MyDrive/tegn/common_tegn/jul/jul1.mp4', '/content/drive/MyDrive/tegn/common_tegn/jul/jul2_low_res.mp4', '/content/drive/MyDrive/tegn/common_tegn/jul/jul1_low_res.mp4', '/content/drive/MyDrive/tegn/common_tegn/jul/jul2_25fps.mp4', '/content/drive/MyDrive/tegn/common_tegn/jul/jul1_25fps.mp4', '/content/drive/MyDrive/tegn/common_tegn/stinke/stinke2.mp4', '/content/drive/MyDrive/tegn/common_tegn/stinke/stinke1.mp4', '/content/drive/MyDrive/tegn/common_tegn/stinke/stinke2_low_res.mp4', '/content/drive/MyDrive/tegn/common_tegn/stinke/stinke1_low_res.mp4', '/content/drive/MyDrive/tegn/common_tegn/stinke/stinke2_25fps.mp4', '/content/drive/MyDrive/tegn/common_tegn/stinke/stinke1_25fps.mp4', '/content/drive/MyDrive/tegn/common_tegn/formode/formode2.mp4', '/content/drive/MyDrive/tegn/common_tegn/formode/formode1.mp4', '/content/drive/MyDrive/tegn/common_tegn/formode/formode2_low_res.mp4', '/content/drive/MyDrive/tegn/common_tegn/formode/formode1_low_res.mp4', '/content/drive/MyDrive/tegn/common_tegn/formode/formode2_25fps.mp4', '/content/drive/MyDrive/tegn/common_tegn/formode/formode1_25fps.mp4', '/content/drive/MyDrive/tegn/common_tegn/fastelavn/fastelavn2.mp4', '/content/drive/MyDrive/tegn/common_tegn/fastelavn/fastelavn1.mp4', '/content/drive/MyDrive/tegn/common_tegn/fastelavn/fastelavn2_low_res.mp4', '/content/drive/MyDrive/tegn/common_tegn/fastelavn/fastelavn1_low_res.mp4', '/content/drive/MyDrive/tegn/common_tegn/fastelavn/fastelavn2_25fps.mp4', '/content/drive/MyDrive/tegn/common_tegn/fastelavn/fastelavn1_25fps.mp4', '/content/drive/MyDrive/tegn/common_tegn/biologi/biologi2.mp4', '/content/drive/MyDrive/tegn/common_tegn/biologi/biologi1.mp4', '/content/drive/MyDrive/tegn/common_tegn/biologi/biologi2_low_res.mp4', '/content/drive/MyDrive/tegn/common_tegn/biologi/biologi1_low_res.mp4', '/content/drive/MyDrive/tegn/common_tegn/biologi/biologi2_25fps.mp4', '/content/drive/MyDrive/tegn/common_tegn/biologi/biologi1_25fps.mp4', '/content/drive/MyDrive/tegn/common_tegn/otte/otte2.mp4', '/content/drive/MyDrive/tegn/common_tegn/otte/otte1.mp4', '/content/drive/MyDrive/tegn/common_tegn/otte/otte2_low_res.mp4', '/content/drive/MyDrive/tegn/common_tegn/otte/otte1_low_res.mp4', '/content/drive/MyDrive/tegn/common_tegn/otte/otte2_25fps.mp4', '/content/drive/MyDrive/tegn/common_tegn/otte/otte1_25fps.mp4', '/content/drive/MyDrive/tegn/common_tegn/over/over2.mp4', '/content/drive/MyDrive/tegn/common_tegn/over/over1.mp4', '/content/drive/MyDrive/tegn/common_tegn/over/over2_low_res.mp4', '/content/drive/MyDrive/tegn/common_tegn/over/over1_low_res.mp4', '/content/drive/MyDrive/tegn/common_tegn/over/over2_25fps.mp4', '/content/drive/MyDrive/tegn/common_tegn/over/over1_25fps.mp4', '/content/drive/MyDrive/tegn/common_tegn/variere/variere2.mp4', '/content/drive/MyDrive/tegn/common_tegn/variere/variere1.mp4', '/content/drive/MyDrive/tegn/common_tegn/variere/variere2_low_res.mp4', '/content/drive/MyDrive/tegn/common_tegn/variere/variere1_low_res.mp4', '/content/drive/MyDrive/tegn/common_tegn/variere/variere2_25fps.mp4', '/content/drive/MyDrive/tegn/common_tegn/variere/variere1_25fps.mp4', '/content/drive/MyDrive/tegn/common_tegn/ballade/ballade2.mp4', '/content/drive/MyDrive/tegn/common_tegn/ballade/ballade1.mp4', '/content/drive/MyDrive/tegn/common_tegn/ballade/ballade2_low_res.mp4', '/content/drive/MyDrive/tegn/common_tegn/ballade/ballade1_low_res.mp4', '/content/drive/MyDrive/tegn/common_tegn/ballade/ballade2_25fps.mp4', '/content/drive/MyDrive/tegn/common_tegn/ballade/ballade1_25fps.mp4', '/content/drive/MyDrive/tegn/common_tegn/samle/samle2.mp4', '/content/drive/MyDrive/tegn/common_tegn/samle/samle1.mp4', '/content/drive/MyDrive/tegn/common_tegn/samle/samle2_low_res.mp4', '/content/drive/MyDrive/tegn/common_tegn/samle/samle1_low_res.mp4', '/content/drive/MyDrive/tegn/common_tegn/samle/samle2_25fps.mp4', '/content/drive/MyDrive/tegn/common_tegn/samle/samle1_25fps.mp4', '/content/drive/MyDrive/tegn/common_tegn/gammel/gammel2.mp4', '/content/drive/MyDrive/tegn/common_tegn/gammel/gammel1.mp4', '/content/drive/MyDrive/tegn/common_tegn/gammel/gammel2_low_res.mp4', '/content/drive/MyDrive/tegn/common_tegn/gammel/gammel1_low_res.mp4', '/content/drive/MyDrive/tegn/common_tegn/gammel/gammel2_25fps.mp4', '/content/drive/MyDrive/tegn/common_tegn/gammel/gammel1_25fps.mp4', '/content/drive/MyDrive/tegn/common_tegn/aktiv/aktiv2.mp4', '/content/drive/MyDrive/tegn/common_tegn/aktiv/aktiv1.mp4', '/content/drive/MyDrive/tegn/common_tegn/aktiv/aktiv2_low_res.mp4', '/content/drive/MyDrive/tegn/common_tegn/aktiv/aktiv1_low_res.mp4', '/content/drive/MyDrive/tegn/common_tegn/aktiv/aktiv2_25fps.mp4', '/content/drive/MyDrive/tegn/common_tegn/aktiv/aktiv1_25fps.mp4', '/content/drive/MyDrive/tegn/common_tegn/sport/sport2.mp4', '/content/drive/MyDrive/tegn/common_tegn/sport/sport1.mp4', '/content/drive/MyDrive/tegn/common_tegn/sport/sport2_low_res.mp4', '/content/drive/MyDrive/tegn/common_tegn/sport/sport1_low_res.mp4', '/content/drive/MyDrive/tegn/common_tegn/sport/sport2_25fps.mp4', '/content/drive/MyDrive/tegn/common_tegn/sport/sport1_25fps.mp4', '/content/drive/MyDrive/tegn/common_tegn/tyskland/tyskland2.mp4', '/content/drive/MyDrive/tegn/common_tegn/tyskland/tyskland1.mp4', '/content/drive/MyDrive/tegn/common_tegn/tyskland/tyskland2_low_res.mp4', '/content/drive/MyDrive/tegn/common_tegn/tyskland/tyskland1_low_res.mp4', '/content/drive/MyDrive/tegn/common_tegn/tyskland/tyskland2_25fps.mp4', '/content/drive/MyDrive/tegn/common_tegn/tyskland/tyskland1_25fps.mp4', '/content/drive/MyDrive/tegn/common_tegn/underskud/underskud2.mp4', '/content/drive/MyDrive/tegn/common_tegn/underskud/underskud1.mp4', '/content/drive/MyDrive/tegn/common_tegn/underskud/underskud2_low_res.mp4', '/content/drive/MyDrive/tegn/common_tegn/underskud/underskud1_low_res.mp4', '/content/drive/MyDrive/tegn/common_tegn/underskud/underskud2_25fps.mp4', '/content/drive/MyDrive/tegn/common_tegn/underskud/underskud1_25fps.mp4', '/content/drive/MyDrive/tegn/common_tegn/hvad/hvad2.mp4', '/content/drive/MyDrive/tegn/common_tegn/hvad/hvad1.mp4', '/content/drive/MyDrive/tegn/common_tegn/hvad/hvad2_low_res.mp4', '/content/drive/MyDrive/tegn/common_tegn/hvad/hvad1_low_res.mp4', '/content/drive/MyDrive/tegn/common_tegn/hvad/hvad2_25fps.mp4', '/content/drive/MyDrive/tegn/common_tegn/hvad/hvad1_25fps.mp4', '/content/drive/MyDrive/tegn/common_tegn/norge/norge2.mp4', '/content/drive/MyDrive/tegn/common_tegn/norge/norge1.mp4', '/content/drive/MyDrive/tegn/common_tegn/norge/norge2_low_res.mp4', '/content/drive/MyDrive/tegn/common_tegn/norge/norge1_low_res.mp4', '/content/drive/MyDrive/tegn/common_tegn/norge/norge2_25fps.mp4', '/content/drive/MyDrive/tegn/common_tegn/norge/norge1_25fps.mp4', '/content/drive/MyDrive/tegn/common_tegn/seng/seng2.mp4', '/content/drive/MyDrive/tegn/common_tegn/seng/seng1.mp4', '/content/drive/MyDrive/tegn/common_tegn/seng/seng2_low_res.mp4', '/content/drive/MyDrive/tegn/common_tegn/seng/seng1_low_res.mp4', '/content/drive/MyDrive/tegn/common_tegn/seng/seng2_25fps.mp4', '/content/drive/MyDrive/tegn/common_tegn/seng/seng1_25fps.mp4', '/content/drive/MyDrive/tegn/common_tegn/kiks/kiks2.mp4', '/content/drive/MyDrive/tegn/common_tegn/kiks/kiks1.mp4', '/content/drive/MyDrive/tegn/common_tegn/kiks/kiks2_low_res.mp4', '/content/drive/MyDrive/tegn/common_tegn/kiks/kiks1_low_res.mp4', '/content/drive/MyDrive/tegn/common_tegn/kiks/kiks2_25fps.mp4', '/content/drive/MyDrive/tegn/common_tegn/kiks/kiks1_25fps.mp4', '/content/drive/MyDrive/tegn/common_tegn/tegn/tegn2.mp4', '/content/drive/MyDrive/tegn/common_tegn/tegn/tegn1.mp4', '/content/drive/MyDrive/tegn/common_tegn/tegn/tegn2_low_res.mp4', '/content/drive/MyDrive/tegn/common_tegn/tegn/tegn1_low_res.mp4', '/content/drive/MyDrive/tegn/common_tegn/tegn/tegn2_25fps.mp4', '/content/drive/MyDrive/tegn/common_tegn/tegn/tegn1_25fps.mp4', '/content/drive/MyDrive/tegn/common_tegn/indflydelse/indflydelse2.mp4', '/content/drive/MyDrive/tegn/common_tegn/indflydelse/indflydelse1.mp4', '/content/drive/MyDrive/tegn/common_tegn/indflydelse/indflydelse2_low_res.mp4', '/content/drive/MyDrive/tegn/common_tegn/indflydelse/indflydelse1_low_res.mp4', '/content/drive/MyDrive/tegn/common_tegn/indflydelse/indflydelse2_25fps.mp4', '/content/drive/MyDrive/tegn/common_tegn/indflydelse/indflydelse1_25fps.mp4', '/content/drive/MyDrive/tegn/common_tegn/japan/japan2.mp4', '/content/drive/MyDrive/tegn/common_tegn/japan/japan1.mp4', '/content/drive/MyDrive/tegn/common_tegn/japan/japan2_low_res.mp4', '/content/drive/MyDrive/tegn/common_tegn/japan/japan1_low_res.mp4', '/content/drive/MyDrive/tegn/common_tegn/japan/japan2_25fps.mp4', '/content/drive/MyDrive/tegn/common_tegn/japan/japan1_25fps.mp4', '/content/drive/MyDrive/tegn/common_tegn/pakke/pakke2.mp4', '/content/drive/MyDrive/tegn/common_tegn/pakke/pakke1.mp4', '/content/drive/MyDrive/tegn/common_tegn/pakke/pakke2_low_res.mp4', '/content/drive/MyDrive/tegn/common_tegn/pakke/pakke1_low_res.mp4', '/content/drive/MyDrive/tegn/common_tegn/pakke/pakke2_25fps.mp4', '/content/drive/MyDrive/tegn/common_tegn/pakke/pakke1_25fps.mp4', '/content/drive/MyDrive/tegn/common_tegn/neutral/neutral2.mp4', '/content/drive/MyDrive/tegn/common_tegn/neutral/neutral1.mp4', '/content/drive/MyDrive/tegn/common_tegn/neutral/neutral2_low_res.mp4', '/content/drive/MyDrive/tegn/common_tegn/neutral/neutral1_low_res.mp4', '/content/drive/MyDrive/tegn/common_tegn/neutral/neutral2_25fps.mp4', '/content/drive/MyDrive/tegn/common_tegn/neutral/neutral1_25fps.mp4', '/content/drive/MyDrive/tegn/common_tegn/toogtyve/toogtyve2.mp4', '/content/drive/MyDrive/tegn/common_tegn/toogtyve/toogtyve1.mp4', '/content/drive/MyDrive/tegn/common_tegn/toogtyve/toogtyve2_low_res.mp4', '/content/drive/MyDrive/tegn/common_tegn/toogtyve/toogtyve1_low_res.mp4', '/content/drive/MyDrive/tegn/common_tegn/toogtyve/toogtyve2_25fps.mp4', '/content/drive/MyDrive/tegn/common_tegn/toogtyve/toogtyve1_25fps.mp4', '/content/drive/MyDrive/tegn/common_tegn/tv/tv2.mp4', '/content/drive/MyDrive/tegn/common_tegn/tv/tv1.mp4', '/content/drive/MyDrive/tegn/common_tegn/tv/tv2_low_res.mp4', '/content/drive/MyDrive/tegn/common_tegn/tv/tv1_low_res.mp4', '/content/drive/MyDrive/tegn/common_tegn/tv/tv2_25fps.mp4', '/content/drive/MyDrive/tegn/common_tegn/tv/tv1_25fps.mp4', '/content/drive/MyDrive/tegn/common_tegn/holland/holland2.mp4', '/content/drive/MyDrive/tegn/common_tegn/holland/holland1.mp4', '/content/drive/MyDrive/tegn/common_tegn/holland/holland2_low_res.mp4', '/content/drive/MyDrive/tegn/common_tegn/holland/holland1_low_res.mp4', '/content/drive/MyDrive/tegn/common_tegn/holland/holland2_25fps.mp4', '/content/drive/MyDrive/tegn/common_tegn/holland/holland1_25fps.mp4', '/content/drive/MyDrive/tegn/common_tegn/udpege/udpege2.mp4', '/content/drive/MyDrive/tegn/common_tegn/udpege/udpege1.mp4', '/content/drive/MyDrive/tegn/common_tegn/udpege/udpege2_low_res.mp4', '/content/drive/MyDrive/tegn/common_tegn/udpege/udpege1_low_res.mp4', '/content/drive/MyDrive/tegn/common_tegn/udpege/udpege2_25fps.mp4', '/content/drive/MyDrive/tegn/common_tegn/udpege/udpege1_25fps.mp4', '/content/drive/MyDrive/tegn/common_tegn/sukker/sukker2.mp4', '/content/drive/MyDrive/tegn/common_tegn/sukker/sukker1.mp4', '/content/drive/MyDrive/tegn/common_tegn/sukker/sukker2_low_res.mp4', '/content/drive/MyDrive/tegn/common_tegn/sukker/sukker1_low_res.mp4', '/content/drive/MyDrive/tegn/common_tegn/sukker/sukker2_25fps.mp4', '/content/drive/MyDrive/tegn/common_tegn/sukker/sukker1_25fps.mp4', '/content/drive/MyDrive/tegn/common_tegn/cypern/cypern2.mp4', '/content/drive/MyDrive/tegn/common_tegn/cypern/cypern1.mp4', '/content/drive/MyDrive/tegn/common_tegn/cypern/cypern2_low_res.mp4', '/content/drive/MyDrive/tegn/common_tegn/cypern/cypern1_low_res.mp4', '/content/drive/MyDrive/tegn/common_tegn/cypern/cypern2_25fps.mp4', '/content/drive/MyDrive/tegn/common_tegn/cypern/cypern1_25fps.mp4', '/content/drive/MyDrive/tegn/common_tegn/spise/spise2.mp4', '/content/drive/MyDrive/tegn/common_tegn/spise/spise1.mp4', '/content/drive/MyDrive/tegn/common_tegn/spise/spise2_low_res.mp4', '/content/drive/MyDrive/tegn/common_tegn/spise/spise1_low_res.mp4', '/content/drive/MyDrive/tegn/common_tegn/spise/spise2_25fps.mp4', '/content/drive/MyDrive/tegn/common_tegn/spise/spise1_25fps.mp4', '/content/drive/MyDrive/tegn/common_tegn/passere/passere2.mp4', '/content/drive/MyDrive/tegn/common_tegn/passere/passere1.mp4', '/content/drive/MyDrive/tegn/common_tegn/passere/passere2_low_res.mp4', '/content/drive/MyDrive/tegn/common_tegn/passere/passere1_low_res.mp4', '/content/drive/MyDrive/tegn/common_tegn/passere/passere2_25fps.mp4', '/content/drive/MyDrive/tegn/common_tegn/passere/passere1_25fps.mp4', '/content/drive/MyDrive/tegn/common_tegn/traktor/traktor2.mp4', '/content/drive/MyDrive/tegn/common_tegn/traktor/traktor1.mp4', '/content/drive/MyDrive/tegn/common_tegn/traktor/traktor2_low_res.mp4', '/content/drive/MyDrive/tegn/common_tegn/traktor/traktor1_low_res.mp4', '/content/drive/MyDrive/tegn/common_tegn/traktor/traktor2_25fps.mp4', '/content/drive/MyDrive/tegn/common_tegn/traktor/traktor1_25fps.mp4', '/content/drive/MyDrive/tegn/common_tegn/institution/institution2.mp4', '/content/drive/MyDrive/tegn/common_tegn/institution/institution1.mp4', '/content/drive/MyDrive/tegn/common_tegn/institution/institution2_low_res.mp4', '/content/drive/MyDrive/tegn/common_tegn/institution/institution1_low_res.mp4', '/content/drive/MyDrive/tegn/common_tegn/institution/institution2_25fps.mp4', '/content/drive/MyDrive/tegn/common_tegn/institution/institution1_25fps.mp4', '/content/drive/MyDrive/tegn/common_tegn/tordne/tordne2.mp4', '/content/drive/MyDrive/tegn/common_tegn/tordne/tordne1.mp4', '/content/drive/MyDrive/tegn/common_tegn/tordne/tordne2_low_res.mp4', '/content/drive/MyDrive/tegn/common_tegn/tordne/tordne1_low_res.mp4', '/content/drive/MyDrive/tegn/common_tegn/tordne/tordne2_25fps.mp4', '/content/drive/MyDrive/tegn/common_tegn/tordne/tordne1_25fps.mp4', '/content/drive/MyDrive/tegn/common_tegn/prale/prale2.mp4', '/content/drive/MyDrive/tegn/common_tegn/prale/prale1.mp4', '/content/drive/MyDrive/tegn/common_tegn/prale/prale2_low_res.mp4', '/content/drive/MyDrive/tegn/common_tegn/prale/prale1_low_res.mp4', '/content/drive/MyDrive/tegn/common_tegn/prale/prale2_25fps.mp4', '/content/drive/MyDrive/tegn/common_tegn/prale/prale1_25fps.mp4', '/content/drive/MyDrive/tegn/common_tegn/bajer/bajer2.mp4', '/content/drive/MyDrive/tegn/common_tegn/bajer/bajer1.mp4', '/content/drive/MyDrive/tegn/common_tegn/bajer/bajer2_low_res.mp4', '/content/drive/MyDrive/tegn/common_tegn/bajer/bajer1_low_res.mp4', '/content/drive/MyDrive/tegn/common_tegn/bajer/bajer2_25fps.mp4', '/content/drive/MyDrive/tegn/common_tegn/bajer/bajer1_25fps.mp4', '/content/drive/MyDrive/tegn/common_tegn/stille/stille2.mp4', '/content/drive/MyDrive/tegn/common_tegn/stille/stille1.mp4', '/content/drive/MyDrive/tegn/common_tegn/stille/stille2_low_res.mp4', '/content/drive/MyDrive/tegn/common_tegn/stille/stille1_low_res.mp4', '/content/drive/MyDrive/tegn/common_tegn/stille/stille2_25fps.mp4', '/content/drive/MyDrive/tegn/common_tegn/stille/stille1_25fps.mp4', '/content/drive/MyDrive/tegn/common_tegn/estland/estland2.mp4', '/content/drive/MyDrive/tegn/common_tegn/estland/estland1.mp4', '/content/drive/MyDrive/tegn/common_tegn/estland/estland2_low_res.mp4', '/content/drive/MyDrive/tegn/common_tegn/estland/estland1_low_res.mp4', '/content/drive/MyDrive/tegn/common_tegn/estland/estland2_25fps.mp4', '/content/drive/MyDrive/tegn/common_tegn/estland/estland1_25fps.mp4', '/content/drive/MyDrive/tegn/common_tegn/kar/kar2.mp4', '/content/drive/MyDrive/tegn/common_tegn/kar/kar1.mp4', '/content/drive/MyDrive/tegn/common_tegn/kar/kar2_low_res.mp4', '/content/drive/MyDrive/tegn/common_tegn/kar/kar1_low_res.mp4', '/content/drive/MyDrive/tegn/common_tegn/kar/kar2_25fps.mp4', '/content/drive/MyDrive/tegn/common_tegn/kar/kar1_25fps.mp4', '/content/drive/MyDrive/tegn/common_tegn/sammenligne/sammenligne2.mp4', '/content/drive/MyDrive/tegn/common_tegn/sammenligne/sammenligne1.mp4', '/content/drive/MyDrive/tegn/common_tegn/sammenligne/sammenligne2_low_res.mp4', '/content/drive/MyDrive/tegn/common_tegn/sammenligne/sammenligne1_low_res.mp4', '/content/drive/MyDrive/tegn/common_tegn/sammenligne/sammenligne2_25fps.mp4', '/content/drive/MyDrive/tegn/common_tegn/sammenligne/sammenligne1_25fps.mp4', '/content/drive/MyDrive/tegn/common_tegn/vigtig/vigtig2.mp4', '/content/drive/MyDrive/tegn/common_tegn/vigtig/vigtig1.mp4', '/content/drive/MyDrive/tegn/common_tegn/vigtig/vigtig2_low_res.mp4', '/content/drive/MyDrive/tegn/common_tegn/vigtig/vigtig1_low_res.mp4', '/content/drive/MyDrive/tegn/common_tegn/vigtig/vigtig2_25fps.mp4', '/content/drive/MyDrive/tegn/common_tegn/vigtig/vigtig1_25fps.mp4', '/content/drive/MyDrive/tegn/common_tegn/samme/samme2.mp4', '/content/drive/MyDrive/tegn/common_tegn/samme/samme1.mp4', '/content/drive/MyDrive/tegn/common_tegn/samme/samme2_low_res.mp4', '/content/drive/MyDrive/tegn/common_tegn/samme/samme1_low_res.mp4', '/content/drive/MyDrive/tegn/common_tegn/samme/samme2_25fps.mp4', '/content/drive/MyDrive/tegn/common_tegn/samme/samme1_25fps.mp4', '/content/drive/MyDrive/tegn/common_tegn/interview/interview2.mp4', '/content/drive/MyDrive/tegn/common_tegn/interview/interview1.mp4', '/content/drive/MyDrive/tegn/common_tegn/interview/interview2_low_res.mp4', '/content/drive/MyDrive/tegn/common_tegn/interview/interview1_low_res.mp4', '/content/drive/MyDrive/tegn/common_tegn/interview/interview2_25fps.mp4', '/content/drive/MyDrive/tegn/common_tegn/interview/interview1_25fps.mp4', '/content/drive/MyDrive/tegn/common_tegn/rig/rig2.mp4', '/content/drive/MyDrive/tegn/common_tegn/rig/rig1.mp4', '/content/drive/MyDrive/tegn/common_tegn/rig/rig2_low_res.mp4', '/content/drive/MyDrive/tegn/common_tegn/rig/rig1_low_res.mp4', '/content/drive/MyDrive/tegn/common_tegn/rig/rig2_25fps.mp4', '/content/drive/MyDrive/tegn/common_tegn/rig/rig1_25fps.mp4', '/content/drive/MyDrive/tegn/common_tegn/mester/mester2.mp4', '/content/drive/MyDrive/tegn/common_tegn/mester/mester1.mp4', '/content/drive/MyDrive/tegn/common_tegn/mester/mester2_low_res.mp4', '/content/drive/MyDrive/tegn/common_tegn/mester/mester1_low_res.mp4', '/content/drive/MyDrive/tegn/common_tegn/mester/mester2_25fps.mp4', '/content/drive/MyDrive/tegn/common_tegn/mester/mester1_25fps.mp4', '/content/drive/MyDrive/tegn/common_tegn/imponerende/imponerende2.mp4', '/content/drive/MyDrive/tegn/common_tegn/imponerende/imponerende1.mp4', '/content/drive/MyDrive/tegn/common_tegn/imponerende/imponerende2_low_res.mp4', '/content/drive/MyDrive/tegn/common_tegn/imponerende/imponerende1_low_res.mp4', '/content/drive/MyDrive/tegn/common_tegn/imponerende/imponerende2_25fps.mp4', '/content/drive/MyDrive/tegn/common_tegn/imponerende/imponerende1_25fps.mp4', '/content/drive/MyDrive/tegn/common_tegn/krone/krone2.mp4', '/content/drive/MyDrive/tegn/common_tegn/krone/krone1.mp4', '/content/drive/MyDrive/tegn/common_tegn/krone/krone2_low_res.mp4', '/content/drive/MyDrive/tegn/common_tegn/krone/krone1_low_res.mp4', '/content/drive/MyDrive/tegn/common_tegn/krone/krone2_25fps.mp4', '/content/drive/MyDrive/tegn/common_tegn/krone/krone1_25fps.mp4', '/content/drive/MyDrive/tegn/common_tegn/pige/pige2.mp4', '/content/drive/MyDrive/tegn/common_tegn/pige/pige1.mp4', '/content/drive/MyDrive/tegn/common_tegn/pige/pige2_low_res.mp4', '/content/drive/MyDrive/tegn/common_tegn/pige/pige1_low_res.mp4', '/content/drive/MyDrive/tegn/common_tegn/pige/pige2_25fps.mp4', '/content/drive/MyDrive/tegn/common_tegn/pige/pige1_25fps.mp4', '/content/drive/MyDrive/tegn/common_tegn/havn/havn2.mp4', '/content/drive/MyDrive/tegn/common_tegn/havn/havn1.mp4', '/content/drive/MyDrive/tegn/common_tegn/havn/havn2_low_res.mp4', '/content/drive/MyDrive/tegn/common_tegn/havn/havn1_low_res.mp4', '/content/drive/MyDrive/tegn/common_tegn/havn/havn2_25fps.mp4', '/content/drive/MyDrive/tegn/common_tegn/havn/havn1_25fps.mp4', '/content/drive/MyDrive/tegn/common_tegn/dyne/dyne2.mp4', '/content/drive/MyDrive/tegn/common_tegn/dyne/dyne1.mp4', '/content/drive/MyDrive/tegn/common_tegn/dyne/dyne2_low_res.mp4', '/content/drive/MyDrive/tegn/common_tegn/dyne/dyne1_low_res.mp4', '/content/drive/MyDrive/tegn/common_tegn/dyne/dyne2_25fps.mp4', '/content/drive/MyDrive/tegn/common_tegn/dyne/dyne1_25fps.mp4', '/content/drive/MyDrive/tegn/common_tegn/krus/krus2.mp4', '/content/drive/MyDrive/tegn/common_tegn/krus/krus1.mp4', '/content/drive/MyDrive/tegn/common_tegn/krus/krus2_low_res.mp4', '/content/drive/MyDrive/tegn/common_tegn/krus/krus1_low_res.mp4', '/content/drive/MyDrive/tegn/common_tegn/krus/krus2_25fps.mp4', '/content/drive/MyDrive/tegn/common_tegn/krus/krus1_25fps.mp4', '/content/drive/MyDrive/tegn/common_tegn/mexico/mexico2.mp4', '/content/drive/MyDrive/tegn/common_tegn/mexico/mexico1.mp4', '/content/drive/MyDrive/tegn/common_tegn/mexico/mexico2_low_res.mp4', '/content/drive/MyDrive/tegn/common_tegn/mexico/mexico1_low_res.mp4', '/content/drive/MyDrive/tegn/common_tegn/mexico/mexico2_25fps.mp4', '/content/drive/MyDrive/tegn/common_tegn/mexico/mexico1_25fps.mp4', '/content/drive/MyDrive/tegn/common_tegn/opbevare/opbevare2.mp4', '/content/drive/MyDrive/tegn/common_tegn/opbevare/opbevare1.mp4', '/content/drive/MyDrive/tegn/common_tegn/opbevare/opbevare2_low_res.mp4', '/content/drive/MyDrive/tegn/common_tegn/opbevare/opbevare1_low_res.mp4', '/content/drive/MyDrive/tegn/common_tegn/opbevare/opbevare2_25fps.mp4', '/content/drive/MyDrive/tegn/common_tegn/opbevare/opbevare1_25fps.mp4', '/content/drive/MyDrive/tegn/common_tegn/bo/bo2.mp4', '/content/drive/MyDrive/tegn/common_tegn/bo/bo1.mp4', '/content/drive/MyDrive/tegn/common_tegn/bo/bo2_low_res.mp4', '/content/drive/MyDrive/tegn/common_tegn/bo/bo1_low_res.mp4', '/content/drive/MyDrive/tegn/common_tegn/bo/bo2_25fps.mp4', '/content/drive/MyDrive/tegn/common_tegn/bo/bo1_25fps.mp4', '/content/drive/MyDrive/tegn/common_tegn/ballon/ballon2.mp4', '/content/drive/MyDrive/tegn/common_tegn/ballon/ballon1.mp4', '/content/drive/MyDrive/tegn/common_tegn/ballon/ballon2_low_res.mp4', '/content/drive/MyDrive/tegn/common_tegn/ballon/ballon1_low_res.mp4', '/content/drive/MyDrive/tegn/common_tegn/ballon/ballon2_25fps.mp4', '/content/drive/MyDrive/tegn/common_tegn/ballon/ballon1_25fps.mp4', '/content/drive/MyDrive/tegn/common_tegn/vodka/vodka2.mp4', '/content/drive/MyDrive/tegn/common_tegn/vodka/vodka1.mp4', '/content/drive/MyDrive/tegn/common_tegn/vodka/vodka2_low_res.mp4', '/content/drive/MyDrive/tegn/common_tegn/vodka/vodka1_low_res.mp4', '/content/drive/MyDrive/tegn/common_tegn/vodka/vodka2_25fps.mp4', '/content/drive/MyDrive/tegn/common_tegn/vodka/vodka1_25fps.mp4', '/content/drive/MyDrive/tegn/common_tegn/veje/veje2.mp4', '/content/drive/MyDrive/tegn/common_tegn/veje/veje1.mp4', '/content/drive/MyDrive/tegn/common_tegn/veje/veje2_low_res.mp4', '/content/drive/MyDrive/tegn/common_tegn/veje/veje1_low_res.mp4', '/content/drive/MyDrive/tegn/common_tegn/veje/veje2_25fps.mp4', '/content/drive/MyDrive/tegn/common_tegn/veje/veje1_25fps.mp4', '/content/drive/MyDrive/tegn/common_tegn/morgen/morgen2.mp4', '/content/drive/MyDrive/tegn/common_tegn/morgen/morgen1.mp4', '/content/drive/MyDrive/tegn/common_tegn/morgen/morgen2_low_res.mp4', '/content/drive/MyDrive/tegn/common_tegn/morgen/morgen1_low_res.mp4', '/content/drive/MyDrive/tegn/common_tegn/morgen/morgen2_25fps.mp4', '/content/drive/MyDrive/tegn/common_tegn/morgen/morgen1_25fps.mp4', '/content/drive/MyDrive/tegn/common_tegn/tolke/tolke2.mp4', '/content/drive/MyDrive/tegn/common_tegn/tolke/tolke1.mp4', '/content/drive/MyDrive/tegn/common_tegn/tolke/tolke2_low_res.mp4', '/content/drive/MyDrive/tegn/common_tegn/tolke/tolke1_low_res.mp4', '/content/drive/MyDrive/tegn/common_tegn/tolke/tolke2_25fps.mp4', '/content/drive/MyDrive/tegn/common_tegn/tolke/tolke1_25fps.mp4', '/content/drive/MyDrive/tegn/common_tegn/ikke/ikke2.mp4', '/content/drive/MyDrive/tegn/common_tegn/ikke/ikke1.mp4', '/content/drive/MyDrive/tegn/common_tegn/ikke/ikke2_low_res.mp4', '/content/drive/MyDrive/tegn/common_tegn/ikke/ikke1_low_res.mp4', '/content/drive/MyDrive/tegn/common_tegn/ikke/ikke2_25fps.mp4', '/content/drive/MyDrive/tegn/common_tegn/ikke/ikke1_25fps.mp4', '/content/drive/MyDrive/tegn/common_tegn/avis/avis2.mp4', '/content/drive/MyDrive/tegn/common_tegn/avis/avis1.mp4', '/content/drive/MyDrive/tegn/common_tegn/avis/avis2_low_res.mp4', '/content/drive/MyDrive/tegn/common_tegn/avis/avis1_low_res.mp4', '/content/drive/MyDrive/tegn/common_tegn/avis/avis2_25fps.mp4', '/content/drive/MyDrive/tegn/common_tegn/avis/avis1_25fps.mp4', '/content/drive/MyDrive/tegn/common_tegn/station/station2.mp4', '/content/drive/MyDrive/tegn/common_tegn/station/station1.mp4', '/content/drive/MyDrive/tegn/common_tegn/station/station2_low_res.mp4', '/content/drive/MyDrive/tegn/common_tegn/station/station1_low_res.mp4', '/content/drive/MyDrive/tegn/common_tegn/station/station2_25fps.mp4', '/content/drive/MyDrive/tegn/common_tegn/station/station1_25fps.mp4', '/content/drive/MyDrive/tegn/common_tegn/besked/besked2.mp4', '/content/drive/MyDrive/tegn/common_tegn/besked/besked1.mp4', '/content/drive/MyDrive/tegn/common_tegn/besked/besked2_low_res.mp4', '/content/drive/MyDrive/tegn/common_tegn/besked/besked1_low_res.mp4', '/content/drive/MyDrive/tegn/common_tegn/besked/besked2_25fps.mp4', '/content/drive/MyDrive/tegn/common_tegn/besked/besked1_25fps.mp4', '/content/drive/MyDrive/tegn/common_tegn/plante/plante2.mp4', '/content/drive/MyDrive/tegn/common_tegn/plante/plante1.mp4', '/content/drive/MyDrive/tegn/common_tegn/plante/plante2_low_res.mp4', '/content/drive/MyDrive/tegn/common_tegn/plante/plante1_low_res.mp4', '/content/drive/MyDrive/tegn/common_tegn/plante/plante2_25fps.mp4', '/content/drive/MyDrive/tegn/common_tegn/plante/plante1_25fps.mp4', '/content/drive/MyDrive/tegn/common_tegn/nej/nej2.mp4', '/content/drive/MyDrive/tegn/common_tegn/nej/nej1.mp4', '/content/drive/MyDrive/tegn/common_tegn/nej/nej2_low_res.mp4', '/content/drive/MyDrive/tegn/common_tegn/nej/nej1_low_res.mp4', '/content/drive/MyDrive/tegn/common_tegn/nej/nej2_25fps.mp4', '/content/drive/MyDrive/tegn/common_tegn/nej/nej1_25fps.mp4', '/content/drive/MyDrive/tegn/common_tegn/skaldet/skaldet2.mp4', '/content/drive/MyDrive/tegn/common_tegn/skaldet/skaldet1.mp4', '/content/drive/MyDrive/tegn/common_tegn/skaldet/skaldet2_low_res.mp4', '/content/drive/MyDrive/tegn/common_tegn/skaldet/skaldet1_low_res.mp4', '/content/drive/MyDrive/tegn/common_tegn/skaldet/skaldet2_25fps.mp4', '/content/drive/MyDrive/tegn/common_tegn/skaldet/skaldet1_25fps.mp4', '/content/drive/MyDrive/tegn/common_tegn/bakke/bakke2.mp4', '/content/drive/MyDrive/tegn/common_tegn/bakke/bakke1.mp4', '/content/drive/MyDrive/tegn/common_tegn/bakke/bakke2_low_res.mp4', '/content/drive/MyDrive/tegn/common_tegn/bakke/bakke1_low_res.mp4', '/content/drive/MyDrive/tegn/common_tegn/bakke/bakke2_25fps.mp4', '/content/drive/MyDrive/tegn/common_tegn/bakke/bakke1_25fps.mp4', '/content/drive/MyDrive/tegn/common_tegn/magt/magt2.mp4', '/content/drive/MyDrive/tegn/common_tegn/magt/magt1.mp4', '/content/drive/MyDrive/tegn/common_tegn/magt/magt2_low_res.mp4', '/content/drive/MyDrive/tegn/common_tegn/magt/magt1_low_res.mp4', '/content/drive/MyDrive/tegn/common_tegn/magt/magt2_25fps.mp4', '/content/drive/MyDrive/tegn/common_tegn/magt/magt1_25fps.mp4', '/content/drive/MyDrive/tegn/common_tegn/ignorere/ignorere2.mp4', '/content/drive/MyDrive/tegn/common_tegn/ignorere/ignorere1.mp4', '/content/drive/MyDrive/tegn/common_tegn/ignorere/ignorere2_low_res.mp4', '/content/drive/MyDrive/tegn/common_tegn/ignorere/ignorere1_low_res.mp4', '/content/drive/MyDrive/tegn/common_tegn/ignorere/ignorere2_25fps.mp4', '/content/drive/MyDrive/tegn/common_tegn/ignorere/ignorere1_25fps.mp4', '/content/drive/MyDrive/tegn/common_tegn/amok/amok2.mp4', '/content/drive/MyDrive/tegn/common_tegn/amok/amok1.mp4', '/content/drive/MyDrive/tegn/common_tegn/amok/amok2_low_res.mp4', '/content/drive/MyDrive/tegn/common_tegn/amok/amok1_low_res.mp4', '/content/drive/MyDrive/tegn/common_tegn/amok/amok2_25fps.mp4', '/content/drive/MyDrive/tegn/common_tegn/amok/amok1_25fps.mp4', '/content/drive/MyDrive/tegn/common_tegn/bedst/bedst2.mp4', '/content/drive/MyDrive/tegn/common_tegn/bedst/bedst1.mp4', '/content/drive/MyDrive/tegn/common_tegn/bedst/bedst2_low_res.mp4', '/content/drive/MyDrive/tegn/common_tegn/bedst/bedst1_low_res.mp4', '/content/drive/MyDrive/tegn/common_tegn/bedst/bedst2_25fps.mp4', '/content/drive/MyDrive/tegn/common_tegn/bedst/bedst1_25fps.mp4', '/content/drive/MyDrive/tegn/common_tegn/sove/sove2.mp4', '/content/drive/MyDrive/tegn/common_tegn/sove/sove1.mp4', '/content/drive/MyDrive/tegn/common_tegn/sove/sove2_low_res.mp4', '/content/drive/MyDrive/tegn/common_tegn/sove/sove1_low_res.mp4', '/content/drive/MyDrive/tegn/common_tegn/sove/sove2_25fps.mp4', '/content/drive/MyDrive/tegn/common_tegn/sove/sove1_25fps.mp4', '/content/drive/MyDrive/tegn/common_tegn/telefon/telefon2.mp4', '/content/drive/MyDrive/tegn/common_tegn/telefon/telefon1.mp4', '/content/drive/MyDrive/tegn/common_tegn/telefon/telefon2_low_res.mp4', '/content/drive/MyDrive/tegn/common_tegn/telefon/telefon1_low_res.mp4', '/content/drive/MyDrive/tegn/common_tegn/telefon/telefon2_25fps.mp4', '/content/drive/MyDrive/tegn/common_tegn/telefon/telefon1_25fps.mp4', '/content/drive/MyDrive/tegn/common_tegn/positiv/positiv2.mp4', '/content/drive/MyDrive/tegn/common_tegn/positiv/positiv1.mp4', '/content/drive/MyDrive/tegn/common_tegn/positiv/positiv2_low_res.mp4', '/content/drive/MyDrive/tegn/common_tegn/positiv/positiv1_low_res.mp4', '/content/drive/MyDrive/tegn/common_tegn/positiv/positiv2_25fps.mp4', '/content/drive/MyDrive/tegn/common_tegn/positiv/positiv1_25fps.mp4', '/content/drive/MyDrive/tegn/common_tegn/stifte/stifte2.mp4', '/content/drive/MyDrive/tegn/common_tegn/stifte/stifte1.mp4', '/content/drive/MyDrive/tegn/common_tegn/stifte/stifte2_low_res.mp4', '/content/drive/MyDrive/tegn/common_tegn/stifte/stifte1_low_res.mp4', '/content/drive/MyDrive/tegn/common_tegn/stifte/stifte2_25fps.mp4', '/content/drive/MyDrive/tegn/common_tegn/stifte/stifte1_25fps.mp4', '/content/drive/MyDrive/tegn/common_tegn/forbi/forbi2.mp4', '/content/drive/MyDrive/tegn/common_tegn/forbi/forbi1.mp4', '/content/drive/MyDrive/tegn/common_tegn/forbi/forbi2_low_res.mp4', '/content/drive/MyDrive/tegn/common_tegn/forbi/forbi1_low_res.mp4', '/content/drive/MyDrive/tegn/common_tegn/forbi/forbi2_25fps.mp4', '/content/drive/MyDrive/tegn/common_tegn/forbi/forbi1_25fps.mp4', '/content/drive/MyDrive/tegn/common_tegn/olie/olie2.mp4', '/content/drive/MyDrive/tegn/common_tegn/olie/olie1.mp4', '/content/drive/MyDrive/tegn/common_tegn/olie/olie2_low_res.mp4', '/content/drive/MyDrive/tegn/common_tegn/olie/olie1_low_res.mp4', '/content/drive/MyDrive/tegn/common_tegn/olie/olie2_25fps.mp4', '/content/drive/MyDrive/tegn/common_tegn/olie/olie1_25fps.mp4', '/content/drive/MyDrive/tegn/common_tegn/ko/ko2.mp4', '/content/drive/MyDrive/tegn/common_tegn/ko/ko1.mp4', '/content/drive/MyDrive/tegn/common_tegn/ko/ko2_low_res.mp4', '/content/drive/MyDrive/tegn/common_tegn/ko/ko1_low_res.mp4', '/content/drive/MyDrive/tegn/common_tegn/ko/ko2_25fps.mp4', '/content/drive/MyDrive/tegn/common_tegn/ko/ko1_25fps.mp4', '/content/drive/MyDrive/tegn/common_tegn/mangle/mangle2.mp4', '/content/drive/MyDrive/tegn/common_tegn/mangle/mangle1.mp4', '/content/drive/MyDrive/tegn/common_tegn/mangle/mangle2_low_res.mp4', '/content/drive/MyDrive/tegn/common_tegn/mangle/mangle1_low_res.mp4', '/content/drive/MyDrive/tegn/common_tegn/mangle/mangle2_25fps.mp4', '/content/drive/MyDrive/tegn/common_tegn/mangle/mangle1_25fps.mp4', '/content/drive/MyDrive/tegn/common_tegn/fyldt/fyldt2.mp4', '/content/drive/MyDrive/tegn/common_tegn/fyldt/fyldt1.mp4', '/content/drive/MyDrive/tegn/common_tegn/fyldt/fyldt2_low_res.mp4', '/content/drive/MyDrive/tegn/common_tegn/fyldt/fyldt1_low_res.mp4', '/content/drive/MyDrive/tegn/common_tegn/fyldt/fyldt2_25fps.mp4', '/content/drive/MyDrive/tegn/common_tegn/fyldt/fyldt1_25fps.mp4', '/content/drive/MyDrive/tegn/common_tegn/energi/energi2.mp4', '/content/drive/MyDrive/tegn/common_tegn/energi/energi1.mp4', '/content/drive/MyDrive/tegn/common_tegn/energi/energi2_low_res.mp4', '/content/drive/MyDrive/tegn/common_tegn/energi/energi1_low_res.mp4', '/content/drive/MyDrive/tegn/common_tegn/energi/energi2_25fps.mp4', '/content/drive/MyDrive/tegn/common_tegn/energi/energi1_25fps.mp4', '/content/drive/MyDrive/tegn/common_tegn/penge/penge2.mp4', '/content/drive/MyDrive/tegn/common_tegn/penge/penge1.mp4', '/content/drive/MyDrive/tegn/common_tegn/penge/penge2_low_res.mp4', '/content/drive/MyDrive/tegn/common_tegn/penge/penge1_low_res.mp4', '/content/drive/MyDrive/tegn/common_tegn/penge/penge2_25fps.mp4', '/content/drive/MyDrive/tegn/common_tegn/penge/penge1_25fps.mp4', '/content/drive/MyDrive/tegn/common_tegn/er/er2.mp4', '/content/drive/MyDrive/tegn/common_tegn/er/er1.mp4', '/content/drive/MyDrive/tegn/common_tegn/er/er2_low_res.mp4', '/content/drive/MyDrive/tegn/common_tegn/er/er1_low_res.mp4', '/content/drive/MyDrive/tegn/common_tegn/er/er2_25fps.mp4', '/content/drive/MyDrive/tegn/common_tegn/er/er1_25fps.mp4', '/content/drive/MyDrive/tegn/common_tegn/skema/skema2.mp4', '/content/drive/MyDrive/tegn/common_tegn/skema/skema1.mp4', '/content/drive/MyDrive/tegn/common_tegn/skema/skema2_low_res.mp4', '/content/drive/MyDrive/tegn/common_tegn/skema/skema1_low_res.mp4', '/content/drive/MyDrive/tegn/common_tegn/skema/skema2_25fps.mp4', '/content/drive/MyDrive/tegn/common_tegn/skema/skema1_25fps.mp4', '/content/drive/MyDrive/tegn/common_tegn/shampoo/shampoo2.mp4', '/content/drive/MyDrive/tegn/common_tegn/shampoo/shampoo1.mp4', '/content/drive/MyDrive/tegn/common_tegn/shampoo/shampoo2_low_res.mp4', '/content/drive/MyDrive/tegn/common_tegn/shampoo/shampoo1_low_res.mp4', '/content/drive/MyDrive/tegn/common_tegn/shampoo/shampoo2_25fps.mp4', '/content/drive/MyDrive/tegn/common_tegn/shampoo/shampoo1_25fps.mp4', '/content/drive/MyDrive/tegn/common_tegn/trafik/trafik2.mp4', '/content/drive/MyDrive/tegn/common_tegn/trafik/trafik1.mp4', '/content/drive/MyDrive/tegn/common_tegn/trafik/trafik2_low_res.mp4', '/content/drive/MyDrive/tegn/common_tegn/trafik/trafik1_low_res.mp4', '/content/drive/MyDrive/tegn/common_tegn/trafik/trafik2_25fps.mp4', '/content/drive/MyDrive/tegn/common_tegn/trafik/trafik1_25fps.mp4', '/content/drive/MyDrive/tegn/common_tegn/sjette/sjette2.mp4', '/content/drive/MyDrive/tegn/common_tegn/sjette/sjette1.mp4', '/content/drive/MyDrive/tegn/common_tegn/sjette/sjette2_low_res.mp4', '/content/drive/MyDrive/tegn/common_tegn/sjette/sjette1_low_res.mp4', '/content/drive/MyDrive/tegn/common_tegn/sjette/sjette2_25fps.mp4', '/content/drive/MyDrive/tegn/common_tegn/sjette/sjette1_25fps.mp4', '/content/drive/MyDrive/tegn/common_tegn/slovakiet/slovakiet2.mp4', '/content/drive/MyDrive/tegn/common_tegn/slovakiet/slovakiet1.mp4', '/content/drive/MyDrive/tegn/common_tegn/slovakiet/slovakiet2_low_res.mp4', '/content/drive/MyDrive/tegn/common_tegn/slovakiet/slovakiet1_low_res.mp4', '/content/drive/MyDrive/tegn/common_tegn/slovakiet/slovakiet2_25fps.mp4', '/content/drive/MyDrive/tegn/common_tegn/slovakiet/slovakiet1_25fps.mp4', '/content/drive/MyDrive/tegn/common_tegn/garanti/garanti2.mp4', '/content/drive/MyDrive/tegn/common_tegn/garanti/garanti1.mp4', '/content/drive/MyDrive/tegn/common_tegn/garanti/garanti2_low_res.mp4', '/content/drive/MyDrive/tegn/common_tegn/garanti/garanti1_low_res.mp4', '/content/drive/MyDrive/tegn/common_tegn/garanti/garanti2_25fps.mp4', '/content/drive/MyDrive/tegn/common_tegn/garanti/garanti1_25fps.mp4', '/content/drive/MyDrive/tegn/common_tegn/dyb/dyb2.mp4', '/content/drive/MyDrive/tegn/common_tegn/dyb/dyb1.mp4', '/content/drive/MyDrive/tegn/common_tegn/dyb/dyb2_low_res.mp4', '/content/drive/MyDrive/tegn/common_tegn/dyb/dyb1_low_res.mp4', '/content/drive/MyDrive/tegn/common_tegn/dyb/dyb2_25fps.mp4', '/content/drive/MyDrive/tegn/common_tegn/dyb/dyb1_25fps.mp4', '/content/drive/MyDrive/tegn/common_tegn/tallerken/tallerken2.mp4', '/content/drive/MyDrive/tegn/common_tegn/tallerken/tallerken1.mp4', '/content/drive/MyDrive/tegn/common_tegn/tallerken/tallerken2_low_res.mp4', '/content/drive/MyDrive/tegn/common_tegn/tallerken/tallerken1_low_res.mp4', '/content/drive/MyDrive/tegn/common_tegn/tallerken/tallerken2_25fps.mp4', '/content/drive/MyDrive/tegn/common_tegn/tallerken/tallerken1_25fps.mp4', '/content/drive/MyDrive/tegn/common_tegn/tomme/tomme2.mp4', '/content/drive/MyDrive/tegn/common_tegn/tomme/tomme1.mp4', '/content/drive/MyDrive/tegn/common_tegn/tomme/tomme2_low_res.mp4', '/content/drive/MyDrive/tegn/common_tegn/tomme/tomme1_low_res.mp4', '/content/drive/MyDrive/tegn/common_tegn/tomme/tomme2_25fps.mp4', '/content/drive/MyDrive/tegn/common_tegn/tomme/tomme1_25fps.mp4', '/content/drive/MyDrive/tegn/common_tegn/reparere/reparere2.mp4', '/content/drive/MyDrive/tegn/common_tegn/reparere/reparere1.mp4', '/content/drive/MyDrive/tegn/common_tegn/reparere/reparere2_low_res.mp4', '/content/drive/MyDrive/tegn/common_tegn/reparere/reparere1_low_res.mp4', '/content/drive/MyDrive/tegn/common_tegn/reparere/reparere2_25fps.mp4', '/content/drive/MyDrive/tegn/common_tegn/reparere/reparere1_25fps.mp4', '/content/drive/MyDrive/tegn/common_tegn/bolle/bolle2.mp4', '/content/drive/MyDrive/tegn/common_tegn/bolle/bolle1.mp4', '/content/drive/MyDrive/tegn/common_tegn/bolle/bolle2_low_res.mp4', '/content/drive/MyDrive/tegn/common_tegn/bolle/bolle1_low_res.mp4', '/content/drive/MyDrive/tegn/common_tegn/bolle/bolle2_25fps.mp4', '/content/drive/MyDrive/tegn/common_tegn/bolle/bolle1_25fps.mp4', '/content/drive/MyDrive/tegn/common_tegn/spejl/spejl2.mp4', '/content/drive/MyDrive/tegn/common_tegn/spejl/spejl1.mp4', '/content/drive/MyDrive/tegn/common_tegn/spejl/spejl2_low_res.mp4', '/content/drive/MyDrive/tegn/common_tegn/spejl/spejl1_low_res.mp4', '/content/drive/MyDrive/tegn/common_tegn/spejl/spejl2_25fps.mp4', '/content/drive/MyDrive/tegn/common_tegn/spejl/spejl1_25fps.mp4', '/content/drive/MyDrive/tegn/common_tegn/klog/klog2.mp4', '/content/drive/MyDrive/tegn/common_tegn/klog/klog1.mp4', '/content/drive/MyDrive/tegn/common_tegn/klog/klog2_low_res.mp4', '/content/drive/MyDrive/tegn/common_tegn/klog/klog1_low_res.mp4', '/content/drive/MyDrive/tegn/common_tegn/klog/klog2_25fps.mp4', '/content/drive/MyDrive/tegn/common_tegn/klog/klog1_25fps.mp4', '/content/drive/MyDrive/tegn/common_tegn/gide/gide2.mp4', '/content/drive/MyDrive/tegn/common_tegn/gide/gide1.mp4', '/content/drive/MyDrive/tegn/common_tegn/gide/gide2_low_res.mp4', '/content/drive/MyDrive/tegn/common_tegn/gide/gide1_low_res.mp4', '/content/drive/MyDrive/tegn/common_tegn/gide/gide2_25fps.mp4', '/content/drive/MyDrive/tegn/common_tegn/gide/gide1_25fps.mp4', '/content/drive/MyDrive/tegn/common_tegn/arv/arv2.mp4', '/content/drive/MyDrive/tegn/common_tegn/arv/arv1.mp4', '/content/drive/MyDrive/tegn/common_tegn/arv/arv2_low_res.mp4', '/content/drive/MyDrive/tegn/common_tegn/arv/arv1_low_res.mp4', '/content/drive/MyDrive/tegn/common_tegn/arv/arv2_25fps.mp4', '/content/drive/MyDrive/tegn/common_tegn/arv/arv1_25fps.mp4', '/content/drive/MyDrive/tegn/common_tegn/vise/vise2.mp4', '/content/drive/MyDrive/tegn/common_tegn/vise/vise1.mp4', '/content/drive/MyDrive/tegn/common_tegn/vise/vise2_low_res.mp4', '/content/drive/MyDrive/tegn/common_tegn/vise/vise1_low_res.mp4', '/content/drive/MyDrive/tegn/common_tegn/vise/vise2_25fps.mp4', '/content/drive/MyDrive/tegn/common_tegn/vise/vise1_25fps.mp4', '/content/drive/MyDrive/tegn/common_tegn/billede/billede2.mp4', '/content/drive/MyDrive/tegn/common_tegn/billede/billede1.mp4', '/content/drive/MyDrive/tegn/common_tegn/billede/billede2_low_res.mp4', '/content/drive/MyDrive/tegn/common_tegn/billede/billede1_low_res.mp4', '/content/drive/MyDrive/tegn/common_tegn/billede/billede2_25fps.mp4', '/content/drive/MyDrive/tegn/common_tegn/billede/billede1_25fps.mp4', '/content/drive/MyDrive/tegn/common_tegn/sverige/sverige2.mp4', '/content/drive/MyDrive/tegn/common_tegn/sverige/sverige1.mp4', '/content/drive/MyDrive/tegn/common_tegn/sverige/sverige2_low_res.mp4', '/content/drive/MyDrive/tegn/common_tegn/sverige/sverige1_low_res.mp4', '/content/drive/MyDrive/tegn/common_tegn/sverige/sverige2_25fps.mp4', '/content/drive/MyDrive/tegn/common_tegn/sverige/sverige1_25fps.mp4', '/content/drive/MyDrive/tegn/common_tegn/signal/signal2.mp4', '/content/drive/MyDrive/tegn/common_tegn/signal/signal1.mp4', '/content/drive/MyDrive/tegn/common_tegn/signal/signal2_low_res.mp4', '/content/drive/MyDrive/tegn/common_tegn/signal/signal1_low_res.mp4', '/content/drive/MyDrive/tegn/common_tegn/signal/signal2_25fps.mp4', '/content/drive/MyDrive/tegn/common_tegn/signal/signal1_25fps.mp4', '/content/drive/MyDrive/tegn/common_tegn/benzin/benzin2.mp4', '/content/drive/MyDrive/tegn/common_tegn/benzin/benzin1.mp4', '/content/drive/MyDrive/tegn/common_tegn/benzin/benzin2_low_res.mp4', '/content/drive/MyDrive/tegn/common_tegn/benzin/benzin1_low_res.mp4', '/content/drive/MyDrive/tegn/common_tegn/benzin/benzin2_25fps.mp4', '/content/drive/MyDrive/tegn/common_tegn/benzin/benzin1_25fps.mp4', '/content/drive/MyDrive/tegn/common_tegn/pakistan/pakistan2.mp4', '/content/drive/MyDrive/tegn/common_tegn/pakistan/pakistan1.mp4', '/content/drive/MyDrive/tegn/common_tegn/pakistan/pakistan2_low_res.mp4', '/content/drive/MyDrive/tegn/common_tegn/pakistan/pakistan1_low_res.mp4', '/content/drive/MyDrive/tegn/common_tegn/pakistan/pakistan2_25fps.mp4', '/content/drive/MyDrive/tegn/common_tegn/pakistan/pakistan1_25fps.mp4', '/content/drive/MyDrive/tegn/common_tegn/lys/lys2.mp4', '/content/drive/MyDrive/tegn/common_tegn/lys/lys1.mp4', '/content/drive/MyDrive/tegn/common_tegn/lys/lys2_low_res.mp4', '/content/drive/MyDrive/tegn/common_tegn/lys/lys1_low_res.mp4', '/content/drive/MyDrive/tegn/common_tegn/lys/lys2_25fps.mp4', '/content/drive/MyDrive/tegn/common_tegn/lys/lys1_25fps.mp4', '/content/drive/MyDrive/tegn/common_tegn/under/under2.mp4', '/content/drive/MyDrive/tegn/common_tegn/under/under1.mp4', '/content/drive/MyDrive/tegn/common_tegn/under/under2_low_res.mp4', '/content/drive/MyDrive/tegn/common_tegn/under/under1_low_res.mp4', '/content/drive/MyDrive/tegn/common_tegn/under/under2_25fps.mp4', '/content/drive/MyDrive/tegn/common_tegn/under/under1_25fps.mp4', '/content/drive/MyDrive/tegn/common_tegn/blod/blod2.mp4', '/content/drive/MyDrive/tegn/common_tegn/blod/blod1.mp4', '/content/drive/MyDrive/tegn/common_tegn/blod/blod2_low_res.mp4', '/content/drive/MyDrive/tegn/common_tegn/blod/blod1_low_res.mp4', '/content/drive/MyDrive/tegn/common_tegn/blod/blod2_25fps.mp4', '/content/drive/MyDrive/tegn/common_tegn/blod/blod1_25fps.mp4', '/content/drive/MyDrive/tegn/common_tegn/gentofte/gentofte2.mp4', '/content/drive/MyDrive/tegn/common_tegn/gentofte/gentofte1.mp4', '/content/drive/MyDrive/tegn/common_tegn/gentofte/gentofte2_low_res.mp4', '/content/drive/MyDrive/tegn/common_tegn/gentofte/gentofte1_low_res.mp4', '/content/drive/MyDrive/tegn/common_tegn/gentofte/gentofte2_25fps.mp4', '/content/drive/MyDrive/tegn/common_tegn/gentofte/gentofte1_25fps.mp4', '/content/drive/MyDrive/tegn/common_tegn/udenom/udenom2.mp4', '/content/drive/MyDrive/tegn/common_tegn/udenom/udenom1.mp4', '/content/drive/MyDrive/tegn/common_tegn/udenom/udenom2_low_res.mp4', '/content/drive/MyDrive/tegn/common_tegn/udenom/udenom1_low_res.mp4', '/content/drive/MyDrive/tegn/common_tegn/udenom/udenom2_25fps.mp4', '/content/drive/MyDrive/tegn/common_tegn/udenom/udenom1_25fps.mp4', '/content/drive/MyDrive/tegn/common_tegn/opvask/opvask2.mp4', '/content/drive/MyDrive/tegn/common_tegn/opvask/opvask1.mp4', '/content/drive/MyDrive/tegn/common_tegn/opvask/opvask2_low_res.mp4', '/content/drive/MyDrive/tegn/common_tegn/opvask/opvask1_low_res.mp4', '/content/drive/MyDrive/tegn/common_tegn/opvask/opvask2_25fps.mp4', '/content/drive/MyDrive/tegn/common_tegn/opvask/opvask1_25fps.mp4', '/content/drive/MyDrive/tegn/common_tegn/kultur/kultur2.mp4', '/content/drive/MyDrive/tegn/common_tegn/kultur/kultur1.mp4', '/content/drive/MyDrive/tegn/common_tegn/kultur/kultur2_low_res.mp4', '/content/drive/MyDrive/tegn/common_tegn/kultur/kultur1_low_res.mp4', '/content/drive/MyDrive/tegn/common_tegn/kultur/kultur2_25fps.mp4', '/content/drive/MyDrive/tegn/common_tegn/kultur/kultur1_25fps.mp4', '/content/drive/MyDrive/tegn/common_tegn/grine/grine2.mp4', '/content/drive/MyDrive/tegn/common_tegn/grine/grine1.mp4', '/content/drive/MyDrive/tegn/common_tegn/grine/grine2_low_res.mp4', '/content/drive/MyDrive/tegn/common_tegn/grine/grine1_low_res.mp4', '/content/drive/MyDrive/tegn/common_tegn/grine/grine2_25fps.mp4', '/content/drive/MyDrive/tegn/common_tegn/grine/grine1_25fps.mp4', '/content/drive/MyDrive/tegn/common_tegn/diskotek/diskotek2.mp4', '/content/drive/MyDrive/tegn/common_tegn/diskotek/diskotek1.mp4', '/content/drive/MyDrive/tegn/common_tegn/diskotek/diskotek2_low_res.mp4', '/content/drive/MyDrive/tegn/common_tegn/diskotek/diskotek1_low_res.mp4', '/content/drive/MyDrive/tegn/common_tegn/diskotek/diskotek2_25fps.mp4', '/content/drive/MyDrive/tegn/common_tegn/diskotek/diskotek1_25fps.mp4']\n"
          ]
        }
      ],
      "source": [
        "directories = glob.glob(\"/content/drive/MyDrive/tegn/common_tegn/*/*\")\n",
        "print(directories)"
      ]
    },
    {
      "cell_type": "code",
      "execution_count": null,
      "metadata": {
        "id": "9QXNBZZFkib0"
      },
      "outputs": [],
      "source": [
        "metadata_dicts = []\n",
        "file_names = []\n",
        "\n",
        "for i in directories:\n",
        "  tmp = ffmpeg.probe(i)[\"streams\"]\n",
        "  metadata_dicts.append(tmp[0])\n",
        "  file_names.append(i)"
      ]
    },
    {
      "cell_type": "code",
      "execution_count": null,
      "metadata": {
        "id": "ldznFeW_0d1V"
      },
      "outputs": [],
      "source": [
        "durations = []\n",
        "widths = []\n",
        "heights = []\n",
        "framerate = []\n",
        "bitrate = []\n",
        "frames_amount = []\n",
        "\n",
        "for i in metadata_dicts:\n",
        "  widths.append(i.get(\"width\"))\n",
        "  heights.append(i.get(\"height\"))\n",
        "  durations.append(i.get(\"duration\"))\n",
        "  framerate.append(i.get(\"avg_frame_rate\"))\n",
        "  bitrate.append(i.get(\"bit_rate\"))\n",
        "  frames_amount.append(i.get(\"nb_frames\"))"
      ]
    },
    {
      "cell_type": "code",
      "execution_count": null,
      "metadata": {
        "id": "x9KRFhG4DCGW"
      },
      "outputs": [],
      "source": [
        "npwidths = np.asarray(widths)\n",
        "npheights = np.asarray(heights)\n",
        "npdur = np.asarray(durations)\n",
        "npframerate = np.asarray(framerate)\n",
        "npbitrate = np.asarray(bitrate)\n",
        "npframes = np.asarray(frames_amount)\n",
        "\n",
        "combined_arr = np.vstack((np.asarray(file_names), npheights, npwidths, npdur, npframerate, npbitrate, npframes)).T\n",
        "\n",
        "df = pd.DataFrame(combined_arr, columns = ['path','height','width','duration','framerate', 'bitrate', 'frame_amount'])\n",
        "df['file_name'] = df['path'].astype(str).str.extract(r'([^/]+)$')\n",
        "\n",
        "df['height'] = df['height'].astype(int)\n",
        "df['width'] = df['width'].astype(int)\n",
        "df['duration'] = df['duration'].astype(float)\n",
        "df['bitrate'] = df['bitrate'].astype(int)\n",
        "df['framerate'] = df['framerate'].astype(str).str.extract(r'^(\\d+)').astype(int)\n",
        "df['frame_amount'] = df['frame_amount'].astype(int)\n",
        "\n",
        "df = df[['file_name', 'path','height','width','duration','framerate', 'bitrate', 'frame_amount']]"
      ]
    },
    {
      "cell_type": "code",
      "execution_count": null,
      "metadata": {
        "id": "24cyNfFQLv4C"
      },
      "outputs": [],
      "source": [
        "lowres_df = df[df['file_name'].str.contains('_low_res')]\n",
        "lowfps_df = df[df['file_name'].str.contains('_25fps')]\n",
        "df = df[~df['file_name'].str.contains('_low_res')]\n",
        "df = df[~df['file_name'].str.contains('_25fps')]"
      ]
    },
    {
      "cell_type": "markdown",
      "metadata": {
        "id": "GK5okHxrOJSL"
      },
      "source": [
        "# Analysis of original Dataset"
      ]
    },
    {
      "cell_type": "code",
      "execution_count": null,
      "metadata": {
        "id": "vu04akRfT7TX"
      },
      "outputs": [],
      "source": [
        "def general_video_stats(df):\n",
        "  print(\"Amount of Videos in Dataset: \" + str(len(df['file_name'])))\n",
        "  print(\"Shortest Video: \" + str(min(df['duration'])))\n",
        "  print(\"Longest Video: \" + str(max(df['duration'])))\n",
        "  print(\"Average Video Length: \" + str(df['duration'].mean()))\n",
        "  print(\"Least frames: \" + str(min(df['frame_amount'])))\n",
        "  print(\"Most frames: \" + str(max(df['frame_amount'])))\n",
        "  # All of our video resolutions\n",
        "  print(pd.unique(df['framerate']))\n",
        "  print(df.groupby(['width','height']).count().reset_index())\n",
        "  sns.set_theme(style=\"whitegrid\")\n",
        "  sns.countplot(x=df[\"framerate\"])\n",
        "\n",
        "def bitrate_stats(df):\n",
        "  # Bitrate stats\n",
        "  print(\"Smallest bitrate: \" + str(min(df['bitrate'])))\n",
        "  print(\"Highest bitrate: \" + str(max(df['bitrate'])))\n",
        "  print(\"Average bitrate: \" + str(df['bitrate'].mean()))\n",
        "  print(\"Variance of bitrate: \" + str(df['bitrate'].var()))\n",
        "\n",
        "  px.histogram(df, x=\"bitrate\")"
      ]
    },
    {
      "cell_type": "code",
      "execution_count": null,
      "metadata": {
        "colab": {
          "base_uri": "https://localhost:8080/",
          "height": 499
        },
        "id": "vM-_yLzXsV-A",
        "outputId": "ca676f2c-8cc0-45af-b7aa-6cb88913d239"
      },
      "outputs": [
        {
          "name": "stdout",
          "output_type": "stream",
          "text": [
            "Amount of Videos in Dataset: 350\n",
            "Shortest Video: 1.0\n",
            "Longest Video: 4.68\n",
            "Average Video Length: 2.4147847142857146\n",
            "Least frames: 25\n",
            "Most frames: 24000\n",
            "[   25    50 24000  2997]\n",
            "   width  height  file_name  path  duration  framerate  bitrate  frame_amount\n",
            "0    640     480         67    67        67         67       67            67\n",
            "1    720     540        205   205       205        205      205           205\n",
            "2    960     720         30    30        30         30       30            30\n",
            "3   1440    1080         48    48        48         48       48            48\n"
          ]
        },
        {
          "data": {
            "image/png": "[encoded data removed]",
            "text/plain": [
              "<Figure size 432x288 with 1 Axes>"
            ]
          },
          "metadata": {},
          "output_type": "display_data"
        }
      ],
      "source": [
        "general_video_stats(df)"
      ]
    },
    {
      "cell_type": "code",
      "execution_count": null,
      "metadata": {
        "colab": {
          "base_uri": "https://localhost:8080/",
          "height": 542
        },
        "id": "7-kmKzNYsajH",
        "outputId": "b08e447e-ddfb-4f9a-b6ee-24fc70c4a368"
      },
      "outputs": [
        {
          "data": {
            "text/html": [
              "<html>\n",
              "<head><meta charset=\"utf-8\" /></head>\n",
              "<body>\n",
              "    <div>            <script src=\"https://cdnjs.cloudflare.com/ajax/libs/mathjax/2.7.5/MathJax.js?config=TeX-AMS-MML_SVG\"></script><script type=\"text/javascript\">if (window.MathJax) {MathJax.Hub.Config({SVG: {font: \"STIX-Web\"}});}</script>                <script type=\"text/javascript\">window.PlotlyConfig = {MathJaxConfig: 'local'};</script>\n",
              "        <script src=\"https://cdn.plot.ly/plotly-2.8.3.min.js\"></script>                <div id=\"403ff6cd-e84a-47dc-9ee8-77a6e9906231\" class=\"plotly-graph-div\" style=\"height:525px; width:100%;\"></div>            <script type=\"text/javascript\">                                    window.PLOTLYENV=window.PLOTLYENV || {};                                    if (document.getElementById(\"403ff6cd-e84a-47dc-9ee8-77a6e9906231\")) {                    Plotly.newPlot(                        \"403ff6cd-e84a-47dc-9ee8-77a6e9906231\",                        [{\"alignmentgroup\":\"True\",\"bingroup\":\"x\",\"hovertemplate\":\"frame_amount=%{x}<br>count=%{y}<extra></extra>\",\"legendgroup\":\"\",\"marker\":{\"color\":\"#636efa\",\"pattern\":{\"shape\":\"\"}},\"name\":\"\",\"offsetgroup\":\"\",\"orientation\":\"v\",\"showlegend\":false,\"x\":[61,106,55,102,33,130,53,112,46,144,55,144,42,112,69,122,37,122,91,142,81,102,76,112,117,110,60,102,80,112,56,136,103,142,52,122,46,98,86,148,38,132,105,102,76,152,43,100,34,102,33,108,72,122,31,146,48,112,109,102,100,156,43,122,41,112,37,102,90,55,37,108,36,132,67,142,31,134,87,102,25,122,57,122,52,102,53,164,60,112,50,130,28,102,34,122,32,102,47,112,57,112,66,122,81,164,59,122,45,146,45,132,46,142,72,122,39,150,83,116,82,112,44,102,33,122,38,107,93,158,49,122,56,150,29,102,54,122,70,140,50,152,59,132,42,122,49,112,79,112,45,100,48,142,75,102,62,132,107,142,50,134,51,122,63,134,36,154,72,102,58,120,103,102,82,112,52,138,43,152,75,111,79,162,36,122,66,150,37,122,102,122,44,160,57,140,59,142,68,102,54,148,40,122,86,166,66,112,42,126,73,120,51,102,38,112,61,122,35,112,41,112,116,108,55,122,74,122,50,122,69,112,53,61,96,132,59,102,43,102,91,88,81,102,47,102,32,102,41,112,37,112,29,102,112,146,48,100,36,106,37,106,49,116,45,122,31,142,41,118,50,112,41,122,97,110,86,112,43,142,45,112,41,102,76,102,83,180,63,96,68,136,103,164,52,122,59,150,82,122,40,162,34,112,76,132,33,113,47,166,41,180,78,122,36,112,29,112,101,112,85,146,92,132,57,112,55,112,45,166,76,102,43,122,38,160,47,102,41,138,91,138,111,150,82,102,46,152,51,112],\"xaxis\":\"x\",\"yaxis\":\"y\",\"type\":\"histogram\"}],                        {\"template\":{\"data\":{\"bar\":[{\"error_x\":{\"color\":\"#2a3f5f\"},\"error_y\":{\"color\":\"#2a3f5f\"},\"marker\":{\"line\":{\"color\":\"#E5ECF6\",\"width\":0.5},\"pattern\":{\"fillmode\":\"overlay\",\"size\":10,\"solidity\":0.2}},\"type\":\"bar\"}],\"barpolar\":[{\"marker\":{\"line\":{\"color\":\"#E5ECF6\",\"width\":0.5},\"pattern\":{\"fillmode\":\"overlay\",\"size\":10,\"solidity\":0.2}},\"type\":\"barpolar\"}],\"carpet\":[{\"aaxis\":{\"endlinecolor\":\"#2a3f5f\",\"gridcolor\":\"white\",\"linecolor\":\"white\",\"minorgridcolor\":\"white\",\"startlinecolor\":\"#2a3f5f\"},\"baxis\":{\"endlinecolor\":\"#2a3f5f\",\"gridcolor\":\"white\",\"linecolor\":\"white\",\"minorgridcolor\":\"white\",\"startlinecolor\":\"#2a3f5f\"},\"type\":\"carpet\"}],\"choropleth\":[{\"colorbar\":{\"outlinewidth\":0,\"ticks\":\"\"},\"type\":\"choropleth\"}],\"contour\":[{\"colorbar\":{\"outlinewidth\":0,\"ticks\":\"\"},\"colorscale\":[[0.0,\"#0d0887\"],[0.1111111111111111,\"#46039f\"],[0.2222222222222222,\"#7201a8\"],[0.3333333333333333,\"#9c179e\"],[0.4444444444444444,\"#bd3786\"],[0.5555555555555556,\"#d8576b\"],[0.6666666666666666,\"#ed7953\"],[0.7777777777777778,\"#fb9f3a\"],[0.8888888888888888,\"#fdca26\"],[1.0,\"#f0f921\"]],\"type\":\"contour\"}],\"contourcarpet\":[{\"colorbar\":{\"outlinewidth\":0,\"ticks\":\"\"},\"type\":\"contourcarpet\"}],\"heatmap\":[{\"colorbar\":{\"outlinewidth\":0,\"ticks\":\"\"},\"colorscale\":[[0.0,\"#0d0887\"],[0.1111111111111111,\"#46039f\"],[0.2222222222222222,\"#7201a8\"],[0.3333333333333333,\"#9c179e\"],[0.4444444444444444,\"#bd3786\"],[0.5555555555555556,\"#d8576b\"],[0.6666666666666666,\"#ed7953\"],[0.7777777777777778,\"#fb9f3a\"],[0.8888888888888888,\"#fdca26\"],[1.0,\"#f0f921\"]],\"type\":\"heatmap\"}],\"heatmapgl\":[{\"colorbar\":{\"outlinewidth\":0,\"ticks\":\"\"},\"colorscale\":[[0.0,\"#0d0887\"],[0.1111111111111111,\"#46039f\"],[0.2222222222222222,\"#7201a8\"],[0.3333333333333333,\"#9c179e\"],[0.4444444444444444,\"#bd3786\"],[0.5555555555555556,\"#d8576b\"],[0.6666666666666666,\"#ed7953\"],[0.7777777777777778,\"#fb9f3a\"],[0.8888888888888888,\"#fdca26\"],[1.0,\"#f0f921\"]],\"type\":\"heatmapgl\"}],\"histogram\":[{\"marker\":{\"pattern\":{\"fillmode\":\"overlay\",\"size\":10,\"solidity\":0.2}},\"type\":\"histogram\"}],\"histogram2d\":[{\"colorbar\":{\"outlinewidth\":0,\"ticks\":\"\"},\"colorscale\":[[0.0,\"#0d0887\"],[0.1111111111111111,\"#46039f\"],[0.2222222222222222,\"#7201a8\"],[0.3333333333333333,\"#9c179e\"],[0.4444444444444444,\"#bd3786\"],[0.5555555555555556,\"#d8576b\"],[0.6666666666666666,\"#ed7953\"],[0.7777777777777778,\"#fb9f3a\"],[0.8888888888888888,\"#fdca26\"],[1.0,\"#f0f921\"]],\"type\":\"histogram2d\"}],\"histogram2dcontour\":[{\"colorbar\":{\"outlinewidth\":0,\"ticks\":\"\"},\"colorscale\":[[0.0,\"#0d0887\"],[0.1111111111111111,\"#46039f\"],[0.2222222222222222,\"#7201a8\"],[0.3333333333333333,\"#9c179e\"],[0.4444444444444444,\"#bd3786\"],[0.5555555555555556,\"#d8576b\"],[0.6666666666666666,\"#ed7953\"],[0.7777777777777778,\"#fb9f3a\"],[0.8888888888888888,\"#fdca26\"],[1.0,\"#f0f921\"]],\"type\":\"histogram2dcontour\"}],\"mesh3d\":[{\"colorbar\":{\"outlinewidth\":0,\"ticks\":\"\"},\"type\":\"mesh3d\"}],\"parcoords\":[{\"line\":{\"colorbar\":{\"outlinewidth\":0,\"ticks\":\"\"}},\"type\":\"parcoords\"}],\"pie\":[{\"automargin\":true,\"type\":\"pie\"}],\"scatter\":[{\"marker\":{\"colorbar\":{\"outlinewidth\":0,\"ticks\":\"\"}},\"type\":\"scatter\"}],\"scatter3d\":[{\"line\":{\"colorbar\":{\"outlinewidth\":0,\"ticks\":\"\"}},\"marker\":{\"colorbar\":{\"outlinewidth\":0,\"ticks\":\"\"}},\"type\":\"scatter3d\"}],\"scattercarpet\":[{\"marker\":{\"colorbar\":{\"outlinewidth\":0,\"ticks\":\"\"}},\"type\":\"scattercarpet\"}],\"scattergeo\":[{\"marker\":{\"colorbar\":{\"outlinewidth\":0,\"ticks\":\"\"}},\"type\":\"scattergeo\"}],\"scattergl\":[{\"marker\":{\"colorbar\":{\"outlinewidth\":0,\"ticks\":\"\"}},\"type\":\"scattergl\"}],\"scattermapbox\":[{\"marker\":{\"colorbar\":{\"outlinewidth\":0,\"ticks\":\"\"}},\"type\":\"scattermapbox\"}],\"scatterpolar\":[{\"marker\":{\"colorbar\":{\"outlinewidth\":0,\"ticks\":\"\"}},\"type\":\"scatterpolar\"}],\"scatterpolargl\":[{\"marker\":{\"colorbar\":{\"outlinewidth\":0,\"ticks\":\"\"}},\"type\":\"scatterpolargl\"}],\"scatterternary\":[{\"marker\":{\"colorbar\":{\"outlinewidth\":0,\"ticks\":\"\"}},\"type\":\"scatterternary\"}],\"surface\":[{\"colorbar\":{\"outlinewidth\":0,\"ticks\":\"\"},\"colorscale\":[[0.0,\"#0d0887\"],[0.1111111111111111,\"#46039f\"],[0.2222222222222222,\"#7201a8\"],[0.3333333333333333,\"#9c179e\"],[0.4444444444444444,\"#bd3786\"],[0.5555555555555556,\"#d8576b\"],[0.6666666666666666,\"#ed7953\"],[0.7777777777777778,\"#fb9f3a\"],[0.8888888888888888,\"#fdca26\"],[1.0,\"#f0f921\"]],\"type\":\"surface\"}],\"table\":[{\"cells\":{\"fill\":{\"color\":\"#EBF0F8\"},\"line\":{\"color\":\"white\"}},\"header\":{\"fill\":{\"color\":\"#C8D4E3\"},\"line\":{\"color\":\"white\"}},\"type\":\"table\"}]},\"layout\":{\"annotationdefaults\":{\"arrowcolor\":\"#2a3f5f\",\"arrowhead\":0,\"arrowwidth\":1},\"autotypenumbers\":\"strict\",\"coloraxis\":{\"colorbar\":{\"outlinewidth\":0,\"ticks\":\"\"}},\"colorscale\":{\"diverging\":[[0,\"#8e0152\"],[0.1,\"#c51b7d\"],[0.2,\"#de77ae\"],[0.3,\"#f1b6da\"],[0.4,\"#fde0ef\"],[0.5,\"#f7f7f7\"],[0.6,\"#e6f5d0\"],[0.7,\"#b8e186\"],[0.8,\"#7fbc41\"],[0.9,\"#4d9221\"],[1,\"#276419\"]],\"sequential\":[[0.0,\"#0d0887\"],[0.1111111111111111,\"#46039f\"],[0.2222222222222222,\"#7201a8\"],[0.3333333333333333,\"#9c179e\"],[0.4444444444444444,\"#bd3786\"],[0.5555555555555556,\"#d8576b\"],[0.6666666666666666,\"#ed7953\"],[0.7777777777777778,\"#fb9f3a\"],[0.8888888888888888,\"#fdca26\"],[1.0,\"#f0f921\"]],\"sequentialminus\":[[0.0,\"#0d0887\"],[0.1111111111111111,\"#46039f\"],[0.2222222222222222,\"#7201a8\"],[0.3333333333333333,\"#9c179e\"],[0.4444444444444444,\"#bd3786\"],[0.5555555555555556,\"#d8576b\"],[0.6666666666666666,\"#ed7953\"],[0.7777777777777778,\"#fb9f3a\"],[0.8888888888888888,\"#fdca26\"],[1.0,\"#f0f921\"]]},\"colorway\":[\"#636efa\",\"#EF553B\",\"#00cc96\",\"#ab63fa\",\"#FFA15A\",\"#19d3f3\",\"#FF6692\",\"#B6E880\",\"#FF97FF\",\"#FECB52\"],\"font\":{\"color\":\"#2a3f5f\"},\"geo\":{\"bgcolor\":\"white\",\"lakecolor\":\"white\",\"landcolor\":\"#E5ECF6\",\"showlakes\":true,\"showland\":true,\"subunitcolor\":\"white\"},\"hoverlabel\":{\"align\":\"left\"},\"hovermode\":\"closest\",\"mapbox\":{\"style\":\"light\"},\"paper_bgcolor\":\"white\",\"plot_bgcolor\":\"#E5ECF6\",\"polar\":{\"angularaxis\":{\"gridcolor\":\"white\",\"linecolor\":\"white\",\"ticks\":\"\"},\"bgcolor\":\"#E5ECF6\",\"radialaxis\":{\"gridcolor\":\"white\",\"linecolor\":\"white\",\"ticks\":\"\"}},\"scene\":{\"xaxis\":{\"backgroundcolor\":\"#E5ECF6\",\"gridcolor\":\"white\",\"gridwidth\":2,\"linecolor\":\"white\",\"showbackground\":true,\"ticks\":\"\",\"zerolinecolor\":\"white\"},\"yaxis\":{\"backgroundcolor\":\"#E5ECF6\",\"gridcolor\":\"white\",\"gridwidth\":2,\"linecolor\":\"white\",\"showbackground\":true,\"ticks\":\"\",\"zerolinecolor\":\"white\"},\"zaxis\":{\"backgroundcolor\":\"#E5ECF6\",\"gridcolor\":\"white\",\"gridwidth\":2,\"linecolor\":\"white\",\"showbackground\":true,\"ticks\":\"\",\"zerolinecolor\":\"white\"}},\"shapedefaults\":{\"line\":{\"color\":\"#2a3f5f\"}},\"ternary\":{\"aaxis\":{\"gridcolor\":\"white\",\"linecolor\":\"white\",\"ticks\":\"\"},\"baxis\":{\"gridcolor\":\"white\",\"linecolor\":\"white\",\"ticks\":\"\"},\"bgcolor\":\"#E5ECF6\",\"caxis\":{\"gridcolor\":\"white\",\"linecolor\":\"white\",\"ticks\":\"\"}},\"title\":{\"x\":0.05},\"xaxis\":{\"automargin\":true,\"gridcolor\":\"white\",\"linecolor\":\"white\",\"ticks\":\"\",\"title\":{\"standoff\":15},\"zerolinecolor\":\"white\",\"zerolinewidth\":2},\"yaxis\":{\"automargin\":true,\"gridcolor\":\"white\",\"linecolor\":\"white\",\"ticks\":\"\",\"title\":{\"standoff\":15},\"zerolinecolor\":\"white\",\"zerolinewidth\":2}}},\"xaxis\":{\"anchor\":\"y\",\"domain\":[0.0,1.0],\"title\":{\"text\":\"frame_amount\"}},\"yaxis\":{\"anchor\":\"x\",\"domain\":[0.0,1.0],\"title\":{\"text\":\"count\"}},\"legend\":{\"tracegroupgap\":0},\"margin\":{\"t\":60},\"barmode\":\"relative\"},                        {\"responsive\": true}                    ).then(function(){\n",
              "                            \n",
              "var gd = document.getElementById('403ff6cd-e84a-47dc-9ee8-77a6e9906231');\n",
              "var x = new MutationObserver(function (mutations, observer) {{\n",
              "        var display = window.getComputedStyle(gd).display;\n",
              "        if (!display || display === 'none') {{\n",
              "            console.log([gd, 'removed!']);\n",
              "            Plotly.purge(gd);\n",
              "            observer.disconnect();\n",
              "        }}\n",
              "}});\n",
              "\n",
              "// Listen for the removal of the full notebook cells\n",
              "var notebookContainer = gd.closest('#notebook-container');\n",
              "if (notebookContainer) {{\n",
              "    x.observe(notebookContainer, {childList: true});\n",
              "}}\n",
              "\n",
              "// Listen for the clearing of the current output cell\n",
              "var outputEl = gd.closest('.output');\n",
              "if (outputEl) {{\n",
              "    x.observe(outputEl, {childList: true});\n",
              "}}\n",
              "\n",
              "                        })                };                            </script>        </div>\n",
              "</body>\n",
              "</html>"
            ]
          },
          "metadata": {},
          "output_type": "display_data"
        }
      ],
      "source": [
        "px.histogram(df, x=\"frame_amount\")"
      ]
    },
    {
      "cell_type": "markdown",
      "metadata": {
        "id": "m_76jf2qvu-6"
      },
      "source": [
        "# Analysis of Lowered FPS Dataset"
      ]
    },
    {
      "cell_type": "code",
      "execution_count": null,
      "metadata": {
        "colab": {
          "base_uri": "https://localhost:8080/",
          "height": 499
        },
        "id": "0O8szULirrw6",
        "outputId": "e39accd0-11d7-45b1-a447-efbb81444d47"
      },
      "outputs": [
        {
          "name": "stdout",
          "output_type": "stream",
          "text": [
            "Amount of Videos in Dataset: 350\n",
            "Shortest Video: 1.0\n",
            "Longest Video: 4.68\n",
            "Average Video Length: 2.4162285714285714\n",
            "Least frames: 25\n",
            "Most frames: 117\n",
            "[25]\n",
            "   width  height  file_name  path  duration  framerate  bitrate  frame_amount\n",
            "0    640     480         67    67        67         67       67            67\n",
            "1    720     540        205   205       205        205      205           205\n",
            "2    960     720         30    30        30         30       30            30\n",
            "3   1440    1080         48    48        48         48       48            48\n"
          ]
        },
        {
          "data": {
            "image/png": "[encoded data removed]",
            "text/plain": [
              "<Figure size 432x288 with 1 Axes>"
            ]
          },
          "metadata": {},
          "output_type": "display_data"
        }
      ],
      "source": [
        "general_video_stats(lowfps_df)"
      ]
    },
    {
      "cell_type": "code",
      "execution_count": null,
      "metadata": {
        "colab": {
          "base_uri": "https://localhost:8080/",
          "height": 542
        },
        "id": "rC93s29pr4ML",
        "outputId": "88addccd-6659-4f32-f1e6-aa9a1d5fb316"
      },
      "outputs": [
        {
          "data": {
            "text/html": [
              "<html>\n",
              "<head><meta charset=\"utf-8\" /></head>\n",
              "<body>\n",
              "    <div>            <script src=\"https://cdnjs.cloudflare.com/ajax/libs/mathjax/2.7.5/MathJax.js?config=TeX-AMS-MML_SVG\"></script><script type=\"text/javascript\">if (window.MathJax) {MathJax.Hub.Config({SVG: {font: \"STIX-Web\"}});}</script>                <script type=\"text/javascript\">window.PlotlyConfig = {MathJaxConfig: 'local'};</script>\n",
              "        <script src=\"https://cdn.plot.ly/plotly-2.8.3.min.js\"></script>                <div id=\"3f26cfa0-a04d-473d-88a2-85971cdf442f\" class=\"plotly-graph-div\" style=\"height:525px; width:100%;\"></div>            <script type=\"text/javascript\">                                    window.PLOTLYENV=window.PLOTLYENV || {};                                    if (document.getElementById(\"3f26cfa0-a04d-473d-88a2-85971cdf442f\")) {                    Plotly.newPlot(                        \"3f26cfa0-a04d-473d-88a2-85971cdf442f\",                        [{\"alignmentgroup\":\"True\",\"bingroup\":\"x\",\"hovertemplate\":\"frame_amount=%{x}<br>count=%{y}<extra></extra>\",\"legendgroup\":\"\",\"marker\":{\"color\":\"#636efa\",\"pattern\":{\"shape\":\"\"}},\"name\":\"\",\"offsetgroup\":\"\",\"orientation\":\"v\",\"showlegend\":false,\"x\":[61,53,55,51,33,65,53,56,46,72,55,72,42,56,69,61,37,61,95,71,81,51,80,56,117,55,60,51,80,56,56,68,103,71,52,61,46,49,86,74,38,66,105,51,76,76,43,50,34,51,33,54,76,61,31,73,48,56,109,51,84,78,43,61,41,56,37,51,90,55,37,54,36,66,67,71,31,67,91,51,25,61,57,61,52,51,53,82,60,56,50,65,28,51,34,61,32,51,47,56,57,56,66,61,81,82,59,61,45,73,45,66,48,71,72,61,39,75,83,58,82,56,44,51,33,61,38,54,93,79,49,61,56,75,29,51,54,61,70,70,50,76,59,66,42,61,49,56,79,56,45,50,48,71,75,51,62,66,107,71,50,67,51,61,63,67,36,77,72,51,58,60,103,51,82,56,52,69,43,76,75,56,80,81,36,61,66,75,37,61,103,61,44,80,57,70,60,71,68,51,54,74,40,61,86,83,66,56,42,63,61,60,51,51,38,56,61,61,35,56,41,56,116,54,55,61,74,61,50,61,72,56,53,61,96,66,60,51,43,51,92,44,81,51,47,51,32,51,41,56,37,56,29,51,112,73,48,50,36,53,37,53,49,58,45,61,31,71,41,59,50,56,41,61,97,55,90,56,43,71,45,56,41,51,80,51,87,90,63,48,68,68,103,82,52,61,59,75,82,61,40,81,34,56,76,66,33,57,47,83,41,90,79,61,36,56,29,56,101,56,71,73,96,66,57,56,55,56,47,83,76,51,43,61,38,80,47,51,41,69,91,69,111,75,86,51,46,76,51,56],\"xaxis\":\"x\",\"yaxis\":\"y\",\"type\":\"histogram\"}],                        {\"template\":{\"data\":{\"bar\":[{\"error_x\":{\"color\":\"#2a3f5f\"},\"error_y\":{\"color\":\"#2a3f5f\"},\"marker\":{\"line\":{\"color\":\"#E5ECF6\",\"width\":0.5},\"pattern\":{\"fillmode\":\"overlay\",\"size\":10,\"solidity\":0.2}},\"type\":\"bar\"}],\"barpolar\":[{\"marker\":{\"line\":{\"color\":\"#E5ECF6\",\"width\":0.5},\"pattern\":{\"fillmode\":\"overlay\",\"size\":10,\"solidity\":0.2}},\"type\":\"barpolar\"}],\"carpet\":[{\"aaxis\":{\"endlinecolor\":\"#2a3f5f\",\"gridcolor\":\"white\",\"linecolor\":\"white\",\"minorgridcolor\":\"white\",\"startlinecolor\":\"#2a3f5f\"},\"baxis\":{\"endlinecolor\":\"#2a3f5f\",\"gridcolor\":\"white\",\"linecolor\":\"white\",\"minorgridcolor\":\"white\",\"startlinecolor\":\"#2a3f5f\"},\"type\":\"carpet\"}],\"choropleth\":[{\"colorbar\":{\"outlinewidth\":0,\"ticks\":\"\"},\"type\":\"choropleth\"}],\"contour\":[{\"colorbar\":{\"outlinewidth\":0,\"ticks\":\"\"},\"colorscale\":[[0.0,\"#0d0887\"],[0.1111111111111111,\"#46039f\"],[0.2222222222222222,\"#7201a8\"],[0.3333333333333333,\"#9c179e\"],[0.4444444444444444,\"#bd3786\"],[0.5555555555555556,\"#d8576b\"],[0.6666666666666666,\"#ed7953\"],[0.7777777777777778,\"#fb9f3a\"],[0.8888888888888888,\"#fdca26\"],[1.0,\"#f0f921\"]],\"type\":\"contour\"}],\"contourcarpet\":[{\"colorbar\":{\"outlinewidth\":0,\"ticks\":\"\"},\"type\":\"contourcarpet\"}],\"heatmap\":[{\"colorbar\":{\"outlinewidth\":0,\"ticks\":\"\"},\"colorscale\":[[0.0,\"#0d0887\"],[0.1111111111111111,\"#46039f\"],[0.2222222222222222,\"#7201a8\"],[0.3333333333333333,\"#9c179e\"],[0.4444444444444444,\"#bd3786\"],[0.5555555555555556,\"#d8576b\"],[0.6666666666666666,\"#ed7953\"],[0.7777777777777778,\"#fb9f3a\"],[0.8888888888888888,\"#fdca26\"],[1.0,\"#f0f921\"]],\"type\":\"heatmap\"}],\"heatmapgl\":[{\"colorbar\":{\"outlinewidth\":0,\"ticks\":\"\"},\"colorscale\":[[0.0,\"#0d0887\"],[0.1111111111111111,\"#46039f\"],[0.2222222222222222,\"#7201a8\"],[0.3333333333333333,\"#9c179e\"],[0.4444444444444444,\"#bd3786\"],[0.5555555555555556,\"#d8576b\"],[0.6666666666666666,\"#ed7953\"],[0.7777777777777778,\"#fb9f3a\"],[0.8888888888888888,\"#fdca26\"],[1.0,\"#f0f921\"]],\"type\":\"heatmapgl\"}],\"histogram\":[{\"marker\":{\"pattern\":{\"fillmode\":\"overlay\",\"size\":10,\"solidity\":0.2}},\"type\":\"histogram\"}],\"histogram2d\":[{\"colorbar\":{\"outlinewidth\":0,\"ticks\":\"\"},\"colorscale\":[[0.0,\"#0d0887\"],[0.1111111111111111,\"#46039f\"],[0.2222222222222222,\"#7201a8\"],[0.3333333333333333,\"#9c179e\"],[0.4444444444444444,\"#bd3786\"],[0.5555555555555556,\"#d8576b\"],[0.6666666666666666,\"#ed7953\"],[0.7777777777777778,\"#fb9f3a\"],[0.8888888888888888,\"#fdca26\"],[1.0,\"#f0f921\"]],\"type\":\"histogram2d\"}],\"histogram2dcontour\":[{\"colorbar\":{\"outlinewidth\":0,\"ticks\":\"\"},\"colorscale\":[[0.0,\"#0d0887\"],[0.1111111111111111,\"#46039f\"],[0.2222222222222222,\"#7201a8\"],[0.3333333333333333,\"#9c179e\"],[0.4444444444444444,\"#bd3786\"],[0.5555555555555556,\"#d8576b\"],[0.6666666666666666,\"#ed7953\"],[0.7777777777777778,\"#fb9f3a\"],[0.8888888888888888,\"#fdca26\"],[1.0,\"#f0f921\"]],\"type\":\"histogram2dcontour\"}],\"mesh3d\":[{\"colorbar\":{\"outlinewidth\":0,\"ticks\":\"\"},\"type\":\"mesh3d\"}],\"parcoords\":[{\"line\":{\"colorbar\":{\"outlinewidth\":0,\"ticks\":\"\"}},\"type\":\"parcoords\"}],\"pie\":[{\"automargin\":true,\"type\":\"pie\"}],\"scatter\":[{\"marker\":{\"colorbar\":{\"outlinewidth\":0,\"ticks\":\"\"}},\"type\":\"scatter\"}],\"scatter3d\":[{\"line\":{\"colorbar\":{\"outlinewidth\":0,\"ticks\":\"\"}},\"marker\":{\"colorbar\":{\"outlinewidth\":0,\"ticks\":\"\"}},\"type\":\"scatter3d\"}],\"scattercarpet\":[{\"marker\":{\"colorbar\":{\"outlinewidth\":0,\"ticks\":\"\"}},\"type\":\"scattercarpet\"}],\"scattergeo\":[{\"marker\":{\"colorbar\":{\"outlinewidth\":0,\"ticks\":\"\"}},\"type\":\"scattergeo\"}],\"scattergl\":[{\"marker\":{\"colorbar\":{\"outlinewidth\":0,\"ticks\":\"\"}},\"type\":\"scattergl\"}],\"scattermapbox\":[{\"marker\":{\"colorbar\":{\"outlinewidth\":0,\"ticks\":\"\"}},\"type\":\"scattermapbox\"}],\"scatterpolar\":[{\"marker\":{\"colorbar\":{\"outlinewidth\":0,\"ticks\":\"\"}},\"type\":\"scatterpolar\"}],\"scatterpolargl\":[{\"marker\":{\"colorbar\":{\"outlinewidth\":0,\"ticks\":\"\"}},\"type\":\"scatterpolargl\"}],\"scatterternary\":[{\"marker\":{\"colorbar\":{\"outlinewidth\":0,\"ticks\":\"\"}},\"type\":\"scatterternary\"}],\"surface\":[{\"colorbar\":{\"outlinewidth\":0,\"ticks\":\"\"},\"colorscale\":[[0.0,\"#0d0887\"],[0.1111111111111111,\"#46039f\"],[0.2222222222222222,\"#7201a8\"],[0.3333333333333333,\"#9c179e\"],[0.4444444444444444,\"#bd3786\"],[0.5555555555555556,\"#d8576b\"],[0.6666666666666666,\"#ed7953\"],[0.7777777777777778,\"#fb9f3a\"],[0.8888888888888888,\"#fdca26\"],[1.0,\"#f0f921\"]],\"type\":\"surface\"}],\"table\":[{\"cells\":{\"fill\":{\"color\":\"#EBF0F8\"},\"line\":{\"color\":\"white\"}},\"header\":{\"fill\":{\"color\":\"#C8D4E3\"},\"line\":{\"color\":\"white\"}},\"type\":\"table\"}]},\"layout\":{\"annotationdefaults\":{\"arrowcolor\":\"#2a3f5f\",\"arrowhead\":0,\"arrowwidth\":1},\"autotypenumbers\":\"strict\",\"coloraxis\":{\"colorbar\":{\"outlinewidth\":0,\"ticks\":\"\"}},\"colorscale\":{\"diverging\":[[0,\"#8e0152\"],[0.1,\"#c51b7d\"],[0.2,\"#de77ae\"],[0.3,\"#f1b6da\"],[0.4,\"#fde0ef\"],[0.5,\"#f7f7f7\"],[0.6,\"#e6f5d0\"],[0.7,\"#b8e186\"],[0.8,\"#7fbc41\"],[0.9,\"#4d9221\"],[1,\"#276419\"]],\"sequential\":[[0.0,\"#0d0887\"],[0.1111111111111111,\"#46039f\"],[0.2222222222222222,\"#7201a8\"],[0.3333333333333333,\"#9c179e\"],[0.4444444444444444,\"#bd3786\"],[0.5555555555555556,\"#d8576b\"],[0.6666666666666666,\"#ed7953\"],[0.7777777777777778,\"#fb9f3a\"],[0.8888888888888888,\"#fdca26\"],[1.0,\"#f0f921\"]],\"sequentialminus\":[[0.0,\"#0d0887\"],[0.1111111111111111,\"#46039f\"],[0.2222222222222222,\"#7201a8\"],[0.3333333333333333,\"#9c179e\"],[0.4444444444444444,\"#bd3786\"],[0.5555555555555556,\"#d8576b\"],[0.6666666666666666,\"#ed7953\"],[0.7777777777777778,\"#fb9f3a\"],[0.8888888888888888,\"#fdca26\"],[1.0,\"#f0f921\"]]},\"colorway\":[\"#636efa\",\"#EF553B\",\"#00cc96\",\"#ab63fa\",\"#FFA15A\",\"#19d3f3\",\"#FF6692\",\"#B6E880\",\"#FF97FF\",\"#FECB52\"],\"font\":{\"color\":\"#2a3f5f\"},\"geo\":{\"bgcolor\":\"white\",\"lakecolor\":\"white\",\"landcolor\":\"#E5ECF6\",\"showlakes\":true,\"showland\":true,\"subunitcolor\":\"white\"},\"hoverlabel\":{\"align\":\"left\"},\"hovermode\":\"closest\",\"mapbox\":{\"style\":\"light\"},\"paper_bgcolor\":\"white\",\"plot_bgcolor\":\"#E5ECF6\",\"polar\":{\"angularaxis\":{\"gridcolor\":\"white\",\"linecolor\":\"white\",\"ticks\":\"\"},\"bgcolor\":\"#E5ECF6\",\"radialaxis\":{\"gridcolor\":\"white\",\"linecolor\":\"white\",\"ticks\":\"\"}},\"scene\":{\"xaxis\":{\"backgroundcolor\":\"#E5ECF6\",\"gridcolor\":\"white\",\"gridwidth\":2,\"linecolor\":\"white\",\"showbackground\":true,\"ticks\":\"\",\"zerolinecolor\":\"white\"},\"yaxis\":{\"backgroundcolor\":\"#E5ECF6\",\"gridcolor\":\"white\",\"gridwidth\":2,\"linecolor\":\"white\",\"showbackground\":true,\"ticks\":\"\",\"zerolinecolor\":\"white\"},\"zaxis\":{\"backgroundcolor\":\"#E5ECF6\",\"gridcolor\":\"white\",\"gridwidth\":2,\"linecolor\":\"white\",\"showbackground\":true,\"ticks\":\"\",\"zerolinecolor\":\"white\"}},\"shapedefaults\":{\"line\":{\"color\":\"#2a3f5f\"}},\"ternary\":{\"aaxis\":{\"gridcolor\":\"white\",\"linecolor\":\"white\",\"ticks\":\"\"},\"baxis\":{\"gridcolor\":\"white\",\"linecolor\":\"white\",\"ticks\":\"\"},\"bgcolor\":\"#E5ECF6\",\"caxis\":{\"gridcolor\":\"white\",\"linecolor\":\"white\",\"ticks\":\"\"}},\"title\":{\"x\":0.05},\"xaxis\":{\"automargin\":true,\"gridcolor\":\"white\",\"linecolor\":\"white\",\"ticks\":\"\",\"title\":{\"standoff\":15},\"zerolinecolor\":\"white\",\"zerolinewidth\":2},\"yaxis\":{\"automargin\":true,\"gridcolor\":\"white\",\"linecolor\":\"white\",\"ticks\":\"\",\"title\":{\"standoff\":15},\"zerolinecolor\":\"white\",\"zerolinewidth\":2}}},\"xaxis\":{\"anchor\":\"y\",\"domain\":[0.0,1.0],\"title\":{\"text\":\"frame_amount\"}},\"yaxis\":{\"anchor\":\"x\",\"domain\":[0.0,1.0],\"title\":{\"text\":\"count\"}},\"legend\":{\"tracegroupgap\":0},\"margin\":{\"t\":60},\"barmode\":\"relative\"},                        {\"responsive\": true}                    ).then(function(){\n",
              "                            \n",
              "var gd = document.getElementById('3f26cfa0-a04d-473d-88a2-85971cdf442f');\n",
              "var x = new MutationObserver(function (mutations, observer) {{\n",
              "        var display = window.getComputedStyle(gd).display;\n",
              "        if (!display || display === 'none') {{\n",
              "            console.log([gd, 'removed!']);\n",
              "            Plotly.purge(gd);\n",
              "            observer.disconnect();\n",
              "        }}\n",
              "}});\n",
              "\n",
              "// Listen for the removal of the full notebook cells\n",
              "var notebookContainer = gd.closest('#notebook-container');\n",
              "if (notebookContainer) {{\n",
              "    x.observe(notebookContainer, {childList: true});\n",
              "}}\n",
              "\n",
              "// Listen for the clearing of the current output cell\n",
              "var outputEl = gd.closest('.output');\n",
              "if (outputEl) {{\n",
              "    x.observe(outputEl, {childList: true});\n",
              "}}\n",
              "\n",
              "                        })                };                            </script>        </div>\n",
              "</body>\n",
              "</html>"
            ]
          },
          "metadata": {},
          "output_type": "display_data"
        }
      ],
      "source": [
        "px.histogram(lowfps_df, x=\"frame_amount\")"
      ]
    },
    {
      "cell_type": "code",
      "execution_count": null,
      "metadata": {
        "colab": {
          "base_uri": "https://localhost:8080/",
          "height": 424
        },
        "id": "g7Wer3j0svtN",
        "outputId": "0af186e7-e7bb-4798-c1df-864a2c64d0e4"
      },
      "outputs": [
        {
          "data": {
            "text/html": [
              "\n",
              "  <div id=\"df-76fce0f9-92e7-4df5-aa57-63f29ad13282\">\n",
              "    <div class=\"colab-df-container\">\n",
              "      <div>\n",
              "<style scoped>\n",
              "    .dataframe tbody tr th:only-of-type {\n",
              "        vertical-align: middle;\n",
              "    }\n",
              "\n",
              "    .dataframe tbody tr th {\n",
              "        vertical-align: top;\n",
              "    }\n",
              "\n",
              "    .dataframe thead th {\n",
              "        text-align: right;\n",
              "    }\n",
              "</style>\n",
              "<table border=\"1\" class=\"dataframe\">\n",
              "  <thead>\n",
              "    <tr style=\"text-align: right;\">\n",
              "      <th></th>\n",
              "      <th>file_name</th>\n",
              "      <th>path</th>\n",
              "      <th>height</th>\n",
              "      <th>width</th>\n",
              "      <th>duration</th>\n",
              "      <th>framerate</th>\n",
              "      <th>bitrate</th>\n",
              "      <th>frame_amount</th>\n",
              "    </tr>\n",
              "  </thead>\n",
              "  <tbody>\n",
              "    <tr>\n",
              "      <th>29</th>\n",
              "      <td>mave1_25fps.mp4</td>\n",
              "      <td>/content/drive/MyDrive/tegn/common_tegn/mave/m...</td>\n",
              "      <td>540</td>\n",
              "      <td>720</td>\n",
              "      <td>2.88</td>\n",
              "      <td>25</td>\n",
              "      <td>363005</td>\n",
              "      <td>72</td>\n",
              "    </tr>\n",
              "    <tr>\n",
              "      <th>35</th>\n",
              "      <td>musik1_25fps.mp4</td>\n",
              "      <td>/content/drive/MyDrive/tegn/common_tegn/musik/...</td>\n",
              "      <td>540</td>\n",
              "      <td>720</td>\n",
              "      <td>2.88</td>\n",
              "      <td>25</td>\n",
              "      <td>400258</td>\n",
              "      <td>72</td>\n",
              "    </tr>\n",
              "    <tr>\n",
              "      <th>58</th>\n",
              "      <td>natur2_25fps.mp4</td>\n",
              "      <td>/content/drive/MyDrive/tegn/common_tegn/natur/...</td>\n",
              "      <td>1080</td>\n",
              "      <td>1440</td>\n",
              "      <td>3.80</td>\n",
              "      <td>25</td>\n",
              "      <td>931978</td>\n",
              "      <td>95</td>\n",
              "    </tr>\n",
              "    <tr>\n",
              "      <th>59</th>\n",
              "      <td>natur1_25fps.mp4</td>\n",
              "      <td>/content/drive/MyDrive/tegn/common_tegn/natur/...</td>\n",
              "      <td>540</td>\n",
              "      <td>720</td>\n",
              "      <td>2.84</td>\n",
              "      <td>25</td>\n",
              "      <td>512256</td>\n",
              "      <td>71</td>\n",
              "    </tr>\n",
              "    <tr>\n",
              "      <th>64</th>\n",
              "      <td>makedonien2_25fps.mp4</td>\n",
              "      <td>/content/drive/MyDrive/tegn/common_tegn/makedo...</td>\n",
              "      <td>480</td>\n",
              "      <td>640</td>\n",
              "      <td>3.24</td>\n",
              "      <td>25</td>\n",
              "      <td>499659</td>\n",
              "      <td>81</td>\n",
              "    </tr>\n",
              "    <tr>\n",
              "      <th>...</th>\n",
              "      <td>...</td>\n",
              "      <td>...</td>\n",
              "      <td>...</td>\n",
              "      <td>...</td>\n",
              "      <td>...</td>\n",
              "      <td>...</td>\n",
              "      <td>...</td>\n",
              "      <td>...</td>\n",
              "    </tr>\n",
              "    <tr>\n",
              "      <th>1024</th>\n",
              "      <td>udenom2_25fps.mp4</td>\n",
              "      <td>/content/drive/MyDrive/tegn/common_tegn/udenom...</td>\n",
              "      <td>480</td>\n",
              "      <td>640</td>\n",
              "      <td>3.64</td>\n",
              "      <td>25</td>\n",
              "      <td>526191</td>\n",
              "      <td>91</td>\n",
              "    </tr>\n",
              "    <tr>\n",
              "      <th>1030</th>\n",
              "      <td>opvask2_25fps.mp4</td>\n",
              "      <td>/content/drive/MyDrive/tegn/common_tegn/opvask...</td>\n",
              "      <td>480</td>\n",
              "      <td>640</td>\n",
              "      <td>4.44</td>\n",
              "      <td>25</td>\n",
              "      <td>426605</td>\n",
              "      <td>111</td>\n",
              "    </tr>\n",
              "    <tr>\n",
              "      <th>1031</th>\n",
              "      <td>opvask1_25fps.mp4</td>\n",
              "      <td>/content/drive/MyDrive/tegn/common_tegn/opvask...</td>\n",
              "      <td>540</td>\n",
              "      <td>720</td>\n",
              "      <td>3.00</td>\n",
              "      <td>25</td>\n",
              "      <td>395520</td>\n",
              "      <td>75</td>\n",
              "    </tr>\n",
              "    <tr>\n",
              "      <th>1036</th>\n",
              "      <td>kultur2_25fps.mp4</td>\n",
              "      <td>/content/drive/MyDrive/tegn/common_tegn/kultur...</td>\n",
              "      <td>1080</td>\n",
              "      <td>1440</td>\n",
              "      <td>3.44</td>\n",
              "      <td>25</td>\n",
              "      <td>914139</td>\n",
              "      <td>86</td>\n",
              "    </tr>\n",
              "    <tr>\n",
              "      <th>1043</th>\n",
              "      <td>grine1_25fps.mp4</td>\n",
              "      <td>/content/drive/MyDrive/tegn/common_tegn/grine/...</td>\n",
              "      <td>540</td>\n",
              "      <td>720</td>\n",
              "      <td>3.04</td>\n",
              "      <td>25</td>\n",
              "      <td>342228</td>\n",
              "      <td>76</td>\n",
              "    </tr>\n",
              "  </tbody>\n",
              "</table>\n",
              "<p>92 rows × 8 columns</p>\n",
              "</div>\n",
              "      <button class=\"colab-df-convert\" onclick=\"convertToInteractive('df-76fce0f9-92e7-4df5-aa57-63f29ad13282')\"\n",
              "              title=\"Convert this dataframe to an interactive table.\"\n",
              "              style=\"display:none;\">\n",
              "        \n",
              "  <svg xmlns=\"http://www.w3.org/2000/svg\" height=\"24px\"viewBox=\"0 0 24 24\"\n",
              "       width=\"24px\">\n",
              "    <path d=\"M0 0h24v24H0V0z\" fill=\"none\"/>\n",
              "    <path d=\"M18.56 5.44l.94 2.06.94-2.06 2.06-.94-2.06-.94-.94-2.06-.94 2.06-2.06.94zm-11 1L8.5 8.5l.94-2.06 2.06-.94-2.06-.94L8.5 2.5l-.94 2.06-2.06.94zm10 10l.94 2.06.94-2.06 2.06-.94-2.06-.94-.94-2.06-.94 2.06-2.06.94z\"/><path d=\"M17.41 7.96l-1.37-1.37c-.4-.4-.92-.59-1.43-.59-.52 0-1.04.2-1.43.59L10.3 9.45l-7.72 7.72c-.78.78-.78 2.05 0 2.83L4 21.41c.39.39.9.59 1.41.59.51 0 1.02-.2 1.41-.59l7.78-7.78 2.81-2.81c.8-.78.8-2.07 0-2.86zM5.41 20L4 18.59l7.72-7.72 1.47 1.35L5.41 20z\"/>\n",
              "  </svg>\n",
              "      </button>\n",
              "      \n",
              "  <style>\n",
              "    .colab-df-container {\n",
              "      display:flex;\n",
              "      flex-wrap:wrap;\n",
              "      gap: 12px;\n",
              "    }\n",
              "\n",
              "    .colab-df-convert {\n",
              "      background-color: #E8F0FE;\n",
              "      border: none;\n",
              "      border-radius: 50%;\n",
              "      cursor: pointer;\n",
              "      display: none;\n",
              "      fill: #1967D2;\n",
              "      height: 32px;\n",
              "      padding: 0 0 0 0;\n",
              "      width: 32px;\n",
              "    }\n",
              "\n",
              "    .colab-df-convert:hover {\n",
              "      background-color: #E2EBFA;\n",
              "      box-shadow: 0px 1px 2px rgba(60, 64, 67, 0.3), 0px 1px 3px 1px rgba(60, 64, 67, 0.15);\n",
              "      fill: #174EA6;\n",
              "    }\n",
              "\n",
              "    [theme=dark] .colab-df-convert {\n",
              "      background-color: #3B4455;\n",
              "      fill: #D2E3FC;\n",
              "    }\n",
              "\n",
              "    [theme=dark] .colab-df-convert:hover {\n",
              "      background-color: #434B5C;\n",
              "      box-shadow: 0px 1px 3px 1px rgba(0, 0, 0, 0.15);\n",
              "      filter: drop-shadow(0px 1px 2px rgba(0, 0, 0, 0.3));\n",
              "      fill: #FFFFFF;\n",
              "    }\n",
              "  </style>\n",
              "\n",
              "      <script>\n",
              "        const buttonEl =\n",
              "          document.querySelector('#df-76fce0f9-92e7-4df5-aa57-63f29ad13282 button.colab-df-convert');\n",
              "        buttonEl.style.display =\n",
              "          google.colab.kernel.accessAllowed ? 'block' : 'none';\n",
              "\n",
              "        async function convertToInteractive(key) {\n",
              "          const element = document.querySelector('#df-76fce0f9-92e7-4df5-aa57-63f29ad13282');\n",
              "          const dataTable =\n",
              "            await google.colab.kernel.invokeFunction('convertToInteractive',\n",
              "                                                     [key], {});\n",
              "          if (!dataTable) return;\n",
              "\n",
              "          const docLinkHtml = 'Like what you see? Visit the ' +\n",
              "            '<a target=\"_blank\" href=https://colab.research.google.com/notebooks/data_table.ipynb>data table notebook</a>'\n",
              "            + ' to learn more about interactive tables.';\n",
              "          element.innerHTML = '';\n",
              "          dataTable['output_type'] = 'display_data';\n",
              "          await google.colab.output.renderOutput(dataTable, element);\n",
              "          const docLink = document.createElement('div');\n",
              "          docLink.innerHTML = docLinkHtml;\n",
              "          element.appendChild(docLink);\n",
              "        }\n",
              "      </script>\n",
              "    </div>\n",
              "  </div>\n",
              "  "
            ],
            "text/plain": [
              "                  file_name  \\\n",
              "29          mave1_25fps.mp4   \n",
              "35         musik1_25fps.mp4   \n",
              "58         natur2_25fps.mp4   \n",
              "59         natur1_25fps.mp4   \n",
              "64    makedonien2_25fps.mp4   \n",
              "...                     ...   \n",
              "1024      udenom2_25fps.mp4   \n",
              "1030      opvask2_25fps.mp4   \n",
              "1031      opvask1_25fps.mp4   \n",
              "1036      kultur2_25fps.mp4   \n",
              "1043       grine1_25fps.mp4   \n",
              "\n",
              "                                                   path  height  width  \\\n",
              "29    /content/drive/MyDrive/tegn/common_tegn/mave/m...     540    720   \n",
              "35    /content/drive/MyDrive/tegn/common_tegn/musik/...     540    720   \n",
              "58    /content/drive/MyDrive/tegn/common_tegn/natur/...    1080   1440   \n",
              "59    /content/drive/MyDrive/tegn/common_tegn/natur/...     540    720   \n",
              "64    /content/drive/MyDrive/tegn/common_tegn/makedo...     480    640   \n",
              "...                                                 ...     ...    ...   \n",
              "1024  /content/drive/MyDrive/tegn/common_tegn/udenom...     480    640   \n",
              "1030  /content/drive/MyDrive/tegn/common_tegn/opvask...     480    640   \n",
              "1031  /content/drive/MyDrive/tegn/common_tegn/opvask...     540    720   \n",
              "1036  /content/drive/MyDrive/tegn/common_tegn/kultur...    1080   1440   \n",
              "1043  /content/drive/MyDrive/tegn/common_tegn/grine/...     540    720   \n",
              "\n",
              "      duration  framerate  bitrate  frame_amount  \n",
              "29        2.88         25   363005            72  \n",
              "35        2.88         25   400258            72  \n",
              "58        3.80         25   931978            95  \n",
              "59        2.84         25   512256            71  \n",
              "64        3.24         25   499659            81  \n",
              "...        ...        ...      ...           ...  \n",
              "1024      3.64         25   526191            91  \n",
              "1030      4.44         25   426605           111  \n",
              "1031      3.00         25   395520            75  \n",
              "1036      3.44         25   914139            86  \n",
              "1043      3.04         25   342228            76  \n",
              "\n",
              "[92 rows x 8 columns]"
            ]
          },
          "execution_count": 82,
          "metadata": {},
          "output_type": "execute_result"
        }
      ],
      "source": [
        "lowfps_df.loc[lowfps_df['frame_amount'] > 70]"
      ]
    },
    {
      "cell_type": "code",
      "execution_count": null,
      "metadata": {
        "colab": {
          "base_uri": "https://localhost:8080/"
        },
        "id": "-jpfdAat2AYK",
        "outputId": "f4c28a15-279d-4b10-fb27-4ce93591f64b"
      },
      "outputs": [
        {
          "name": "stdout",
          "output_type": "stream",
          "text": [
            "index\n",
            "codec_name\n",
            "codec_long_name\n",
            "profile\n",
            "codec_type\n",
            "codec_time_base\n",
            "codec_tag_string\n",
            "codec_tag\n",
            "width\n",
            "height\n",
            "coded_width\n",
            "coded_height\n",
            "has_b_frames\n",
            "sample_aspect_ratio\n",
            "display_aspect_ratio\n",
            "pix_fmt\n",
            "level\n",
            "color_range\n",
            "color_space\n",
            "color_transfer\n",
            "color_primaries\n",
            "chroma_location\n",
            "refs\n",
            "is_avc\n",
            "nal_length_size\n",
            "r_frame_rate\n",
            "avg_frame_rate\n",
            "time_base\n",
            "start_pts\n",
            "start_time\n",
            "duration_ts\n",
            "duration\n",
            "bit_rate\n",
            "bits_per_raw_sample\n",
            "nb_frames\n",
            "disposition\n",
            "tags\n"
          ]
        }
      ],
      "source": [
        "for keys, value in metadata_dicts[0].items():\n",
        "   print(keys)"
      ]
    },
    {
      "cell_type": "code",
      "execution_count": null,
      "metadata": {
        "colab": {
          "base_uri": "https://localhost:8080/"
        },
        "id": "dFpSr56bBKL0",
        "outputId": "2e3a07cf-797b-4278-ca8f-e6ac13b44d69"
      },
      "outputs": [
        {
          "name": "stdout",
          "output_type": "stream",
          "text": [
            "[{'avg_frame_rate': '25/1',\n",
            "  'bit_rate': '1046469',\n",
            "  'bits_per_raw_sample': '8',\n",
            "  'chroma_location': 'left',\n",
            "  'codec_long_name': 'H.264 / AVC / MPEG-4 AVC / MPEG-4 part 10',\n",
            "  'codec_name': 'h264',\n",
            "  'codec_tag': '0x31637661',\n",
            "  'codec_tag_string': 'avc1',\n",
            "  'codec_time_base': '1/50',\n",
            "  'codec_type': 'video',\n",
            "  'coded_height': 1088,\n",
            "  'coded_width': 1440,\n",
            "  'color_primaries': 'bt709',\n",
            "  'color_range': 'tv',\n",
            "  'color_space': 'bt709',\n",
            "  'color_transfer': 'bt709',\n",
            "  'disposition': {'attached_pic': 0,\n",
            "                  'clean_effects': 0,\n",
            "                  'comment': 0,\n",
            "                  'default': 1,\n",
            "                  'dub': 0,\n",
            "                  'forced': 0,\n",
            "                  'hearing_impaired': 0,\n",
            "                  'karaoke': 0,\n",
            "                  'lyrics': 0,\n",
            "                  'original': 0,\n",
            "                  'timed_thumbnails': 0,\n",
            "                  'visual_impaired': 0},\n",
            "  'duration': '1.720000',\n",
            "  'duration_ts': 43000,\n",
            "  'has_b_frames': 1,\n",
            "  'height': 1080,\n",
            "  'index': 0,\n",
            "  'is_avc': 'true',\n",
            "  'level': 41,\n",
            "  'nal_length_size': '4',\n",
            "  'nb_frames': '43',\n",
            "  'pix_fmt': 'yuv420p',\n",
            "  'profile': 'Main',\n",
            "  'r_frame_rate': '25/1',\n",
            "  'refs': 1,\n",
            "  'start_pts': 0,\n",
            "  'start_time': '0.000000',\n",
            "  'tags': {'creation_time': '2017-11-30T11:05:48.000000Z',\n",
            "           'encoder': 'AVC Coding',\n",
            "           'handler_name': '\\x1fMainconcept Video Media Handler',\n",
            "           'language': 'eng'},\n",
            "  'time_base': '1/25000',\n",
            "  'width': 1440}]\n"
          ]
        }
      ],
      "source": [
        "pprint(ffmpeg.probe(\"/content/drive/MyDrive/tegn/1aborter.mp4\")[\"streams\"])"
      ]
    },
    {
      "cell_type": "markdown",
      "metadata": {
        "id": "TTmoyC4aMCcO"
      },
      "source": [
        "# Takes path and renames output filename with \"extension\""
      ]
    },
    {
      "cell_type": "code",
      "execution_count": null,
      "metadata": {
        "id": "VDzMtarhVEFS"
      },
      "outputs": [],
      "source": [
        "def newname(path, extension):\n",
        "  string = path\n",
        "  parts = string.split(\".\")\n",
        "  parts[-2] += extension\n",
        "  new_string = \".\".join(parts)\n",
        "  return new_string"
      ]
    },
    {
      "cell_type": "markdown",
      "metadata": {
        "id": "_qv2D668wJsD"
      },
      "source": [
        "# Code that resizes all Videos to min resolution"
      ]
    },
    {
      "cell_type": "code",
      "execution_count": null,
      "metadata": {
        "id": "vmOsMyiyTe5l"
      },
      "outputs": [],
      "source": [
        "'''\n",
        "for index, row in df.iterrows():\n",
        "  cap = cv2.VideoCapture(row['path'])\n",
        "  \n",
        "  fourcc = cv2.VideoWriter_fourcc(*'XVID')\n",
        "  out = cv2.VideoWriter(newname(row['path'], \"_low_res\"),fourcc, row['framerate'], (min(df['width']),min(df['height'])))\n",
        "  \n",
        "  while True:\n",
        "      ret, frame = cap.read()\n",
        "      if ret == True:\n",
        "          b = cv2.resize(frame,(min(df['width']),min(df['height'])),fx=0,fy=0, interpolation = cv2.INTER_CUBIC)\n",
        "          out.write(b)\n",
        "      else:\n",
        "          break\n",
        "      \n",
        "  cap.release()\n",
        "  out.release()\n",
        "  cv2.destroyAllWindows()\n",
        "  '''"
      ]
    },
    {
      "cell_type": "markdown",
      "metadata": {
        "id": "Q40D9cQwv0FC"
      },
      "source": [
        "# Lowering resolutions of all videoes = 50 FPS to 25 and outputting it"
      ]
    },
    {
      "cell_type": "code",
      "execution_count": null,
      "metadata": {
        "id": "1xD8mt71Ug1O"
      },
      "outputs": [],
      "source": [
        "highfps_df = df.loc[df['framerate'] == 50]\n",
        "\n",
        "for index, row in df.iterrows():\n",
        "  inp = row['path']\n",
        "  outp = newname(inp, \"_25fps\")\n",
        "  ffmpeg.input(inp).filter_('fps', fps=25, round='up').output(outp).run()"
      ]
    }
  ],
  "metadata": {
    "colab": {
      "provenance": []
    },
    "kernelspec": {
      "display_name": "Python 3",
      "name": "python3"
    },
    "language_info": {
      "name": "python",
      "version": "3.9.13"
    }
  },
  "nbformat": 4,
  "nbformat_minor": 0
}
