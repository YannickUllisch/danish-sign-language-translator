{
 "cells": [
  {
   "cell_type": "code",
   "execution_count": 1,
   "metadata": {},
   "outputs": [],
   "source": [
    "import tkinter as tk\n",
    "from tkinter import *\n",
    "from tkinter import filedialog\n",
    "from tkinter.filedialog import askopenfile\n",
    "import cv2\n",
    "from PIL import Image, ImageTk\n",
    "import import_ipynb\n",
    "import numpy as np"
   ]
  },
  {
   "cell_type": "code",
   "execution_count": 2,
   "metadata": {},
   "outputs": [
    {
     "name": "stdout",
     "output_type": "stream",
     "text": [
      "importing Jupyter notebook from DataExtraction.ipynb\n"
     ]
    },
    {
     "name": "stderr",
     "output_type": "stream",
     "text": [
      "objc[34978]: Class CaptureDelegate is implemented in both /Users/miamayalykke/opt/anaconda3/lib/python3.9/site-packages/cv2/cv2.abi3.so (0x14f6124d0) and /Users/miamayalykke/opt/anaconda3/lib/python3.9/site-packages/mediapipe/.dylibs/libopencv_videoio.3.4.16.dylib (0x11fd48860). One of the two will be used. Which one is undefined.\n",
      "objc[34978]: Class CVWindow is implemented in both /Users/miamayalykke/opt/anaconda3/lib/python3.9/site-packages/cv2/cv2.abi3.so (0x14f612520) and /Users/miamayalykke/opt/anaconda3/lib/python3.9/site-packages/mediapipe/.dylibs/libopencv_highgui.3.4.16.dylib (0x10ffdca68). One of the two will be used. Which one is undefined.\n",
      "objc[34978]: Class CVView is implemented in both /Users/miamayalykke/opt/anaconda3/lib/python3.9/site-packages/cv2/cv2.abi3.so (0x14f612548) and /Users/miamayalykke/opt/anaconda3/lib/python3.9/site-packages/mediapipe/.dylibs/libopencv_highgui.3.4.16.dylib (0x10ffdca90). One of the two will be used. Which one is undefined.\n",
      "objc[34978]: Class CVSlider is implemented in both /Users/miamayalykke/opt/anaconda3/lib/python3.9/site-packages/cv2/cv2.abi3.so (0x14f612570) and /Users/miamayalykke/opt/anaconda3/lib/python3.9/site-packages/mediapipe/.dylibs/libopencv_highgui.3.4.16.dylib (0x10ffdcab8). One of the two will be used. Which one is undefined.\n"
     ]
    },
    {
     "name": "stdout",
     "output_type": "stream",
     "text": [
      "importing Jupyter notebook from Predictions.ipynb\n",
      "importing Jupyter notebook from DataPreprocessing.ipynb\n"
     ]
    }
   ],
   "source": [
    "import DataExtraction\n",
    "import Predictions\n",
    "import DataPreprocessing"
   ]
  },
  {
   "cell_type": "code",
   "execution_count": 3,
   "metadata": {},
   "outputs": [],
   "source": [
    "words =  np.array(['hvad', 'ja', 'soed'])\n",
    "\n",
    "label_map = {label:num for num, label in enumerate(words)}"
   ]
  },
  {
   "cell_type": "code",
   "execution_count": 4,
   "metadata": {},
   "outputs": [
    {
     "name": "stderr",
     "output_type": "stream",
     "text": [
      "2023-03-20 15:36:14.691 python[34978:1271575] +[CATransaction synchronize] called within transaction\n",
      "INFO: Created TensorFlow Lite XNNPACK delegate for CPU.\n"
     ]
    },
    {
     "name": "stdout",
     "output_type": "stream",
     "text": [
      "1/1 [==============================] - 0s 104ms/step\n"
     ]
    },
    {
     "name": "stderr",
     "output_type": "stream",
     "text": [
      "2023-03-20 15:36:23.602082: W tensorflow/tsl/platform/profile_utils/cpu_utils.cc:128] Failed to get CPU frequency: 0 Hz\n",
      "2023-03-20 15:36:34.500 python[34978:1271575] +[CATransaction synchronize] called within transaction\n",
      "2023-03-20 15:36:36.148 python[34978:1271575] +[CATransaction synchronize] called within transaction\n",
      "2023-03-20 15:36:38.929 python[34978:1271575] +[CATransaction synchronize] called within transaction\n"
     ]
    },
    {
     "name": "stdout",
     "output_type": "stream",
     "text": [
      "1/1 [==============================] - 0s 86ms/step\n"
     ]
    },
    {
     "name": "stderr",
     "output_type": "stream",
     "text": [
      "2023-03-20 15:37:05.060 python[34978:1271575] +[CATransaction synchronize] called within transaction\n"
     ]
    },
    {
     "name": "stdout",
     "output_type": "stream",
     "text": [
      "1/1 [==============================] - 0s 180ms/step\n"
     ]
    },
    {
     "name": "stderr",
     "output_type": "stream",
     "text": [
      "2023-03-20 15:37:24.755 python[34978:1271575] +[CATransaction synchronize] called within transaction\n",
      "2023-03-20 15:37:26.410 python[34978:1271575] +[CATransaction synchronize] called within transaction\n",
      "2023-03-20 15:37:30.356 python[34978:1271575] +[CATransaction synchronize] called within transaction\n"
     ]
    },
    {
     "name": "stdout",
     "output_type": "stream",
     "text": [
      "1/1 [==============================] - 0s 86ms/step\n"
     ]
    }
   ],
   "source": [
    "from tkinter import *\n",
    "import cv2\n",
    "from PIL import Image, ImageTk\n",
    "# import filedialog module\n",
    "from tkinter import filedialog\n",
    "  \n",
    "# Define a video capture object\n",
    "\n",
    "  \n",
    "# Declare the width and height in variables\n",
    "width, height = 800, 600\n",
    "  \n",
    "\n",
    "  \n",
    "# Create a GUI app\n",
    "app = Tk()\n",
    "  \n",
    "# Bind the app with Escape keyboard to\n",
    "# quit app whenever pressed\n",
    "app.bind('<Escape>', lambda e: app.quit())\n",
    "  \n",
    "# Create a label and display it on app\n",
    "label_widget = Label(app)\n",
    "label_widget.pack()\n",
    "  \n",
    "# Create a function to open camera and\n",
    "# display it in the label_widget on app\n",
    "  \n",
    "  \n",
    "def open_camera():\n",
    "    print(\"open camera\")\n",
    "    vid = cv2.VideoCapture(0)\n",
    "    # Set the width and height\n",
    "    vid.set(cv2.CAP_PROP_FRAME_WIDTH, width)\n",
    "    vid.set(cv2.CAP_PROP_FRAME_HEIGHT, height)\n",
    "    # Capture the video frame by frame\n",
    "    #_, frame = vid.read()\n",
    "  \n",
    "    # Convert image from one color space to other\n",
    "    #opencv_image = cv2.cvtColor(frame, cv2.COLOR_BGR2RGBA)\n",
    "\n",
    "    # Capture the latest frame and transform to image\n",
    "    #captured_image = Image.fromarray(opencv_image)\n",
    "  \n",
    "    # Convert captured image to photoimage\n",
    "    #photo_image = ImageTk.PhotoImage(image=captured_image)\n",
    "  \n",
    "    # Displaying photoimage in the label\n",
    "    #label_widget.photo_image = photo_image\n",
    "  \n",
    "    # Configure image in the label\n",
    "    #label_widget.configure(image=photo_image)\n",
    "  \n",
    "    # Repeat the same process after every 10 seconds\n",
    "    #label_widget.after(10, open_camera)\n",
    "\n",
    "def importFunctions():\n",
    "    model, X_test, y_test = Predictions.import_data(\"../export_data/\")\n",
    "    return model\n",
    "\n",
    "\n",
    "def browseFiles():\n",
    "    filename = filedialog.askopenfilename(initialdir = \"/\",\n",
    "                                          title = \"Select a File\",\n",
    "                                          filetypes = ((\"mp4 files\",\n",
    "                                                        \"*.mp4\"),\n",
    "                                                       (\"mov files\",\n",
    "                                                        \"*.mov\")))\n",
    "      \n",
    "    # Change label contents\n",
    "    model = importFunctions()\n",
    "    label_file_explorer.configure(text=\"File Opened: \"+filename)\n",
    "    test = DataExtraction.mp_sv_processing(filename)\n",
    "    processed_data = DataPreprocessing.process_data([test], 151)\n",
    "    output = words[np.argmax(model.predict(processed_data))]\n",
    "    label = Label(app, text=\"predicted word: \" + output)\n",
    "    label.pack(fill=BOTH)\n",
    "    \n",
    "# Create a File Explorer label\n",
    "label_file_explorer = Label(app,\n",
    "                            text = \"Danish Sign Language Translator\",\n",
    "                            width = 100, height = 4,\n",
    "                            fg = \"blue\")\n",
    "# Create a button to open the camera in GUI app\n",
    "button1 = Button(app, text=\"Open Camera\", command=open_camera)\n",
    "button1.pack()\n",
    "button2 = Button(app, text=\"Browse file\", command=browseFiles)\n",
    "button2.pack()\n",
    "  \n",
    "# Create an infinite loop for displaying app on screen\n",
    "app.mainloop()"
   ]
  }
 ],
 "metadata": {
  "kernelspec": {
   "display_name": "base",
   "language": "python",
   "name": "python3"
  },
  "language_info": {
   "codemirror_mode": {
    "name": "ipython",
    "version": 3
   },
   "file_extension": ".py",
   "mimetype": "text/x-python",
   "name": "python",
   "nbconvert_exporter": "python",
   "pygments_lexer": "ipython3",
   "version": "3.9.13"
  },
  "orig_nbformat": 4,
  "vscode": {
   "interpreter": {
    "hash": "1d6ca838ec19a1ef0fcffd5ba496eff168d279d78b33b0e8a22fb193ba15bf52"
   }
  }
 },
 "nbformat": 4,
 "nbformat_minor": 2
}
