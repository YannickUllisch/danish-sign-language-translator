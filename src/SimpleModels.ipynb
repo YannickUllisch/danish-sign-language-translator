{
 "cells": [
  {
   "cell_type": "code",
   "execution_count": 14,
   "metadata": {},
   "outputs": [
    {
     "name": "stderr",
     "output_type": "stream",
     "text": [
      "/Users/yannick/opt/anaconda3/envs/test-env/lib/python3.8/site-packages/tqdm/auto.py:21: TqdmWarning: IProgress not found. Please update jupyter and ipywidgets. See https://ipywidgets.readthedocs.io/en/stable/user_install.html\n",
      "  from .autonotebook import tqdm as notebook_tqdm\n"
     ]
    }
   ],
   "source": [
    "import numpy as np\n",
    "import pandas as pd\n",
    "import matplotlib.pyplot as plt\n",
    "import math\n",
    "import random\n",
    "import matplotlib.cm as cm\n",
    "from sklearn.decomposition import PCA\n",
    "from matplotlib.colors import ListedColormap\n",
    "from sklearn.neighbors import KNeighborsClassifier\n",
    "from sklearn.ensemble import RandomForestClassifier\n",
    "from sklearn.metrics import accuracy_score\n",
    "\n",
    "import sklearn\n",
    "# Used to create training and testing data\n",
    "from sklearn.model_selection import train_test_split\n",
    "import umap\n",
    "from sklearn.model_selection import cross_val_score\n",
    "\n",
    "#for hyperparameter tuning\n",
    "from sklearn.model_selection import GridSearchCV"
   ]
  },
  {
   "cell_type": "code",
   "execution_count": 5,
   "metadata": {},
   "outputs": [
    {
     "name": "stdout",
     "output_type": "stream",
     "text": [
      "1.2.1\n"
     ]
    }
   ],
   "source": [
    "print(sklearn.__version__)"
   ]
  },
  {
   "attachments": {},
   "cell_type": "markdown",
   "metadata": {},
   "source": [
    "# Mediapipe Data Solutions"
   ]
  },
  {
   "cell_type": "code",
   "execution_count": 8,
   "metadata": {},
   "outputs": [
    {
     "data": {
      "text/plain": [
       "(221, 151, 258)"
      ]
     },
     "execution_count": 8,
     "metadata": {},
     "output_type": "execute_result"
    }
   ],
   "source": [
    "X = np.load('../export_data/X_data.npy')\n",
    "y = np.load('../export_data/y_data.npy')\n",
    "\n",
    "Xmp_train, Xmp_test, ymp_train, ymp_test = train_test_split(X, y, test_size=6*y.shape[1], stratify=y, random_state=40)\n",
    "X.shape"
   ]
  },
  {
   "cell_type": "code",
   "execution_count": 9,
   "metadata": {},
   "outputs": [
    {
     "name": "stdout",
     "output_type": "stream",
     "text": [
      "(167, 151, 258)\n",
      "(54, 151, 258)\n",
      "(54, 9)\n",
      "(167, 9)\n"
     ]
    }
   ],
   "source": [
    "print(Xmp_train.shape)\n",
    "print(Xmp_test.shape)\n",
    "print(ymp_test.shape)\n",
    "print(ymp_train.shape)"
   ]
  },
  {
   "cell_type": "code",
   "execution_count": 10,
   "metadata": {},
   "outputs": [],
   "source": [
    "mp_full = np.array([features_2d.flatten() for features_2d in X])\n",
    "Xmp_train2D = np.array([features_2d.flatten() for features_2d in Xmp_train])\n",
    "Xmp_test2D = np.array([features_2d.flatten() for features_2d in Xmp_test])"
   ]
  },
  {
   "attachments": {},
   "cell_type": "markdown",
   "metadata": {},
   "source": [
    "## Dimension Reduction"
   ]
  },
  {
   "cell_type": "code",
   "execution_count": 11,
   "metadata": {},
   "outputs": [
    {
     "data": {
      "text/plain": [
       "(54, 12)"
      ]
     },
     "execution_count": 11,
     "metadata": {},
     "output_type": "execute_result"
    }
   ],
   "source": [
    "pca = PCA(n_components=12)\n",
    "pca_train = pca.fit_transform(Xmp_train2D)\n",
    "pca_test = pca.fit_transform(Xmp_test2D)\n",
    "\n",
    "#np.save(str( \"../export_data/\") + 'pca_train', pca_train)\n",
    "#np.save(str( \"../export_data/\") + 'y_pca_train', ymp_train)\n",
    "#np.save(str( \"../export_data/\") + 'pca_test', pca_test)\n",
    "#np.save(str( \"../export_data/\") + 'y_pca_test', ymp_test)\n",
    "\n",
    "pca_test.shape\n"
   ]
  },
  {
   "cell_type": "code",
   "execution_count": 56,
   "metadata": {},
   "outputs": [
    {
     "data": {
      "text/plain": [
       "(167, 12)"
      ]
     },
     "execution_count": 56,
     "metadata": {},
     "output_type": "execute_result"
    }
   ],
   "source": [
    "pca_train.shape\n"
   ]
  },
  {
   "cell_type": "code",
   "execution_count": 57,
   "metadata": {},
   "outputs": [
    {
     "data": {
      "text/plain": [
       "(54, 12)"
      ]
     },
     "execution_count": 57,
     "metadata": {},
     "output_type": "execute_result"
    }
   ],
   "source": [
    "pca_test.shape"
   ]
  },
  {
   "attachments": {},
   "cell_type": "markdown",
   "metadata": {},
   "source": [
    "# Visualizing Components"
   ]
  },
  {
   "cell_type": "code",
   "execution_count": 31,
   "metadata": {},
   "outputs": [],
   "source": [
    "def visualize_labels(features, referenceLabels, isMediaPipeData):\n",
    "    plt.figure()\n",
    "    cmap_light = ListedColormap(['#9e0142', '#d53e4f', '#f46d43', '#fdae61', '#fee08b', '#e6f598', '#abdda4', '#66c2a5', '#3288bd','#5e4fa2'])\n",
    "    y = referenceLabels\n",
    "\n",
    "    if (isMediaPipeData):\n",
    "        test = ['hvad', 'ja', 'soed', 'mange', 'nej', 'nu', 'fordi', 'koebe', 'tid']\n",
    "    else:\n",
    "        test = ['ja', 'hvad', 'nej', 'nu', 'mange', 'fordi', 'koebe', 'tid', 'soed']\n",
    "\n",
    "    colorind = np.where(y>0)[1]\n",
    "    print(y.shape)\n",
    "    scatter = plt.scatter(features[:, 0], features[:, 1], c = colorind, cmap = cmap_light)\n",
    "    plt.xlim(features[:, 0].min() - 0.1, features[:, 0].max() + 0.1)\n",
    "    plt.ylim(features[:, 1].min() - 0.1, features[:, 1].max() + 0.1)\n",
    "    plt.legend(handles=scatter.legend_elements()[0], \n",
    "           labels=test,\n",
    "           title=\"Signs\", loc=\"best\")\n",
    "    plt.show()\n",
    "  \n",
    "    t = 0"
   ]
  },
  {
   "cell_type": "code",
   "execution_count": 32,
   "metadata": {},
   "outputs": [
    {
     "name": "stdout",
     "output_type": "stream",
     "text": [
      "(221, 9)\n"
     ]
    },
    {
     "data": {
      "image/png": "[encoded data removed]",
      "text/plain": [
       "<Figure size 640x480 with 1 Axes>"
      ]
     },
     "metadata": {},
     "output_type": "display_data"
    }
   ],
   "source": [
    "umap_full = umap.UMAP(n_neighbors=12, min_dist=0.5).fit_transform(mp_full)\n",
    "visualize_labels(umap_full, y, True)"
   ]
  },
  {
   "cell_type": "code",
   "execution_count": 170,
   "metadata": {},
   "outputs": [],
   "source": [
    "knn_grid_params = { 'n_neighbors' : range(3,15),\n",
    "                'metric' : ['minkowski','euclidean','manhattan']}\n",
    "\n",
    "rf_grid_params = {\n",
    "    'criterion': ['gini', 'entropy'],\n",
    "    'max_depth': [None, 50, 70, 90, 110],\n",
    "    'n_estimators': range(2, 106, 8)\n",
    "}"
   ]
  },
  {
   "attachments": {},
   "cell_type": "markdown",
   "metadata": {},
   "source": [
    "# kNN\n",
    "\n",
    "## Parameter Fine Tuning "
   ]
  },
  {
   "cell_type": "code",
   "execution_count": 151,
   "metadata": {},
   "outputs": [
    {
     "name": "stdout",
     "output_type": "stream",
     "text": [
      "Fitting 5 folds for each of 36 candidates, totalling 180 fits\n"
     ]
    }
   ],
   "source": [
    "knn_gs = GridSearchCV(KNeighborsClassifier(), knn_grid_params, verbose = 1, cv=5, n_jobs = -1)\n",
    "knn_res = knn_gs.fit(Xmp_train2D, ymp_train)"
   ]
  },
  {
   "cell_type": "code",
   "execution_count": 152,
   "metadata": {},
   "outputs": [
    {
     "name": "stdout",
     "output_type": "stream",
     "text": [
      "0.6049910873440285\n",
      "{'metric': 'minkowski', 'n_neighbors': 3}\n",
      "Accuracy: 0.6481481481481481\n"
     ]
    }
   ],
   "source": [
    "# find the best score\n",
    "print(knn_res.best_score_)\n",
    "\n",
    "# get the hyperparameters with the best score\n",
    "print(knn_res.best_params_)\n",
    "\n",
    "y_pred = knn_res.predict(Xmp_test2D)\n",
    "accuracy = accuracy_score(ymp_test, y_pred)\n",
    "print(\"Accuracy:\", accuracy)"
   ]
  },
  {
   "cell_type": "code",
   "execution_count": 153,
   "metadata": {},
   "outputs": [
    {
     "name": "stdout",
     "output_type": "stream",
     "text": [
      "Fitting 5 folds for each of 36 candidates, totalling 180 fits\n"
     ]
    }
   ],
   "source": [
    "knnpca_gs = GridSearchCV(KNeighborsClassifier(), knn_grid_params, verbose = 1, cv=5, n_jobs = -1)\n",
    "knnpca_res = knnpca_gs.fit(pca_train, ymp_train)"
   ]
  },
  {
   "cell_type": "code",
   "execution_count": 154,
   "metadata": {},
   "outputs": [
    {
     "name": "stdout",
     "output_type": "stream",
     "text": [
      "0.5877005347593582\n",
      "{'metric': 'minkowski', 'n_neighbors': 3}\n",
      "Accuracy: 0.1111111111111111\n"
     ]
    }
   ],
   "source": [
    "# find the best score\n",
    "print(knnpca_res.best_score_)\n",
    "\n",
    "# get the hyperparameters with the best score\n",
    "print(knnpca_res.best_params_)\n",
    "\n",
    "y_pred = knnpca_res.predict(pca_test)\n",
    "accuracy = accuracy_score(ymp_test, y_pred)\n",
    "print(\"Accuracy:\", accuracy)"
   ]
  },
  {
   "attachments": {},
   "cell_type": "markdown",
   "metadata": {},
   "source": [
    "# Random Forest\n",
    "\n",
    "## Parameter Fine Tuning"
   ]
  },
  {
   "cell_type": "code",
   "execution_count": 171,
   "metadata": {},
   "outputs": [],
   "source": [
    "rf_gs = GridSearchCV(RandomForestClassifier(), param_grid = rf_grid_params, cv = 5, n_jobs = -1, verbose = 0)\n",
    "rf_res = rf_gs.fit(Xmp_train2D, ymp_train)"
   ]
  },
  {
   "cell_type": "code",
   "execution_count": 172,
   "metadata": {},
   "outputs": [
    {
     "name": "stdout",
     "output_type": "stream",
     "text": [
      "0.31836007130124777\n",
      "{'criterion': 'entropy', 'max_depth': 90, 'n_estimators': 42}\n",
      "Accuracy: 0.42592592592592593\n"
     ]
    }
   ],
   "source": [
    "print(rf_res.best_score_)\n",
    "print(rf_res.best_params_)\n",
    "RFy_pred = rf_res.predict(Xmp_test2D)\n",
    "print(\"Accuracy:\", accuracy_score(ymp_test, RFy_pred))"
   ]
  },
  {
   "cell_type": "code",
   "execution_count": 173,
   "metadata": {},
   "outputs": [
    {
     "name": "stdout",
     "output_type": "stream",
     "text": [
      "Fitting 5 folds for each of 130 candidates, totalling 650 fits\n"
     ]
    }
   ],
   "source": [
    "rfpca_gs = GridSearchCV(RandomForestClassifier(), rf_grid_params, verbose = 1, cv=5, n_jobs = -1)\n",
    "rfpca_res = rfpca_gs.fit(pca_train, ymp_train)"
   ]
  },
  {
   "cell_type": "code",
   "execution_count": 174,
   "metadata": {},
   "outputs": [
    {
     "name": "stdout",
     "output_type": "stream",
     "text": [
      "0.3598930481283423\n",
      "{'criterion': 'entropy', 'max_depth': None, 'n_estimators': 58}\n",
      "Accuracy: 0.05555555555555555\n"
     ]
    }
   ],
   "source": [
    "print(rfpca_res.best_score_)\n",
    "print(rfpca_res.best_params_)\n",
    "rfpcay_pred = rfpca_res.predict(pca_test)\n",
    "print(\"Accuracy:\", accuracy_score(ymp_test, rfpcay_pred))"
   ]
  },
  {
   "attachments": {},
   "cell_type": "markdown",
   "metadata": {},
   "source": [
    "# VR Solution Data"
   ]
  },
  {
   "cell_type": "code",
   "execution_count": 33,
   "metadata": {},
   "outputs": [
    {
     "data": {
      "text/plain": [
       "(213, 120, 144)"
      ]
     },
     "execution_count": 33,
     "metadata": {},
     "output_type": "execute_result"
    }
   ],
   "source": [
    "Xvr = np.load('../VR_exportdata/X_dataVR.npy')\n",
    "yvr = np.load('../VR_exportdata/y_dataVR.npy')\n",
    "\n",
    "Xvr_train, Xvr_test, yvr_train, yvr_test = train_test_split(Xvr, yvr, test_size=6*yvr.shape[1], stratify=yvr, random_state=40)\n",
    "Xvr.shape"
   ]
  },
  {
   "cell_type": "code",
   "execution_count": 35,
   "metadata": {},
   "outputs": [
    {
     "name": "stdout",
     "output_type": "stream",
     "text": [
      "(159, 120, 144)\n",
      "(54, 120, 144)\n"
     ]
    }
   ],
   "source": [
    "print(Xvr_train.shape)\n",
    "print(Xvr_test.shape)"
   ]
  },
  {
   "cell_type": "code",
   "execution_count": 36,
   "metadata": {},
   "outputs": [],
   "source": [
    "vr_full = np.array([features_2d.flatten() for features_2d in Xvr])\n",
    "Xvr_train2D = np.array([features_2d.flatten() for features_2d in Xvr_train])\n",
    "Xvr_test2D = np.array([features_2d.flatten() for features_2d in Xvr_test])"
   ]
  },
  {
   "cell_type": "code",
   "execution_count": 37,
   "metadata": {},
   "outputs": [],
   "source": [
    "pca = PCA(n_components=12)\n",
    "pcavr_train = pca.fit_transform(Xvr_train2D)\n",
    "pcavr_test = pca.fit_transform(Xvr_test2D)\n",
    "\n",
    "np.save(str( \"../VR_exportdata/\") + 'pca_trainVR', pcavr_train)\n",
    "np.save(str( \"../VR_exportdata/\") + 'y_pca_trainVR', yvr_train)\n",
    "np.save(str( \"../VR_exportdata/\") + 'pca_testVR', pcavr_test)\n",
    "np.save(str( \"../VR_exportdata/\") + 'y_pca_testVR', yvr_test)"
   ]
  },
  {
   "cell_type": "code",
   "execution_count": 46,
   "metadata": {},
   "outputs": [
    {
     "name": "stdout",
     "output_type": "stream",
     "text": [
      "(213, 9)\n"
     ]
    },
    {
     "data": {
      "image/png": "[encoded data removed]",
      "text/plain": [
       "<Figure size 640x480 with 1 Axes>"
      ]
     },
     "metadata": {},
     "output_type": "display_data"
    }
   ],
   "source": [
    "umapvr_full = umap.UMAP(n_neighbors=12, min_dist=0.9).fit_transform(vr_full)\n",
    "visualize_labels(umapvr_full, yvr, False)"
   ]
  },
  {
   "attachments": {},
   "cell_type": "markdown",
   "metadata": {},
   "source": [
    "## kNN base Data"
   ]
  },
  {
   "cell_type": "code",
   "execution_count": 163,
   "metadata": {},
   "outputs": [
    {
     "name": "stdout",
     "output_type": "stream",
     "text": [
      "Fitting 5 folds for each of 36 candidates, totalling 180 fits\n"
     ]
    }
   ],
   "source": [
    "knnvr_gs = GridSearchCV(KNeighborsClassifier(), knn_grid_params, verbose = 1, cv=5, n_jobs = -1)\n",
    "knnvr_res = knnvr_gs.fit(Xvr_train2D, yvr_train)"
   ]
  },
  {
   "cell_type": "code",
   "execution_count": 164,
   "metadata": {},
   "outputs": [
    {
     "name": "stdout",
     "output_type": "stream",
     "text": [
      "0.9493951612903226\n",
      "{'metric': 'manhattan', 'n_neighbors': 3}\n",
      "Accuracy: 0.9444444444444444\n"
     ]
    }
   ],
   "source": [
    "# find the best score\n",
    "print(knnvr_res.best_score_)\n",
    "\n",
    "# get the hyperparameters with the best score\n",
    "print(knnvr_res.best_params_)\n",
    "\n",
    "y_pred = knnvr_res.predict(Xvr_test2D)\n",
    "accuracy = accuracy_score(yvr_test, y_pred)\n",
    "print(\"Accuracy:\", accuracy)"
   ]
  },
  {
   "attachments": {},
   "cell_type": "markdown",
   "metadata": {},
   "source": [
    "## kNN PCA data"
   ]
  },
  {
   "cell_type": "code",
   "execution_count": 165,
   "metadata": {},
   "outputs": [
    {
     "name": "stdout",
     "output_type": "stream",
     "text": [
      "Fitting 5 folds for each of 36 candidates, totalling 180 fits\n"
     ]
    }
   ],
   "source": [
    "knnpcavr_gs = GridSearchCV(KNeighborsClassifier(), knn_grid_params, verbose = 1, cv=5, n_jobs = -1)\n",
    "knnpcavr_res = knnpcavr_gs.fit(pcavr_train, yvr_train)"
   ]
  },
  {
   "cell_type": "code",
   "execution_count": 166,
   "metadata": {},
   "outputs": [
    {
     "name": "stdout",
     "output_type": "stream",
     "text": [
      "0.917741935483871\n",
      "{'metric': 'minkowski', 'n_neighbors': 3}\n",
      "Accuracy: 0.5185185185185185\n"
     ]
    }
   ],
   "source": [
    "# find the best score\n",
    "print(knnpcavr_res.best_score_)\n",
    "\n",
    "# get the hyperparameters with the best score\n",
    "print(knnpcavr_res.best_params_)\n",
    "\n",
    "y_pred = knnpcavr_res.predict(pcavr_test)\n",
    "accuracy = accuracy_score(yvr_test, y_pred)\n",
    "print(\"Accuracy:\", accuracy)"
   ]
  },
  {
   "attachments": {},
   "cell_type": "markdown",
   "metadata": {},
   "source": [
    "# Random Forest\n",
    "\n",
    "## Base data"
   ]
  },
  {
   "cell_type": "code",
   "execution_count": 175,
   "metadata": {},
   "outputs": [],
   "source": [
    "rfvr_gs = GridSearchCV(RandomForestClassifier(), param_grid = rf_grid_params, cv = 5, n_jobs = -1, verbose = 0)\n",
    "rfvr_res = rfvr_gs.fit(Xvr_train2D, yvr_train)"
   ]
  },
  {
   "cell_type": "code",
   "execution_count": 178,
   "metadata": {},
   "outputs": [
    {
     "name": "stdout",
     "output_type": "stream",
     "text": [
      "0.9622983870967742\n",
      "{'criterion': 'entropy', 'max_depth': 70, 'n_estimators': 90}\n",
      "Accuracy: 0.9629629629629629\n"
     ]
    }
   ],
   "source": [
    "print(rfvr_res.best_score_)\n",
    "print(rfvr_res.best_params_)\n",
    "RFy_pred = rfvr_res.predict(Xvr_test2D)\n",
    "print(\"Accuracy:\", accuracy_score(yvr_test, RFy_pred))"
   ]
  },
  {
   "attachments": {},
   "cell_type": "markdown",
   "metadata": {},
   "source": [
    "## PCA data"
   ]
  },
  {
   "cell_type": "code",
   "execution_count": 179,
   "metadata": {},
   "outputs": [
    {
     "name": "stdout",
     "output_type": "stream",
     "text": [
      "Fitting 5 folds for each of 130 candidates, totalling 650 fits\n"
     ]
    }
   ],
   "source": [
    "rfpcavr_gs = GridSearchCV(RandomForestClassifier(), rf_grid_params, verbose = 1, cv=5, n_jobs = -1)\n",
    "rfpcavr_res = rfpcavr_gs.fit(pcavr_train, yvr_train)"
   ]
  },
  {
   "cell_type": "code",
   "execution_count": 180,
   "metadata": {},
   "outputs": [
    {
     "name": "stdout",
     "output_type": "stream",
     "text": [
      "0.8548387096774194\n",
      "{'criterion': 'entropy', 'max_depth': 110, 'n_estimators': 58}\n",
      "Accuracy: 0.14814814814814814\n"
     ]
    }
   ],
   "source": [
    "print(rfpcavr_res.best_score_)\n",
    "print(rfpcavr_res.best_params_)\n",
    "rfpcay_pred = rfpcavr_res.predict(pcavr_test)\n",
    "print(\"Accuracy:\", accuracy_score(yvr_test, rfpcay_pred))"
   ]
  }
 ],
 "metadata": {
  "kernelspec": {
   "display_name": "test-env",
   "language": "python",
   "name": "python3"
  },
  "language_info": {
   "codemirror_mode": {
    "name": "ipython",
    "version": 3
   },
   "file_extension": ".py",
   "mimetype": "text/x-python",
   "name": "python",
   "nbconvert_exporter": "python",
   "pygments_lexer": "ipython3",
   "version": "3.8.16"
  },
  "orig_nbformat": 4,
  "vscode": {
   "interpreter": {
    "hash": "be5512a89907ef199886bb726a1c1fb2884526d07d9d0dc84c8b750dd2e562f6"
   }
  }
 },
 "nbformat": 4,
 "nbformat_minor": 2
}
