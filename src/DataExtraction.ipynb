{
 "cells": [
  {
   "cell_type": "code",
   "execution_count": 28,
   "metadata": {},
   "outputs": [],
   "source": [
    "import cv2\n",
    "import numpy as np\n",
    "import os\n",
    "import mediapipe as mp"
   ]
  },
  {
   "attachments": {},
   "cell_type": "markdown",
   "metadata": {},
   "source": [
    "# This file contains all Functions and relevant code parts to extract keypoints from all videos inside of a given base Path\n",
    "\n",
    "### General important Information to be defined for running this can be seen and adjusted below:"
   ]
  },
  {
   "cell_type": "code",
   "execution_count": 2,
   "metadata": {},
   "outputs": [],
   "source": [
    "# \"Words\" contains the subset of words we make predictions for. \n",
    "words =  np.array(['hvad', 'ja', 'soed'])\n",
    "label_map = {label:num for num, label in enumerate(words)}\n",
    "\n",
    "# Base path leading to directory containing folders with videos for all signs defined in \"words\" array\n",
    "base_path = \"../tegn_subset\"\n",
    "\n",
    "# Loading holistic model and drawing utilities (needed for Mediapipe solution)\n",
    "mp_holistic = mp.solutions.holistic\n",
    "mp_drawing = mp.solutions.drawing_utils"
   ]
  },
  {
   "attachments": {},
   "cell_type": "markdown",
   "metadata": {},
   "source": [
    "## Mediapipe Helper Functions"
   ]
  },
  {
   "cell_type": "code",
   "execution_count": 3,
   "metadata": {},
   "outputs": [],
   "source": [
    "def process_image(image, model):\n",
    "    image = cv2.cvtColor(image, cv2.COLOR_BGR2RGB)\n",
    "    image.flags.writeable = False\n",
    "    results = model.process(image)\n",
    "    image.flags.writeable = True\n",
    "    image = cv2.cvtColor(image, cv2.COLOR_RGB2BGR) \n",
    "    return image, results"
   ]
  },
  {
   "cell_type": "code",
   "execution_count": 12,
   "metadata": {},
   "outputs": [],
   "source": [
    "def visualize_landmarks(image, results):\n",
    "    mp_drawing.draw_landmarks(image, results.face_landmarks, mp_holistic.FACEMESH_CONTOURS)\n",
    "    mp_drawing.draw_landmarks(image, results.pose_landmarks, mp_holistic.POSE_CONNECTIONS)\n",
    "    mp_drawing.draw_landmarks(image, results.left_hand_landmarks, mp_holistic.HAND_CONNECTIONS)\n",
    "    mp_drawing.draw_landmarks(image, results.right_hand_landmarks, mp_holistic.HAND_CONNECTIONS) "
   ]
  },
  {
   "cell_type": "code",
   "execution_count": 6,
   "metadata": {},
   "outputs": [],
   "source": [
    "def extract_keypoints(results):        \n",
    "    pose = np.array([[res.x, res.y, res.z, res.visibility] for res in results.pose_landmarks.landmark]).flatten() if results.pose_landmarks else np.zeros(33*4)\n",
    "    left_hand = np.array([[res.x, res.y, res.z] for res in results.left_hand_landmarks.landmark]).flatten() if results.left_hand_landmarks else np.zeros(21*3)\n",
    "    right_hand = np.array([[res.x, res.y, res.z] for res in results.right_hand_landmarks.landmark]).flatten() if results.right_hand_landmarks else np.zeros(21*3)\n",
    "    return np.concatenate([pose, left_hand, right_hand])"
   ]
  },
  {
   "attachments": {},
   "cell_type": "markdown",
   "metadata": {},
   "source": [
    "# Video Processing, Keypoint Extraction and Exporting Logic"
   ]
  },
  {
   "cell_type": "code",
   "execution_count": 14,
   "metadata": {},
   "outputs": [],
   "source": [
    "def video_process_export_logic(path, words, mp_holistic):\n",
    "    # Set mediapipe model \n",
    "    with mp_holistic.Holistic(min_detection_confidence=0.5, min_tracking_confidence=0.5) as holistic_model:\n",
    "        # Looping through subset of words we choose to work with \n",
    "        for word in words:\n",
    "            dir_path = path + \"/\" + str(word) + \"/\"\n",
    "            # Loop through videos\n",
    "            for video in os.listdir(dir_path):\n",
    "                if video.endswith('.mp4'):\n",
    "                    # Importing videos and extracting frame amount\n",
    "                    vid_file = cv2.VideoCapture(dir_path + str(video))\n",
    "                    frame_amount = int(vid_file.get(cv2.CAP_PROP_FRAME_COUNT))\n",
    "            \n",
    "                    # Loop through video frame sequence length\n",
    "                    for frame_nr in range(frame_amount):\n",
    "                        ret, frame = vid_file.read()\n",
    "                        image, results = process_image(frame, holistic_model)\n",
    "                        \n",
    "                        # Exporting Keypoints\n",
    "                        keypoints = extract_keypoints(results)\n",
    "                        current_directory = os.path.join(base_path, str(word) + \"_data\", str(video.split(\".\")[0]))\n",
    "\n",
    "                        # Creates needed directory if it doesn't exist already\n",
    "                        if not (os.path.exists(current_directory)):\n",
    "                            os.makedirs(current_directory)\n",
    "                        np.save(os.path.join(current_directory, word) + str(frame_nr), keypoints)\n",
    "                else:\n",
    "                    continue\n",
    "                    \n",
    "        vid_file.release()"
   ]
  },
  {
   "cell_type": "code",
   "execution_count": 9,
   "metadata": {},
   "outputs": [],
   "source": [
    "video_process_export_logic(base_path, words, mp_holistic)"
   ]
  },
  {
   "attachments": {},
   "cell_type": "markdown",
   "metadata": {},
   "source": [
    "# Extracting Keypoints for specific single Video"
   ]
  },
  {
   "cell_type": "code",
   "execution_count": null,
   "metadata": {},
   "outputs": [],
   "source": [
    "vid_path = 'test.mp4'\n",
    "\n",
    "# Set mediapipe model \n",
    "with mp_holistic.Holistic(min_detection_confidence=0.5, min_tracking_confidence=0.5) as holistic_model:\n",
    "    vid_file = cv2.VideoCapture(vid_path)\n",
    "    num_frames = int(vid_file.get(cv2.CAP_PROP_FRAME_COUNT))\n",
    "    tmp = []\n",
    "    # Loop through video length aka sequence length\n",
    "    for frame in range(num_frames):\n",
    "        ret, frame = vid_file.read()\n",
    "        image, results = process_image(frame, holistic_model)\n",
    "        \n",
    "        keypoints = extract_keypoints(results)\n",
    "        tmp.append(keypoints)\n",
    "    \n",
    "    input_testing = [np.asarray(tmp)]\n",
    "\n",
    "    testing_data = full_data_interpolation(input_testing)\n",
    "    print(testing_data.shape)\n",
    "       \n",
    "    vid_file.release()\n",
    "    cv2.destroyAllWindows()\n",
    "    cv2.waitKey(1)"
   ]
  },
  {
   "attachments": {},
   "cell_type": "markdown",
   "metadata": {},
   "source": [
    "# Testing and Visualization"
   ]
  },
  {
   "cell_type": "code",
   "execution_count": 15,
   "metadata": {},
   "outputs": [],
   "source": [
    "# Currently opening video camera feed but can be replaced by specific video file paths\n",
    "cap = cv2.VideoCapture(1)\n",
    "# Set mediapipe model \n",
    "with mp_holistic.Holistic(min_detection_confidence=0.5, min_tracking_confidence=0.5) as holistic:\n",
    "    while cap.isOpened():\n",
    "        ret, frame = cap.read()\n",
    "        image, results = process_image(frame, holistic)\n",
    "        visualize_landmarks(image, results)\n",
    "        cv2.imshow('OpenCV Feed', image)\n",
    "\n",
    "        # Break gracefully\n",
    "        if cv2.waitKey(10) & 0xFF == ord('q'):\n",
    "            break\n",
    "\n",
    "    cap.release()\n",
    "    cv2.destroyAllWindows()\n",
    "    cv2.waitKey(1)"
   ]
  }
 ],
 "metadata": {
  "kernelspec": {
   "display_name": "test-env",
   "language": "python",
   "name": "python3"
  },
  "language_info": {
   "codemirror_mode": {
    "name": "ipython",
    "version": 3
   },
   "file_extension": ".py",
   "mimetype": "text/x-python",
   "name": "python",
   "nbconvert_exporter": "python",
   "pygments_lexer": "ipython3",
   "version": "3.8.16"
  },
  "orig_nbformat": 4
 },
 "nbformat": 4,
 "nbformat_minor": 2
}
