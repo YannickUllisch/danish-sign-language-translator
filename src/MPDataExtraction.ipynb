{
 "cells": [
  {
   "cell_type": "code",
   "execution_count": 2,
   "metadata": {},
   "outputs": [
    {
     "name": "stderr",
     "output_type": "stream",
     "text": [
      "objc[12100]: Class CaptureDelegate is implemented in both /Users/yannick/opt/anaconda3/envs/test-env/lib/python3.8/site-packages/cv2/cv2.abi3.so (0x1356124d0) and /Users/yannick/opt/anaconda3/envs/test-env/lib/python3.8/site-packages/mediapipe/.dylibs/libopencv_videoio.3.4.16.dylib (0x131798860). One of the two will be used. Which one is undefined.\n",
      "objc[12100]: Class CVWindow is implemented in both /Users/yannick/opt/anaconda3/envs/test-env/lib/python3.8/site-packages/cv2/cv2.abi3.so (0x135612520) and /Users/yannick/opt/anaconda3/envs/test-env/lib/python3.8/site-packages/mediapipe/.dylibs/libopencv_highgui.3.4.16.dylib (0x112df0a68). One of the two will be used. Which one is undefined.\n",
      "objc[12100]: Class CVView is implemented in both /Users/yannick/opt/anaconda3/envs/test-env/lib/python3.8/site-packages/cv2/cv2.abi3.so (0x135612548) and /Users/yannick/opt/anaconda3/envs/test-env/lib/python3.8/site-packages/mediapipe/.dylibs/libopencv_highgui.3.4.16.dylib (0x112df0a90). One of the two will be used. Which one is undefined.\n",
      "objc[12100]: Class CVSlider is implemented in both /Users/yannick/opt/anaconda3/envs/test-env/lib/python3.8/site-packages/cv2/cv2.abi3.so (0x135612570) and /Users/yannick/opt/anaconda3/envs/test-env/lib/python3.8/site-packages/mediapipe/.dylibs/libopencv_highgui.3.4.16.dylib (0x112df0ab8). One of the two will be used. Which one is undefined.\n"
     ]
    }
   ],
   "source": [
    "import cv2\n",
    "import numpy as np\n",
    "import os\n",
    "import mediapipe as mp"
   ]
  },
  {
   "attachments": {},
   "cell_type": "markdown",
   "metadata": {},
   "source": [
    "# This file contains all Functions and relevant code parts to extract keypoints from all videos inside of a given base Path\n",
    "\n",
    "### General important Information to be defined for running this can be seen and adjusted below:"
   ]
  },
  {
   "attachments": {},
   "cell_type": "markdown",
   "metadata": {},
   "source": [
    "## Mediapipe Helper Functions"
   ]
  },
  {
   "cell_type": "code",
   "execution_count": 3,
   "metadata": {},
   "outputs": [],
   "source": [
    "def process_image(image, model):\n",
    "    image = cv2.cvtColor(image, cv2.COLOR_BGR2RGB)\n",
    "    image.flags.writeable = False\n",
    "    results = model.process(image)\n",
    "    image.flags.writeable = True\n",
    "    image = cv2.cvtColor(image, cv2.COLOR_RGB2BGR) \n",
    "    return image, results"
   ]
  },
  {
   "cell_type": "code",
   "execution_count": 4,
   "metadata": {},
   "outputs": [],
   "source": [
    "def visualize_landmarks(image, results):\n",
    "    #mp.solutions.drawing_utils.draw_landmarks(image, results.face_landmarks, mp.solutions.holistic.FACEMESH_CONTOURS)\n",
    "    mp.solutions.drawing_utils.draw_landmarks(image, results.pose_landmarks, mp.solutions.holistic.POSE_CONNECTIONS)\n",
    "    mp.solutions.drawing_utils.draw_landmarks(image, results.left_hand_landmarks, mp.solutions.holistic.HAND_CONNECTIONS)\n",
    "    mp.solutions.drawing_utils.draw_landmarks(image, results.right_hand_landmarks, mp.solutions.holistic.HAND_CONNECTIONS) "
   ]
  },
  {
   "cell_type": "code",
   "execution_count": 5,
   "metadata": {},
   "outputs": [],
   "source": [
    "def extract_keypoints(results):        \n",
    "    pose = np.array([[res.x, res.y, res.z, res.visibility] for res in results.pose_landmarks.landmark]).flatten() if results.pose_landmarks else np.zeros(33*4)\n",
    "    left_hand = np.array([[res.x, res.y, res.z] for res in results.left_hand_landmarks.landmark]).flatten() if results.left_hand_landmarks else np.zeros(21*3)\n",
    "    right_hand = np.array([[res.x, res.y, res.z] for res in results.right_hand_landmarks.landmark]).flatten() if results.right_hand_landmarks else np.zeros(21*3)\n",
    "    return np.concatenate([pose, left_hand, right_hand])"
   ]
  },
  {
   "attachments": {},
   "cell_type": "markdown",
   "metadata": {},
   "source": [
    "# Video Processing, Keypoint Extraction and Exporting Logic"
   ]
  },
  {
   "cell_type": "code",
   "execution_count": 6,
   "metadata": {},
   "outputs": [],
   "source": [
    "def mp_db_processing(path, words):\n",
    "    # Set mediapipe model \n",
    "    with mp.solutions.holistic.Holistic(min_detection_confidence=0.5, min_tracking_confidence=0.5) as holistic_model:\n",
    "        # Looping through subset of words we choose to work with \n",
    "        for word in words:\n",
    "            dir_path = path + \"/\" + str(word) + \"/\"\n",
    "            # Loop through videos\n",
    "            for video in os.listdir(dir_path):\n",
    "                if video.endswith('.mp4'):\n",
    "                    # Importing videos and extracting frame amount\n",
    "                    vid_file = cv2.VideoCapture(dir_path + str(video))\n",
    "                    frame_amount = int(vid_file.get(cv2.CAP_PROP_FRAME_COUNT))\n",
    "            \n",
    "                    # Loop through video frame sequence length\n",
    "                    for frame_nr in range(frame_amount):\n",
    "                        ret, frame = vid_file.read()\n",
    "                        image, results = process_image(frame, holistic_model)\n",
    "                        \n",
    "                        # Exporting Keypoints\n",
    "                        keypoints = extract_keypoints(results)\n",
    "\n",
    "                        # Creating 'word'_data folder if it does not exist \n",
    "                        _datadir = os.path.join(path, str(word) + \"_data\")\n",
    "                        if not (os.path.exists(_datadir)):\n",
    "                            os.makedirs(_datadir)\n",
    "                        \n",
    "                        current_directory = os.path.join(_datadir , str(video.split(\".\")[0]))\n",
    "\n",
    "                        # Creates needed directory if it doesn't exist already\n",
    "                        if not (os.path.exists(current_directory)):\n",
    "                            os.makedirs(current_directory)\n",
    "                        np.save(os.path.join(current_directory, word) + str(frame_nr), keypoints)\n",
    "                else:\n",
    "                    continue\n",
    "                    \n",
    "        vid_file.release()"
   ]
  },
  {
   "cell_type": "code",
   "execution_count": 30,
   "metadata": {},
   "outputs": [],
   "source": [
    "'''\n",
    "path = os.path.join(os.getcwd(), \"../extended_subset\")\n",
    "words =  np.array(['hvad', 'ja', 'soed', 'mange', 'nej', 'nu', 'fordi', 'koebe', 'tid'])\n",
    "mp_db_processing(path, words)\n",
    "'''"
   ]
  },
  {
   "attachments": {},
   "cell_type": "markdown",
   "metadata": {},
   "source": [
    "# Extracting Keypoints for specific single Video"
   ]
  },
  {
   "cell_type": "code",
   "execution_count": 6,
   "metadata": {},
   "outputs": [],
   "source": [
    "def mp_sv_processing(vid_path):\n",
    "    # Set mediapipe model \n",
    "    with mp.solutions.holistic.Holistic(min_detection_confidence=0.5, min_tracking_confidence=0.5) as holistic_model:\n",
    "        vid_file = cv2.VideoCapture(vid_path)\n",
    "        num_frames = int(vid_file.get(cv2.CAP_PROP_FRAME_COUNT))\n",
    "        keypoint_data = []\n",
    "        # Loop through video length aka sequence length\n",
    "        for frame in range(num_frames):\n",
    "            ret, frame = vid_file.read()\n",
    "            image, results = process_image(frame, holistic_model)\n",
    "            \n",
    "            keypoints = extract_keypoints(results)\n",
    "            keypoint_data.append(keypoints)\n",
    "        \n",
    "        vid_file.release()\n",
    "\n",
    "    return np.asarray(keypoint_data)"
   ]
  },
  {
   "attachments": {},
   "cell_type": "markdown",
   "metadata": {},
   "source": [
    "# Testing and Visualization"
   ]
  },
  {
   "cell_type": "code",
   "execution_count": 7,
   "metadata": {},
   "outputs": [],
   "source": [
    "def visualize_video_extraction(path):\n",
    "    # Currently opening video camera feed but can be replaced by specific video file paths\n",
    "    cap = cv2.VideoCapture(path)\n",
    "    # Set mediapipe model \n",
    "    with mp.solutions.holistic.Holistic(min_detection_confidence=0.5, min_tracking_confidence=0.5) as holistic:\n",
    "        while cap.isOpened():\n",
    "            ret, frame = cap.read()\n",
    "            image, results = process_image(frame, holistic)\n",
    "            visualize_landmarks(image, results)\n",
    "            cv2.imshow('OpenCV Feed', image)\n",
    "\n",
    "            # Break gracefully\n",
    "            if cv2.waitKey(10) & 0xFF == ord('q'):\n",
    "                break\n",
    "\n",
    "        cap.release()\n",
    "        cv2.destroyAllWindows()\n",
    "        cv2.waitKey(1)"
   ]
  },
  {
   "cell_type": "code",
   "execution_count": 6,
   "metadata": {},
   "outputs": [],
   "source": [
    "def testing(vid_path, path):\n",
    "    # Set mediapipe model \n",
    "    with mp.solutions.holistic.Holistic(min_detection_confidence=0.5, min_tracking_confidence=0.5) as holistic_model:\n",
    "        vid_file = cv2.VideoCapture(vid_path)\n",
    "        num_frames = int(vid_file.get(cv2.CAP_PROP_FRAME_COUNT))\n",
    "        keypoint_data = []\n",
    "        # Loop through video length aka sequence length\n",
    "        for frame in range(num_frames):\n",
    "            ret, frame = vid_file.read()\n",
    "            image, results = process_image(frame, holistic_model)\n",
    "            \n",
    "            visualize_landmarks(image, results)\n",
    "            cv2.imshow(path, image)\n",
    "            keypoints = extract_keypoints(results)\n",
    "            keypoint_data.append(keypoints)\n",
    "\n",
    "            # Break gracefully\n",
    "            if cv2.waitKey(10) & 0xFF == ord('q'):\n",
    "                break\n",
    "        \n",
    "        vid_file.release()\n",
    "        cv2.destroyAllWindows()\n",
    "        cv2.waitKey(1)\n"
   ]
  },
  {
   "cell_type": "code",
   "execution_count": 52,
   "metadata": {},
   "outputs": [],
   "source": [
    "# Fordi32 is a good example for pose landmarks bugging out\n",
    "#testing(\"../extended_subset/fordi/fordi32.mp4\", \"\")\n",
    "\n",
    "testing(\"../extended_subset/nej/nej25.mp4\", \"\")"
   ]
  },
  {
   "cell_type": "code",
   "execution_count": 23,
   "metadata": {},
   "outputs": [
    {
     "name": "stderr",
     "output_type": "stream",
     "text": [
      "OpenCV: Couldn't read video stream from file \"/Users/yannick/Library/Mobile Documents/com~apple~CloudDocs/Documents/GitHub/danish-sign-language-translator/src/../extended_subset/fordi/fordi15\"\n",
      "OpenCV: Couldn't read video stream from file \"/Users/yannick/Library/Mobile Documents/com~apple~CloudDocs/Documents/GitHub/danish-sign-language-translator/src/../extended_subset/fordi/fordi6\"\n",
      "[mov,mp4,m4a,3gp,3g2,mj2 @ 0x28341a600] moov atom not found\n",
      "OpenCV: Couldn't read video stream from file \"/Users/yannick/Library/Mobile Documents/com~apple~CloudDocs/Documents/GitHub/danish-sign-language-translator/src/../extended_subset/fordi/fordi11.mov\"\n"
     ]
    }
   ],
   "source": [
    "'''\n",
    "#dir_path= \"../extended_data/soed\"\n",
    "dir_path = os.path.join(os.getcwd(), \"../extended_subset/fordi\")\n",
    "for path in os.listdir(dir_path):\n",
    "    # check if current path is a file\n",
    "    if os.path.isfile(os.path.join(dir_path, path)):\n",
    "        testing(os.path.join(dir_path, path), path)\n",
    "        print\n",
    "'''"
   ]
  }
 ],
 "metadata": {
  "kernelspec": {
   "display_name": "test-env",
   "language": "python",
   "name": "python3"
  },
  "language_info": {
   "codemirror_mode": {
    "name": "ipython",
    "version": 3
   },
   "file_extension": ".py",
   "mimetype": "text/x-python",
   "name": "python",
   "nbconvert_exporter": "python",
   "pygments_lexer": "ipython3",
   "version": "3.8.16"
  },
  "orig_nbformat": 4
 },
 "nbformat": 4,
 "nbformat_minor": 2
}
