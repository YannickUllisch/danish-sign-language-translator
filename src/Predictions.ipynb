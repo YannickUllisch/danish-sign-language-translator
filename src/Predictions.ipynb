{
 "cells": [
  {
   "cell_type": "code",
   "execution_count": 4,
   "metadata": {},
   "outputs": [],
   "source": [
    "import tensorflow as tf\n",
    "from tensorflow import keras\n",
    "from tensorflow.keras.models import load_model\n",
    "import numpy as np\n",
    "import matplotlib.pyplot as plt\n",
    "from sklearn.metrics import confusion_matrix\n",
    "from sklearn.metrics import accuracy_score"
   ]
  },
  {
   "attachments": {},
   "cell_type": "markdown",
   "metadata": {},
   "source": [
    "# Importing relevant Testing Data and NN model Weights"
   ]
  },
  {
   "cell_type": "code",
   "execution_count": 5,
   "metadata": {},
   "outputs": [],
   "source": [
    "def import_data(import_path):\n",
    "    savedMod = load_model(str(import_path) + \"nn_model4.h5\")\n",
    "    X_test = np.load(str(import_path) + \"X_test4.npy\")\n",
    "    y_test = np.load(str(import_path) + \"y_test4.npy\")\n",
    "    return savedMod, X_test, y_test"
   ]
  },
  {
   "cell_type": "code",
   "execution_count": 6,
   "metadata": {},
   "outputs": [],
   "source": [
    "def nn_statistics(model, X_test, y_test):\n",
    "    y_pred = model.predict(X_test)\n",
    "    y_pred = tf.argmax(y_pred, axis=1)\n",
    "    y_test = tf.argmax(y_test, axis=1)\n",
    "\n",
    "    #Normalized confusion matris\n",
    "    conf_matrix = confusion_matrix(y_test, y_pred, normalize='true')\n",
    "    print(conf_matrix)\n",
    "    print()\n",
    "    print(accuracy_score(y_test, y_pred))"
   ]
  },
  {
   "cell_type": "code",
   "execution_count": 7,
   "metadata": {},
   "outputs": [],
   "source": [
    "import numpy as np\n",
    "# \"Words\" contains the subset of words we make predictions for. \n",
    "threewordsubset =  np.array(['hvad', 'ja', 'soed'])\n",
    "words =  np.array(['hvad', 'ja', 'soed', 'mange', 'nej', 'nu', 'fordi', 'koebe', 'tid'])\n",
    "label_map = {label:num for num, label in enumerate(words)}\n",
    "\n",
    "# Base path leading to directory containing folders with videos for all signs defined in \"words\" array\n",
    "base_path = \"../extended_subset\"\n",
    "\n",
    "# Path for saving processed Data Arrays\n",
    "proc_data_path = \"../export_data/\""
   ]
  },
  {
   "cell_type": "code",
   "execution_count": 11,
   "metadata": {},
   "outputs": [],
   "source": [
    "model, X_test, y_test = import_data(proc_data_path)\n"
   ]
  },
  {
   "cell_type": "code",
   "execution_count": 12,
   "metadata": {},
   "outputs": [
    {
     "name": "stdout",
     "output_type": "stream",
     "text": [
      "2/2 [==============================] - 0s 8ms/step\n"
     ]
    },
    {
     "ename": "InvalidArgumentError",
     "evalue": "{{function_node __wrapped__ArgMax_device_/job:localhost/replica:0/task:0/device:CPU:0}} Expected dimension in the range [-1, 1), but got 1 [Op:ArgMax]",
     "output_type": "error",
     "traceback": [
      "\u001b[0;31m---------------------------------------------------------------------------\u001b[0m",
      "\u001b[0;31mInvalidArgumentError\u001b[0m                      Traceback (most recent call last)",
      "\u001b[1;32m/Users/miamayalykke/BachelorProjekt/Git/danish-sign-language-translator/src/Predictions.ipynb Cell 7\u001b[0m in \u001b[0;36m<cell line: 1>\u001b[0;34m()\u001b[0m\n\u001b[0;32m----> <a href='vscode-notebook-cell:/Users/miamayalykke/BachelorProjekt/Git/danish-sign-language-translator/src/Predictions.ipynb#W6sZmlsZQ%3D%3D?line=0'>1</a>\u001b[0m nn_statistics(model, X_test, y_test)\n",
      "\u001b[1;32m/Users/miamayalykke/BachelorProjekt/Git/danish-sign-language-translator/src/Predictions.ipynb Cell 7\u001b[0m in \u001b[0;36mnn_statistics\u001b[0;34m(model, X_test, y_test)\u001b[0m\n\u001b[1;32m      <a href='vscode-notebook-cell:/Users/miamayalykke/BachelorProjekt/Git/danish-sign-language-translator/src/Predictions.ipynb#W6sZmlsZQ%3D%3D?line=1'>2</a>\u001b[0m y_pred \u001b[39m=\u001b[39m model\u001b[39m.\u001b[39mpredict(X_test)\n\u001b[1;32m      <a href='vscode-notebook-cell:/Users/miamayalykke/BachelorProjekt/Git/danish-sign-language-translator/src/Predictions.ipynb#W6sZmlsZQ%3D%3D?line=2'>3</a>\u001b[0m y_pred \u001b[39m=\u001b[39m tf\u001b[39m.\u001b[39margmax(y_pred, axis\u001b[39m=\u001b[39m\u001b[39m1\u001b[39m)\n\u001b[0;32m----> <a href='vscode-notebook-cell:/Users/miamayalykke/BachelorProjekt/Git/danish-sign-language-translator/src/Predictions.ipynb#W6sZmlsZQ%3D%3D?line=3'>4</a>\u001b[0m y_test \u001b[39m=\u001b[39m tf\u001b[39m.\u001b[39;49margmax(y_test, axis\u001b[39m=\u001b[39;49m\u001b[39m1\u001b[39;49m)\n\u001b[1;32m      <a href='vscode-notebook-cell:/Users/miamayalykke/BachelorProjekt/Git/danish-sign-language-translator/src/Predictions.ipynb#W6sZmlsZQ%3D%3D?line=5'>6</a>\u001b[0m \u001b[39m#Normalized confusion matris\u001b[39;00m\n\u001b[1;32m      <a href='vscode-notebook-cell:/Users/miamayalykke/BachelorProjekt/Git/danish-sign-language-translator/src/Predictions.ipynb#W6sZmlsZQ%3D%3D?line=6'>7</a>\u001b[0m conf_matrix \u001b[39m=\u001b[39m confusion_matrix(y_test, y_pred, normalize\u001b[39m=\u001b[39m\u001b[39m'\u001b[39m\u001b[39mtrue\u001b[39m\u001b[39m'\u001b[39m)\n",
      "File \u001b[0;32m~/opt/anaconda3/lib/python3.9/site-packages/tensorflow/python/util/traceback_utils.py:153\u001b[0m, in \u001b[0;36mfilter_traceback.<locals>.error_handler\u001b[0;34m(*args, **kwargs)\u001b[0m\n\u001b[1;32m    151\u001b[0m \u001b[39mexcept\u001b[39;00m \u001b[39mException\u001b[39;00m \u001b[39mas\u001b[39;00m e:\n\u001b[1;32m    152\u001b[0m   filtered_tb \u001b[39m=\u001b[39m _process_traceback_frames(e\u001b[39m.\u001b[39m__traceback__)\n\u001b[0;32m--> 153\u001b[0m   \u001b[39mraise\u001b[39;00m e\u001b[39m.\u001b[39mwith_traceback(filtered_tb) \u001b[39mfrom\u001b[39;00m \u001b[39mNone\u001b[39m\n\u001b[1;32m    154\u001b[0m \u001b[39mfinally\u001b[39;00m:\n\u001b[1;32m    155\u001b[0m   \u001b[39mdel\u001b[39;00m filtered_tb\n",
      "File \u001b[0;32m~/opt/anaconda3/lib/python3.9/site-packages/tensorflow/python/framework/ops.py:7215\u001b[0m, in \u001b[0;36mraise_from_not_ok_status\u001b[0;34m(e, name)\u001b[0m\n\u001b[1;32m   7213\u001b[0m \u001b[39mdef\u001b[39;00m \u001b[39mraise_from_not_ok_status\u001b[39m(e, name):\n\u001b[1;32m   7214\u001b[0m   e\u001b[39m.\u001b[39mmessage \u001b[39m+\u001b[39m\u001b[39m=\u001b[39m (\u001b[39m\"\u001b[39m\u001b[39m name: \u001b[39m\u001b[39m\"\u001b[39m \u001b[39m+\u001b[39m name \u001b[39mif\u001b[39;00m name \u001b[39mis\u001b[39;00m \u001b[39mnot\u001b[39;00m \u001b[39mNone\u001b[39;00m \u001b[39melse\u001b[39;00m \u001b[39m\"\u001b[39m\u001b[39m\"\u001b[39m)\n\u001b[0;32m-> 7215\u001b[0m   \u001b[39mraise\u001b[39;00m core\u001b[39m.\u001b[39m_status_to_exception(e) \u001b[39mfrom\u001b[39;00m \u001b[39mNone\u001b[39m\n",
      "\u001b[0;31mInvalidArgumentError\u001b[0m: {{function_node __wrapped__ArgMax_device_/job:localhost/replica:0/task:0/device:CPU:0}} Expected dimension in the range [-1, 1), but got 1 [Op:ArgMax]"
     ]
    }
   ],
   "source": [
    "nn_statistics(model, X_test, y_test)"
   ]
  }
 ],
 "metadata": {
  "kernelspec": {
   "display_name": "base",
   "language": "python",
   "name": "python3"
  },
  "language_info": {
   "codemirror_mode": {
    "name": "ipython",
    "version": 3
   },
   "file_extension": ".py",
   "mimetype": "text/x-python",
   "name": "python",
   "nbconvert_exporter": "python",
   "pygments_lexer": "ipython3",
   "version": "3.9.13"
  },
  "orig_nbformat": 4,
  "vscode": {
   "interpreter": {
    "hash": "1d6ca838ec19a1ef0fcffd5ba496eff168d279d78b33b0e8a22fb193ba15bf52"
   }
  }
 },
 "nbformat": 4,
 "nbformat_minor": 2
}
