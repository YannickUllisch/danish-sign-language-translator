{
 "cells": [
  {
   "cell_type": "markdown",
   "metadata": {},
   "source": [
    "## Installations needed for Erda to work"
   ]
  },
  {
   "cell_type": "code",
   "execution_count": 18,
   "metadata": {},
   "outputs": [
    {
     "name": "stdout",
     "output_type": "stream",
     "text": [
      "Requirement already satisfied: pip in /opt/conda/envs/python3/lib/python3.8/site-packages (23.1.2)\n",
      "Requirement already satisfied: tensorflow in /opt/conda/envs/python3/lib/python3.8/site-packages (2.12.0)\n",
      "Requirement already satisfied: tensorboard in /opt/conda/envs/python3/lib/python3.8/site-packages (2.12.3)\n",
      "Collecting tensorboard\n",
      "  Using cached tensorboard-2.13.0-py3-none-any.whl (5.6 MB)\n",
      "Requirement already satisfied: mediapipe in /opt/conda/envs/python3/lib/python3.8/site-packages (0.10.0)\n",
      "Requirement already satisfied: plotly in /opt/conda/envs/python3/lib/python3.8/site-packages (5.14.1)\n",
      "Requirement already satisfied: scikeras in /opt/conda/envs/python3/lib/python3.8/site-packages (0.10.0)\n",
      "Requirement already satisfied: tensorrt in /opt/conda/envs/python3/lib/python3.8/site-packages (8.6.1)\n",
      "Requirement already satisfied: absl-py>=1.0.0 in /opt/conda/envs/python3/lib/python3.8/site-packages (from tensorflow) (1.4.0)\n",
      "Requirement already satisfied: astunparse>=1.6.0 in /opt/conda/envs/python3/lib/python3.8/site-packages (from tensorflow) (1.6.3)\n",
      "Requirement already satisfied: flatbuffers>=2.0 in /opt/conda/envs/python3/lib/python3.8/site-packages (from tensorflow) (23.5.26)\n",
      "Requirement already satisfied: gast<=0.4.0,>=0.2.1 in /opt/conda/envs/python3/lib/python3.8/site-packages (from tensorflow) (0.4.0)\n",
      "Requirement already satisfied: google-pasta>=0.1.1 in /opt/conda/envs/python3/lib/python3.8/site-packages (from tensorflow) (0.2.0)\n",
      "Requirement already satisfied: grpcio<2.0,>=1.24.3 in /opt/conda/envs/python3/lib/python3.8/site-packages (from tensorflow) (1.54.2)\n",
      "Requirement already satisfied: h5py>=2.9.0 in /opt/conda/envs/python3/lib/python3.8/site-packages (from tensorflow) (3.8.0)\n",
      "Requirement already satisfied: jax>=0.3.15 in /opt/conda/envs/python3/lib/python3.8/site-packages (from tensorflow) (0.4.7)\n",
      "Requirement already satisfied: keras<2.13,>=2.12.0 in /opt/conda/envs/python3/lib/python3.8/site-packages (from tensorflow) (2.12.0)\n",
      "Requirement already satisfied: libclang>=13.0.0 in /opt/conda/envs/python3/lib/python3.8/site-packages (from tensorflow) (16.0.0)\n",
      "Requirement already satisfied: numpy<1.24,>=1.22 in /opt/conda/envs/python3/lib/python3.8/site-packages (from tensorflow) (1.23.5)\n",
      "Requirement already satisfied: opt-einsum>=2.3.2 in /opt/conda/envs/python3/lib/python3.8/site-packages (from tensorflow) (3.3.0)\n",
      "Requirement already satisfied: packaging in /opt/conda/envs/python3/lib/python3.8/site-packages (from tensorflow) (23.0)\n",
      "Requirement already satisfied: protobuf!=4.21.0,!=4.21.1,!=4.21.2,!=4.21.3,!=4.21.4,!=4.21.5,<5.0.0dev,>=3.20.3 in /opt/conda/envs/python3/lib/python3.8/site-packages (from tensorflow) (3.20.3)\n",
      "Requirement already satisfied: setuptools in /opt/conda/envs/python3/lib/python3.8/site-packages (from tensorflow) (67.4.0)\n",
      "Requirement already satisfied: six>=1.12.0 in /opt/conda/envs/python3/lib/python3.8/site-packages (from tensorflow) (1.16.0)\n",
      "Requirement already satisfied: tensorflow-estimator<2.13,>=2.12.0 in /opt/conda/envs/python3/lib/python3.8/site-packages (from tensorflow) (2.12.0)\n",
      "Requirement already satisfied: termcolor>=1.1.0 in /opt/conda/envs/python3/lib/python3.8/site-packages (from tensorflow) (2.3.0)\n",
      "Requirement already satisfied: typing-extensions>=3.6.6 in /opt/conda/envs/python3/lib/python3.8/site-packages (from tensorflow) (4.4.0)\n",
      "Requirement already satisfied: wrapt<1.15,>=1.11.0 in /opt/conda/envs/python3/lib/python3.8/site-packages (from tensorflow) (1.14.1)\n",
      "Requirement already satisfied: tensorflow-io-gcs-filesystem>=0.23.1 in /opt/conda/envs/python3/lib/python3.8/site-packages (from tensorflow) (0.32.0)\n",
      "Requirement already satisfied: google-auth<3,>=1.6.3 in /opt/conda/envs/python3/lib/python3.8/site-packages (from tensorboard) (2.19.0)\n",
      "Requirement already satisfied: google-auth-oauthlib<1.1,>=0.5 in /opt/conda/envs/python3/lib/python3.8/site-packages (from tensorboard) (1.0.0)\n",
      "Requirement already satisfied: markdown>=2.6.8 in /opt/conda/envs/python3/lib/python3.8/site-packages (from tensorboard) (3.4.3)\n",
      "Requirement already satisfied: requests<3,>=2.21.0 in /opt/conda/envs/python3/lib/python3.8/site-packages (from tensorboard) (2.28.2)\n",
      "Requirement already satisfied: tensorboard-data-server<0.8.0,>=0.7.0 in /opt/conda/envs/python3/lib/python3.8/site-packages (from tensorboard) (0.7.0)\n",
      "Requirement already satisfied: werkzeug>=1.0.1 in /opt/conda/envs/python3/lib/python3.8/site-packages (from tensorboard) (2.3.4)\n",
      "Requirement already satisfied: wheel>=0.26 in /opt/conda/envs/python3/lib/python3.8/site-packages (from tensorboard) (0.38.4)\n",
      "Requirement already satisfied: attrs>=19.1.0 in /opt/conda/envs/python3/lib/python3.8/site-packages (from mediapipe) (22.2.0)\n",
      "Requirement already satisfied: matplotlib in /opt/conda/envs/python3/lib/python3.8/site-packages (from mediapipe) (3.7.0)\n",
      "Requirement already satisfied: opencv-contrib-python in /opt/conda/envs/python3/lib/python3.8/site-packages (from mediapipe) (4.7.0.72)\n",
      "Requirement already satisfied: sounddevice>=0.4.4 in /opt/conda/envs/python3/lib/python3.8/site-packages (from mediapipe) (0.4.6)\n",
      "Requirement already satisfied: tenacity>=6.2.0 in /opt/conda/envs/python3/lib/python3.8/site-packages (from plotly) (8.2.2)\n",
      "Requirement already satisfied: scikit-learn>=1.0.0 in /opt/conda/envs/python3/lib/python3.8/site-packages (from scikeras) (1.2.2)\n",
      "Requirement already satisfied: cachetools<6.0,>=2.0.0 in /opt/conda/envs/python3/lib/python3.8/site-packages (from google-auth<3,>=1.6.3->tensorboard) (5.3.0)\n",
      "Requirement already satisfied: pyasn1-modules>=0.2.1 in /opt/conda/envs/python3/lib/python3.8/site-packages (from google-auth<3,>=1.6.3->tensorboard) (0.3.0)\n",
      "Requirement already satisfied: rsa<5,>=3.1.4 in /opt/conda/envs/python3/lib/python3.8/site-packages (from google-auth<3,>=1.6.3->tensorboard) (4.9)\n",
      "Requirement already satisfied: urllib3<2.0 in /opt/conda/envs/python3/lib/python3.8/site-packages (from google-auth<3,>=1.6.3->tensorboard) (1.26.15)\n",
      "Requirement already satisfied: requests-oauthlib>=0.7.0 in /opt/conda/envs/python3/lib/python3.8/site-packages (from google-auth-oauthlib<1.1,>=0.5->tensorboard) (1.3.1)\n",
      "Requirement already satisfied: ml-dtypes>=0.0.3 in /opt/conda/envs/python3/lib/python3.8/site-packages (from jax>=0.3.15->tensorflow) (0.0.4)\n",
      "Requirement already satisfied: scipy>=1.7 in /opt/conda/envs/python3/lib/python3.8/site-packages (from jax>=0.3.15->tensorflow) (1.9.1)\n",
      "Requirement already satisfied: importlib-metadata>=4.4 in /opt/conda/envs/python3/lib/python3.8/site-packages (from markdown>=2.6.8->tensorboard) (6.0.0)\n",
      "Requirement already satisfied: charset-normalizer<4,>=2 in /opt/conda/envs/python3/lib/python3.8/site-packages (from requests<3,>=2.21.0->tensorboard) (3.1.0)\n",
      "Requirement already satisfied: idna<4,>=2.5 in /opt/conda/envs/python3/lib/python3.8/site-packages (from requests<3,>=2.21.0->tensorboard) (3.4)\n",
      "Requirement already satisfied: certifi>=2017.4.17 in /opt/conda/envs/python3/lib/python3.8/site-packages (from requests<3,>=2.21.0->tensorboard) (2022.12.7)\n",
      "Requirement already satisfied: joblib>=1.1.1 in /opt/conda/envs/python3/lib/python3.8/site-packages (from scikit-learn>=1.0.0->scikeras) (1.2.0)\n",
      "Requirement already satisfied: threadpoolctl>=2.0.0 in /opt/conda/envs/python3/lib/python3.8/site-packages (from scikit-learn>=1.0.0->scikeras) (3.1.0)\n",
      "Requirement already satisfied: CFFI>=1.0 in /opt/conda/envs/python3/lib/python3.8/site-packages (from sounddevice>=0.4.4->mediapipe) (1.15.1)\n",
      "Requirement already satisfied: MarkupSafe>=2.1.1 in /opt/conda/envs/python3/lib/python3.8/site-packages (from werkzeug>=1.0.1->tensorboard) (2.1.2)\n",
      "Requirement already satisfied: contourpy>=1.0.1 in /opt/conda/envs/python3/lib/python3.8/site-packages (from matplotlib->mediapipe) (1.0.7)\n",
      "Requirement already satisfied: cycler>=0.10 in /opt/conda/envs/python3/lib/python3.8/site-packages (from matplotlib->mediapipe) (0.11.0)\n",
      "Requirement already satisfied: fonttools>=4.22.0 in /opt/conda/envs/python3/lib/python3.8/site-packages (from matplotlib->mediapipe) (4.38.0)\n",
      "Requirement already satisfied: kiwisolver>=1.0.1 in /opt/conda/envs/python3/lib/python3.8/site-packages (from matplotlib->mediapipe) (1.4.4)\n",
      "Requirement already satisfied: pillow>=6.2.0 in /opt/conda/envs/python3/lib/python3.8/site-packages (from matplotlib->mediapipe) (9.4.0)\n",
      "Requirement already satisfied: pyparsing>=2.3.1 in /opt/conda/envs/python3/lib/python3.8/site-packages (from matplotlib->mediapipe) (3.0.9)\n",
      "Requirement already satisfied: python-dateutil>=2.7 in /opt/conda/envs/python3/lib/python3.8/site-packages (from matplotlib->mediapipe) (2.8.2)\n",
      "Requirement already satisfied: importlib-resources>=3.2.0 in /opt/conda/envs/python3/lib/python3.8/site-packages (from matplotlib->mediapipe) (5.12.0)\n",
      "Requirement already satisfied: pycparser in /opt/conda/envs/python3/lib/python3.8/site-packages (from CFFI>=1.0->sounddevice>=0.4.4->mediapipe) (2.21)\n",
      "Requirement already satisfied: zipp>=0.5 in /opt/conda/envs/python3/lib/python3.8/site-packages (from importlib-metadata>=4.4->markdown>=2.6.8->tensorboard) (3.15.0)\n",
      "Requirement already satisfied: pyasn1<0.6.0,>=0.4.6 in /opt/conda/envs/python3/lib/python3.8/site-packages (from pyasn1-modules>=0.2.1->google-auth<3,>=1.6.3->tensorboard) (0.5.0)\n",
      "Requirement already satisfied: oauthlib>=3.0.0 in /opt/conda/envs/python3/lib/python3.8/site-packages (from requests-oauthlib>=0.7.0->google-auth-oauthlib<1.1,>=0.5->tensorboard) (3.2.2)\n"
     ]
    }
   ],
   "source": [
    "!pip install -U pip tensorflow tensorboard mediapipe tensorflow plotly scikeras tensorrt scikeras"
   ]
  },
  {
   "cell_type": "code",
   "execution_count": 66,
   "metadata": {},
   "outputs": [],
   "source": [
    "import numpy as np\n",
    "import os\n",
    "import time\n",
    "import matplotlib.pyplot as plt\n",
    "import seaborn as sn\n",
    "import pandas as pd\n",
    "\n",
    "\n",
    "# Used to create training and testing data\n",
    "from sklearn.model_selection import train_test_split\n",
    "from sklearn.model_selection import cross_val_score\n",
    "\n",
    "# Used for Neural Network\n",
    "import tensorflow as tf\n",
    "from tensorflow.keras.models import Sequential\n",
    "from tensorflow.keras.layers import LSTM, Dense, Flatten\n",
    "from tensorflow.keras.callbacks import TensorBoard\n",
    "import keras\n",
    "#Used for parameter tuning\n",
    "from sklearn.model_selection import GridSearchCV\n",
    "from scikeras.wrappers import KerasClassifier\n",
    "from keras.optimizers import Adam, SGD, RMSprop\n",
    "from sklearn.experimental import enable_halving_search_cv\n",
    "from sklearn.model_selection import HalvingGridSearchCV\n",
    "\n",
    "#For accuracy\n",
    "from sklearn.metrics import confusion_matrix\n",
    "from sklearn.metrics import accuracy_score"
   ]
  },
  {
   "cell_type": "code",
   "execution_count": 20,
   "metadata": {},
   "outputs": [
    {
     "data": {
      "text/plain": [
       "'/home/jovyan/work/Test/src'"
      ]
     },
     "execution_count": 20,
     "metadata": {},
     "output_type": "execute_result"
    }
   ],
   "source": [
    "os.getcwd()"
   ]
  },
  {
   "cell_type": "markdown",
   "metadata": {},
   "source": [
    "# 1. Importing and Splitting Data"
   ]
  },
  {
   "cell_type": "code",
   "execution_count": 41,
   "metadata": {},
   "outputs": [],
   "source": [
    "X = np.load('../export_data/X_data.npy')\n",
    "y = np.load('../export_data/y_data.npy')\n"
   ]
  },
  {
   "cell_type": "code",
   "execution_count": 42,
   "metadata": {},
   "outputs": [
    {
     "name": "stdout",
     "output_type": "stream",
     "text": [
      "(221, 151, 258)\n"
     ]
    }
   ],
   "source": [
    "print(X.shape)"
   ]
  },
  {
   "cell_type": "code",
   "execution_count": 43,
   "metadata": {},
   "outputs": [
    {
     "data": {
      "text/plain": [
       "(221, 151, 258)"
      ]
     },
     "execution_count": 43,
     "metadata": {},
     "output_type": "execute_result"
    }
   ],
   "source": [
    "X_train, X_test, y_train, y_test = train_test_split(X, y, test_size=6*y.shape[1], stratify=y, random_state=40)\n",
    "X.shape\n"
   ]
  },
  {
   "cell_type": "code",
   "execution_count": 24,
   "metadata": {},
   "outputs": [
    {
     "name": "stdout",
     "output_type": "stream",
     "text": [
      "Number of words in 0 category: 5\n",
      "Number of words in 1 category: 5\n",
      "Number of words in 2 category: 6\n",
      "Number of words in 3 category: 6\n",
      "Number of words in 4 category: 6\n",
      "Number of words in 5 category: 6\n",
      "Number of words in 6 category: 8\n",
      "Number of words in 7 category: 7\n",
      "Number of words in 8 category: 5\n"
     ]
    }
   ],
   "source": [
    "for i in range (y_train.shape[1]):\n",
    "    print(\"Number of words in \" + str(i) + \" category: \" + str(np.count_nonzero(y_test[:,i])))"
   ]
  },
  {
   "cell_type": "markdown",
   "metadata": {},
   "source": [
    "# 2. Neural Network Implementation\n",
    "\n",
    "### Saving Logs"
   ]
  },
  {
   "cell_type": "code",
   "execution_count": 67,
   "metadata": {},
   "outputs": [],
   "source": [
    "tracing_logs = TensorBoard(os.path.join('Logs'))"
   ]
  },
  {
   "cell_type": "markdown",
   "metadata": {},
   "source": [
    "### LSTM Implementation"
   ]
  },
  {
   "cell_type": "code",
   "execution_count": null,
   "metadata": {},
   "outputs": [],
   "source": [
    "def create_model(neurons):\n",
    "    model = Sequential()\n",
    "    model.add(LSTM(neurons, return_sequences=True, activation='relu', input_shape=(151,258)))\n",
    "    model.add(Flatten())\n",
    "    model.add(Dense(y.shape[1], activation='softmax'))\n",
    "    model.compile(optimizer=\"Adam\", loss='categorical_crossentropy', metrics=['categorical_accuracy'])\n",
    "    return model\n",
    "model = KerasClassifier(model=create_model, verbose=0)\n"
   ]
  },
  {
   "cell_type": "code",
   "execution_count": null,
   "metadata": {},
   "outputs": [],
   "source": [
    "# define the grid search parameters\n",
    "neurons = [8, 16, 32, 64]\n",
    "learn_rate = [0.001, 0.01, 0.1]\n",
    "epochs = [50, 100]\n",
    "param_grid = dict(model__neurons=neurons, optimizer__learning_rate=learn_rate, epochs=epochs)\n",
    "search = GridSearchCV(estimator=model, param_grid=param_grid, cv=5)\n",
    "\n",
    "search.fit(X_train, y_train)"
   ]
  },
  {
   "cell_type": "code",
   "execution_count": null,
   "metadata": {},
   "outputs": [],
   "source": [
    "search.best_score_\n"
   ]
  },
  {
   "cell_type": "code",
   "execution_count": null,
   "metadata": {},
   "outputs": [],
   "source": [
    "search.best_params_\n"
   ]
  },
  {
   "cell_type": "code",
   "execution_count": 78,
   "metadata": {},
   "outputs": [
    {
     "name": "stdout",
     "output_type": "stream",
     "text": [
      "Epoch 1/100\n",
      "6/6 [==============================] - 2s 93ms/step - loss: 2.2591 - categorical_accuracy: 0.2695\n",
      "Epoch 2/100\n",
      "6/6 [==============================] - 1s 96ms/step - loss: 1.9829 - categorical_accuracy: 0.3593\n",
      "Epoch 3/100\n",
      "6/6 [==============================] - 1s 95ms/step - loss: 1.7240 - categorical_accuracy: 0.4012\n",
      "Epoch 4/100\n",
      "6/6 [==============================] - 1s 96ms/step - loss: 1.5150 - categorical_accuracy: 0.4551\n",
      "Epoch 5/100\n",
      "6/6 [==============================] - 1s 98ms/step - loss: 1.2053 - categorical_accuracy: 0.5928\n",
      "Epoch 6/100\n",
      "6/6 [==============================] - 1s 95ms/step - loss: 0.9773 - categorical_accuracy: 0.7186\n",
      "Epoch 7/100\n",
      "6/6 [==============================] - 1s 93ms/step - loss: 1.1019 - categorical_accuracy: 0.6228\n",
      "Epoch 8/100\n",
      "6/6 [==============================] - 1s 96ms/step - loss: 0.9358 - categorical_accuracy: 0.6766\n",
      "Epoch 9/100\n",
      "6/6 [==============================] - 1s 94ms/step - loss: 0.7756 - categorical_accuracy: 0.7186\n",
      "Epoch 10/100\n",
      "6/6 [==============================] - 1s 95ms/step - loss: 0.6156 - categorical_accuracy: 0.7844\n",
      "Epoch 11/100\n",
      "6/6 [==============================] - 1s 95ms/step - loss: 0.5680 - categorical_accuracy: 0.8144\n",
      "Epoch 12/100\n",
      "6/6 [==============================] - 1s 99ms/step - loss: 0.4296 - categorical_accuracy: 0.8623\n",
      "Epoch 13/100\n",
      "6/6 [==============================] - 1s 93ms/step - loss: 0.2902 - categorical_accuracy: 0.9162\n",
      "Epoch 14/100\n",
      "6/6 [==============================] - 1s 94ms/step - loss: 0.3047 - categorical_accuracy: 0.8922\n",
      "Epoch 15/100\n",
      "6/6 [==============================] - 1s 94ms/step - loss: 0.2512 - categorical_accuracy: 0.9222\n",
      "Epoch 16/100\n",
      "6/6 [==============================] - 1s 97ms/step - loss: 0.4911 - categorical_accuracy: 0.8383\n",
      "Epoch 17/100\n",
      "6/6 [==============================] - 1s 94ms/step - loss: 0.5187 - categorical_accuracy: 0.8204\n",
      "Epoch 18/100\n",
      "6/6 [==============================] - 1s 95ms/step - loss: 0.4924 - categorical_accuracy: 0.8443\n",
      "Epoch 19/100\n",
      "6/6 [==============================] - 1s 98ms/step - loss: 0.4171 - categorical_accuracy: 0.8743\n",
      "Epoch 20/100\n",
      "6/6 [==============================] - 1s 95ms/step - loss: 0.2964 - categorical_accuracy: 0.9042\n",
      "Epoch 21/100\n",
      "6/6 [==============================] - 1s 98ms/step - loss: 0.1974 - categorical_accuracy: 0.9281\n",
      "Epoch 22/100\n",
      "6/6 [==============================] - 1s 97ms/step - loss: 0.1780 - categorical_accuracy: 0.9281\n",
      "Epoch 23/100\n",
      "6/6 [==============================] - 1s 98ms/step - loss: 0.1902 - categorical_accuracy: 0.9521\n",
      "Epoch 24/100\n",
      "6/6 [==============================] - 1s 93ms/step - loss: 0.1703 - categorical_accuracy: 0.9401\n",
      "Epoch 25/100\n",
      "6/6 [==============================] - 1s 95ms/step - loss: 0.1788 - categorical_accuracy: 0.9461\n",
      "Epoch 26/100\n",
      "6/6 [==============================] - 1s 100ms/step - loss: 0.0765 - categorical_accuracy: 0.9820\n",
      "Epoch 27/100\n",
      "6/6 [==============================] - 1s 95ms/step - loss: 0.0535 - categorical_accuracy: 0.9820\n",
      "Epoch 28/100\n",
      "6/6 [==============================] - 1s 93ms/step - loss: 0.0292 - categorical_accuracy: 0.9940\n",
      "Epoch 29/100\n",
      "6/6 [==============================] - 1s 95ms/step - loss: 0.0169 - categorical_accuracy: 1.0000\n",
      "Epoch 30/100\n",
      "6/6 [==============================] - 1s 97ms/step - loss: 0.0186 - categorical_accuracy: 1.0000\n",
      "Epoch 31/100\n",
      "6/6 [==============================] - 1s 97ms/step - loss: 0.0288 - categorical_accuracy: 0.9940\n",
      "Epoch 32/100\n",
      "6/6 [==============================] - 1s 96ms/step - loss: 0.0166 - categorical_accuracy: 1.0000\n",
      "Epoch 33/100\n",
      "6/6 [==============================] - 1s 93ms/step - loss: 0.0183 - categorical_accuracy: 0.9940\n",
      "Epoch 34/100\n",
      "6/6 [==============================] - 1s 95ms/step - loss: 0.0228 - categorical_accuracy: 0.9940\n",
      "Epoch 35/100\n",
      "6/6 [==============================] - 1s 95ms/step - loss: 0.0310 - categorical_accuracy: 0.9880\n",
      "Epoch 36/100\n",
      "6/6 [==============================] - 1s 97ms/step - loss: 0.1063 - categorical_accuracy: 0.9701\n",
      "Epoch 37/100\n",
      "6/6 [==============================] - 1s 98ms/step - loss: 0.0993 - categorical_accuracy: 0.9641\n",
      "Epoch 38/100\n",
      "6/6 [==============================] - 1s 101ms/step - loss: 0.0968 - categorical_accuracy: 0.9701\n",
      "Epoch 39/100\n",
      "6/6 [==============================] - 1s 95ms/step - loss: 0.0811 - categorical_accuracy: 0.9880\n",
      "Epoch 40/100\n",
      "6/6 [==============================] - 1s 95ms/step - loss: 0.1461 - categorical_accuracy: 0.9521\n",
      "Epoch 41/100\n",
      "6/6 [==============================] - 1s 94ms/step - loss: 0.2240 - categorical_accuracy: 0.9401\n",
      "Epoch 42/100\n",
      "6/6 [==============================] - 1s 100ms/step - loss: 0.1755 - categorical_accuracy: 0.9341\n",
      "Epoch 43/100\n",
      "6/6 [==============================] - 1s 96ms/step - loss: 0.0776 - categorical_accuracy: 0.9820\n",
      "Epoch 44/100\n",
      "6/6 [==============================] - 1s 100ms/step - loss: 0.0684 - categorical_accuracy: 0.9820\n",
      "Epoch 45/100\n",
      "6/6 [==============================] - 1s 99ms/step - loss: 0.0290 - categorical_accuracy: 0.9940\n",
      "Epoch 46/100\n",
      "6/6 [==============================] - 1s 99ms/step - loss: 0.0175 - categorical_accuracy: 1.0000\n",
      "Epoch 47/100\n",
      "6/6 [==============================] - 1s 98ms/step - loss: 0.0176 - categorical_accuracy: 0.9940\n",
      "Epoch 48/100\n",
      "6/6 [==============================] - 1s 98ms/step - loss: 0.0141 - categorical_accuracy: 0.9940\n",
      "Epoch 49/100\n",
      "6/6 [==============================] - 1s 97ms/step - loss: 0.0065 - categorical_accuracy: 1.0000\n",
      "Epoch 50/100\n",
      "6/6 [==============================] - 1s 97ms/step - loss: 0.0029 - categorical_accuracy: 1.0000\n",
      "Epoch 51/100\n",
      "6/6 [==============================] - 1s 100ms/step - loss: 0.0022 - categorical_accuracy: 1.0000\n",
      "Epoch 52/100\n",
      "6/6 [==============================] - 1s 94ms/step - loss: 0.0022 - categorical_accuracy: 1.0000\n",
      "Epoch 53/100\n",
      "6/6 [==============================] - 1s 96ms/step - loss: 0.0018 - categorical_accuracy: 1.0000\n",
      "Epoch 54/100\n",
      "6/6 [==============================] - 1s 100ms/step - loss: 0.0012 - categorical_accuracy: 1.0000\n",
      "Epoch 55/100\n",
      "6/6 [==============================] - 1s 93ms/step - loss: 8.8800e-04 - categorical_accuracy: 1.0000\n",
      "Epoch 56/100\n",
      "6/6 [==============================] - 1s 96ms/step - loss: 7.5731e-04 - categorical_accuracy: 1.0000\n",
      "Epoch 57/100\n",
      "6/6 [==============================] - 1s 98ms/step - loss: 6.6171e-04 - categorical_accuracy: 1.0000\n",
      "Epoch 58/100\n",
      "6/6 [==============================] - 1s 94ms/step - loss: 5.9764e-04 - categorical_accuracy: 1.0000\n",
      "Epoch 59/100\n",
      "6/6 [==============================] - 1s 94ms/step - loss: 5.4357e-04 - categorical_accuracy: 1.0000\n",
      "Epoch 60/100\n",
      "6/6 [==============================] - 1s 91ms/step - loss: 5.0816e-04 - categorical_accuracy: 1.0000\n",
      "Epoch 61/100\n",
      "6/6 [==============================] - 1s 96ms/step - loss: 4.7657e-04 - categorical_accuracy: 1.0000\n",
      "Epoch 62/100\n",
      "6/6 [==============================] - 1s 94ms/step - loss: 4.4636e-04 - categorical_accuracy: 1.0000\n",
      "Epoch 63/100\n",
      "6/6 [==============================] - 1s 98ms/step - loss: 4.2590e-04 - categorical_accuracy: 1.0000\n",
      "Epoch 64/100\n",
      "6/6 [==============================] - 1s 95ms/step - loss: 4.0748e-04 - categorical_accuracy: 1.0000\n",
      "Epoch 65/100\n",
      "6/6 [==============================] - 1s 96ms/step - loss: 3.8969e-04 - categorical_accuracy: 1.0000\n",
      "Epoch 66/100\n",
      "6/6 [==============================] - 1s 94ms/step - loss: 3.6933e-04 - categorical_accuracy: 1.0000\n",
      "Epoch 67/100\n",
      "6/6 [==============================] - 1s 95ms/step - loss: 3.5849e-04 - categorical_accuracy: 1.0000\n",
      "Epoch 68/100\n",
      "6/6 [==============================] - 1s 94ms/step - loss: 3.4448e-04 - categorical_accuracy: 1.0000\n",
      "Epoch 69/100\n",
      "6/6 [==============================] - 1s 98ms/step - loss: 3.3072e-04 - categorical_accuracy: 1.0000\n",
      "Epoch 70/100\n",
      "6/6 [==============================] - 1s 97ms/step - loss: 3.1669e-04 - categorical_accuracy: 1.0000\n",
      "Epoch 71/100\n",
      "6/6 [==============================] - 1s 98ms/step - loss: 3.0512e-04 - categorical_accuracy: 1.0000\n",
      "Epoch 72/100\n",
      "6/6 [==============================] - 1s 95ms/step - loss: 2.9426e-04 - categorical_accuracy: 1.0000\n",
      "Epoch 73/100\n",
      "6/6 [==============================] - 1s 97ms/step - loss: 2.8482e-04 - categorical_accuracy: 1.0000\n",
      "Epoch 74/100\n",
      "6/6 [==============================] - 1s 95ms/step - loss: 2.7289e-04 - categorical_accuracy: 1.0000\n",
      "Epoch 75/100\n",
      "6/6 [==============================] - 1s 96ms/step - loss: 2.6485e-04 - categorical_accuracy: 1.0000\n",
      "Epoch 76/100\n",
      "6/6 [==============================] - 1s 98ms/step - loss: 2.5693e-04 - categorical_accuracy: 1.0000\n",
      "Epoch 77/100\n",
      "6/6 [==============================] - 1s 94ms/step - loss: 2.4763e-04 - categorical_accuracy: 1.0000\n",
      "Epoch 78/100\n",
      "6/6 [==============================] - 1s 96ms/step - loss: 2.4037e-04 - categorical_accuracy: 1.0000\n",
      "Epoch 79/100\n",
      "6/6 [==============================] - 1s 91ms/step - loss: 2.3282e-04 - categorical_accuracy: 1.0000\n",
      "Epoch 80/100\n",
      "6/6 [==============================] - 1s 95ms/step - loss: 2.2601e-04 - categorical_accuracy: 1.0000\n",
      "Epoch 81/100\n",
      "6/6 [==============================] - 1s 95ms/step - loss: 2.1933e-04 - categorical_accuracy: 1.0000\n",
      "Epoch 82/100\n",
      "6/6 [==============================] - 1s 99ms/step - loss: 2.1185e-04 - categorical_accuracy: 1.0000\n",
      "Epoch 83/100\n",
      "6/6 [==============================] - 1s 99ms/step - loss: 2.0600e-04 - categorical_accuracy: 1.0000\n",
      "Epoch 84/100\n",
      "6/6 [==============================] - 1s 98ms/step - loss: 1.9973e-04 - categorical_accuracy: 1.0000\n",
      "Epoch 85/100\n",
      "6/6 [==============================] - 1s 99ms/step - loss: 1.9437e-04 - categorical_accuracy: 1.0000\n",
      "Epoch 86/100\n",
      "6/6 [==============================] - 1s 97ms/step - loss: 1.8932e-04 - categorical_accuracy: 1.0000\n",
      "Epoch 87/100\n",
      "6/6 [==============================] - 1s 100ms/step - loss: 1.8427e-04 - categorical_accuracy: 1.0000\n",
      "Epoch 88/100\n",
      "6/6 [==============================] - 1s 101ms/step - loss: 1.7879e-04 - categorical_accuracy: 1.0000\n",
      "Epoch 89/100\n",
      "6/6 [==============================] - 1s 98ms/step - loss: 1.7439e-04 - categorical_accuracy: 1.0000\n",
      "Epoch 90/100\n",
      "6/6 [==============================] - 1s 101ms/step - loss: 1.7044e-04 - categorical_accuracy: 1.0000\n",
      "Epoch 91/100\n",
      "6/6 [==============================] - 1s 102ms/step - loss: 1.6571e-04 - categorical_accuracy: 1.0000\n",
      "Epoch 92/100\n",
      "6/6 [==============================] - 1s 99ms/step - loss: 1.6192e-04 - categorical_accuracy: 1.0000\n",
      "Epoch 93/100\n",
      "6/6 [==============================] - 1s 94ms/step - loss: 1.5737e-04 - categorical_accuracy: 1.0000\n",
      "Epoch 94/100\n",
      "6/6 [==============================] - 1s 95ms/step - loss: 1.5428e-04 - categorical_accuracy: 1.0000\n",
      "Epoch 95/100\n",
      "6/6 [==============================] - 1s 96ms/step - loss: 1.5065e-04 - categorical_accuracy: 1.0000\n",
      "Epoch 96/100\n",
      "6/6 [==============================] - 1s 98ms/step - loss: 1.4730e-04 - categorical_accuracy: 1.0000\n",
      "Epoch 97/100\n",
      "6/6 [==============================] - 1s 98ms/step - loss: 1.4380e-04 - categorical_accuracy: 1.0000\n",
      "Epoch 98/100\n",
      "6/6 [==============================] - 1s 94ms/step - loss: 1.4006e-04 - categorical_accuracy: 1.0000\n",
      "Epoch 99/100\n",
      "6/6 [==============================] - 1s 96ms/step - loss: 1.3681e-04 - categorical_accuracy: 1.0000\n",
      "Epoch 100/100\n",
      "6/6 [==============================] - 1s 92ms/step - loss: 1.3412e-04 - categorical_accuracy: 1.0000\n"
     ]
    }
   ],
   "source": [
    "\n",
    "model = Sequential()\n",
    "model.add(LSTM(16, return_sequences=True, activation='relu', input_shape=(151,258)))\n",
    "model.add(Flatten())\n",
    "model.add(Dense(y.shape[1], activation='softmax'))\n",
    "optimizer = keras.optimizers.Adam(learning_rate=0.01)\n",
    "model.compile(optimizer=optimizer, loss='categorical_crossentropy', metrics=['categorical_accuracy'])\n",
    "history = model.fit(X_train, y_train, epochs = 100, callbacks = [tracing_logs])\n"
   ]
  },
  {
   "cell_type": "markdown",
   "metadata": {},
   "source": [
    "# 3. Visualizing Epoch progress of NN"
   ]
  },
  {
   "cell_type": "code",
   "execution_count": 85,
   "metadata": {},
   "outputs": [
    {
     "name": "stdout",
     "output_type": "stream",
     "text": [
      "Train: 0.937\n"
     ]
    },
    {
     "data": {
      "image/png": "[encoded data removed]",
      "text/plain": [
       "<Figure size 640x480 with 2 Axes>"
      ]
     },
     "metadata": {},
     "output_type": "display_data"
    }
   ],
   "source": [
    "# evaluate the model\n",
    "_, train_acc = model.evaluate(X, y, verbose=0)\n",
    "print('Train: %.3f' % (train_acc))\n",
    "# plot loss during training\n",
    "plt.subplot(211)\n",
    "plt.title('Loss')\n",
    "plt.plot(history.history['loss'], label='train')\n",
    "plt.legend()\n",
    "# plot accuracy during training\n",
    "plt.subplot(212)\n",
    "plt.tight_layout(pad=1.0)\n",
    "plt.title('Accuracy')\n",
    "plt.plot(history.history['categorical_accuracy'], label='train')\n",
    "plt.legend()\n",
    "plt.savefig('MediapipeAccuracyPlot.png')"
   ]
  },
  {
   "cell_type": "markdown",
   "metadata": {},
   "source": [
    "# 3. Saving complete NN model"
   ]
  },
  {
   "cell_type": "code",
   "execution_count": 82,
   "metadata": {},
   "outputs": [],
   "source": [
    "model.save('../export_data/nn_model.h5')\n",
    "np.save('../export_data/X_test', X_test)\n",
    "np.save('../export_data/y_test', y_test)\n",
    "np.save('../export_data/X_train', X_train)\n",
    "np.save('../export_data/y_train', y_train)"
   ]
  },
  {
   "cell_type": "code",
   "execution_count": 87,
   "metadata": {},
   "outputs": [
    {
     "name": "stdout",
     "output_type": "stream",
     "text": [
      "2/2 [==============================] - 0s 26ms/step\n"
     ]
    },
    {
     "data": {
      "image/png": "[encoded data removed]",
      "text/plain": [
       "<Figure size 640x480 with 2 Axes>"
      ]
     },
     "metadata": {},
     "output_type": "display_data"
    }
   ],
   "source": [
    "y_pred = model.predict(X_test)\n",
    "y_pred = tf.argmax(y_pred, axis=1)\n",
    "conf_matrix = confusion_matrix(y_test, y_pred, normalize='true')\n",
    "df_cm = pd.DataFrame(conf_matrix, range(9), range(9))\n",
    "# plt.figure(figsize=(10,7))\n",
    "sn.set(font_scale=1.4) # for label size\n",
    "sn.heatmap(df_cm, annot=True, annot_kws={\"size\": 16}) # font size\n",
    "\n",
    "plt.show()\n"
   ]
  },
  {
   "cell_type": "code",
   "execution_count": 81,
   "metadata": {},
   "outputs": [
    {
     "data": {
      "text/plain": [
       "0.7407407407407407"
      ]
     },
     "execution_count": 81,
     "metadata": {},
     "output_type": "execute_result"
    }
   ],
   "source": [
    "accuracy_score(y_test, y_pred)"
   ]
  }
 ],
 "metadata": {
  "kernelspec": {
   "display_name": "Python 3 (ipykernel)",
   "language": "python",
   "name": "python3"
  },
  "language_info": {
   "codemirror_mode": {
    "name": "ipython",
    "version": 3
   },
   "file_extension": ".py",
   "mimetype": "text/x-python",
   "name": "python",
   "nbconvert_exporter": "python",
   "pygments_lexer": "ipython3",
   "version": "3.8.16"
  }
 },
 "nbformat": 4,
 "nbformat_minor": 4
}
