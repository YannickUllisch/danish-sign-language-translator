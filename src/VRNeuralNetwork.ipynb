{
 "cells": [
  {
   "attachments": {},
   "cell_type": "markdown",
   "metadata": {},
   "source": [
    "## Installations needed for Erda to work"
   ]
  },
  {
   "cell_type": "code",
   "execution_count": 11,
   "metadata": {},
   "outputs": [
    {
     "name": "stdout",
     "output_type": "stream",
     "text": [
      "Requirement already satisfied: pip in /opt/conda/envs/python3/lib/python3.8/site-packages (23.1.2)\n",
      "Requirement already satisfied: tensorflow in /opt/conda/envs/python3/lib/python3.8/site-packages (2.12.0)\n",
      "Requirement already satisfied: tensorboard in /opt/conda/envs/python3/lib/python3.8/site-packages (2.12.2)\n",
      "Requirement already satisfied: absl-py>=1.0.0 in /opt/conda/envs/python3/lib/python3.8/site-packages (from tensorflow) (1.4.0)\n",
      "Requirement already satisfied: astunparse>=1.6.0 in /opt/conda/envs/python3/lib/python3.8/site-packages (from tensorflow) (1.6.3)\n",
      "Requirement already satisfied: flatbuffers>=2.0 in /opt/conda/envs/python3/lib/python3.8/site-packages (from tensorflow) (23.3.3)\n",
      "Requirement already satisfied: gast<=0.4.0,>=0.2.1 in /opt/conda/envs/python3/lib/python3.8/site-packages (from tensorflow) (0.4.0)\n",
      "Requirement already satisfied: google-pasta>=0.1.1 in /opt/conda/envs/python3/lib/python3.8/site-packages (from tensorflow) (0.2.0)\n",
      "Requirement already satisfied: grpcio<2.0,>=1.24.3 in /opt/conda/envs/python3/lib/python3.8/site-packages (from tensorflow) (1.54.0)\n",
      "Requirement already satisfied: h5py>=2.9.0 in /opt/conda/envs/python3/lib/python3.8/site-packages (from tensorflow) (3.8.0)\n",
      "Requirement already satisfied: jax>=0.3.15 in /opt/conda/envs/python3/lib/python3.8/site-packages (from tensorflow) (0.4.7)\n",
      "Requirement already satisfied: keras<2.13,>=2.12.0 in /opt/conda/envs/python3/lib/python3.8/site-packages (from tensorflow) (2.12.0)\n",
      "Requirement already satisfied: libclang>=13.0.0 in /opt/conda/envs/python3/lib/python3.8/site-packages (from tensorflow) (16.0.0)\n",
      "Requirement already satisfied: numpy<1.24,>=1.22 in /opt/conda/envs/python3/lib/python3.8/site-packages (from tensorflow) (1.23.5)\n",
      "Requirement already satisfied: opt-einsum>=2.3.2 in /opt/conda/envs/python3/lib/python3.8/site-packages (from tensorflow) (3.3.0)\n",
      "Requirement already satisfied: packaging in /opt/conda/envs/python3/lib/python3.8/site-packages (from tensorflow) (23.0)\n",
      "Requirement already satisfied: protobuf!=4.21.0,!=4.21.1,!=4.21.2,!=4.21.3,!=4.21.4,!=4.21.5,<5.0.0dev,>=3.20.3 in /opt/conda/envs/python3/lib/python3.8/site-packages (from tensorflow) (3.20.3)\n",
      "Requirement already satisfied: setuptools in /opt/conda/envs/python3/lib/python3.8/site-packages (from tensorflow) (67.4.0)\n",
      "Requirement already satisfied: six>=1.12.0 in /opt/conda/envs/python3/lib/python3.8/site-packages (from tensorflow) (1.16.0)\n",
      "Requirement already satisfied: tensorflow-estimator<2.13,>=2.12.0 in /opt/conda/envs/python3/lib/python3.8/site-packages (from tensorflow) (2.12.0)\n",
      "Requirement already satisfied: termcolor>=1.1.0 in /opt/conda/envs/python3/lib/python3.8/site-packages (from tensorflow) (2.3.0)\n",
      "Requirement already satisfied: typing-extensions>=3.6.6 in /opt/conda/envs/python3/lib/python3.8/site-packages (from tensorflow) (4.4.0)\n",
      "Requirement already satisfied: wrapt<1.15,>=1.11.0 in /opt/conda/envs/python3/lib/python3.8/site-packages (from tensorflow) (1.14.1)\n",
      "Requirement already satisfied: tensorflow-io-gcs-filesystem>=0.23.1 in /opt/conda/envs/python3/lib/python3.8/site-packages (from tensorflow) (0.32.0)\n",
      "Requirement already satisfied: google-auth<3,>=1.6.3 in /opt/conda/envs/python3/lib/python3.8/site-packages (from tensorboard) (2.17.3)\n",
      "Requirement already satisfied: google-auth-oauthlib<1.1,>=0.5 in /opt/conda/envs/python3/lib/python3.8/site-packages (from tensorboard) (1.0.0)\n",
      "Requirement already satisfied: markdown>=2.6.8 in /opt/conda/envs/python3/lib/python3.8/site-packages (from tensorboard) (3.4.3)\n",
      "Requirement already satisfied: requests<3,>=2.21.0 in /opt/conda/envs/python3/lib/python3.8/site-packages (from tensorboard) (2.28.2)\n",
      "Requirement already satisfied: tensorboard-data-server<0.8.0,>=0.7.0 in /opt/conda/envs/python3/lib/python3.8/site-packages (from tensorboard) (0.7.0)\n",
      "Requirement already satisfied: tensorboard-plugin-wit>=1.6.0 in /opt/conda/envs/python3/lib/python3.8/site-packages (from tensorboard) (1.8.1)\n",
      "Requirement already satisfied: werkzeug>=1.0.1 in /opt/conda/envs/python3/lib/python3.8/site-packages (from tensorboard) (2.3.0)\n",
      "Requirement already satisfied: wheel>=0.26 in /opt/conda/envs/python3/lib/python3.8/site-packages (from tensorboard) (0.38.4)\n",
      "Requirement already satisfied: cachetools<6.0,>=2.0.0 in /opt/conda/envs/python3/lib/python3.8/site-packages (from google-auth<3,>=1.6.3->tensorboard) (5.3.0)\n",
      "Requirement already satisfied: pyasn1-modules>=0.2.1 in /opt/conda/envs/python3/lib/python3.8/site-packages (from google-auth<3,>=1.6.3->tensorboard) (0.3.0)\n",
      "Requirement already satisfied: rsa<5,>=3.1.4 in /opt/conda/envs/python3/lib/python3.8/site-packages (from google-auth<3,>=1.6.3->tensorboard) (4.9)\n",
      "Requirement already satisfied: requests-oauthlib>=0.7.0 in /opt/conda/envs/python3/lib/python3.8/site-packages (from google-auth-oauthlib<1.1,>=0.5->tensorboard) (1.3.1)\n",
      "Requirement already satisfied: ml-dtypes>=0.0.3 in /opt/conda/envs/python3/lib/python3.8/site-packages (from jax>=0.3.15->tensorflow) (0.0.4)\n",
      "Requirement already satisfied: scipy>=1.7 in /opt/conda/envs/python3/lib/python3.8/site-packages (from jax>=0.3.15->tensorflow) (1.9.1)\n",
      "Requirement already satisfied: importlib-metadata>=4.4 in /opt/conda/envs/python3/lib/python3.8/site-packages (from markdown>=2.6.8->tensorboard) (6.0.0)\n",
      "Requirement already satisfied: charset-normalizer<4,>=2 in /opt/conda/envs/python3/lib/python3.8/site-packages (from requests<3,>=2.21.0->tensorboard) (3.1.0)\n",
      "Requirement already satisfied: idna<4,>=2.5 in /opt/conda/envs/python3/lib/python3.8/site-packages (from requests<3,>=2.21.0->tensorboard) (3.4)\n",
      "Requirement already satisfied: urllib3<1.27,>=1.21.1 in /opt/conda/envs/python3/lib/python3.8/site-packages (from requests<3,>=2.21.0->tensorboard) (1.26.15)\n",
      "Requirement already satisfied: certifi>=2017.4.17 in /opt/conda/envs/python3/lib/python3.8/site-packages (from requests<3,>=2.21.0->tensorboard) (2022.12.7)\n",
      "Requirement already satisfied: MarkupSafe>=2.1.1 in /opt/conda/envs/python3/lib/python3.8/site-packages (from werkzeug>=1.0.1->tensorboard) (2.1.2)\n",
      "Requirement already satisfied: zipp>=0.5 in /opt/conda/envs/python3/lib/python3.8/site-packages (from importlib-metadata>=4.4->markdown>=2.6.8->tensorboard) (3.15.0)\n",
      "Requirement already satisfied: pyasn1<0.6.0,>=0.4.6 in /opt/conda/envs/python3/lib/python3.8/site-packages (from pyasn1-modules>=0.2.1->google-auth<3,>=1.6.3->tensorboard) (0.5.0)\n",
      "Requirement already satisfied: oauthlib>=3.0.0 in /opt/conda/envs/python3/lib/python3.8/site-packages (from requests-oauthlib>=0.7.0->google-auth-oauthlib<1.1,>=0.5->tensorboard) (3.2.2)\n",
      "Note: you may need to restart the kernel to use updated packages.\n"
     ]
    }
   ],
   "source": [
    "pip install -U pip tensorflow tensorboard"
   ]
  },
  {
   "cell_type": "code",
   "execution_count": 12,
   "metadata": {},
   "outputs": [
    {
     "name": "stdout",
     "output_type": "stream",
     "text": [
      "Requirement already satisfied: mediapipe in /opt/conda/envs/python3/lib/python3.8/site-packages (0.9.3.0)\n",
      "Requirement already satisfied: tensorflow in /opt/conda/envs/python3/lib/python3.8/site-packages (2.12.0)\n",
      "Requirement already satisfied: plotly in /opt/conda/envs/python3/lib/python3.8/site-packages (5.14.1)\n",
      "Requirement already satisfied: absl-py in /opt/conda/envs/python3/lib/python3.8/site-packages (from mediapipe) (1.4.0)\n",
      "Requirement already satisfied: attrs>=19.1.0 in /opt/conda/envs/python3/lib/python3.8/site-packages (from mediapipe) (22.2.0)\n",
      "Requirement already satisfied: flatbuffers>=2.0 in /opt/conda/envs/python3/lib/python3.8/site-packages (from mediapipe) (23.3.3)\n",
      "Requirement already satisfied: matplotlib in /opt/conda/envs/python3/lib/python3.8/site-packages (from mediapipe) (3.7.0)\n",
      "Requirement already satisfied: numpy in /opt/conda/envs/python3/lib/python3.8/site-packages (from mediapipe) (1.23.5)\n",
      "Requirement already satisfied: opencv-contrib-python in /opt/conda/envs/python3/lib/python3.8/site-packages (from mediapipe) (4.7.0.72)\n",
      "Requirement already satisfied: protobuf<4,>=3.11 in /opt/conda/envs/python3/lib/python3.8/site-packages (from mediapipe) (3.20.3)\n",
      "Requirement already satisfied: sounddevice>=0.4.4 in /opt/conda/envs/python3/lib/python3.8/site-packages (from mediapipe) (0.4.6)\n",
      "Requirement already satisfied: astunparse>=1.6.0 in /opt/conda/envs/python3/lib/python3.8/site-packages (from tensorflow) (1.6.3)\n",
      "Requirement already satisfied: gast<=0.4.0,>=0.2.1 in /opt/conda/envs/python3/lib/python3.8/site-packages (from tensorflow) (0.4.0)\n",
      "Requirement already satisfied: google-pasta>=0.1.1 in /opt/conda/envs/python3/lib/python3.8/site-packages (from tensorflow) (0.2.0)\n",
      "Requirement already satisfied: grpcio<2.0,>=1.24.3 in /opt/conda/envs/python3/lib/python3.8/site-packages (from tensorflow) (1.54.0)\n",
      "Requirement already satisfied: h5py>=2.9.0 in /opt/conda/envs/python3/lib/python3.8/site-packages (from tensorflow) (3.8.0)\n",
      "Requirement already satisfied: jax>=0.3.15 in /opt/conda/envs/python3/lib/python3.8/site-packages (from tensorflow) (0.4.7)\n",
      "Requirement already satisfied: keras<2.13,>=2.12.0 in /opt/conda/envs/python3/lib/python3.8/site-packages (from tensorflow) (2.12.0)\n",
      "Requirement already satisfied: libclang>=13.0.0 in /opt/conda/envs/python3/lib/python3.8/site-packages (from tensorflow) (16.0.0)\n",
      "Requirement already satisfied: opt-einsum>=2.3.2 in /opt/conda/envs/python3/lib/python3.8/site-packages (from tensorflow) (3.3.0)\n",
      "Requirement already satisfied: packaging in /opt/conda/envs/python3/lib/python3.8/site-packages (from tensorflow) (23.0)\n",
      "Requirement already satisfied: setuptools in /opt/conda/envs/python3/lib/python3.8/site-packages (from tensorflow) (67.4.0)\n",
      "Requirement already satisfied: six>=1.12.0 in /opt/conda/envs/python3/lib/python3.8/site-packages (from tensorflow) (1.16.0)\n",
      "Requirement already satisfied: tensorboard<2.13,>=2.12 in /opt/conda/envs/python3/lib/python3.8/site-packages (from tensorflow) (2.12.2)\n",
      "Requirement already satisfied: tensorflow-estimator<2.13,>=2.12.0 in /opt/conda/envs/python3/lib/python3.8/site-packages (from tensorflow) (2.12.0)\n",
      "Requirement already satisfied: termcolor>=1.1.0 in /opt/conda/envs/python3/lib/python3.8/site-packages (from tensorflow) (2.3.0)\n",
      "Requirement already satisfied: typing-extensions>=3.6.6 in /opt/conda/envs/python3/lib/python3.8/site-packages (from tensorflow) (4.4.0)\n",
      "Requirement already satisfied: wrapt<1.15,>=1.11.0 in /opt/conda/envs/python3/lib/python3.8/site-packages (from tensorflow) (1.14.1)\n",
      "Requirement already satisfied: tensorflow-io-gcs-filesystem>=0.23.1 in /opt/conda/envs/python3/lib/python3.8/site-packages (from tensorflow) (0.32.0)\n",
      "Requirement already satisfied: tenacity>=6.2.0 in /opt/conda/envs/python3/lib/python3.8/site-packages (from plotly) (8.2.2)\n",
      "Requirement already satisfied: wheel<1.0,>=0.23.0 in /opt/conda/envs/python3/lib/python3.8/site-packages (from astunparse>=1.6.0->tensorflow) (0.38.4)\n",
      "Requirement already satisfied: ml-dtypes>=0.0.3 in /opt/conda/envs/python3/lib/python3.8/site-packages (from jax>=0.3.15->tensorflow) (0.0.4)\n",
      "Requirement already satisfied: scipy>=1.7 in /opt/conda/envs/python3/lib/python3.8/site-packages (from jax>=0.3.15->tensorflow) (1.9.1)\n",
      "Requirement already satisfied: CFFI>=1.0 in /opt/conda/envs/python3/lib/python3.8/site-packages (from sounddevice>=0.4.4->mediapipe) (1.15.1)\n",
      "Requirement already satisfied: google-auth<3,>=1.6.3 in /opt/conda/envs/python3/lib/python3.8/site-packages (from tensorboard<2.13,>=2.12->tensorflow) (2.17.3)\n",
      "Requirement already satisfied: google-auth-oauthlib<1.1,>=0.5 in /opt/conda/envs/python3/lib/python3.8/site-packages (from tensorboard<2.13,>=2.12->tensorflow) (1.0.0)\n",
      "Requirement already satisfied: markdown>=2.6.8 in /opt/conda/envs/python3/lib/python3.8/site-packages (from tensorboard<2.13,>=2.12->tensorflow) (3.4.3)\n",
      "Requirement already satisfied: requests<3,>=2.21.0 in /opt/conda/envs/python3/lib/python3.8/site-packages (from tensorboard<2.13,>=2.12->tensorflow) (2.28.2)\n",
      "Requirement already satisfied: tensorboard-data-server<0.8.0,>=0.7.0 in /opt/conda/envs/python3/lib/python3.8/site-packages (from tensorboard<2.13,>=2.12->tensorflow) (0.7.0)\n",
      "Requirement already satisfied: tensorboard-plugin-wit>=1.6.0 in /opt/conda/envs/python3/lib/python3.8/site-packages (from tensorboard<2.13,>=2.12->tensorflow) (1.8.1)\n",
      "Requirement already satisfied: werkzeug>=1.0.1 in /opt/conda/envs/python3/lib/python3.8/site-packages (from tensorboard<2.13,>=2.12->tensorflow) (2.3.0)\n",
      "Requirement already satisfied: contourpy>=1.0.1 in /opt/conda/envs/python3/lib/python3.8/site-packages (from matplotlib->mediapipe) (1.0.7)\n",
      "Requirement already satisfied: cycler>=0.10 in /opt/conda/envs/python3/lib/python3.8/site-packages (from matplotlib->mediapipe) (0.11.0)\n",
      "Requirement already satisfied: fonttools>=4.22.0 in /opt/conda/envs/python3/lib/python3.8/site-packages (from matplotlib->mediapipe) (4.38.0)\n",
      "Requirement already satisfied: kiwisolver>=1.0.1 in /opt/conda/envs/python3/lib/python3.8/site-packages (from matplotlib->mediapipe) (1.4.4)\n",
      "Requirement already satisfied: pillow>=6.2.0 in /opt/conda/envs/python3/lib/python3.8/site-packages (from matplotlib->mediapipe) (9.4.0)\n",
      "Requirement already satisfied: pyparsing>=2.3.1 in /opt/conda/envs/python3/lib/python3.8/site-packages (from matplotlib->mediapipe) (3.0.9)\n",
      "Requirement already satisfied: python-dateutil>=2.7 in /opt/conda/envs/python3/lib/python3.8/site-packages (from matplotlib->mediapipe) (2.8.2)\n",
      "Requirement already satisfied: importlib-resources>=3.2.0 in /opt/conda/envs/python3/lib/python3.8/site-packages (from matplotlib->mediapipe) (5.12.0)\n",
      "Requirement already satisfied: pycparser in /opt/conda/envs/python3/lib/python3.8/site-packages (from CFFI>=1.0->sounddevice>=0.4.4->mediapipe) (2.21)\n",
      "Requirement already satisfied: cachetools<6.0,>=2.0.0 in /opt/conda/envs/python3/lib/python3.8/site-packages (from google-auth<3,>=1.6.3->tensorboard<2.13,>=2.12->tensorflow) (5.3.0)\n",
      "Requirement already satisfied: pyasn1-modules>=0.2.1 in /opt/conda/envs/python3/lib/python3.8/site-packages (from google-auth<3,>=1.6.3->tensorboard<2.13,>=2.12->tensorflow) (0.3.0)\n",
      "Requirement already satisfied: rsa<5,>=3.1.4 in /opt/conda/envs/python3/lib/python3.8/site-packages (from google-auth<3,>=1.6.3->tensorboard<2.13,>=2.12->tensorflow) (4.9)\n",
      "Requirement already satisfied: requests-oauthlib>=0.7.0 in /opt/conda/envs/python3/lib/python3.8/site-packages (from google-auth-oauthlib<1.1,>=0.5->tensorboard<2.13,>=2.12->tensorflow) (1.3.1)\n",
      "Requirement already satisfied: zipp>=3.1.0 in /opt/conda/envs/python3/lib/python3.8/site-packages (from importlib-resources>=3.2.0->matplotlib->mediapipe) (3.15.0)\n",
      "Requirement already satisfied: importlib-metadata>=4.4 in /opt/conda/envs/python3/lib/python3.8/site-packages (from markdown>=2.6.8->tensorboard<2.13,>=2.12->tensorflow) (6.0.0)\n",
      "Requirement already satisfied: charset-normalizer<4,>=2 in /opt/conda/envs/python3/lib/python3.8/site-packages (from requests<3,>=2.21.0->tensorboard<2.13,>=2.12->tensorflow) (3.1.0)\n",
      "Requirement already satisfied: idna<4,>=2.5 in /opt/conda/envs/python3/lib/python3.8/site-packages (from requests<3,>=2.21.0->tensorboard<2.13,>=2.12->tensorflow) (3.4)\n",
      "Requirement already satisfied: urllib3<1.27,>=1.21.1 in /opt/conda/envs/python3/lib/python3.8/site-packages (from requests<3,>=2.21.0->tensorboard<2.13,>=2.12->tensorflow) (1.26.15)\n",
      "Requirement already satisfied: certifi>=2017.4.17 in /opt/conda/envs/python3/lib/python3.8/site-packages (from requests<3,>=2.21.0->tensorboard<2.13,>=2.12->tensorflow) (2022.12.7)\n",
      "Requirement already satisfied: MarkupSafe>=2.1.1 in /opt/conda/envs/python3/lib/python3.8/site-packages (from werkzeug>=1.0.1->tensorboard<2.13,>=2.12->tensorflow) (2.1.2)\n",
      "Requirement already satisfied: pyasn1<0.6.0,>=0.4.6 in /opt/conda/envs/python3/lib/python3.8/site-packages (from pyasn1-modules>=0.2.1->google-auth<3,>=1.6.3->tensorboard<2.13,>=2.12->tensorflow) (0.5.0)\n",
      "Requirement already satisfied: oauthlib>=3.0.0 in /opt/conda/envs/python3/lib/python3.8/site-packages (from requests-oauthlib>=0.7.0->google-auth-oauthlib<1.1,>=0.5->tensorboard<2.13,>=2.12->tensorflow) (3.2.2)\n",
      "Note: you may need to restart the kernel to use updated packages.\n"
     ]
    }
   ],
   "source": [
    "pip install mediapipe tensorflow plotly"
   ]
  },
  {
   "cell_type": "code",
   "execution_count": 13,
   "metadata": {},
   "outputs": [],
   "source": [
    "import numpy as np\n",
    "import os\n",
    "import time\n",
    "import matplotlib.pyplot as plt\n",
    "\n",
    "# Used to create training and testing data\n",
    "from sklearn.model_selection import train_test_split\n",
    "\n",
    "# Used for Neural Network\n",
    "import tensorflow as tf\n",
    "from tensorflow.keras.models import Sequential\n",
    "from tensorflow.keras.layers import LSTM, Dense, Flatten\n",
    "from tensorflow.keras.callbacks import TensorBoard\n"
   ]
  },
  {
   "attachments": {},
   "cell_type": "markdown",
   "metadata": {},
   "source": [
    "# 1. Importing and Splitting Data"
   ]
  },
  {
   "cell_type": "code",
   "execution_count": 14,
   "metadata": {},
   "outputs": [],
   "source": [
    "X = np.load('../export_data/X_dataVR.npy')\n",
    "y = np.load('../export_data/y_dataVR.npy')\n",
    "\n",
    "X_train, X_test, y_train, y_test = train_test_split(X, y, test_size=6*y.shape[1], stratify=y)"
   ]
  },
  {
   "cell_type": "code",
   "execution_count": 15,
   "metadata": {},
   "outputs": [
    {
     "name": "stdout",
     "output_type": "stream",
     "text": [
      "Number of words in 0 category: 6\n",
      "Number of words in 1 category: 4\n",
      "Number of words in 2 category: 7\n",
      "Number of words in 3 category: 5\n",
      "Number of words in 4 category: 5\n",
      "Number of words in 5 category: 8\n",
      "Number of words in 6 category: 7\n",
      "Number of words in 7 category: 6\n",
      "Number of words in 8 category: 6\n"
     ]
    }
   ],
   "source": [
    "for i in range (y_train.shape[1]):\n",
    "    print(\"Number of words in \" + str(i) + \" category: \" + str(np.count_nonzero(y_test[:,i])))"
   ]
  },
  {
   "attachments": {},
   "cell_type": "markdown",
   "metadata": {},
   "source": [
    "# 2. Neural Network Implementation\n",
    "\n",
    "### Saving Logs"
   ]
  },
  {
   "cell_type": "code",
   "execution_count": 16,
   "metadata": {},
   "outputs": [],
   "source": [
    "tracing_logs = TensorBoard(os.path.join('Logs'))"
   ]
  },
  {
   "attachments": {},
   "cell_type": "markdown",
   "metadata": {},
   "source": [
    "### LSTM Implementation"
   ]
  },
  {
   "cell_type": "code",
   "execution_count": 17,
   "metadata": {},
   "outputs": [],
   "source": [
    "model = Sequential()\n",
    "model.add(LSTM(24, return_sequences=True, activation='relu', input_shape=(120,144)))\n",
    "model.add(Flatten())\n",
    "model.add(Dense(y.shape[1], activation='softmax'))\n",
    "model.compile(optimizer=\"Adam\", loss='categorical_crossentropy', metrics=['categorical_accuracy'])"
   ]
  },
  {
   "cell_type": "code",
   "execution_count": 18,
   "metadata": {},
   "outputs": [
    {
     "name": "stdout",
     "output_type": "stream",
     "text": [
      "Epoch 1/100\n",
      "5/5 [==============================] - 1s 40ms/step - loss: 2.0553 - categorical_accuracy: 0.1635\n",
      "Epoch 2/100\n",
      "5/5 [==============================] - 0s 39ms/step - loss: 1.4576 - categorical_accuracy: 0.5786\n",
      "Epoch 3/100\n",
      "5/5 [==============================] - 0s 40ms/step - loss: 0.8593 - categorical_accuracy: 0.7170\n",
      "Epoch 4/100\n",
      "5/5 [==============================] - 0s 40ms/step - loss: 0.6497 - categorical_accuracy: 0.8050\n",
      "Epoch 5/100\n",
      "5/5 [==============================] - 0s 39ms/step - loss: 0.3606 - categorical_accuracy: 0.9057\n",
      "Epoch 6/100\n",
      "5/5 [==============================] - 0s 41ms/step - loss: 0.2794 - categorical_accuracy: 0.9057\n",
      "Epoch 7/100\n",
      "5/5 [==============================] - 0s 37ms/step - loss: 0.1979 - categorical_accuracy: 0.9497\n",
      "Epoch 8/100\n",
      "5/5 [==============================] - 0s 36ms/step - loss: 0.1656 - categorical_accuracy: 0.9560\n",
      "Epoch 9/100\n",
      "5/5 [==============================] - 0s 39ms/step - loss: 0.1129 - categorical_accuracy: 0.9748\n",
      "Epoch 10/100\n",
      "5/5 [==============================] - 0s 38ms/step - loss: 0.0832 - categorical_accuracy: 0.9874\n",
      "Epoch 11/100\n",
      "5/5 [==============================] - 0s 38ms/step - loss: 0.5079 - categorical_accuracy: 0.9811\n",
      "Epoch 12/100\n",
      "5/5 [==============================] - 0s 38ms/step - loss: 0.0925 - categorical_accuracy: 0.9686\n",
      "Epoch 13/100\n",
      "5/5 [==============================] - 0s 38ms/step - loss: 0.1052 - categorical_accuracy: 0.9811\n",
      "Epoch 14/100\n",
      "5/5 [==============================] - 0s 37ms/step - loss: 0.0875 - categorical_accuracy: 0.9748\n",
      "Epoch 15/100\n",
      "5/5 [==============================] - 0s 39ms/step - loss: 0.0935 - categorical_accuracy: 0.9811\n",
      "Epoch 16/100\n",
      "5/5 [==============================] - 0s 37ms/step - loss: 0.0593 - categorical_accuracy: 0.9874\n",
      "Epoch 17/100\n",
      "5/5 [==============================] - 0s 37ms/step - loss: 0.0482 - categorical_accuracy: 0.9874\n",
      "Epoch 18/100\n",
      "5/5 [==============================] - 0s 37ms/step - loss: 0.0380 - categorical_accuracy: 0.9937\n",
      "Epoch 19/100\n",
      "5/5 [==============================] - 0s 37ms/step - loss: 0.0268 - categorical_accuracy: 1.0000\n",
      "Epoch 20/100\n",
      "5/5 [==============================] - 0s 38ms/step - loss: 0.0236 - categorical_accuracy: 1.0000\n",
      "Epoch 21/100\n",
      "5/5 [==============================] - 0s 38ms/step - loss: 0.0197 - categorical_accuracy: 1.0000\n",
      "Epoch 22/100\n",
      "5/5 [==============================] - 0s 36ms/step - loss: 0.0215 - categorical_accuracy: 1.0000\n",
      "Epoch 23/100\n",
      "5/5 [==============================] - 0s 36ms/step - loss: 0.0240 - categorical_accuracy: 1.0000\n",
      "Epoch 24/100\n",
      "5/5 [==============================] - 0s 37ms/step - loss: 0.0139 - categorical_accuracy: 1.0000\n",
      "Epoch 25/100\n",
      "5/5 [==============================] - 0s 36ms/step - loss: 0.0135 - categorical_accuracy: 1.0000\n",
      "Epoch 26/100\n",
      "5/5 [==============================] - 0s 36ms/step - loss: 0.0103 - categorical_accuracy: 1.0000\n",
      "Epoch 27/100\n",
      "5/5 [==============================] - 0s 37ms/step - loss: 0.0089 - categorical_accuracy: 1.0000\n",
      "Epoch 28/100\n",
      "5/5 [==============================] - 0s 36ms/step - loss: 0.0071 - categorical_accuracy: 1.0000\n",
      "Epoch 29/100\n",
      "5/5 [==============================] - 0s 37ms/step - loss: 0.0064 - categorical_accuracy: 1.0000\n",
      "Epoch 30/100\n",
      "5/5 [==============================] - 0s 37ms/step - loss: 0.0068 - categorical_accuracy: 1.0000\n",
      "Epoch 31/100\n",
      "5/5 [==============================] - 0s 37ms/step - loss: 0.0046 - categorical_accuracy: 1.0000\n",
      "Epoch 32/100\n",
      "5/5 [==============================] - 0s 37ms/step - loss: 0.0049 - categorical_accuracy: 1.0000\n",
      "Epoch 33/100\n",
      "5/5 [==============================] - 0s 36ms/step - loss: 0.0040 - categorical_accuracy: 1.0000\n",
      "Epoch 34/100\n",
      "5/5 [==============================] - 0s 37ms/step - loss: 0.0038 - categorical_accuracy: 1.0000\n",
      "Epoch 35/100\n",
      "5/5 [==============================] - 0s 35ms/step - loss: 0.0033 - categorical_accuracy: 1.0000\n",
      "Epoch 36/100\n",
      "5/5 [==============================] - 0s 37ms/step - loss: 0.0025 - categorical_accuracy: 1.0000\n",
      "Epoch 37/100\n",
      "5/5 [==============================] - 0s 36ms/step - loss: 0.0026 - categorical_accuracy: 1.0000\n",
      "Epoch 38/100\n",
      "5/5 [==============================] - 0s 37ms/step - loss: 0.0023 - categorical_accuracy: 1.0000\n",
      "Epoch 39/100\n",
      "5/5 [==============================] - 0s 37ms/step - loss: 0.1364 - categorical_accuracy: 0.9937\n",
      "Epoch 40/100\n",
      "5/5 [==============================] - 0s 36ms/step - loss: 31.3671 - categorical_accuracy: 0.8616\n",
      "Epoch 41/100\n",
      "5/5 [==============================] - 0s 38ms/step - loss: 9.7013 - categorical_accuracy: 0.8365\n",
      "Epoch 42/100\n",
      "5/5 [==============================] - 0s 37ms/step - loss: 6.9675 - categorical_accuracy: 0.7987\n",
      "Epoch 43/100\n",
      "5/5 [==============================] - 0s 37ms/step - loss: 6.2611 - categorical_accuracy: 0.7233\n",
      "Epoch 44/100\n",
      "5/5 [==============================] - 0s 37ms/step - loss: 6.3252 - categorical_accuracy: 0.5786\n",
      "Epoch 45/100\n",
      "5/5 [==============================] - 0s 37ms/step - loss: 2.9201 - categorical_accuracy: 0.6101\n",
      "Epoch 46/100\n",
      "5/5 [==============================] - 0s 36ms/step - loss: 6.2661 - categorical_accuracy: 0.6667\n",
      "Epoch 47/100\n",
      "5/5 [==============================] - 0s 37ms/step - loss: 4.8154 - categorical_accuracy: 0.7107\n",
      "Epoch 48/100\n",
      "5/5 [==============================] - 0s 36ms/step - loss: 11.0652 - categorical_accuracy: 0.6226\n",
      "Epoch 49/100\n",
      "5/5 [==============================] - 0s 36ms/step - loss: 13.6429 - categorical_accuracy: 0.5472\n",
      "Epoch 50/100\n",
      "5/5 [==============================] - 0s 37ms/step - loss: 16.8116 - categorical_accuracy: 0.6164\n",
      "Epoch 51/100\n",
      "5/5 [==============================] - 0s 37ms/step - loss: 13.5486 - categorical_accuracy: 0.6038\n",
      "Epoch 52/100\n",
      "5/5 [==============================] - 0s 37ms/step - loss: 14.6289 - categorical_accuracy: 0.6541\n",
      "Epoch 53/100\n",
      "5/5 [==============================] - 0s 37ms/step - loss: 8.2515 - categorical_accuracy: 0.7421\n",
      "Epoch 54/100\n",
      "5/5 [==============================] - 0s 37ms/step - loss: 10.0906 - categorical_accuracy: 0.7296\n",
      "Epoch 55/100\n",
      "5/5 [==============================] - 0s 36ms/step - loss: 13.7619 - categorical_accuracy: 0.7547\n",
      "Epoch 56/100\n",
      "5/5 [==============================] - 0s 36ms/step - loss: 11.8075 - categorical_accuracy: 0.7421\n",
      "Epoch 57/100\n",
      "5/5 [==============================] - 0s 37ms/step - loss: 7.6214 - categorical_accuracy: 0.8050\n",
      "Epoch 58/100\n",
      "5/5 [==============================] - 0s 36ms/step - loss: 4.1894 - categorical_accuracy: 0.8302\n",
      "Epoch 59/100\n",
      "5/5 [==============================] - 0s 37ms/step - loss: 4.9401 - categorical_accuracy: 0.8113\n",
      "Epoch 60/100\n",
      "5/5 [==============================] - 0s 37ms/step - loss: 4.2033 - categorical_accuracy: 0.8491\n",
      "Epoch 61/100\n",
      "5/5 [==============================] - 0s 38ms/step - loss: 2.1579 - categorical_accuracy: 0.8805\n",
      "Epoch 62/100\n",
      "5/5 [==============================] - 0s 37ms/step - loss: 1.6324 - categorical_accuracy: 0.8616\n",
      "Epoch 63/100\n",
      "5/5 [==============================] - 0s 37ms/step - loss: 0.5732 - categorical_accuracy: 0.8805\n",
      "Epoch 64/100\n",
      "5/5 [==============================] - 0s 37ms/step - loss: 0.4209 - categorical_accuracy: 0.9182\n",
      "Epoch 65/100\n",
      "5/5 [==============================] - 0s 37ms/step - loss: 0.4615 - categorical_accuracy: 0.9245\n",
      "Epoch 66/100\n",
      "5/5 [==============================] - 0s 37ms/step - loss: 0.3681 - categorical_accuracy: 0.8994\n",
      "Epoch 67/100\n",
      "5/5 [==============================] - 0s 37ms/step - loss: 0.1673 - categorical_accuracy: 0.9497\n",
      "Epoch 68/100\n",
      "5/5 [==============================] - 0s 37ms/step - loss: 0.2396 - categorical_accuracy: 0.9308\n",
      "Epoch 69/100\n",
      "5/5 [==============================] - 0s 37ms/step - loss: 0.2761 - categorical_accuracy: 0.9308\n",
      "Epoch 70/100\n",
      "5/5 [==============================] - 0s 37ms/step - loss: 0.1097 - categorical_accuracy: 0.9623\n",
      "Epoch 71/100\n",
      "5/5 [==============================] - 0s 37ms/step - loss: 0.1826 - categorical_accuracy: 0.9560\n",
      "Epoch 72/100\n",
      "5/5 [==============================] - 0s 37ms/step - loss: 0.1164 - categorical_accuracy: 0.9560\n",
      "Epoch 73/100\n",
      "5/5 [==============================] - 0s 37ms/step - loss: 0.1109 - categorical_accuracy: 0.9560\n",
      "Epoch 74/100\n",
      "5/5 [==============================] - 0s 37ms/step - loss: 0.0661 - categorical_accuracy: 0.9748\n",
      "Epoch 75/100\n",
      "5/5 [==============================] - 0s 38ms/step - loss: 0.0610 - categorical_accuracy: 0.9811\n",
      "Epoch 76/100\n",
      "5/5 [==============================] - 0s 38ms/step - loss: 0.0770 - categorical_accuracy: 0.9686\n",
      "Epoch 77/100\n",
      "5/5 [==============================] - 0s 38ms/step - loss: 0.0438 - categorical_accuracy: 0.9874\n",
      "Epoch 78/100\n",
      "5/5 [==============================] - 0s 37ms/step - loss: 0.1433 - categorical_accuracy: 0.9623\n",
      "Epoch 79/100\n",
      "5/5 [==============================] - 0s 38ms/step - loss: 0.1047 - categorical_accuracy: 0.9560\n",
      "Epoch 80/100\n",
      "5/5 [==============================] - 0s 36ms/step - loss: 0.0816 - categorical_accuracy: 0.9748\n",
      "Epoch 81/100\n",
      "5/5 [==============================] - 0s 36ms/step - loss: 0.1517 - categorical_accuracy: 0.9497\n",
      "Epoch 82/100\n",
      "5/5 [==============================] - 0s 36ms/step - loss: 2.0063 - categorical_accuracy: 0.8994\n",
      "Epoch 83/100\n",
      "5/5 [==============================] - 0s 34ms/step - loss: 3.4547 - categorical_accuracy: 0.8491\n",
      "Epoch 84/100\n",
      "5/5 [==============================] - 0s 37ms/step - loss: 3.0158 - categorical_accuracy: 0.8365\n",
      "Epoch 85/100\n",
      "5/5 [==============================] - 0s 36ms/step - loss: 1.3941 - categorical_accuracy: 0.8931\n",
      "Epoch 86/100\n",
      "5/5 [==============================] - 0s 37ms/step - loss: 0.5197 - categorical_accuracy: 0.8931\n",
      "Epoch 87/100\n",
      "5/5 [==============================] - 0s 36ms/step - loss: 0.2222 - categorical_accuracy: 0.9497\n",
      "Epoch 88/100\n",
      "5/5 [==============================] - 0s 37ms/step - loss: 0.1559 - categorical_accuracy: 0.9497\n",
      "Epoch 89/100\n",
      "5/5 [==============================] - 0s 37ms/step - loss: 0.1048 - categorical_accuracy: 0.9497\n",
      "Epoch 90/100\n",
      "5/5 [==============================] - 0s 36ms/step - loss: 0.0753 - categorical_accuracy: 0.9560\n",
      "Epoch 91/100\n",
      "5/5 [==============================] - 0s 37ms/step - loss: 0.0647 - categorical_accuracy: 0.9811\n",
      "Epoch 92/100\n",
      "5/5 [==============================] - 0s 37ms/step - loss: 0.0584 - categorical_accuracy: 0.9748\n",
      "Epoch 93/100\n",
      "5/5 [==============================] - 0s 37ms/step - loss: 0.0572 - categorical_accuracy: 0.9748\n",
      "Epoch 94/100\n",
      "5/5 [==============================] - 0s 37ms/step - loss: 0.0543 - categorical_accuracy: 0.9748\n",
      "Epoch 95/100\n",
      "5/5 [==============================] - 0s 37ms/step - loss: 0.0527 - categorical_accuracy: 0.9748\n",
      "Epoch 96/100\n",
      "5/5 [==============================] - 0s 37ms/step - loss: 0.0523 - categorical_accuracy: 0.9748\n",
      "Epoch 97/100\n",
      "5/5 [==============================] - 0s 38ms/step - loss: 0.0516 - categorical_accuracy: 0.9811\n",
      "Epoch 98/100\n",
      "5/5 [==============================] - 0s 37ms/step - loss: 0.0457 - categorical_accuracy: 0.9811\n",
      "Epoch 99/100\n",
      "5/5 [==============================] - 0s 38ms/step - loss: 0.0417 - categorical_accuracy: 0.9811\n",
      "Epoch 100/100\n",
      "5/5 [==============================] - 0s 37ms/step - loss: 0.0412 - categorical_accuracy: 0.9811\n"
     ]
    }
   ],
   "source": [
    "history = model.fit(X_train, y_train, epochs=100, callbacks=[tracing_logs])"
   ]
  },
  {
   "attachments": {},
   "cell_type": "markdown",
   "metadata": {},
   "source": [
    "# 3. Visualizing Epoch progress of NN"
   ]
  },
  {
   "cell_type": "code",
   "execution_count": 19,
   "metadata": {},
   "outputs": [
    {
     "name": "stdout",
     "output_type": "stream",
     "text": [
      "Train: 0.958\n"
     ]
    },
    {
     "data": {
      "image/png": "[encoded data removed]",
      "text/plain": [
       "<Figure size 640x480 with 2 Axes>"
      ]
     },
     "metadata": {},
     "output_type": "display_data"
    }
   ],
   "source": [
    "# evaluate the model\n",
    "_, train_acc = model.evaluate(X, y, verbose=0)\n",
    "print('Train: %.3f' % (train_acc))\n",
    "# plot loss during training\n",
    "plt.subplot(211)\n",
    "plt.title('Loss')\n",
    "plt.plot(history.history['loss'], label='train')\n",
    "plt.legend()\n",
    "# plot accuracy during training\n",
    "plt.subplot(212)\n",
    "plt.title('Accuracy')\n",
    "plt.plot(history.history['categorical_accuracy'], label='train')\n",
    "plt.legend()\n",
    "plt.show()"
   ]
  },
  {
   "attachments": {},
   "cell_type": "markdown",
   "metadata": {},
   "source": [
    "# 3. Saving complete NN model"
   ]
  },
  {
   "cell_type": "code",
   "execution_count": 20,
   "metadata": {},
   "outputs": [],
   "source": [
    "model.save('../export_data/nn_modelVR.h5')\n",
    "np.save('../export_data/X_testVR', X_test)\n",
    "np.save('../export_data/y_testVR', y_test)"
   ]
  },
  {
   "cell_type": "code",
   "execution_count": null,
   "metadata": {},
   "outputs": [],
   "source": []
  }
 ],
 "metadata": {
  "kernelspec": {
   "display_name": "Python 3 (ipykernel)",
   "language": "python",
   "name": "python3"
  },
  "language_info": {
   "codemirror_mode": {
    "name": "ipython",
    "version": 3
   },
   "file_extension": ".py",
   "mimetype": "text/x-python",
   "name": "python",
   "nbconvert_exporter": "python",
   "pygments_lexer": "ipython3",
   "version": "3.8.16"
  }
 },
 "nbformat": 4,
 "nbformat_minor": 4
}
