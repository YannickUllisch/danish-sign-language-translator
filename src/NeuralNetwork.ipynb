{
 "cells": [
  {
   "cell_type": "markdown",
   "metadata": {},
   "source": [
    "## Installations needed for Erda to work"
   ]
  },
  {
   "cell_type": "code",
   "execution_count": 12,
   "metadata": {},
   "outputs": [
    {
     "name": "stdout",
     "output_type": "stream",
     "text": [
      "Requirement already satisfied: pip in /opt/conda/envs/python3/lib/python3.8/site-packages (23.0.1)\n",
      "Requirement already satisfied: tensorflow in /opt/conda/envs/python3/lib/python3.8/site-packages (2.12.0)\n",
      "Requirement already satisfied: tensorboard in /opt/conda/envs/python3/lib/python3.8/site-packages (2.12.1)\n",
      "Requirement already satisfied: libclang>=13.0.0 in /opt/conda/envs/python3/lib/python3.8/site-packages (from tensorflow) (16.0.0)\n",
      "Requirement already satisfied: tensorflow-estimator<2.13,>=2.12.0 in /opt/conda/envs/python3/lib/python3.8/site-packages (from tensorflow) (2.12.0)\n",
      "Requirement already satisfied: protobuf!=4.21.0,!=4.21.1,!=4.21.2,!=4.21.3,!=4.21.4,!=4.21.5,<5.0.0dev,>=3.20.3 in /opt/conda/envs/python3/lib/python3.8/site-packages (from tensorflow) (3.20.3)\n",
      "Requirement already satisfied: astunparse>=1.6.0 in /opt/conda/envs/python3/lib/python3.8/site-packages (from tensorflow) (1.6.3)\n",
      "Requirement already satisfied: jax>=0.3.15 in /opt/conda/envs/python3/lib/python3.8/site-packages (from tensorflow) (0.3.25)\n",
      "Requirement already satisfied: six>=1.12.0 in /opt/conda/envs/python3/lib/python3.8/site-packages (from tensorflow) (1.16.0)\n",
      "Requirement already satisfied: keras<2.13,>=2.12.0 in /opt/conda/envs/python3/lib/python3.8/site-packages (from tensorflow) (2.12.0)\n",
      "Requirement already satisfied: setuptools in /opt/conda/envs/python3/lib/python3.8/site-packages (from tensorflow) (65.5.1)\n",
      "Requirement already satisfied: google-pasta>=0.1.1 in /opt/conda/envs/python3/lib/python3.8/site-packages (from tensorflow) (0.2.0)\n",
      "Requirement already satisfied: packaging in /opt/conda/envs/python3/lib/python3.8/site-packages (from tensorflow) (21.3)\n",
      "Requirement already satisfied: tensorflow-io-gcs-filesystem>=0.23.1 in /opt/conda/envs/python3/lib/python3.8/site-packages (from tensorflow) (0.32.0)\n",
      "Requirement already satisfied: grpcio<2.0,>=1.24.3 in /opt/conda/envs/python3/lib/python3.8/site-packages (from tensorflow) (1.53.0)\n",
      "Requirement already satisfied: typing-extensions>=3.6.6 in /opt/conda/envs/python3/lib/python3.8/site-packages (from tensorflow) (4.4.0)\n",
      "Requirement already satisfied: numpy<1.24,>=1.22 in /opt/conda/envs/python3/lib/python3.8/site-packages (from tensorflow) (1.23.5)\n",
      "Requirement already satisfied: flatbuffers>=2.0 in /opt/conda/envs/python3/lib/python3.8/site-packages (from tensorflow) (23.3.3)\n",
      "Requirement already satisfied: opt-einsum>=2.3.2 in /opt/conda/envs/python3/lib/python3.8/site-packages (from tensorflow) (3.3.0)\n",
      "Requirement already satisfied: gast<=0.4.0,>=0.2.1 in /opt/conda/envs/python3/lib/python3.8/site-packages (from tensorflow) (0.4.0)\n",
      "Requirement already satisfied: h5py>=2.9.0 in /opt/conda/envs/python3/lib/python3.8/site-packages (from tensorflow) (3.7.0)\n",
      "Requirement already satisfied: termcolor>=1.1.0 in /opt/conda/envs/python3/lib/python3.8/site-packages (from tensorflow) (2.2.0)\n",
      "Requirement already satisfied: absl-py>=1.0.0 in /opt/conda/envs/python3/lib/python3.8/site-packages (from tensorflow) (1.4.0)\n",
      "Requirement already satisfied: wrapt<1.15,>=1.11.0 in /opt/conda/envs/python3/lib/python3.8/site-packages (from tensorflow) (1.14.1)\n",
      "Requirement already satisfied: tensorboard-data-server<0.8.0,>=0.7.0 in /opt/conda/envs/python3/lib/python3.8/site-packages (from tensorboard) (0.7.0)\n",
      "Requirement already satisfied: google-auth-oauthlib<1.1,>=0.5 in /opt/conda/envs/python3/lib/python3.8/site-packages (from tensorboard) (1.0.0)\n",
      "Requirement already satisfied: werkzeug>=1.0.1 in /opt/conda/envs/python3/lib/python3.8/site-packages (from tensorboard) (2.2.3)\n",
      "Requirement already satisfied: markdown>=2.6.8 in /opt/conda/envs/python3/lib/python3.8/site-packages (from tensorboard) (3.4.3)\n",
      "Requirement already satisfied: wheel>=0.26 in /opt/conda/envs/python3/lib/python3.8/site-packages (from tensorboard) (0.38.4)\n",
      "Requirement already satisfied: requests<3,>=2.21.0 in /opt/conda/envs/python3/lib/python3.8/site-packages (from tensorboard) (2.28.1)\n",
      "Requirement already satisfied: google-auth<3,>=1.6.3 in /opt/conda/envs/python3/lib/python3.8/site-packages (from tensorboard) (2.17.2)\n",
      "Requirement already satisfied: tensorboard-plugin-wit>=1.6.0 in /opt/conda/envs/python3/lib/python3.8/site-packages (from tensorboard) (1.8.1)\n",
      "Requirement already satisfied: pyasn1-modules>=0.2.1 in /opt/conda/envs/python3/lib/python3.8/site-packages (from google-auth<3,>=1.6.3->tensorboard) (0.2.8)\n",
      "Requirement already satisfied: cachetools<6.0,>=2.0.0 in /opt/conda/envs/python3/lib/python3.8/site-packages (from google-auth<3,>=1.6.3->tensorboard) (5.2.0)\n",
      "Requirement already satisfied: rsa<5,>=3.1.4 in /opt/conda/envs/python3/lib/python3.8/site-packages (from google-auth<3,>=1.6.3->tensorboard) (4.9)\n",
      "Requirement already satisfied: requests-oauthlib>=0.7.0 in /opt/conda/envs/python3/lib/python3.8/site-packages (from google-auth-oauthlib<1.1,>=0.5->tensorboard) (1.3.1)\n",
      "Requirement already satisfied: scipy>=1.5 in /opt/conda/envs/python3/lib/python3.8/site-packages (from jax>=0.3.15->tensorflow) (1.9.3)\n",
      "Requirement already satisfied: importlib-metadata>=4.4 in /opt/conda/envs/python3/lib/python3.8/site-packages (from markdown>=2.6.8->tensorboard) (5.1.0)\n",
      "Requirement already satisfied: charset-normalizer<3,>=2 in /opt/conda/envs/python3/lib/python3.8/site-packages (from requests<3,>=2.21.0->tensorboard) (2.1.1)\n",
      "Requirement already satisfied: certifi>=2017.4.17 in /opt/conda/envs/python3/lib/python3.8/site-packages (from requests<3,>=2.21.0->tensorboard) (2022.9.24)\n",
      "Requirement already satisfied: idna<4,>=2.5 in /opt/conda/envs/python3/lib/python3.8/site-packages (from requests<3,>=2.21.0->tensorboard) (3.4)\n",
      "Requirement already satisfied: urllib3<1.27,>=1.21.1 in /opt/conda/envs/python3/lib/python3.8/site-packages (from requests<3,>=2.21.0->tensorboard) (1.26.13)\n",
      "Requirement already satisfied: MarkupSafe>=2.1.1 in /opt/conda/envs/python3/lib/python3.8/site-packages (from werkzeug>=1.0.1->tensorboard) (2.1.1)\n",
      "Requirement already satisfied: pyparsing!=3.0.5,>=2.0.2 in /opt/conda/envs/python3/lib/python3.8/site-packages (from packaging->tensorflow) (3.0.9)\n",
      "Requirement already satisfied: zipp>=0.5 in /opt/conda/envs/python3/lib/python3.8/site-packages (from importlib-metadata>=4.4->markdown>=2.6.8->tensorboard) (3.10.0)\n",
      "Requirement already satisfied: pyasn1<0.5.0,>=0.4.6 in /opt/conda/envs/python3/lib/python3.8/site-packages (from pyasn1-modules>=0.2.1->google-auth<3,>=1.6.3->tensorboard) (0.4.8)\n",
      "Requirement already satisfied: oauthlib>=3.0.0 in /opt/conda/envs/python3/lib/python3.8/site-packages (from requests-oauthlib>=0.7.0->google-auth-oauthlib<1.1,>=0.5->tensorboard) (3.2.2)\n",
      "Note: you may need to restart the kernel to use updated packages.\n"
     ]
    }
   ],
   "source": [
    "pip install -U pip tensorflow tensorboard"
   ]
  },
  {
   "cell_type": "code",
   "execution_count": 13,
   "metadata": {},
   "outputs": [
    {
     "name": "stdout",
     "output_type": "stream",
     "text": [
      "Requirement already satisfied: mediapipe in /opt/conda/envs/python3/lib/python3.8/site-packages (0.9.2.1)\n",
      "Requirement already satisfied: tensorflow in /opt/conda/envs/python3/lib/python3.8/site-packages (2.12.0)\n",
      "Requirement already satisfied: plotly in /opt/conda/envs/python3/lib/python3.8/site-packages (5.14.1)\n",
      "Requirement already satisfied: absl-py in /opt/conda/envs/python3/lib/python3.8/site-packages (from mediapipe) (1.4.0)\n",
      "Requirement already satisfied: flatbuffers>=2.0 in /opt/conda/envs/python3/lib/python3.8/site-packages (from mediapipe) (23.3.3)\n",
      "Requirement already satisfied: attrs>=19.1.0 in /opt/conda/envs/python3/lib/python3.8/site-packages (from mediapipe) (22.1.0)\n",
      "Requirement already satisfied: protobuf<4,>=3.11 in /opt/conda/envs/python3/lib/python3.8/site-packages (from mediapipe) (3.20.3)\n",
      "Requirement already satisfied: numpy in /opt/conda/envs/python3/lib/python3.8/site-packages (from mediapipe) (1.23.5)\n",
      "Requirement already satisfied: opencv-contrib-python in /opt/conda/envs/python3/lib/python3.8/site-packages (from mediapipe) (4.7.0.72)\n",
      "Requirement already satisfied: matplotlib in /opt/conda/envs/python3/lib/python3.8/site-packages (from mediapipe) (3.6.2)\n",
      "Requirement already satisfied: gast<=0.4.0,>=0.2.1 in /opt/conda/envs/python3/lib/python3.8/site-packages (from tensorflow) (0.4.0)\n",
      "Requirement already satisfied: keras<2.13,>=2.12.0 in /opt/conda/envs/python3/lib/python3.8/site-packages (from tensorflow) (2.12.0)\n",
      "Requirement already satisfied: tensorflow-io-gcs-filesystem>=0.23.1 in /opt/conda/envs/python3/lib/python3.8/site-packages (from tensorflow) (0.32.0)\n",
      "Requirement already satisfied: jax>=0.3.15 in /opt/conda/envs/python3/lib/python3.8/site-packages (from tensorflow) (0.3.25)\n",
      "Requirement already satisfied: tensorboard<2.13,>=2.12 in /opt/conda/envs/python3/lib/python3.8/site-packages (from tensorflow) (2.12.1)\n",
      "Requirement already satisfied: google-pasta>=0.1.1 in /opt/conda/envs/python3/lib/python3.8/site-packages (from tensorflow) (0.2.0)\n",
      "Requirement already satisfied: opt-einsum>=2.3.2 in /opt/conda/envs/python3/lib/python3.8/site-packages (from tensorflow) (3.3.0)\n",
      "Requirement already satisfied: six>=1.12.0 in /opt/conda/envs/python3/lib/python3.8/site-packages (from tensorflow) (1.16.0)\n",
      "Requirement already satisfied: h5py>=2.9.0 in /opt/conda/envs/python3/lib/python3.8/site-packages (from tensorflow) (3.7.0)\n",
      "Requirement already satisfied: packaging in /opt/conda/envs/python3/lib/python3.8/site-packages (from tensorflow) (21.3)\n",
      "Requirement already satisfied: libclang>=13.0.0 in /opt/conda/envs/python3/lib/python3.8/site-packages (from tensorflow) (16.0.0)\n",
      "Requirement already satisfied: setuptools in /opt/conda/envs/python3/lib/python3.8/site-packages (from tensorflow) (65.5.1)\n",
      "Requirement already satisfied: wrapt<1.15,>=1.11.0 in /opt/conda/envs/python3/lib/python3.8/site-packages (from tensorflow) (1.14.1)\n",
      "Requirement already satisfied: typing-extensions>=3.6.6 in /opt/conda/envs/python3/lib/python3.8/site-packages (from tensorflow) (4.4.0)\n",
      "Requirement already satisfied: termcolor>=1.1.0 in /opt/conda/envs/python3/lib/python3.8/site-packages (from tensorflow) (2.2.0)\n",
      "Requirement already satisfied: grpcio<2.0,>=1.24.3 in /opt/conda/envs/python3/lib/python3.8/site-packages (from tensorflow) (1.53.0)\n",
      "Requirement already satisfied: astunparse>=1.6.0 in /opt/conda/envs/python3/lib/python3.8/site-packages (from tensorflow) (1.6.3)\n",
      "Requirement already satisfied: tensorflow-estimator<2.13,>=2.12.0 in /opt/conda/envs/python3/lib/python3.8/site-packages (from tensorflow) (2.12.0)\n",
      "Requirement already satisfied: tenacity>=6.2.0 in /opt/conda/envs/python3/lib/python3.8/site-packages (from plotly) (8.2.2)\n",
      "Requirement already satisfied: wheel<1.0,>=0.23.0 in /opt/conda/envs/python3/lib/python3.8/site-packages (from astunparse>=1.6.0->tensorflow) (0.38.4)\n",
      "Requirement already satisfied: scipy>=1.5 in /opt/conda/envs/python3/lib/python3.8/site-packages (from jax>=0.3.15->tensorflow) (1.9.3)\n",
      "Requirement already satisfied: tensorboard-plugin-wit>=1.6.0 in /opt/conda/envs/python3/lib/python3.8/site-packages (from tensorboard<2.13,>=2.12->tensorflow) (1.8.1)\n",
      "Requirement already satisfied: google-auth<3,>=1.6.3 in /opt/conda/envs/python3/lib/python3.8/site-packages (from tensorboard<2.13,>=2.12->tensorflow) (2.17.2)\n",
      "Requirement already satisfied: tensorboard-data-server<0.8.0,>=0.7.0 in /opt/conda/envs/python3/lib/python3.8/site-packages (from tensorboard<2.13,>=2.12->tensorflow) (0.7.0)\n",
      "Requirement already satisfied: werkzeug>=1.0.1 in /opt/conda/envs/python3/lib/python3.8/site-packages (from tensorboard<2.13,>=2.12->tensorflow) (2.2.3)\n",
      "Requirement already satisfied: markdown>=2.6.8 in /opt/conda/envs/python3/lib/python3.8/site-packages (from tensorboard<2.13,>=2.12->tensorflow) (3.4.3)\n",
      "Requirement already satisfied: requests<3,>=2.21.0 in /opt/conda/envs/python3/lib/python3.8/site-packages (from tensorboard<2.13,>=2.12->tensorflow) (2.28.1)\n",
      "Requirement already satisfied: google-auth-oauthlib<1.1,>=0.5 in /opt/conda/envs/python3/lib/python3.8/site-packages (from tensorboard<2.13,>=2.12->tensorflow) (1.0.0)\n",
      "Requirement already satisfied: pyparsing>=2.2.1 in /opt/conda/envs/python3/lib/python3.8/site-packages (from matplotlib->mediapipe) (3.0.9)\n",
      "Requirement already satisfied: kiwisolver>=1.0.1 in /opt/conda/envs/python3/lib/python3.8/site-packages (from matplotlib->mediapipe) (1.4.4)\n",
      "Requirement already satisfied: fonttools>=4.22.0 in /opt/conda/envs/python3/lib/python3.8/site-packages (from matplotlib->mediapipe) (4.38.0)\n",
      "Requirement already satisfied: contourpy>=1.0.1 in /opt/conda/envs/python3/lib/python3.8/site-packages (from matplotlib->mediapipe) (1.0.6)\n",
      "Requirement already satisfied: pillow>=6.2.0 in /opt/conda/envs/python3/lib/python3.8/site-packages (from matplotlib->mediapipe) (9.3.0)\n",
      "Requirement already satisfied: cycler>=0.10 in /opt/conda/envs/python3/lib/python3.8/site-packages (from matplotlib->mediapipe) (0.11.0)\n",
      "Requirement already satisfied: python-dateutil>=2.7 in /opt/conda/envs/python3/lib/python3.8/site-packages (from matplotlib->mediapipe) (2.8.2)\n",
      "Requirement already satisfied: pyasn1-modules>=0.2.1 in /opt/conda/envs/python3/lib/python3.8/site-packages (from google-auth<3,>=1.6.3->tensorboard<2.13,>=2.12->tensorflow) (0.2.8)\n",
      "Requirement already satisfied: rsa<5,>=3.1.4 in /opt/conda/envs/python3/lib/python3.8/site-packages (from google-auth<3,>=1.6.3->tensorboard<2.13,>=2.12->tensorflow) (4.9)\n",
      "Requirement already satisfied: cachetools<6.0,>=2.0.0 in /opt/conda/envs/python3/lib/python3.8/site-packages (from google-auth<3,>=1.6.3->tensorboard<2.13,>=2.12->tensorflow) (5.2.0)\n",
      "Requirement already satisfied: requests-oauthlib>=0.7.0 in /opt/conda/envs/python3/lib/python3.8/site-packages (from google-auth-oauthlib<1.1,>=0.5->tensorboard<2.13,>=2.12->tensorflow) (1.3.1)\n",
      "Requirement already satisfied: importlib-metadata>=4.4 in /opt/conda/envs/python3/lib/python3.8/site-packages (from markdown>=2.6.8->tensorboard<2.13,>=2.12->tensorflow) (5.1.0)\n",
      "Requirement already satisfied: certifi>=2017.4.17 in /opt/conda/envs/python3/lib/python3.8/site-packages (from requests<3,>=2.21.0->tensorboard<2.13,>=2.12->tensorflow) (2022.9.24)\n",
      "Requirement already satisfied: idna<4,>=2.5 in /opt/conda/envs/python3/lib/python3.8/site-packages (from requests<3,>=2.21.0->tensorboard<2.13,>=2.12->tensorflow) (3.4)\n",
      "Requirement already satisfied: charset-normalizer<3,>=2 in /opt/conda/envs/python3/lib/python3.8/site-packages (from requests<3,>=2.21.0->tensorboard<2.13,>=2.12->tensorflow) (2.1.1)\n",
      "Requirement already satisfied: urllib3<1.27,>=1.21.1 in /opt/conda/envs/python3/lib/python3.8/site-packages (from requests<3,>=2.21.0->tensorboard<2.13,>=2.12->tensorflow) (1.26.13)\n",
      "Requirement already satisfied: MarkupSafe>=2.1.1 in /opt/conda/envs/python3/lib/python3.8/site-packages (from werkzeug>=1.0.1->tensorboard<2.13,>=2.12->tensorflow) (2.1.1)\n",
      "Requirement already satisfied: zipp>=0.5 in /opt/conda/envs/python3/lib/python3.8/site-packages (from importlib-metadata>=4.4->markdown>=2.6.8->tensorboard<2.13,>=2.12->tensorflow) (3.10.0)\n",
      "Requirement already satisfied: pyasn1<0.5.0,>=0.4.6 in /opt/conda/envs/python3/lib/python3.8/site-packages (from pyasn1-modules>=0.2.1->google-auth<3,>=1.6.3->tensorboard<2.13,>=2.12->tensorflow) (0.4.8)\n",
      "Requirement already satisfied: oauthlib>=3.0.0 in /opt/conda/envs/python3/lib/python3.8/site-packages (from requests-oauthlib>=0.7.0->google-auth-oauthlib<1.1,>=0.5->tensorboard<2.13,>=2.12->tensorflow) (3.2.2)\n",
      "Note: you may need to restart the kernel to use updated packages.\n"
     ]
    }
   ],
   "source": [
    "pip install mediapipe tensorflow plotly"
   ]
  },
  {
   "cell_type": "code",
   "execution_count": 14,
   "metadata": {},
   "outputs": [],
   "source": [
    "import numpy as np\n",
    "import os\n",
    "import time\n",
    "import matplotlib.pyplot as plt\n",
    "\n",
    "# Used to create training and testing data\n",
    "from sklearn.model_selection import train_test_split\n",
    "\n",
    "# Used for Neural Network\n",
    "import tensorflow as tf\n",
    "from tensorflow.keras.models import Sequential\n",
    "from tensorflow.keras.layers import LSTM, Dense, Flatten\n",
    "from tensorflow.keras.callbacks import TensorBoard\n"
   ]
  },
  {
   "cell_type": "markdown",
   "metadata": {},
   "source": [
    "# 1. Importing and Splitting Data"
   ]
  },
  {
   "cell_type": "code",
   "execution_count": 15,
   "metadata": {},
   "outputs": [],
   "source": [
    "X = np.load('../export_data/X_data.npy')\n",
    "y = np.load('../export_data/y_data.npy')\n",
    "\n",
    "X_train, X_test, y_train, y_test = train_test_split(X, y, test_size=6*y.shape[1], stratify=y)"
   ]
  },
  {
   "cell_type": "code",
   "execution_count": 16,
   "metadata": {},
   "outputs": [
    {
     "name": "stdout",
     "output_type": "stream",
     "text": [
      "Number of words in 0 category: 7\n",
      "Number of words in 1 category: 6\n",
      "Number of words in 2 category: 9\n",
      "Number of words in 3 category: 8\n",
      "Number of words in 4 category: 9\n",
      "Number of words in 5 category: 2\n",
      "Number of words in 6 category: 4\n",
      "Number of words in 7 category: 3\n",
      "Number of words in 8 category: 6\n"
     ]
    }
   ],
   "source": [
    "for i in range (y_train.shape[1]):\n",
    "    print(\"Number of words in \" + str(i) + \" category: \" + str(np.count_nonzero(y_test[:,i])))"
   ]
  },
  {
   "cell_type": "markdown",
   "metadata": {},
   "source": [
    "# 2. Neural Network Implementation\n",
    "\n",
    "### Saving Logs"
   ]
  },
  {
   "cell_type": "code",
   "execution_count": 17,
   "metadata": {},
   "outputs": [],
   "source": [
    "tracing_logs = TensorBoard(os.path.join('Logs'))"
   ]
  },
  {
   "cell_type": "markdown",
   "metadata": {},
   "source": [
    "### LSTM Implementation"
   ]
  },
  {
   "cell_type": "code",
   "execution_count": 18,
   "metadata": {},
   "outputs": [],
   "source": [
    "model = Sequential()\n",
    "model.add(LSTM(24, return_sequences=True, activation='relu', input_shape=(151,258)))\n",
    "model.add(Flatten())\n",
    "model.add(Dense(y.shape[1], activation='softmax'))\n",
    "model.compile(optimizer=\"Adam\", loss='categorical_crossentropy', metrics=['categorical_accuracy'])"
   ]
  },
  {
   "cell_type": "code",
   "execution_count": 19,
   "metadata": {},
   "outputs": [
    {
     "name": "stdout",
     "output_type": "stream",
     "text": [
      "Epoch 1/100\n",
      "4/4 [==============================] - 2s 77ms/step - loss: 2.1728 - categorical_accuracy: 0.2041\n",
      "Epoch 2/100\n",
      "4/4 [==============================] - 0s 73ms/step - loss: 1.9704 - categorical_accuracy: 0.2857\n",
      "Epoch 3/100\n",
      "4/4 [==============================] - 0s 72ms/step - loss: 1.8641 - categorical_accuracy: 0.2653\n",
      "Epoch 4/100\n",
      "4/4 [==============================] - 0s 70ms/step - loss: 1.6512 - categorical_accuracy: 0.5612\n",
      "Epoch 5/100\n",
      "4/4 [==============================] - 0s 70ms/step - loss: 1.5351 - categorical_accuracy: 0.5306\n",
      "Epoch 6/100\n",
      "4/4 [==============================] - 0s 74ms/step - loss: 1.4131 - categorical_accuracy: 0.6327\n",
      "Epoch 7/100\n",
      "4/4 [==============================] - 0s 78ms/step - loss: 1.2608 - categorical_accuracy: 0.6735\n",
      "Epoch 8/100\n",
      "4/4 [==============================] - 0s 84ms/step - loss: 1.1544 - categorical_accuracy: 0.6735\n",
      "Epoch 9/100\n",
      "4/4 [==============================] - 0s 86ms/step - loss: 1.0427 - categorical_accuracy: 0.6633\n",
      "Epoch 10/100\n",
      "4/4 [==============================] - 0s 81ms/step - loss: 1.0497 - categorical_accuracy: 0.6327\n",
      "Epoch 11/100\n",
      "4/4 [==============================] - 0s 85ms/step - loss: 0.9114 - categorical_accuracy: 0.7449\n",
      "Epoch 12/100\n",
      "4/4 [==============================] - 0s 84ms/step - loss: 0.8216 - categorical_accuracy: 0.7347\n",
      "Epoch 13/100\n",
      "4/4 [==============================] - 0s 75ms/step - loss: 1.0279 - categorical_accuracy: 0.7551\n",
      "Epoch 14/100\n",
      "4/4 [==============================] - 0s 86ms/step - loss: 0.7228 - categorical_accuracy: 0.7959\n",
      "Epoch 15/100\n",
      "4/4 [==============================] - 0s 88ms/step - loss: 0.8707 - categorical_accuracy: 0.7959\n",
      "Epoch 16/100\n",
      "4/4 [==============================] - 0s 81ms/step - loss: 0.7526 - categorical_accuracy: 0.8061\n",
      "Epoch 17/100\n",
      "4/4 [==============================] - 0s 86ms/step - loss: 0.7518 - categorical_accuracy: 0.8265\n",
      "Epoch 18/100\n",
      "4/4 [==============================] - 0s 81ms/step - loss: 0.6653 - categorical_accuracy: 0.8061\n",
      "Epoch 19/100\n",
      "4/4 [==============================] - 0s 78ms/step - loss: 0.6887 - categorical_accuracy: 0.7653\n",
      "Epoch 20/100\n",
      "4/4 [==============================] - 0s 83ms/step - loss: 0.6489 - categorical_accuracy: 0.8163\n",
      "Epoch 21/100\n",
      "4/4 [==============================] - 0s 85ms/step - loss: 0.5626 - categorical_accuracy: 0.8571\n",
      "Epoch 22/100\n",
      "4/4 [==============================] - 0s 85ms/step - loss: 0.4578 - categorical_accuracy: 0.8878\n",
      "Epoch 23/100\n",
      "4/4 [==============================] - 0s 86ms/step - loss: 0.4229 - categorical_accuracy: 0.8878\n",
      "Epoch 24/100\n",
      "4/4 [==============================] - 0s 82ms/step - loss: 0.3291 - categorical_accuracy: 0.9286\n",
      "Epoch 25/100\n",
      "4/4 [==============================] - 0s 81ms/step - loss: 0.3109 - categorical_accuracy: 0.9184\n",
      "Epoch 26/100\n",
      "4/4 [==============================] - 0s 81ms/step - loss: 0.3914 - categorical_accuracy: 0.9082\n",
      "Epoch 27/100\n",
      "4/4 [==============================] - 0s 89ms/step - loss: 0.3327 - categorical_accuracy: 0.9082\n",
      "Epoch 28/100\n",
      "4/4 [==============================] - 0s 82ms/step - loss: 0.3364 - categorical_accuracy: 0.9286\n",
      "Epoch 29/100\n",
      "4/4 [==============================] - 0s 85ms/step - loss: 0.3076 - categorical_accuracy: 0.9184\n",
      "Epoch 30/100\n",
      "4/4 [==============================] - 0s 85ms/step - loss: 0.3256 - categorical_accuracy: 0.9286\n",
      "Epoch 31/100\n",
      "4/4 [==============================] - 0s 78ms/step - loss: 0.3094 - categorical_accuracy: 0.9388\n",
      "Epoch 32/100\n",
      "4/4 [==============================] - 0s 82ms/step - loss: 0.2645 - categorical_accuracy: 0.9388\n",
      "Epoch 33/100\n",
      "4/4 [==============================] - 0s 87ms/step - loss: 0.2615 - categorical_accuracy: 0.9388\n",
      "Epoch 34/100\n",
      "4/4 [==============================] - 0s 88ms/step - loss: 0.2752 - categorical_accuracy: 0.9286\n",
      "Epoch 35/100\n",
      "4/4 [==============================] - 0s 86ms/step - loss: 0.2457 - categorical_accuracy: 0.9388\n",
      "Epoch 36/100\n",
      "4/4 [==============================] - 0s 86ms/step - loss: 0.2688 - categorical_accuracy: 0.9388\n",
      "Epoch 37/100\n",
      "4/4 [==============================] - 0s 82ms/step - loss: 0.2871 - categorical_accuracy: 0.8980\n",
      "Epoch 38/100\n",
      "4/4 [==============================] - 0s 80ms/step - loss: 7134.8296 - categorical_accuracy: 0.8469\n",
      "Epoch 39/100\n",
      "4/4 [==============================] - 0s 84ms/step - loss: 1.4124 - categorical_accuracy: 0.6122\n",
      "Epoch 40/100\n",
      "4/4 [==============================] - 0s 86ms/step - loss: 2.5117 - categorical_accuracy: 0.5918\n",
      "Epoch 41/100\n",
      "4/4 [==============================] - 0s 87ms/step - loss: 1.8721 - categorical_accuracy: 0.5612\n",
      "Epoch 42/100\n",
      "4/4 [==============================] - 0s 86ms/step - loss: 1.8498 - categorical_accuracy: 0.5000\n",
      "Epoch 43/100\n",
      "4/4 [==============================] - 0s 84ms/step - loss: 1.7165 - categorical_accuracy: 0.6327\n",
      "Epoch 44/100\n",
      "4/4 [==============================] - 0s 81ms/step - loss: 2.1253 - categorical_accuracy: 0.5408\n",
      "Epoch 45/100\n",
      "4/4 [==============================] - 0s 84ms/step - loss: 1.3874 - categorical_accuracy: 0.5306\n",
      "Epoch 46/100\n",
      "4/4 [==============================] - 0s 88ms/step - loss: 1.3698 - categorical_accuracy: 0.5612\n",
      "Epoch 47/100\n",
      "4/4 [==============================] - 0s 83ms/step - loss: 0.9457 - categorical_accuracy: 0.6837\n",
      "Epoch 48/100\n",
      "4/4 [==============================] - 0s 85ms/step - loss: 1.0345 - categorical_accuracy: 0.6327\n",
      "Epoch 49/100\n",
      "4/4 [==============================] - 0s 84ms/step - loss: 1.2562 - categorical_accuracy: 0.5714\n",
      "Epoch 50/100\n",
      "4/4 [==============================] - 0s 85ms/step - loss: 0.5577 - categorical_accuracy: 0.7857\n",
      "Epoch 51/100\n",
      "4/4 [==============================] - 0s 85ms/step - loss: 0.7019 - categorical_accuracy: 0.7959\n",
      "Epoch 52/100\n",
      "4/4 [==============================] - 0s 86ms/step - loss: 0.7289 - categorical_accuracy: 0.7959\n",
      "Epoch 53/100\n",
      "4/4 [==============================] - 0s 87ms/step - loss: 0.5566 - categorical_accuracy: 0.8367\n",
      "Epoch 54/100\n",
      "4/4 [==============================] - 0s 87ms/step - loss: 0.4852 - categorical_accuracy: 0.8469\n",
      "Epoch 55/100\n",
      "4/4 [==============================] - 0s 87ms/step - loss: 0.4257 - categorical_accuracy: 0.8469\n",
      "Epoch 56/100\n",
      "4/4 [==============================] - 0s 84ms/step - loss: 0.6178 - categorical_accuracy: 0.7551\n",
      "Epoch 57/100\n",
      "4/4 [==============================] - 0s 89ms/step - loss: 0.5025 - categorical_accuracy: 0.7959\n",
      "Epoch 58/100\n",
      "4/4 [==============================] - 0s 90ms/step - loss: 0.3399 - categorical_accuracy: 0.9388\n",
      "Epoch 59/100\n",
      "4/4 [==============================] - 0s 89ms/step - loss: 0.3863 - categorical_accuracy: 0.8673\n",
      "Epoch 60/100\n",
      "4/4 [==============================] - 0s 89ms/step - loss: 0.3649 - categorical_accuracy: 0.8980\n",
      "Epoch 61/100\n",
      "4/4 [==============================] - 0s 89ms/step - loss: 0.3217 - categorical_accuracy: 0.9184\n",
      "Epoch 62/100\n",
      "4/4 [==============================] - 0s 82ms/step - loss: 0.3702 - categorical_accuracy: 0.9082\n",
      "Epoch 63/100\n",
      "4/4 [==============================] - 0s 85ms/step - loss: 0.3018 - categorical_accuracy: 0.8776\n",
      "Epoch 64/100\n",
      "4/4 [==============================] - 0s 81ms/step - loss: 0.3035 - categorical_accuracy: 0.8980\n",
      "Epoch 65/100\n",
      "4/4 [==============================] - 0s 81ms/step - loss: 0.2414 - categorical_accuracy: 0.9694\n",
      "Epoch 66/100\n",
      "4/4 [==============================] - 0s 80ms/step - loss: 0.2916 - categorical_accuracy: 0.9490\n",
      "Epoch 67/100\n",
      "4/4 [==============================] - 0s 85ms/step - loss: 0.2626 - categorical_accuracy: 0.9592\n",
      "Epoch 68/100\n",
      "4/4 [==============================] - 0s 82ms/step - loss: 0.2263 - categorical_accuracy: 0.9898\n",
      "Epoch 69/100\n",
      "4/4 [==============================] - 0s 83ms/step - loss: 0.2711 - categorical_accuracy: 0.9592\n",
      "Epoch 70/100\n",
      "4/4 [==============================] - 0s 87ms/step - loss: 0.2701 - categorical_accuracy: 0.9490\n",
      "Epoch 71/100\n",
      "4/4 [==============================] - 0s 84ms/step - loss: 0.2289 - categorical_accuracy: 0.9388\n",
      "Epoch 72/100\n",
      "4/4 [==============================] - 0s 87ms/step - loss: 0.2611 - categorical_accuracy: 0.9388\n",
      "Epoch 73/100\n",
      "4/4 [==============================] - 0s 87ms/step - loss: 0.2218 - categorical_accuracy: 0.9592\n",
      "Epoch 74/100\n",
      "4/4 [==============================] - 0s 88ms/step - loss: 0.2115 - categorical_accuracy: 0.9388\n",
      "Epoch 75/100\n",
      "4/4 [==============================] - 0s 85ms/step - loss: 0.1902 - categorical_accuracy: 0.9898\n",
      "Epoch 76/100\n",
      "4/4 [==============================] - 0s 79ms/step - loss: 0.1988 - categorical_accuracy: 0.9694\n",
      "Epoch 77/100\n",
      "4/4 [==============================] - 0s 87ms/step - loss: 0.2272 - categorical_accuracy: 0.9184\n",
      "Epoch 78/100\n",
      "4/4 [==============================] - 0s 83ms/step - loss: 0.3153 - categorical_accuracy: 0.9082\n",
      "Epoch 79/100\n",
      "4/4 [==============================] - 0s 86ms/step - loss: 0.2526 - categorical_accuracy: 0.9490\n",
      "Epoch 80/100\n",
      "4/4 [==============================] - 0s 86ms/step - loss: 0.2472 - categorical_accuracy: 0.9388\n",
      "Epoch 81/100\n",
      "4/4 [==============================] - 0s 84ms/step - loss: 0.1675 - categorical_accuracy: 1.0000\n",
      "Epoch 82/100\n",
      "4/4 [==============================] - 0s 80ms/step - loss: 0.1846 - categorical_accuracy: 0.9898\n",
      "Epoch 83/100\n",
      "4/4 [==============================] - 0s 81ms/step - loss: 0.1839 - categorical_accuracy: 0.9796\n",
      "Epoch 84/100\n",
      "4/4 [==============================] - 0s 88ms/step - loss: 0.1435 - categorical_accuracy: 0.9898\n",
      "Epoch 85/100\n",
      "4/4 [==============================] - 0s 81ms/step - loss: 0.1376 - categorical_accuracy: 1.0000\n",
      "Epoch 86/100\n",
      "4/4 [==============================] - 0s 81ms/step - loss: 0.1527 - categorical_accuracy: 1.0000\n",
      "Epoch 87/100\n",
      "4/4 [==============================] - 0s 80ms/step - loss: 0.1501 - categorical_accuracy: 0.9796\n",
      "Epoch 88/100\n",
      "4/4 [==============================] - 0s 84ms/step - loss: 0.1350 - categorical_accuracy: 0.9898\n",
      "Epoch 89/100\n",
      "4/4 [==============================] - 0s 90ms/step - loss: 0.1324 - categorical_accuracy: 0.9898\n",
      "Epoch 90/100\n",
      "4/4 [==============================] - 0s 83ms/step - loss: 0.1568 - categorical_accuracy: 0.9694\n",
      "Epoch 91/100\n",
      "4/4 [==============================] - 0s 86ms/step - loss: 0.1455 - categorical_accuracy: 1.0000\n",
      "Epoch 92/100\n",
      "4/4 [==============================] - 0s 86ms/step - loss: 0.1428 - categorical_accuracy: 1.0000\n",
      "Epoch 93/100\n",
      "4/4 [==============================] - 0s 85ms/step - loss: 0.1352 - categorical_accuracy: 1.0000\n",
      "Epoch 94/100\n",
      "4/4 [==============================] - 0s 88ms/step - loss: 0.1220 - categorical_accuracy: 1.0000\n",
      "Epoch 95/100\n",
      "4/4 [==============================] - 0s 88ms/step - loss: 0.1184 - categorical_accuracy: 1.0000\n",
      "Epoch 96/100\n",
      "4/4 [==============================] - 0s 88ms/step - loss: 0.1204 - categorical_accuracy: 1.0000\n",
      "Epoch 97/100\n",
      "4/4 [==============================] - 0s 89ms/step - loss: 0.1339 - categorical_accuracy: 1.0000\n",
      "Epoch 98/100\n",
      "4/4 [==============================] - 0s 85ms/step - loss: 0.1208 - categorical_accuracy: 0.9898\n",
      "Epoch 99/100\n",
      "4/4 [==============================] - 0s 75ms/step - loss: 0.1234 - categorical_accuracy: 0.9898\n",
      "Epoch 100/100\n",
      "4/4 [==============================] - 0s 82ms/step - loss: 0.1261 - categorical_accuracy: 0.9898\n"
     ]
    }
   ],
   "source": [
    "history = model.fit(X_train, y_train, epochs=100, callbacks=[tracing_logs])"
   ]
  },
  {
   "cell_type": "markdown",
   "metadata": {},
   "source": [
    "# 3. Visualizing Epoch progress of NN"
   ]
  },
  {
   "cell_type": "code",
   "execution_count": 20,
   "metadata": {},
   "outputs": [
    {
     "name": "stdout",
     "output_type": "stream",
     "text": [
      "Train: 0.882\n"
     ]
    },
    {
     "data": {
      "image/png": "[encoded data removed]",
      "text/plain": [
       "<Figure size 640x480 with 2 Axes>"
      ]
     },
     "metadata": {},
     "output_type": "display_data"
    }
   ],
   "source": [
    "# evaluate the model\n",
    "_, train_acc = model.evaluate(X, y, verbose=0)\n",
    "print('Train: %.3f' % (train_acc))\n",
    "# plot loss during training\n",
    "plt.subplot(211)\n",
    "plt.title('Loss')\n",
    "plt.plot(history.history['loss'], label='train')\n",
    "plt.legend()\n",
    "# plot accuracy during training\n",
    "plt.subplot(212)\n",
    "plt.title('Accuracy')\n",
    "plt.plot(history.history['categorical_accuracy'], label='train')\n",
    "plt.legend()\n",
    "plt.show()"
   ]
  },
  {
   "cell_type": "markdown",
   "metadata": {},
   "source": [
    "# 3. Saving complete NN model"
   ]
  },
  {
   "cell_type": "code",
   "execution_count": 21,
   "metadata": {},
   "outputs": [],
   "source": [
    "model.save('../export_data/nn_model.h5')\n",
    "np.save('../export_data/X_test', X_test)\n",
    "np.save('../export_data/y_test', y_test)"
   ]
  }
 ],
 "metadata": {
  "kernelspec": {
   "display_name": "Python 3 (ipykernel)",
   "language": "python",
   "name": "python3"
  },
  "language_info": {
   "codemirror_mode": {
    "name": "ipython",
    "version": 3
   },
   "file_extension": ".py",
   "mimetype": "text/x-python",
   "name": "python",
   "nbconvert_exporter": "python",
   "pygments_lexer": "ipython3",
   "version": "3.8.15"
  }
 },
 "nbformat": 4,
 "nbformat_minor": 4
}
