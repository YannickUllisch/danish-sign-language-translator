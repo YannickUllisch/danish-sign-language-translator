{
 "cells": [
  {
   "cell_type": "code",
   "execution_count": 3,
   "metadata": {},
   "outputs": [],
   "source": [
    "import tensorflow as tf\n",
    "from tensorflow import keras\n",
    "from tensorflow.keras.models import load_model\n",
    "import numpy as np\n",
    "import matplotlib.pyplot as plt\n",
    "from sklearn.metrics import confusion_matrix\n",
    "from sklearn.metrics import accuracy_score\n",
    "import re\n"
   ]
  },
  {
   "attachments": {},
   "cell_type": "markdown",
   "metadata": {},
   "source": [
    "# Importing relevant Testing Data and NN model Weights"
   ]
  },
  {
   "cell_type": "code",
   "execution_count": 16,
   "metadata": {},
   "outputs": [],
   "source": [
    "def import_data(import_path):\n",
    "    savedMod = load_model(str(import_path) + \"nn_modelVR.h5\")\n",
    "    X_test = np.load(str(import_path) + \"X_testVR.npy\")\n",
    "    y_test = np.load(str(import_path) + \"y_testVR.npy\")\n",
    "    return savedMod, X_test, y_test"
   ]
  },
  {
   "cell_type": "code",
   "execution_count": 17,
   "metadata": {},
   "outputs": [
    {
     "name": "stdout",
     "output_type": "stream",
     "text": [
      "WARNING:tensorflow:Layer lstm_1 will not use cuDNN kernels since it doesn't meet the criteria. It will use a generic GPU kernel as fallback when running on GPU.\n"
     ]
    }
   ],
   "source": [
    "savedMod, X_test, y_test = import_data(\"../VR_exportdata/\")"
   ]
  },
  {
   "cell_type": "code",
   "execution_count": 24,
   "metadata": {},
   "outputs": [
    {
     "name": "stdout",
     "output_type": "stream",
     "text": [
      "(54, 120, 144)\n",
      "(54, 9)\n"
     ]
    }
   ],
   "source": [
    "print(X_test.shape)\n",
    "print(y_test.shape)"
   ]
  },
  {
   "cell_type": "code",
   "execution_count": 19,
   "metadata": {},
   "outputs": [],
   "source": [
    "def nn_statistics(model, X_test, y_test):\n",
    "    y_pred = model.predict(X_test)\n",
    "    y_pred = tf.argmax(y_pred, axis=1)\n",
    "    y_test = tf.argmax(y_test, axis=1)\n",
    "\n",
    "    #Normalized confusion matris\n",
    "    conf_matrix = confusion_matrix(y_test, y_pred, normalize='true')\n",
    "    print(conf_matrix)\n",
    "    print()\n",
    "    print(accuracy_score(y_test, y_pred))"
   ]
  },
  {
   "cell_type": "code",
   "execution_count": 20,
   "metadata": {},
   "outputs": [
    {
     "name": "stderr",
     "output_type": "stream",
     "text": [
      "2023-05-24 13:04:47.871842: I tensorflow/core/grappler/optimizers/custom_graph_optimizer_registry.cc:114] Plugin optimizer for device_type GPU is enabled.\n"
     ]
    },
    {
     "name": "stdout",
     "output_type": "stream",
     "text": [
      "2/2 [==============================] - 1s 646ms/step\n",
      "[[1.         0.         0.         0.         0.         0.\n",
      "  0.         0.         0.        ]\n",
      " [0.         1.         0.         0.         0.         0.\n",
      "  0.         0.         0.        ]\n",
      " [0.         0.         0.85714286 0.         0.         0.\n",
      "  0.         0.         0.14285714]\n",
      " [0.2        0.         0.         0.8        0.         0.\n",
      "  0.         0.         0.        ]\n",
      " [0.         0.         0.         0.         1.         0.\n",
      "  0.         0.         0.        ]\n",
      " [0.         0.         0.         0.         0.         1.\n",
      "  0.         0.         0.        ]\n",
      " [0.         0.         0.         0.         0.         0.\n",
      "  1.         0.         0.        ]\n",
      " [0.         0.         0.         0.         0.         0.\n",
      "  0.         1.         0.        ]\n",
      " [0.         0.         0.         0.         0.         0.\n",
      "  0.         0.         1.        ]]\n",
      "\n",
      "0.9629629629629629\n"
     ]
    }
   ],
   "source": [
    "nn_statistics(savedMod, X_test, y_test)"
   ]
  },
  {
   "cell_type": "code",
   "execution_count": 21,
   "metadata": {},
   "outputs": [],
   "source": [
    "\n",
    "file = open('soed23.csv')\n",
    "file = file.read()\n",
    "file = file.replace(\"\\n\", \",\")\n",
    "data = re.sub(r\"[\\([{})\\]]\", \"\", file)\n",
    "\n",
    "npdata = np.fromstring(data, dtype=float, sep=',')\n",
    "npdata = npdata.reshape(int(len(npdata)/144), 144)\n",
    "\n",
    "num_rows, num_cols = npdata.shape\n",
    "npdata = npdata[:-int(num_rows - 120)]\n",
    "\n",
    "soedlabel = 8"
   ]
  },
  {
   "cell_type": "code",
   "execution_count": 23,
   "metadata": {},
   "outputs": [
    {
     "name": "stdout",
     "output_type": "stream",
     "text": [
      "1/1 [==============================] - 1s 561ms/step\n"
     ]
    },
    {
     "data": {
      "text/plain": [
       "5"
      ]
     },
     "execution_count": 23,
     "metadata": {},
     "output_type": "execute_result"
    }
   ],
   "source": [
    "npdata = npdata.reshape(1, 120, 144)\n",
    "\n",
    "np.argmax(savedMod.predict(npdata))"
   ]
  }
 ],
 "metadata": {
  "kernelspec": {
   "display_name": "base",
   "language": "python",
   "name": "python3"
  },
  "language_info": {
   "codemirror_mode": {
    "name": "ipython",
    "version": 3
   },
   "file_extension": ".py",
   "mimetype": "text/x-python",
   "name": "python",
   "nbconvert_exporter": "python",
   "pygments_lexer": "ipython3",
   "version": "3.8.16"
  },
  "orig_nbformat": 4,
  "vscode": {
   "interpreter": {
    "hash": "1d6ca838ec19a1ef0fcffd5ba496eff168d279d78b33b0e8a22fb193ba15bf52"
   }
  }
 },
 "nbformat": 4,
 "nbformat_minor": 2
}
