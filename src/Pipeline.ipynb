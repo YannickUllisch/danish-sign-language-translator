{
 "cells": [
  {
   "cell_type": "code",
   "execution_count": 1,
   "metadata": {},
   "outputs": [],
   "source": [
    "import import_ipynb\n",
    "import numpy as np"
   ]
  },
  {
   "cell_type": "code",
   "execution_count": 2,
   "metadata": {},
   "outputs": [
    {
     "name": "stdout",
     "output_type": "stream",
     "text": [
      "importing Jupyter notebook from DataExtraction.ipynb\n"
     ]
    },
    {
     "name": "stderr",
     "output_type": "stream",
     "text": [
      "objc[53878]: Class CaptureDelegate is implemented in both /Users/yannick/opt/anaconda3/envs/test-env/lib/python3.8/site-packages/cv2/cv2.abi3.so (0x1616124d0) and /Users/yannick/opt/anaconda3/envs/test-env/lib/python3.8/site-packages/mediapipe/.dylibs/libopencv_videoio.3.4.16.dylib (0x11f890860). One of the two will be used. Which one is undefined.\n",
      "objc[53878]: Class CVWindow is implemented in both /Users/yannick/opt/anaconda3/envs/test-env/lib/python3.8/site-packages/cv2/cv2.abi3.so (0x161612520) and /Users/yannick/opt/anaconda3/envs/test-env/lib/python3.8/site-packages/mediapipe/.dylibs/libopencv_highgui.3.4.16.dylib (0x118bd8a68). One of the two will be used. Which one is undefined.\n",
      "objc[53878]: Class CVView is implemented in both /Users/yannick/opt/anaconda3/envs/test-env/lib/python3.8/site-packages/cv2/cv2.abi3.so (0x161612548) and /Users/yannick/opt/anaconda3/envs/test-env/lib/python3.8/site-packages/mediapipe/.dylibs/libopencv_highgui.3.4.16.dylib (0x118bd8a90). One of the two will be used. Which one is undefined.\n",
      "objc[53878]: Class CVSlider is implemented in both /Users/yannick/opt/anaconda3/envs/test-env/lib/python3.8/site-packages/cv2/cv2.abi3.so (0x161612570) and /Users/yannick/opt/anaconda3/envs/test-env/lib/python3.8/site-packages/mediapipe/.dylibs/libopencv_highgui.3.4.16.dylib (0x118bd8ab8). One of the two will be used. Which one is undefined.\n"
     ]
    },
    {
     "name": "stdout",
     "output_type": "stream",
     "text": [
      "importing Jupyter notebook from DataPreprocessing.ipynb\n",
      "importing Jupyter notebook from Predictions.ipynb\n"
     ]
    }
   ],
   "source": [
    "# Importing all relevant .ipynb files to create the Pipeline\n",
    "import DataExtraction\n",
    "import DataPreprocessing\n",
    "import Predictions"
   ]
  },
  {
   "attachments": {},
   "cell_type": "markdown",
   "metadata": {},
   "source": [
    "# All base properties needed for the Pipeline"
   ]
  },
  {
   "cell_type": "code",
   "execution_count": 3,
   "metadata": {},
   "outputs": [],
   "source": [
    "# \"Words\" contains the subset of words we make predictions for. \n",
    "words =  np.array(['hvad', 'ja', 'soed'])\n",
    "label_map = {label:num for num, label in enumerate(words)}\n",
    "\n",
    "# Base path leading to directory containing folders with videos for all signs defined in \"words\" array\n",
    "base_path = \"../tegn_subset\"\n",
    "\n",
    "# Path for saving processed Data Arrays\n",
    "proc_data_path = \"../export_data/\""
   ]
  },
  {
   "attachments": {},
   "cell_type": "markdown",
   "metadata": {},
   "source": [
    "# Simple Pipeline for all Data Extraction and Preprocessing "
   ]
  },
  {
   "cell_type": "code",
   "execution_count": 4,
   "metadata": {},
   "outputs": [
    {
     "name": "stdout",
     "output_type": "stream",
     "text": [
      "Metal device set to: Apple M1 Pro\n",
      "\n",
      "systemMemory: 16.00 GB\n",
      "maxCacheSize: 5.33 GB\n",
      "\n",
      "WARNING:tensorflow:Layer lstm_1 will not use cuDNN kernels since it doesn't meet the criteria. It will use a generic GPU kernel as fallback when running on GPU.\n"
     ]
    },
    {
     "name": "stderr",
     "output_type": "stream",
     "text": [
      "2023-03-20 15:02:36.761436: I tensorflow/core/common_runtime/pluggable_device/pluggable_device_factory.cc:306] Could not identify NUMA node of platform GPU ID 0, defaulting to 0. Your kernel may not have been built with NUMA support.\n",
      "2023-03-20 15:02:36.761771: I tensorflow/core/common_runtime/pluggable_device/pluggable_device_factory.cc:272] Created TensorFlow device (/job:localhost/replica:0/task:0/device:GPU:0 with 0 MB memory) -> physical PluggableDevice (device: 0, name: METAL, pci bus id: <undefined>)\n",
      "2023-03-20 15:02:37.055696: W tensorflow/tsl/platform/profile_utils/cpu_utils.cc:128] Failed to get CPU frequency: 0 Hz\n",
      "2023-03-20 15:02:37.155044: I tensorflow/core/grappler/optimizers/custom_graph_optimizer_registry.cc:114] Plugin optimizer for device_type GPU is enabled.\n"
     ]
    },
    {
     "name": "stdout",
     "output_type": "stream",
     "text": [
      "1/1 [==============================] - 1s 1s/step\n",
      "[[0.83333333 0.16666667 0.        ]\n",
      " [0.2        0.8        0.        ]\n",
      " [0.         0.         1.        ]]\n",
      "Model: \"sequential_1\"\n",
      "_________________________________________________________________\n",
      " Layer (type)                Output Shape              Param #   \n",
      "=================================================================\n",
      " lstm_1 (LSTM)               (None, 151, 16)           17600     \n",
      "                                                                 \n",
      " flatten_1 (Flatten)         (None, 2416)              0         \n",
      "                                                                 \n",
      " dense_1 (Dense)             (None, 3)                 7251      \n",
      "                                                                 \n",
      "=================================================================\n",
      "Total params: 24,851\n",
      "Trainable params: 24,851\n",
      "Non-trainable params: 0\n",
      "_________________________________________________________________\n"
     ]
    }
   ],
   "source": [
    "# Extracting Keypoint Data from all files in dataset given path and words to include\n",
    "### DataExtraction.mp_db_processing(base_path, words)\n",
    "\n",
    "# Importing all the saved data from above so that we don't need to run it again\n",
    "array_list, labels, vid_frames = DataPreprocessing.import_data(base_path, words, label_map)\n",
    "proc_data = DataPreprocessing.process_data(array_list, max(vid_frames))\n",
    "\n",
    "# Exporting the processed data to 2 .npy files, X data and y labels\n",
    "DataPreprocessing.export_processed_data(proc_data_path, proc_data, labels)\n",
    "\n",
    "# Importing NN model and testing data from \"NeuralNetwork\" file which is ran with ERDA due to m1 issues with Tensorflow\n",
    "model, X_test, y_test = Predictions.import_data(proc_data_path)\n",
    "Predictions.nn_statistics(model, X_test, y_test)\n",
    "\n",
    "model.summary()"
   ]
  },
  {
   "attachments": {},
   "cell_type": "markdown",
   "metadata": {},
   "source": [
    "## Extracting and import keypoints for some video for tests via. functions from other files"
   ]
  },
  {
   "cell_type": "code",
   "execution_count": 5,
   "metadata": {},
   "outputs": [
    {
     "name": "stderr",
     "output_type": "stream",
     "text": [
      "INFO: Created TensorFlow Lite XNNPACK delegate for CPU.\n"
     ]
    },
    {
     "data": {
      "text/plain": [
       "(1, 151, 258)"
      ]
     },
     "execution_count": 5,
     "metadata": {},
     "output_type": "execute_result"
    }
   ],
   "source": [
    "test = DataExtraction.mp_sv_processing('jatest.mp4')\n",
    "processed_data = DataPreprocessing.process_data([test], max(vid_frames))\n",
    "processed_data.shape"
   ]
  },
  {
   "cell_type": "code",
   "execution_count": 9,
   "metadata": {},
   "outputs": [
    {
     "name": "stdout",
     "output_type": "stream",
     "text": [
      "1/1 [==============================] - 1s 968ms/step\n"
     ]
    },
    {
     "data": {
      "text/plain": [
       "array([[0.02030458, 0.19780016, 0.7818953 ]], dtype=float32)"
      ]
     },
     "execution_count": 9,
     "metadata": {},
     "output_type": "execute_result"
    }
   ],
   "source": [
    "model.predict(processed_data)"
   ]
  }
 ],
 "metadata": {
  "kernelspec": {
   "display_name": "test-env",
   "language": "python",
   "name": "python3"
  },
  "language_info": {
   "codemirror_mode": {
    "name": "ipython",
    "version": 3
   },
   "file_extension": ".py",
   "mimetype": "text/x-python",
   "name": "python",
   "nbconvert_exporter": "python",
   "pygments_lexer": "ipython3",
   "version": "3.9.13"
  },
  "orig_nbformat": 4,
  "vscode": {
   "interpreter": {
    "hash": "be5512a89907ef199886bb726a1c1fb2884526d07d9d0dc84c8b750dd2e562f6"
   }
  }
 },
 "nbformat": 4,
 "nbformat_minor": 2
}
