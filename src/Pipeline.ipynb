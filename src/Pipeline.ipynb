{
 "cells": [
  {
   "cell_type": "code",
   "execution_count": 1,
   "metadata": {},
   "outputs": [],
   "source": [
    "import import_ipynb\n",
    "import numpy as np"
   ]
  },
  {
   "cell_type": "code",
   "execution_count": 3,
   "metadata": {},
   "outputs": [
    {
     "name": "stdout",
     "output_type": "stream",
     "text": [
      "importing Jupyter notebook from DataPreprocessing.ipynb\n",
      "importing Jupyter notebook from Predictions.ipynb\n"
     ]
    }
   ],
   "source": [
    "# Importing all relevant .ipynb files to create the Pipeline\n",
    "import DataExtraction\n",
    "import DataPreprocessing\n",
    "import Predictions"
   ]
  },
  {
   "attachments": {},
   "cell_type": "markdown",
   "metadata": {},
   "source": [
    "# All base properties needed for the Pipeline"
   ]
  },
  {
   "cell_type": "code",
   "execution_count": 4,
   "metadata": {},
   "outputs": [],
   "source": [
    "# \"Words\" contains the subset of words we make predictions for. \n",
    "threewordsubset =  np.array(['hvad', 'ja', 'soed'])\n",
    "words =  np.array(['hvad', 'ja', 'soed', 'mange', 'nej', 'nu', 'fordi', 'koebe', 'tid'])\n",
    "label_map = {label:num for num, label in enumerate(words)}\n",
    "\n",
    "# Base path leading to directory containing folders with videos for all signs defined in \"words\" array\n",
    "base_path = \"../extended_subset\"\n",
    "\n",
    "# Path for saving processed Data Arrays\n",
    "proc_data_path = \"../export_data/\""
   ]
  },
  {
   "attachments": {},
   "cell_type": "markdown",
   "metadata": {},
   "source": [
    "# Simple Pipeline for all Data Extraction and Preprocessing "
   ]
  },
  {
   "cell_type": "code",
   "execution_count": 8,
   "metadata": {},
   "outputs": [
    {
     "name": "stdout",
     "output_type": "stream",
     "text": [
      "WARNING:tensorflow:Layer lstm_2 will not use cuDNN kernels since it doesn't meet the criteria. It will use a generic GPU kernel as fallback when running on GPU.\n"
     ]
    },
    {
     "name": "stderr",
     "output_type": "stream",
     "text": [
      "2023-04-08 16:52:01.535125: I tensorflow/core/grappler/optimizers/custom_graph_optimizer_registry.cc:114] Plugin optimizer for device_type GPU is enabled.\n"
     ]
    },
    {
     "name": "stdout",
     "output_type": "stream",
     "text": [
      "2/2 [==============================] - 3s 1s/step\n",
      "[[1.         0.         0.         0.         0.         0.\n",
      "  0.         0.         0.        ]\n",
      " [0.         0.5        0.33333333 0.         0.16666667 0.\n",
      "  0.         0.         0.        ]\n",
      " [0.         0.         0.88888889 0.         0.11111111 0.\n",
      "  0.         0.         0.        ]\n",
      " [0.         0.125      0.         0.75       0.125      0.\n",
      "  0.         0.         0.        ]\n",
      " [0.         0.11111111 0.11111111 0.         0.77777778 0.\n",
      "  0.         0.         0.        ]\n",
      " [0.         0.         0.5        0.         0.         0.\n",
      "  0.         0.         0.5       ]\n",
      " [0.         0.         0.         0.         0.5        0.\n",
      "  0.         0.         0.5       ]\n",
      " [0.         0.         0.         0.         0.33333333 0.\n",
      "  0.         0.66666667 0.        ]\n",
      " [0.         0.16666667 0.16666667 0.         0.         0.\n",
      "  0.         0.         0.66666667]]\n",
      "\n",
      "0.6851851851851852\n"
     ]
    }
   ],
   "source": [
    "# Extracting Keypoint Data from all files in dataset given path and words to include\n",
    "### DataExtraction.mp_db_processing(base_path, words)\n",
    "\n",
    "# Importing all the saved data from above so that we don't need to run it again\n",
    "array_list, labels, vid_frames = DataPreprocessing.import_data(base_path, words, label_map)\n",
    "proc_data = DataPreprocessing.process_data(array_list, max(vid_frames))\n",
    "\n",
    "# Exporting the processed data to 2 .npy files, X data and y labels\n",
    "DataPreprocessing.export_processed_data(proc_data_path, proc_data, labels)\n",
    "\n",
    "# Importing NN model and testing data from \"NeuralNetwork\" file which is ran with ERDA due to m1 issues with Tensorflow\n",
    "model, X_test, y_test = Predictions.import_data(proc_data_path)\n",
    "Predictions.nn_statistics(model, X_test, y_test)\n",
    "\n",
    "#model.summary()"
   ]
  },
  {
   "attachments": {},
   "cell_type": "markdown",
   "metadata": {},
   "source": [
    "## Extracting and import keypoints for some video for tests via. functions from other files"
   ]
  },
  {
   "cell_type": "code",
   "execution_count": 9,
   "metadata": {},
   "outputs": [
    {
     "data": {
      "text/plain": [
       "(1, 151, 258)"
      ]
     },
     "execution_count": 9,
     "metadata": {},
     "output_type": "execute_result"
    }
   ],
   "source": [
    "test = DataExtraction.mp_sv_processing('jatest.mp4')\n",
    "processed_data = DataPreprocessing.process_data([test], max(vid_frames))\n",
    "processed_data.shape"
   ]
  },
  {
   "cell_type": "code",
   "execution_count": 10,
   "metadata": {},
   "outputs": [
    {
     "name": "stdout",
     "output_type": "stream",
     "text": [
      "1/1 [==============================] - 1s 1s/step\n"
     ]
    },
    {
     "data": {
      "text/plain": [
       "'soed'"
      ]
     },
     "execution_count": 10,
     "metadata": {},
     "output_type": "execute_result"
    }
   ],
   "source": [
    "pred = model.predict(processed_data)\n",
    "words[np.argmax(pred)]"
   ]
  }
 ],
 "metadata": {
  "kernelspec": {
   "display_name": "test-env",
   "language": "python",
   "name": "python3"
  },
  "language_info": {
   "codemirror_mode": {
    "name": "ipython",
    "version": 3
   },
   "file_extension": ".py",
   "mimetype": "text/x-python",
   "name": "python",
   "nbconvert_exporter": "python",
   "pygments_lexer": "ipython3",
   "version": "3.8.16"
  },
  "orig_nbformat": 4,
  "vscode": {
   "interpreter": {
    "hash": "be5512a89907ef199886bb726a1c1fb2884526d07d9d0dc84c8b750dd2e562f6"
   }
  }
 },
 "nbformat": 4,
 "nbformat_minor": 2
}
