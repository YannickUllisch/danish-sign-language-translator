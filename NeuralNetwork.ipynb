{
 "cells": [
  {
   "attachments": {},
   "cell_type": "markdown",
   "metadata": {},
   "source": [
    "# Importing relevant libraries"
   ]
  },
  {
   "cell_type": "code",
   "execution_count": 1,
   "metadata": {},
   "outputs": [
    {
     "name": "stderr",
     "output_type": "stream",
     "text": [
      "objc[31768]: Class CaptureDelegate is implemented in both /Users/yannick/opt/anaconda3/envs/test-env/lib/python3.8/site-packages/cv2/cv2.abi3.so (0x15127a4d0) and /Users/yannick/opt/anaconda3/envs/test-env/lib/python3.8/site-packages/mediapipe/.dylibs/libopencv_videoio.3.4.16.dylib (0x151a0c860). One of the two will be used. Which one is undefined.\n",
      "objc[31768]: Class CVWindow is implemented in both /Users/yannick/opt/anaconda3/envs/test-env/lib/python3.8/site-packages/cv2/cv2.abi3.so (0x15127a520) and /Users/yannick/opt/anaconda3/envs/test-env/lib/python3.8/site-packages/mediapipe/.dylibs/libopencv_highgui.3.4.16.dylib (0x120114a68). One of the two will be used. Which one is undefined.\n",
      "objc[31768]: Class CVView is implemented in both /Users/yannick/opt/anaconda3/envs/test-env/lib/python3.8/site-packages/cv2/cv2.abi3.so (0x15127a548) and /Users/yannick/opt/anaconda3/envs/test-env/lib/python3.8/site-packages/mediapipe/.dylibs/libopencv_highgui.3.4.16.dylib (0x120114a90). One of the two will be used. Which one is undefined.\n",
      "objc[31768]: Class CVSlider is implemented in both /Users/yannick/opt/anaconda3/envs/test-env/lib/python3.8/site-packages/cv2/cv2.abi3.so (0x15127a570) and /Users/yannick/opt/anaconda3/envs/test-env/lib/python3.8/site-packages/mediapipe/.dylibs/libopencv_highgui.3.4.16.dylib (0x120114ab8). One of the two will be used. Which one is undefined.\n"
     ]
    }
   ],
   "source": [
    "import cv2\n",
    "import numpy as np\n",
    "import os\n",
    "from matplotlib import pyplot as plt\n",
    "import time\n",
    "import mediapipe as mp\n",
    "import pandas as pd\n",
    "\n",
    "from sklearn.model_selection import train_test_split\n",
    "from tensorflow.keras.utils import to_categorical\n",
    "import plotly.graph_objects as go\n",
    "\n",
    "import tensorflow as tf\n",
    "from tensorflow.keras.models import Sequential\n",
    "from tensorflow.keras.layers import LSTM, Dense, Flatten\n",
    "from tensorflow.keras.callbacks import TensorBoard\n",
    "\n",
    "import itertools\n",
    "from pprint import pprint\n",
    "from scipy.interpolate import interp1d\n",
    "import scipy as sp\n",
    "from sklearn import preprocessing\n",
    "\n",
    "import math\n",
    "import plotly.express as px\n",
    "from pathlib import Path"
   ]
  },
  {
   "attachments": {},
   "cell_type": "markdown",
   "metadata": {},
   "source": [
    "### Defining our used Subset of the dataset"
   ]
  },
  {
   "cell_type": "code",
   "execution_count": 2,
   "metadata": {},
   "outputs": [],
   "source": [
    "words =  np.array(['hvad', 'ja', 'soed'])\n",
    "\n",
    "label_map = {label:num for num, label in enumerate(words)}"
   ]
  },
  {
   "attachments": {},
   "cell_type": "markdown",
   "metadata": {},
   "source": [
    "## Importing saved data and setting up Train and Test data arrays"
   ]
  },
  {
   "cell_type": "code",
   "execution_count": 3,
   "metadata": {},
   "outputs": [
    {
     "data": {
      "text/plain": [
       "151"
      ]
     },
     "execution_count": 3,
     "metadata": {},
     "output_type": "execute_result"
    }
   ],
   "source": [
    "# Keypoint_list_of_arrays is a python list containing \"video amount\" of NP arrays.\n",
    "# Each array inside the list has size  \n",
    "keypoint_list_of_arrays = []\n",
    "labels = []\n",
    "vid_frames = []\n",
    "for word in words:\n",
    "    dir_path = \"tegn_subset/\" + str(word) + \"_data\" + \"/\"\n",
    "    for vid_folder in next(os.walk(dir_path))[1]:\n",
    "        # Finds number of .npy files in current vid_folder\n",
    "        frame_len = len([entry for entry in os.listdir(dir_path + str(vid_folder)) \n",
    "                        if entry.endswith('.npy') and os.path.isfile(os.path.join(dir_path + str(vid_folder), entry))])\n",
    "        vid_frames.append(frame_len)\n",
    "        tmp = []\n",
    "        for frame_num in range(frame_len):\n",
    "            imported_data = np.load(os.path.join(dir_path, vid_folder, word) + str(frame_num) + \".npy\")\n",
    "            tmp.append(imported_data)\n",
    "\n",
    "        tmp = np.array(tmp)\n",
    "        #print(tmp.shape)\n",
    "\n",
    "        keypoint_list_of_arrays.append(tmp)\n",
    "        labels.append(label_map[word])\n",
    "\n",
    "max(vid_frames)\n"
   ]
  },
  {
   "attachments": {},
   "cell_type": "markdown",
   "metadata": {},
   "source": [
    "# Interpolating Keypoints"
   ]
  },
  {
   "attachments": {},
   "cell_type": "markdown",
   "metadata": {},
   "source": [
    "Extracting specific coordinates for right hand, left hand and pose from previously appended data.\n",
    "\n",
    "Meaning our first $33*4$ out of 258 values are for pose, the next $21*3$ are for left_hand and the last $21*3$ are for right_hand.\n",
    "We now want to seperate all coordinates and visibility values such that it is easy for us to access all specific coordinates \n",
    "for a single keypoint for all frames. \n",
    "\n",
    "We will then proceed to interpolate values for all coordinates "
   ]
  },
  {
   "cell_type": "code",
   "execution_count": 4,
   "metadata": {},
   "outputs": [],
   "source": [
    "# As input array HAS to be of size (frame_amount, 258)\n",
    "def split_array(array_to_split):\n",
    "    # Splits total array into pose values and hand values \n",
    "    posearr = array_to_split[:, 0:132]\n",
    "    handarr = array_to_split[:, 132::]\n",
    "\n",
    "    # Splititng handarr to seperate left hand from right hand values\n",
    "    splithandarr = np.split(handarr, 2, axis=1)\n",
    "    lhcoords = splithandarr[0]\n",
    "    rhcoords = splithandarr[1]\n",
    "\n",
    "    # Extracting specific coordinates for both the left and right hand\n",
    "    rhxcoords = rhcoords[:, 0::3]\n",
    "    lhxcoords = lhcoords[:, 0::3]\n",
    "\n",
    "    rhycoords = rhcoords[:, 1::3]\n",
    "    lhycoords = lhcoords[:, 1::3]\n",
    "\n",
    "    rhzcoords = rhcoords[:, 2::3]\n",
    "    lhzcoords = lhcoords[:, 2::3]\n",
    "\n",
    "    # Splitting up coordinates and visibility values for pose\n",
    "    pxcoords = posearr[:, 0::4]\n",
    "    pycoords = posearr[:, 1::4]\n",
    "    pzcoords = posearr[:, 2::4]\n",
    "    pvis = posearr[:, 3::4]\n",
    "\n",
    "    return pxcoords, pycoords, pzcoords, pvis, lhxcoords, lhycoords, lhzcoords, rhxcoords, rhycoords, rhzcoords\n",
    "\n",
    "# With this splitting it seems that every row (out of 48 total) now contains all x coordinates for one frame for BOTH hands\n",
    "# This means that to get all sequential x coordinates for one specific point we can take each column. \n",
    "# So column handxcoord[:, 0] is \n",
    "\n",
    "t = split_array(keypoint_list_of_arrays[0])\n"
   ]
  },
  {
   "attachments": {},
   "cell_type": "markdown",
   "metadata": {},
   "source": [
    "### Filtering for removal of outliars\n",
    "\n"
   ]
  },
  {
   "cell_type": "code",
   "execution_count": 5,
   "metadata": {},
   "outputs": [
    {
     "data": {
      "application/vnd.plotly.v1+json": {
       "config": {
        "plotlyServerURL": "https://plot.ly"
       },
       "data": [
        {
         "line": {
          "shape": "spline"
         },
         "name": "signal with noise",
         "type": "scatter",
         "y": [
          0.782701849937439,
          0.758253276348114,
          0,
          0,
          0,
          0,
          0.6404517889022827,
          0.6038869619369507,
          0.5844182968139648,
          0.5684388875961304,
          0.5623778700828552,
          0.5564878582954407,
          0.5591660141944885,
          0.5591433644294739,
          0.5610730051994324,
          0.5620187520980835,
          0.5616422295570374,
          0.5637202262878418,
          0.566000759601593,
          0.564487099647522,
          0.5644686818122864,
          0.5640454888343811,
          0.5636561512947083,
          0.561303973197937,
          0.5609457492828369,
          0.560543417930603,
          0.5648535490036011,
          0.5661740303039551,
          0.5642141699790955,
          0.5642340183258057,
          0.5627680420875549,
          0.5604095458984375,
          0.5613114833831787,
          0.562096357345581,
          0.563789427280426,
          0.5658363699913025,
          0.5676110982894897,
          0.5678395628929138,
          0.5697252154350281,
          0.5731533765792847,
          0.5817669630050659,
          0.5918673872947693,
          0.6049741506576538,
          0.6223154067993164,
          0.6385564208030701,
          0,
          0,
          0,
          0.7384172677993774,
          0.7411870360374451,
          0.7487781047821045,
          0.7601250410079956,
          0.7738790512084961
         ]
        },
        {
         "line": {
          "shape": "spline"
         },
         "name": "filtered signal",
         "type": "scatter",
         "y": [
          6.358387695506568e-7,
          4.1889775604661083e-7,
          2.3548695014147737e-7,
          1.1222099637290865e-7,
          5.820453599282736e-8,
          6.222296116750283e-8,
          1.0190808978716154e-7,
          1.5749177369151782e-7,
          2.171149071537507e-7,
          2.711491333763631e-7,
          3.1112198399766086e-7,
          3.3528182968910994e-7,
          3.4877219042673453e-7,
          3.583020850006279e-7,
          3.6835881357884716e-7,
          3.810885026591195e-7,
          3.971825828868261e-7,
          4.157374776709882e-7,
          4.3354475201869395e-7,
          4.4552972637699304e-7,
          4.4797434869142903e-7,
          4.422188970504069e-7,
          4.3462306089731827e-7,
          4.329823667436039e-7,
          4.4244258544607735e-7,
          4.6237418487685874e-7,
          4.851593861302895e-7,
          4.98938995725945e-7,
          4.944243795601854e-7,
          4.70988407900271e-7,
          4.3639701501052374e-7,
          4.0138483271709123e-7,
          3.754698508873773e-7,
          3.656622498035001e-7,
          3.748234950667309e-7,
          3.9915110777042603e-7,
          4.278658355388967e-7,
          4.474562955202523e-7,
          4.4761583668333585e-7,
          4.232739315775276e-7,
          3.729439445234459e-7,
          2.9844561591525817e-7,
          2.0794381512641952e-7,
          1.196989952244134e-7,
          6.053402871104667e-8,
          5.504954922148201e-8,
          1.1351917567722592e-7,
          2.2644866728294286e-7,
          3.646419332158374e-7,
          4.910195946215113e-7,
          5.825716380894996e-7,
          6.397262869923147e-7,
          6.7723298796211e-7
         ]
        }
       ],
       "layout": {
        "template": {
         "data": {
          "bar": [
           {
            "error_x": {
             "color": "#2a3f5f"
            },
            "error_y": {
             "color": "#2a3f5f"
            },
            "marker": {
             "line": {
              "color": "#E5ECF6",
              "width": 0.5
             },
             "pattern": {
              "fillmode": "overlay",
              "size": 10,
              "solidity": 0.2
             }
            },
            "type": "bar"
           }
          ],
          "barpolar": [
           {
            "marker": {
             "line": {
              "color": "#E5ECF6",
              "width": 0.5
             },
             "pattern": {
              "fillmode": "overlay",
              "size": 10,
              "solidity": 0.2
             }
            },
            "type": "barpolar"
           }
          ],
          "carpet": [
           {
            "aaxis": {
             "endlinecolor": "#2a3f5f",
             "gridcolor": "white",
             "linecolor": "white",
             "minorgridcolor": "white",
             "startlinecolor": "#2a3f5f"
            },
            "baxis": {
             "endlinecolor": "#2a3f5f",
             "gridcolor": "white",
             "linecolor": "white",
             "minorgridcolor": "white",
             "startlinecolor": "#2a3f5f"
            },
            "type": "carpet"
           }
          ],
          "choropleth": [
           {
            "colorbar": {
             "outlinewidth": 0,
             "ticks": ""
            },
            "type": "choropleth"
           }
          ],
          "contour": [
           {
            "colorbar": {
             "outlinewidth": 0,
             "ticks": ""
            },
            "colorscale": [
             [
              0,
              "#0d0887"
             ],
             [
              0.1111111111111111,
              "#46039f"
             ],
             [
              0.2222222222222222,
              "#7201a8"
             ],
             [
              0.3333333333333333,
              "#9c179e"
             ],
             [
              0.4444444444444444,
              "#bd3786"
             ],
             [
              0.5555555555555556,
              "#d8576b"
             ],
             [
              0.6666666666666666,
              "#ed7953"
             ],
             [
              0.7777777777777778,
              "#fb9f3a"
             ],
             [
              0.8888888888888888,
              "#fdca26"
             ],
             [
              1,
              "#f0f921"
             ]
            ],
            "type": "contour"
           }
          ],
          "contourcarpet": [
           {
            "colorbar": {
             "outlinewidth": 0,
             "ticks": ""
            },
            "type": "contourcarpet"
           }
          ],
          "heatmap": [
           {
            "colorbar": {
             "outlinewidth": 0,
             "ticks": ""
            },
            "colorscale": [
             [
              0,
              "#0d0887"
             ],
             [
              0.1111111111111111,
              "#46039f"
             ],
             [
              0.2222222222222222,
              "#7201a8"
             ],
             [
              0.3333333333333333,
              "#9c179e"
             ],
             [
              0.4444444444444444,
              "#bd3786"
             ],
             [
              0.5555555555555556,
              "#d8576b"
             ],
             [
              0.6666666666666666,
              "#ed7953"
             ],
             [
              0.7777777777777778,
              "#fb9f3a"
             ],
             [
              0.8888888888888888,
              "#fdca26"
             ],
             [
              1,
              "#f0f921"
             ]
            ],
            "type": "heatmap"
           }
          ],
          "heatmapgl": [
           {
            "colorbar": {
             "outlinewidth": 0,
             "ticks": ""
            },
            "colorscale": [
             [
              0,
              "#0d0887"
             ],
             [
              0.1111111111111111,
              "#46039f"
             ],
             [
              0.2222222222222222,
              "#7201a8"
             ],
             [
              0.3333333333333333,
              "#9c179e"
             ],
             [
              0.4444444444444444,
              "#bd3786"
             ],
             [
              0.5555555555555556,
              "#d8576b"
             ],
             [
              0.6666666666666666,
              "#ed7953"
             ],
             [
              0.7777777777777778,
              "#fb9f3a"
             ],
             [
              0.8888888888888888,
              "#fdca26"
             ],
             [
              1,
              "#f0f921"
             ]
            ],
            "type": "heatmapgl"
           }
          ],
          "histogram": [
           {
            "marker": {
             "pattern": {
              "fillmode": "overlay",
              "size": 10,
              "solidity": 0.2
             }
            },
            "type": "histogram"
           }
          ],
          "histogram2d": [
           {
            "colorbar": {
             "outlinewidth": 0,
             "ticks": ""
            },
            "colorscale": [
             [
              0,
              "#0d0887"
             ],
             [
              0.1111111111111111,
              "#46039f"
             ],
             [
              0.2222222222222222,
              "#7201a8"
             ],
             [
              0.3333333333333333,
              "#9c179e"
             ],
             [
              0.4444444444444444,
              "#bd3786"
             ],
             [
              0.5555555555555556,
              "#d8576b"
             ],
             [
              0.6666666666666666,
              "#ed7953"
             ],
             [
              0.7777777777777778,
              "#fb9f3a"
             ],
             [
              0.8888888888888888,
              "#fdca26"
             ],
             [
              1,
              "#f0f921"
             ]
            ],
            "type": "histogram2d"
           }
          ],
          "histogram2dcontour": [
           {
            "colorbar": {
             "outlinewidth": 0,
             "ticks": ""
            },
            "colorscale": [
             [
              0,
              "#0d0887"
             ],
             [
              0.1111111111111111,
              "#46039f"
             ],
             [
              0.2222222222222222,
              "#7201a8"
             ],
             [
              0.3333333333333333,
              "#9c179e"
             ],
             [
              0.4444444444444444,
              "#bd3786"
             ],
             [
              0.5555555555555556,
              "#d8576b"
             ],
             [
              0.6666666666666666,
              "#ed7953"
             ],
             [
              0.7777777777777778,
              "#fb9f3a"
             ],
             [
              0.8888888888888888,
              "#fdca26"
             ],
             [
              1,
              "#f0f921"
             ]
            ],
            "type": "histogram2dcontour"
           }
          ],
          "mesh3d": [
           {
            "colorbar": {
             "outlinewidth": 0,
             "ticks": ""
            },
            "type": "mesh3d"
           }
          ],
          "parcoords": [
           {
            "line": {
             "colorbar": {
              "outlinewidth": 0,
              "ticks": ""
             }
            },
            "type": "parcoords"
           }
          ],
          "pie": [
           {
            "automargin": true,
            "type": "pie"
           }
          ],
          "scatter": [
           {
            "fillpattern": {
             "fillmode": "overlay",
             "size": 10,
             "solidity": 0.2
            },
            "type": "scatter"
           }
          ],
          "scatter3d": [
           {
            "line": {
             "colorbar": {
              "outlinewidth": 0,
              "ticks": ""
             }
            },
            "marker": {
             "colorbar": {
              "outlinewidth": 0,
              "ticks": ""
             }
            },
            "type": "scatter3d"
           }
          ],
          "scattercarpet": [
           {
            "marker": {
             "colorbar": {
              "outlinewidth": 0,
              "ticks": ""
             }
            },
            "type": "scattercarpet"
           }
          ],
          "scattergeo": [
           {
            "marker": {
             "colorbar": {
              "outlinewidth": 0,
              "ticks": ""
             }
            },
            "type": "scattergeo"
           }
          ],
          "scattergl": [
           {
            "marker": {
             "colorbar": {
              "outlinewidth": 0,
              "ticks": ""
             }
            },
            "type": "scattergl"
           }
          ],
          "scattermapbox": [
           {
            "marker": {
             "colorbar": {
              "outlinewidth": 0,
              "ticks": ""
             }
            },
            "type": "scattermapbox"
           }
          ],
          "scatterpolar": [
           {
            "marker": {
             "colorbar": {
              "outlinewidth": 0,
              "ticks": ""
             }
            },
            "type": "scatterpolar"
           }
          ],
          "scatterpolargl": [
           {
            "marker": {
             "colorbar": {
              "outlinewidth": 0,
              "ticks": ""
             }
            },
            "type": "scatterpolargl"
           }
          ],
          "scatterternary": [
           {
            "marker": {
             "colorbar": {
              "outlinewidth": 0,
              "ticks": ""
             }
            },
            "type": "scatterternary"
           }
          ],
          "surface": [
           {
            "colorbar": {
             "outlinewidth": 0,
             "ticks": ""
            },
            "colorscale": [
             [
              0,
              "#0d0887"
             ],
             [
              0.1111111111111111,
              "#46039f"
             ],
             [
              0.2222222222222222,
              "#7201a8"
             ],
             [
              0.3333333333333333,
              "#9c179e"
             ],
             [
              0.4444444444444444,
              "#bd3786"
             ],
             [
              0.5555555555555556,
              "#d8576b"
             ],
             [
              0.6666666666666666,
              "#ed7953"
             ],
             [
              0.7777777777777778,
              "#fb9f3a"
             ],
             [
              0.8888888888888888,
              "#fdca26"
             ],
             [
              1,
              "#f0f921"
             ]
            ],
            "type": "surface"
           }
          ],
          "table": [
           {
            "cells": {
             "fill": {
              "color": "#EBF0F8"
             },
             "line": {
              "color": "white"
             }
            },
            "header": {
             "fill": {
              "color": "#C8D4E3"
             },
             "line": {
              "color": "white"
             }
            },
            "type": "table"
           }
          ]
         },
         "layout": {
          "annotationdefaults": {
           "arrowcolor": "#2a3f5f",
           "arrowhead": 0,
           "arrowwidth": 1
          },
          "autotypenumbers": "strict",
          "coloraxis": {
           "colorbar": {
            "outlinewidth": 0,
            "ticks": ""
           }
          },
          "colorscale": {
           "diverging": [
            [
             0,
             "#8e0152"
            ],
            [
             0.1,
             "#c51b7d"
            ],
            [
             0.2,
             "#de77ae"
            ],
            [
             0.3,
             "#f1b6da"
            ],
            [
             0.4,
             "#fde0ef"
            ],
            [
             0.5,
             "#f7f7f7"
            ],
            [
             0.6,
             "#e6f5d0"
            ],
            [
             0.7,
             "#b8e186"
            ],
            [
             0.8,
             "#7fbc41"
            ],
            [
             0.9,
             "#4d9221"
            ],
            [
             1,
             "#276419"
            ]
           ],
           "sequential": [
            [
             0,
             "#0d0887"
            ],
            [
             0.1111111111111111,
             "#46039f"
            ],
            [
             0.2222222222222222,
             "#7201a8"
            ],
            [
             0.3333333333333333,
             "#9c179e"
            ],
            [
             0.4444444444444444,
             "#bd3786"
            ],
            [
             0.5555555555555556,
             "#d8576b"
            ],
            [
             0.6666666666666666,
             "#ed7953"
            ],
            [
             0.7777777777777778,
             "#fb9f3a"
            ],
            [
             0.8888888888888888,
             "#fdca26"
            ],
            [
             1,
             "#f0f921"
            ]
           ],
           "sequentialminus": [
            [
             0,
             "#0d0887"
            ],
            [
             0.1111111111111111,
             "#46039f"
            ],
            [
             0.2222222222222222,
             "#7201a8"
            ],
            [
             0.3333333333333333,
             "#9c179e"
            ],
            [
             0.4444444444444444,
             "#bd3786"
            ],
            [
             0.5555555555555556,
             "#d8576b"
            ],
            [
             0.6666666666666666,
             "#ed7953"
            ],
            [
             0.7777777777777778,
             "#fb9f3a"
            ],
            [
             0.8888888888888888,
             "#fdca26"
            ],
            [
             1,
             "#f0f921"
            ]
           ]
          },
          "colorway": [
           "#636efa",
           "#EF553B",
           "#00cc96",
           "#ab63fa",
           "#FFA15A",
           "#19d3f3",
           "#FF6692",
           "#B6E880",
           "#FF97FF",
           "#FECB52"
          ],
          "font": {
           "color": "#2a3f5f"
          },
          "geo": {
           "bgcolor": "white",
           "lakecolor": "white",
           "landcolor": "#E5ECF6",
           "showlakes": true,
           "showland": true,
           "subunitcolor": "white"
          },
          "hoverlabel": {
           "align": "left"
          },
          "hovermode": "closest",
          "mapbox": {
           "style": "light"
          },
          "paper_bgcolor": "white",
          "plot_bgcolor": "#E5ECF6",
          "polar": {
           "angularaxis": {
            "gridcolor": "white",
            "linecolor": "white",
            "ticks": ""
           },
           "bgcolor": "#E5ECF6",
           "radialaxis": {
            "gridcolor": "white",
            "linecolor": "white",
            "ticks": ""
           }
          },
          "scene": {
           "xaxis": {
            "backgroundcolor": "#E5ECF6",
            "gridcolor": "white",
            "gridwidth": 2,
            "linecolor": "white",
            "showbackground": true,
            "ticks": "",
            "zerolinecolor": "white"
           },
           "yaxis": {
            "backgroundcolor": "#E5ECF6",
            "gridcolor": "white",
            "gridwidth": 2,
            "linecolor": "white",
            "showbackground": true,
            "ticks": "",
            "zerolinecolor": "white"
           },
           "zaxis": {
            "backgroundcolor": "#E5ECF6",
            "gridcolor": "white",
            "gridwidth": 2,
            "linecolor": "white",
            "showbackground": true,
            "ticks": "",
            "zerolinecolor": "white"
           }
          },
          "shapedefaults": {
           "line": {
            "color": "#2a3f5f"
           }
          },
          "ternary": {
           "aaxis": {
            "gridcolor": "white",
            "linecolor": "white",
            "ticks": ""
           },
           "baxis": {
            "gridcolor": "white",
            "linecolor": "white",
            "ticks": ""
           },
           "bgcolor": "#E5ECF6",
           "caxis": {
            "gridcolor": "white",
            "linecolor": "white",
            "ticks": ""
           }
          },
          "title": {
           "x": 0.05
          },
          "xaxis": {
           "automargin": true,
           "gridcolor": "white",
           "linecolor": "white",
           "ticks": "",
           "title": {
            "standoff": 15
           },
           "zerolinecolor": "white",
           "zerolinewidth": 2
          },
          "yaxis": {
           "automargin": true,
           "gridcolor": "white",
           "linecolor": "white",
           "ticks": "",
           "title": {
            "standoff": 15
           },
           "zerolinecolor": "white",
           "zerolinewidth": 2
          }
         }
        }
       }
      }
     },
     "metadata": {},
     "output_type": "display_data"
    }
   ],
   "source": [
    "from scipy.signal import butter,filtfilt\n",
    "import plotly.graph_objects as go\n",
    "fs = 20.0 # sample rate, Hz\n",
    "cutoff = 2 # desired cutoff frequency of the filter, Hz, slightly higher than actual 1.2 Hz\n",
    "order = 2 # sin wave can be approx represented as quadratic\n",
    "\n",
    "# Taken from https://medium.com/analytics-vidhya/how-to-filter-noise-with-a-low-pass-filter-python-885223e5e9b7\n",
    "def butter_lowpass_filter(data, cutoff, fs, order):\n",
    "    normal_cutoff = cutoff / (0.5 * fs)\n",
    "    # Get the filter coefficients \n",
    "    b, a = butter(order, normal_cutoff, btype='low', analog=False)\n",
    "    y = filtfilt(b, a, data)\n",
    "    return y\n",
    "\n",
    "y = butter_lowpass_filter(t[6][:,0], cutoff, fs, order)\n",
    "\n",
    "fig = go.Figure()\n",
    "fig.add_trace(go.Scatter(\n",
    "            y = t[5][:,0],\n",
    "            line =  dict(shape =  'spline' ),\n",
    "            name = 'signal with noise'\n",
    "            ))\n",
    "fig.add_trace(go.Scatter(\n",
    "            y = y,\n",
    "            line =  dict(shape =  'spline' ),\n",
    "            name = 'filtered signal'\n",
    "            ))\n",
    "fig.show()\n"
   ]
  },
  {
   "attachments": {},
   "cell_type": "markdown",
   "metadata": {},
   "source": [
    "### Interpolating new keypoint using all sequential data for a single keypoint coordinate through all frames"
   ]
  },
  {
   "cell_type": "code",
   "execution_count": 6,
   "metadata": {},
   "outputs": [],
   "source": [
    "def interpolate_frames(keypoint_data, current_frames, max_frames):\n",
    "    # Calculate x and y values to be able to plot it later, furthermore also used for interpolation\n",
    "    x = range(0,current_frames)\n",
    "    y = keypoint_data\n",
    "\n",
    "    if (current_frames != max_frames):\n",
    "        new_x = np.linspace(0, current_frames-1, max_frames, endpoint=False)\n",
    "        new_y = sp.interpolate.interp1d(x, y, kind='cubic')(new_x)\n",
    "    else:\n",
    "        return y\n",
    "    # Plot the results\n",
    "    # plt.figure()\n",
    "    # plt.subplot(2,1,1)\n",
    "    # plt.plot(x, y, 'bo-')\n",
    "    # plt.title('Using 1D Cubic Spline Interpolation')\n",
    "\n",
    "    # plt.subplot(2,1,2)\n",
    "    # plt.plot(new_x, new_y, 'ro-')\n",
    "\n",
    "    # plt.show()\n",
    "    \n",
    "    return new_y\n"
   ]
  },
  {
   "cell_type": "code",
   "execution_count": 194,
   "metadata": {},
   "outputs": [
    {
     "data": {
      "image/png": "[encoded data removed]",
      "text/plain": [
       "<Figure size 640x480 with 2 Axes>"
      ]
     },
     "metadata": {},
     "output_type": "display_data"
    }
   ],
   "source": [
    "# This takes t[5] as input which is our rhxcoords array outputtet as a test earlier \n",
    "test = interpolate_frames((t[5])[:,0],  t[5].shape[0], max(vid_frames))"
   ]
  },
  {
   "cell_type": "code",
   "execution_count": 7,
   "metadata": {},
   "outputs": [
    {
     "data": {
      "text/plain": [
       "(66, 151, 258)"
      ]
     },
     "execution_count": 7,
     "metadata": {},
     "output_type": "execute_result"
    }
   ],
   "source": [
    "def full_data_interpolation(data_array_list):\n",
    "    interpolated_list = []\n",
    "    for i in range(len(data_array_list)):\n",
    "        split_data = split_array(data_array_list[i])\n",
    "        tmp = []\n",
    "        for coords in range(len(split_data)):\n",
    "            coord_array = split_data[coords]\n",
    "            for col in range(coord_array.shape[1]):\n",
    "                normalized_data = preprocessing.normalize(coord_array[:, col].reshape(-1,1), axis=0).ravel()\n",
    "                filtered_data = butter_lowpass_filter(normalized_data, cutoff, fs, order)\n",
    "                interpolated_data = interpolate_frames(filtered_data,  filtered_data.shape[0], max(vid_frames))\n",
    "                tmp.append(interpolated_data)\n",
    "\n",
    "        interpolated_list.append((np.array(tmp)).T)\n",
    "    return np.array(interpolated_list)\n",
    "\n",
    "interpolated_list = full_data_interpolation(keypoint_list_of_arrays)\n",
    "interpolated_list.shape"
   ]
  },
  {
   "attachments": {},
   "cell_type": "markdown",
   "metadata": {},
   "source": [
    "### Creating Training and Testing set"
   ]
  },
  {
   "cell_type": "code",
   "execution_count": 24,
   "metadata": {},
   "outputs": [
    {
     "name": "stdout",
     "output_type": "stream",
     "text": [
      "(66, 151, 258)\n",
      "(66, 3)\n",
      "5\n",
      "6\n",
      "7\n"
     ]
    }
   ],
   "source": [
    "X = np.array(interpolated_list)\n",
    "y = to_categorical(labels).astype(int)\n",
    "\n",
    "print(X.shape)\n",
    "print(y.shape)\n",
    "\n",
    "\n",
    "X_train, X_test, y_train, y_test = train_test_split(X, y, test_size=18, stratify=y)\n",
    "print(np.count_nonzero(y_test[:,0]))\n",
    "print(np.count_nonzero(y_test[:,1]))\n",
    "print(np.count_nonzero(y_test[:,2]))"
   ]
  },
  {
   "attachments": {},
   "cell_type": "markdown",
   "metadata": {},
   "source": [
    "# LSTM Neural Network Implementation"
   ]
  },
  {
   "attachments": {},
   "cell_type": "markdown",
   "metadata": {},
   "source": [
    "### Saving NN Logs"
   ]
  },
  {
   "cell_type": "code",
   "execution_count": 151,
   "metadata": {},
   "outputs": [],
   "source": [
    "tracing_logs = TensorBoard(os.path.join('Logs'))"
   ]
  },
  {
   "attachments": {},
   "cell_type": "markdown",
   "metadata": {},
   "source": [
    "### NN Implementation"
   ]
  },
  {
   "cell_type": "code",
   "execution_count": 180,
   "metadata": {},
   "outputs": [
    {
     "name": "stdout",
     "output_type": "stream",
     "text": [
      "WARNING:tensorflow:Layer lstm_53 will not use cuDNN kernels since it doesn't meet the criteria. It will use a generic GPU kernel as fallback when running on GPU.\n"
     ]
    }
   ],
   "source": [
    "\n",
    "model = Sequential()\n",
    "model.add(LSTM(32, return_sequences=True, activation='relu', input_shape=(142,258)))\n",
    "model.add(LSTM(64, return_sequences=True, activation='relu'))\n",
    "model.add(LSTM(32, return_sequences=False, activation='relu'))\n",
    "model.add(Flatten())\n",
    "model.add(Dense(32, activation='relu'))\n",
    "model.add(Dense(16, activation='relu'))\n",
    "model.add(Dense(words.shape[0], activation='softmax'))\n",
    "\n",
    "model.compile(optimizer='Adam', loss='categorical_crossentropy', metrics=['categorical_accuracy'])"
   ]
  },
  {
   "attachments": {},
   "cell_type": "markdown",
   "metadata": {},
   "source": [
    "# Testing NN prediction accuracy"
   ]
  },
  {
   "cell_type": "code",
   "execution_count": 13,
   "metadata": {},
   "outputs": [],
   "source": [
    "_PRESENCE_THRESHOLD = 0.5\n",
    "_VISIBILITY_THRESHOLD = 0.5\n",
    "\n",
    "\n",
    "def plot_landmarks(landmark_list, connections=None, ):\n",
    "    if not landmark_list:\n",
    "        return\n",
    "    plotted_landmarks = {}\n",
    "    for idx, landmark in enumerate(landmark_list.landmark):\n",
    "        if (\n",
    "            landmark.HasField(\"visibility\")\n",
    "            and landmark.visibility < _VISIBILITY_THRESHOLD\n",
    "        ) or (\n",
    "            landmark.HasField(\"presence\") and landmark.presence < _PRESENCE_THRESHOLD\n",
    "        ):\n",
    "            continue\n",
    "        plotted_landmarks[idx] = (-landmark.z, landmark.x, -landmark.y)\n",
    "    if connections:\n",
    "        out_cn = []\n",
    "        num_landmarks = len(landmark_list.landmark)\n",
    "        # Draws the connections if the start and end landmarks are both visible.\n",
    "        for connection in connections:\n",
    "            start_idx = connection[0]\n",
    "            end_idx = connection[1]\n",
    "            if not (0 <= start_idx < num_landmarks and 0 <= end_idx < num_landmarks):\n",
    "                raise ValueError(\n",
    "                    f\"Landmark index is out of range. Invalid connection \"\n",
    "                    f\"from landmark #{start_idx} to landmark #{end_idx}.\"\n",
    "                )\n",
    "            if start_idx in plotted_landmarks and end_idx in plotted_landmarks:\n",
    "                landmark_pair = [\n",
    "                    plotted_landmarks[start_idx],\n",
    "                    plotted_landmarks[end_idx],\n",
    "                ]\n",
    "                out_cn.append(\n",
    "                    dict(\n",
    "                        xs=[landmark_pair[0][0], landmark_pair[1][0]],\n",
    "                        ys=[landmark_pair[0][1], landmark_pair[1][1]],\n",
    "                        zs=[landmark_pair[0][2], landmark_pair[1][2]],\n",
    "                    )\n",
    "                )\n",
    "        cn2 = {\"xs\": [], \"ys\": [], \"zs\": []}\n",
    "        for pair in out_cn:\n",
    "            for k in pair.keys():\n",
    "                cn2[k].append(pair[k][0])\n",
    "                cn2[k].append(pair[k][1])\n",
    "                cn2[k].append(None)\n",
    "\n",
    "    df = pd.DataFrame(plotted_landmarks).T.rename(columns={0: \"z\", 1: \"x\", 2: \"y\"})\n",
    "    df[\"lm\"] = df.index.map(lambda s: mp_holistic.PoseLandmark(s).name).values\n",
    "    fig = (\n",
    "        px.scatter_3d(df, x=\"z\", y=\"x\", z=\"y\", hover_name=\"lm\")\n",
    "        .update_traces(marker={\"color\": \"red\"})\n",
    "        .update_layout(\n",
    "            margin={\"l\": 0, \"r\": 0, \"t\": 0, \"b\": 0},\n",
    "            scene={\"camera\": {\"eye\": {\"x\": 2.1, \"y\": 0, \"z\": 0}}},\n",
    "        )\n",
    "    )\n",
    "    fig.add_traces(\n",
    "        [\n",
    "            go.Scatter3d(\n",
    "                x=cn2[\"xs\"],\n",
    "                y=cn2[\"ys\"],\n",
    "                z=cn2[\"zs\"],\n",
    "                mode=\"lines\",\n",
    "                line={\"color\": \"black\", \"width\": 5},\n",
    "                name=\"connections\",\n",
    "            )\n",
    "        ]\n",
    "    )\n",
    "\n",
    "    return fig"
   ]
  },
  {
   "cell_type": "code",
   "execution_count": 109,
   "metadata": {},
   "outputs": [
    {
     "name": "stderr",
     "output_type": "stream",
     "text": [
      "INFO: Created TensorFlow Lite XNNPACK delegate for CPU.\n"
     ]
    },
    {
     "name": "stdout",
     "output_type": "stream",
     "text": [
      "(1, 151, 258)\n"
     ]
    },
    {
     "ename": "NameError",
     "evalue": "name 'test' is not defined",
     "output_type": "error",
     "traceback": [
      "\u001b[0;31m---------------------------------------------------------------------------\u001b[0m",
      "\u001b[0;31mNameError\u001b[0m                                 Traceback (most recent call last)",
      "Cell \u001b[0;32mIn[109], line 26\u001b[0m\n\u001b[1;32m     24\u001b[0m     cv2\u001b[39m.\u001b[39mdestroyAllWindows()\n\u001b[1;32m     25\u001b[0m     cv2\u001b[39m.\u001b[39mwaitKey(\u001b[39m1\u001b[39m)\n\u001b[0;32m---> 26\u001b[0m test\n",
      "\u001b[0;31mNameError\u001b[0m: name 'test' is not defined"
     ]
    }
   ],
   "source": [
    "vid_path = 'test.mp4'\n",
    "\n",
    "# Set mediapipe model \n",
    "with mp_holistic.Holistic(min_detection_confidence=0.5, min_tracking_confidence=0.5) as holistic_model:\n",
    "    vid_file = cv2.VideoCapture(vid_path)\n",
    "    num_frames = int(vid_file.get(cv2.CAP_PROP_FRAME_COUNT))\n",
    "    tmp = []\n",
    "    # Loop through video length aka sequence length\n",
    "    for frame in range(num_frames):\n",
    "        ret, frame = vid_file.read()\n",
    "        image, results = process_image(frame, holistic_model)\n",
    "        \n",
    "        #test = plot_landmarks(results.pose_world_landmarks,  mp_holistic.POSE_CONNECTIONS)\n",
    "        \n",
    "        keypoints = extract_keypoints(results)\n",
    "        tmp.append(keypoints)\n",
    "    \n",
    "    input_testing = [np.asarray(tmp)]\n",
    "\n",
    "    testing_data = full_data_interpolation(input_testing)\n",
    "    print(testing_data.shape)\n",
    "       \n",
    "    vid_file.release()\n",
    "    cv2.destroyAllWindows()\n",
    "    cv2.waitKey(1)\n",
    "test"
   ]
  }
 ],
 "metadata": {
  "kernelspec": {
   "display_name": "test-env",
   "language": "python",
   "name": "python3"
  },
  "language_info": {
   "codemirror_mode": {
    "name": "ipython",
    "version": 3
   },
   "file_extension": ".py",
   "mimetype": "text/x-python",
   "name": "python",
   "nbconvert_exporter": "python",
   "pygments_lexer": "ipython3",
   "version": "3.8.16"
  },
  "orig_nbformat": 4
 },
 "nbformat": 4,
 "nbformat_minor": 2
}
